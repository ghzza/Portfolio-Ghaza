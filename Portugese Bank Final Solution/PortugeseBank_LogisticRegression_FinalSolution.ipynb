{
  "nbformat": 4,
  "nbformat_minor": 0,
  "metadata": {
    "orig_nbformat": 2,
    "deepnote_notebook_id": "ea4dbb36-210b-44d2-8f99-c50fc682bc3c",
    "deepnote": {
      "is_reactive": false
    },
    "deepnote_execution_queue": [],
    "colab": {
      "name": "PortugeseBank_Logistic_FinalSolution.ipynb",
      "provenance": [],
      "collapsed_sections": [
        "Kxaq9qCz0LOl",
        "rCA8iXFZ0LOo",
        "9RsOksT60LOq"
      ],
      "toc_visible": true
    },
    "language_info": {
      "name": "python"
    },
    "kernelspec": {
      "name": "python3",
      "display_name": "Python 3"
    }
  },
  "cells": [
    {
      "cell_type": "markdown",
      "metadata": {
        "tags": [],
        "cell_id": "00000-dfc79033-2b05-4660-bba3-fdd630fac3c1",
        "deepnote_cell_type": "text-cell-h1",
        "id": "IH4FsCNx0LML"
      },
      "source": [
        "# Import Library"
      ]
    },
    {
      "cell_type": "code",
      "metadata": {
        "tags": [],
        "cell_id": "00001-2575eb84-a73a-4125-b41e-a05d0cddddcb",
        "deepnote_to_be_reexecuted": false,
        "source_hash": "73efdfa6",
        "execution_millis": 10878,
        "execution_start": 1618499610201,
        "deepnote_cell_type": "code",
        "colab": {
          "base_uri": "https://localhost:8080/"
        },
        "id": "BjDiQm_w0LMp",
        "outputId": "5ee078b1-ec95-416c-a49b-603b329628d1"
      },
      "source": [
        "!pip install imblearn"
      ],
      "execution_count": 1,
      "outputs": [
        {
          "output_type": "stream",
          "text": [
            "Requirement already satisfied: imblearn in /usr/local/lib/python3.7/dist-packages (0.0)\n",
            "Requirement already satisfied: imbalanced-learn in /usr/local/lib/python3.7/dist-packages (from imblearn) (0.4.3)\n",
            "Requirement already satisfied: numpy>=1.8.2 in /usr/local/lib/python3.7/dist-packages (from imbalanced-learn->imblearn) (1.19.5)\n",
            "Requirement already satisfied: scikit-learn>=0.20 in /usr/local/lib/python3.7/dist-packages (from imbalanced-learn->imblearn) (0.22.2.post1)\n",
            "Requirement already satisfied: scipy>=0.13.3 in /usr/local/lib/python3.7/dist-packages (from imbalanced-learn->imblearn) (1.4.1)\n",
            "Requirement already satisfied: joblib>=0.11 in /usr/local/lib/python3.7/dist-packages (from scikit-learn>=0.20->imbalanced-learn->imblearn) (1.0.1)\n"
          ],
          "name": "stdout"
        }
      ]
    },
    {
      "cell_type": "code",
      "metadata": {
        "tags": [],
        "deepnote_to_be_reexecuted": false,
        "source_hash": "7c9d576e",
        "execution_millis": 3447,
        "cell_id": "00001-685ef878-c5ec-42ea-8470-d22404829965",
        "execution_start": 1618499621096,
        "deepnote_cell_type": "code",
        "colab": {
          "base_uri": "https://localhost:8080/"
        },
        "id": "RTTQCjgo0LMx",
        "outputId": "7b4e7942-a69d-4087-f439-e39574bf82fc"
      },
      "source": [
        "import os\n",
        "import pandas as pd\n",
        "import numpy as np\n",
        "import matplotlib.pyplot as plt\n",
        "import seaborn as sns\n",
        "import sklearn\n",
        "from sklearn.model_selection import train_test_split\n",
        "from sklearn.preprocessing import StandardScaler\n",
        "from sklearn import preprocessing\n",
        "from sklearn.preprocessing import LabelEncoder\n",
        "from imblearn.over_sampling import SMOTE\n",
        "from imblearn.under_sampling import RandomUnderSampler\n",
        "from imblearn.pipeline import Pipeline\n",
        "from sklearn.linear_model import LogisticRegression\n",
        "from sklearn.model_selection import RandomizedSearchCV\n",
        "from sklearn.model_selection import GridSearchCV\n",
        "from sklearn.metrics import classification_report\n",
        "from sklearn.model_selection import KFold\n",
        "from sklearn.model_selection import cross_val_score\n",
        "from numpy import mean\n",
        "from numpy import std\n",
        "from sklearn.metrics import f1_score\n",
        "from sklearn.metrics import accuracy_score\n",
        "from sklearn.metrics import recall_score\n",
        "from sklearn.metrics import precision_score"
      ],
      "execution_count": 2,
      "outputs": [
        {
          "output_type": "stream",
          "text": [
            "/usr/local/lib/python3.7/dist-packages/sklearn/externals/six.py:31: FutureWarning: The module is deprecated in version 0.21 and will be removed in version 0.23 since we've dropped support for Python 2.7. Please rely on the official version of six (https://pypi.org/project/six/).\n",
            "  \"(https://pypi.org/project/six/).\", FutureWarning)\n",
            "/usr/local/lib/python3.7/dist-packages/sklearn/utils/deprecation.py:144: FutureWarning: The sklearn.neighbors.base module is  deprecated in version 0.22 and will be removed in version 0.24. The corresponding classes / functions should instead be imported from sklearn.neighbors. Anything that cannot be imported from sklearn.neighbors is now part of the private API.\n",
            "  warnings.warn(message, FutureWarning)\n"
          ],
          "name": "stderr"
        }
      ]
    },
    {
      "cell_type": "markdown",
      "metadata": {
        "tags": [],
        "cell_id": "00002-53232a29-f18c-4f86-81e5-85497ae2362a",
        "deepnote_cell_type": "text-cell-h1",
        "id": "g5ZX4sen0LM0"
      },
      "source": [
        "# Read Data"
      ]
    },
    {
      "cell_type": "code",
      "metadata": {
        "tags": [],
        "deepnote_to_be_reexecuted": false,
        "source_hash": "5285587f",
        "execution_millis": 219,
        "cell_id": "00003-aedf8824-7cfb-441e-a3d6-c32dad53fa52",
        "execution_start": 1618499624547,
        "deepnote_cell_type": "code",
        "id": "bkOU_-9B0LM1"
      },
      "source": [
        "data = pd.read_csv(\"bank-full.csv\", delimiter=';')"
      ],
      "execution_count": 3,
      "outputs": []
    },
    {
      "cell_type": "markdown",
      "metadata": {
        "tags": [],
        "cell_id": "00006-3758d015-b55a-4572-a089-e6b29e9774cc",
        "deepnote_cell_type": "text-cell-h1",
        "id": "On_Lyr360LM3"
      },
      "source": [
        "# Simple Data Visualization"
      ]
    },
    {
      "cell_type": "code",
      "metadata": {
        "tags": [],
        "deepnote_to_be_reexecuted": false,
        "source_hash": "2007f58",
        "execution_millis": 20,
        "cell_id": "00007-882ae7d5-f84f-4706-83d7-f193d5b8acff",
        "execution_start": 1618499624769,
        "deepnote_cell_type": "code",
        "colab": {
          "base_uri": "https://localhost:8080/"
        },
        "id": "kU9wioWv0LM4",
        "outputId": "bc1c141e-9446-4cf7-8a97-980a797a05c1"
      },
      "source": [
        "data.shape"
      ],
      "execution_count": 4,
      "outputs": [
        {
          "output_type": "execute_result",
          "data": {
            "text/plain": [
              "(45211, 17)"
            ]
          },
          "metadata": {
            "tags": []
          },
          "execution_count": 4
        }
      ]
    },
    {
      "cell_type": "markdown",
      "metadata": {
        "tags": [],
        "cell_id": "00012-3e239eb1-f4f2-47c3-a670-f07aecdb7acc",
        "deepnote_cell_type": "text-cell-h1",
        "id": "Sjc8Agrl0LM9"
      },
      "source": [
        "# Model Construction"
      ]
    },
    {
      "cell_type": "markdown",
      "metadata": {
        "tags": [],
        "cell_id": "00013-01bdbda1-4742-4990-b1c6-e16216a54a97",
        "deepnote_cell_type": "text-cell-h2",
        "id": "VsZSSlYZ0LM_"
      },
      "source": [
        "## Label Encoding For Categorical Data Train"
      ]
    },
    {
      "cell_type": "markdown",
      "metadata": {
        "tags": [],
        "cell_id": "00009-358d63fc-e7c9-4e91-a88d-a67a5885ddd1",
        "deepnote_cell_type": "text-cell-p",
        "id": "Fi-NlsVX0LNB"
      },
      "source": [
        "Label Encoding are used to transform non-numerical&nbsp;labels&nbsp;(as long as they are hashable and comparable) to numerical&nbsp;labels. Label that are being transform to numerical are categorical data column which is job, marital, education, default, housing, loan, contact, month and poutcome."
      ]
    },
    {
      "cell_type": "code",
      "metadata": {
        "tags": [],
        "deepnote_to_be_reexecuted": false,
        "source_hash": "86f54dab",
        "execution_millis": 148,
        "cell_id": "00014-656f7cb8-285f-4fe7-918a-7f8126550c92",
        "execution_start": 1618499624811,
        "deepnote_cell_type": "code",
        "id": "9jCnNboB0LNC"
      },
      "source": [
        "le = LabelEncoder()\n",
        "encode_x = data.iloc[ : , :-1]\n",
        "encode_x.job = le.fit_transform(encode_x.job)\n",
        "encode_x.marital = le.fit_transform(encode_x.marital)\n",
        "encode_x.education = le.fit_transform(encode_x.education)\n",
        "encode_x.default = le.fit_transform(encode_x.default)\n",
        "encode_x.housing = le.fit_transform(encode_x.housing)\n",
        "encode_x.loan = le.fit_transform(encode_x.loan)\n",
        "encode_x.contact = le.fit_transform(encode_x.contact)\n",
        "encode_x.month = le.fit_transform(encode_x.month)\n",
        "encode_x.poutcome = le.fit_transform(encode_x.poutcome)"
      ],
      "execution_count": 5,
      "outputs": []
    },
    {
      "cell_type": "markdown",
      "metadata": {
        "tags": [],
        "cell_id": "00022-ecaac027-5170-41f3-b032-27b3e2f34bae",
        "deepnote_cell_type": "text-cell-h2",
        "id": "xaCmx1ad0LNF"
      },
      "source": [
        "## Split Data"
      ]
    },
    {
      "cell_type": "markdown",
      "metadata": {
        "tags": [],
        "cell_id": "00013-189f3f18-bbef-4342-91ac-a5a1e0c60283",
        "deepnote_cell_type": "text-cell-p",
        "id": "I9rzzDv-0LNG"
      },
      "source": [
        "Split data are used to split the original data into 2 different parts which is training data and testing data. Training data will also be divided into 2 parts training data and validation training data. This process to ensure when the model being trained we have a data to validate the predicted output of a model."
      ]
    },
    {
      "cell_type": "code",
      "metadata": {
        "tags": [],
        "deepnote_to_be_reexecuted": false,
        "source_hash": "de325735",
        "execution_millis": 5,
        "cell_id": "00023-2b14e314-872c-441e-94b2-fc4ea64ca93b",
        "execution_start": 1618499624968,
        "deepnote_cell_type": "code",
        "id": "1kVeEeUu0LNI"
      },
      "source": [
        "split_input_data = encode_x\n",
        "split_output_data = data['y']"
      ],
      "execution_count": 6,
      "outputs": []
    },
    {
      "cell_type": "code",
      "metadata": {
        "colab": {
          "base_uri": "https://localhost:8080/",
          "height": 416
        },
        "id": "JZ1pmkgDEqzB",
        "outputId": "0ac15d22-cb7e-4298-e3ae-0ddc014632bc"
      },
      "source": [
        "split_input_data"
      ],
      "execution_count": 7,
      "outputs": [
        {
          "output_type": "execute_result",
          "data": {
            "text/html": [
              "<div>\n",
              "<style scoped>\n",
              "    .dataframe tbody tr th:only-of-type {\n",
              "        vertical-align: middle;\n",
              "    }\n",
              "\n",
              "    .dataframe tbody tr th {\n",
              "        vertical-align: top;\n",
              "    }\n",
              "\n",
              "    .dataframe thead th {\n",
              "        text-align: right;\n",
              "    }\n",
              "</style>\n",
              "<table border=\"1\" class=\"dataframe\">\n",
              "  <thead>\n",
              "    <tr style=\"text-align: right;\">\n",
              "      <th></th>\n",
              "      <th>age</th>\n",
              "      <th>job</th>\n",
              "      <th>marital</th>\n",
              "      <th>education</th>\n",
              "      <th>default</th>\n",
              "      <th>balance</th>\n",
              "      <th>housing</th>\n",
              "      <th>loan</th>\n",
              "      <th>contact</th>\n",
              "      <th>day</th>\n",
              "      <th>month</th>\n",
              "      <th>duration</th>\n",
              "      <th>campaign</th>\n",
              "      <th>pdays</th>\n",
              "      <th>previous</th>\n",
              "      <th>poutcome</th>\n",
              "    </tr>\n",
              "  </thead>\n",
              "  <tbody>\n",
              "    <tr>\n",
              "      <th>0</th>\n",
              "      <td>58</td>\n",
              "      <td>4</td>\n",
              "      <td>1</td>\n",
              "      <td>2</td>\n",
              "      <td>0</td>\n",
              "      <td>2143</td>\n",
              "      <td>1</td>\n",
              "      <td>0</td>\n",
              "      <td>2</td>\n",
              "      <td>5</td>\n",
              "      <td>8</td>\n",
              "      <td>261</td>\n",
              "      <td>1</td>\n",
              "      <td>-1</td>\n",
              "      <td>0</td>\n",
              "      <td>3</td>\n",
              "    </tr>\n",
              "    <tr>\n",
              "      <th>1</th>\n",
              "      <td>44</td>\n",
              "      <td>9</td>\n",
              "      <td>2</td>\n",
              "      <td>1</td>\n",
              "      <td>0</td>\n",
              "      <td>29</td>\n",
              "      <td>1</td>\n",
              "      <td>0</td>\n",
              "      <td>2</td>\n",
              "      <td>5</td>\n",
              "      <td>8</td>\n",
              "      <td>151</td>\n",
              "      <td>1</td>\n",
              "      <td>-1</td>\n",
              "      <td>0</td>\n",
              "      <td>3</td>\n",
              "    </tr>\n",
              "    <tr>\n",
              "      <th>2</th>\n",
              "      <td>33</td>\n",
              "      <td>2</td>\n",
              "      <td>1</td>\n",
              "      <td>1</td>\n",
              "      <td>0</td>\n",
              "      <td>2</td>\n",
              "      <td>1</td>\n",
              "      <td>1</td>\n",
              "      <td>2</td>\n",
              "      <td>5</td>\n",
              "      <td>8</td>\n",
              "      <td>76</td>\n",
              "      <td>1</td>\n",
              "      <td>-1</td>\n",
              "      <td>0</td>\n",
              "      <td>3</td>\n",
              "    </tr>\n",
              "    <tr>\n",
              "      <th>3</th>\n",
              "      <td>47</td>\n",
              "      <td>1</td>\n",
              "      <td>1</td>\n",
              "      <td>3</td>\n",
              "      <td>0</td>\n",
              "      <td>1506</td>\n",
              "      <td>1</td>\n",
              "      <td>0</td>\n",
              "      <td>2</td>\n",
              "      <td>5</td>\n",
              "      <td>8</td>\n",
              "      <td>92</td>\n",
              "      <td>1</td>\n",
              "      <td>-1</td>\n",
              "      <td>0</td>\n",
              "      <td>3</td>\n",
              "    </tr>\n",
              "    <tr>\n",
              "      <th>4</th>\n",
              "      <td>33</td>\n",
              "      <td>11</td>\n",
              "      <td>2</td>\n",
              "      <td>3</td>\n",
              "      <td>0</td>\n",
              "      <td>1</td>\n",
              "      <td>0</td>\n",
              "      <td>0</td>\n",
              "      <td>2</td>\n",
              "      <td>5</td>\n",
              "      <td>8</td>\n",
              "      <td>198</td>\n",
              "      <td>1</td>\n",
              "      <td>-1</td>\n",
              "      <td>0</td>\n",
              "      <td>3</td>\n",
              "    </tr>\n",
              "    <tr>\n",
              "      <th>...</th>\n",
              "      <td>...</td>\n",
              "      <td>...</td>\n",
              "      <td>...</td>\n",
              "      <td>...</td>\n",
              "      <td>...</td>\n",
              "      <td>...</td>\n",
              "      <td>...</td>\n",
              "      <td>...</td>\n",
              "      <td>...</td>\n",
              "      <td>...</td>\n",
              "      <td>...</td>\n",
              "      <td>...</td>\n",
              "      <td>...</td>\n",
              "      <td>...</td>\n",
              "      <td>...</td>\n",
              "      <td>...</td>\n",
              "    </tr>\n",
              "    <tr>\n",
              "      <th>45206</th>\n",
              "      <td>51</td>\n",
              "      <td>9</td>\n",
              "      <td>1</td>\n",
              "      <td>2</td>\n",
              "      <td>0</td>\n",
              "      <td>825</td>\n",
              "      <td>0</td>\n",
              "      <td>0</td>\n",
              "      <td>0</td>\n",
              "      <td>17</td>\n",
              "      <td>9</td>\n",
              "      <td>977</td>\n",
              "      <td>3</td>\n",
              "      <td>-1</td>\n",
              "      <td>0</td>\n",
              "      <td>3</td>\n",
              "    </tr>\n",
              "    <tr>\n",
              "      <th>45207</th>\n",
              "      <td>71</td>\n",
              "      <td>5</td>\n",
              "      <td>0</td>\n",
              "      <td>0</td>\n",
              "      <td>0</td>\n",
              "      <td>1729</td>\n",
              "      <td>0</td>\n",
              "      <td>0</td>\n",
              "      <td>0</td>\n",
              "      <td>17</td>\n",
              "      <td>9</td>\n",
              "      <td>456</td>\n",
              "      <td>2</td>\n",
              "      <td>-1</td>\n",
              "      <td>0</td>\n",
              "      <td>3</td>\n",
              "    </tr>\n",
              "    <tr>\n",
              "      <th>45208</th>\n",
              "      <td>72</td>\n",
              "      <td>5</td>\n",
              "      <td>1</td>\n",
              "      <td>1</td>\n",
              "      <td>0</td>\n",
              "      <td>5715</td>\n",
              "      <td>0</td>\n",
              "      <td>0</td>\n",
              "      <td>0</td>\n",
              "      <td>17</td>\n",
              "      <td>9</td>\n",
              "      <td>1127</td>\n",
              "      <td>5</td>\n",
              "      <td>184</td>\n",
              "      <td>3</td>\n",
              "      <td>2</td>\n",
              "    </tr>\n",
              "    <tr>\n",
              "      <th>45209</th>\n",
              "      <td>57</td>\n",
              "      <td>1</td>\n",
              "      <td>1</td>\n",
              "      <td>1</td>\n",
              "      <td>0</td>\n",
              "      <td>668</td>\n",
              "      <td>0</td>\n",
              "      <td>0</td>\n",
              "      <td>1</td>\n",
              "      <td>17</td>\n",
              "      <td>9</td>\n",
              "      <td>508</td>\n",
              "      <td>4</td>\n",
              "      <td>-1</td>\n",
              "      <td>0</td>\n",
              "      <td>3</td>\n",
              "    </tr>\n",
              "    <tr>\n",
              "      <th>45210</th>\n",
              "      <td>37</td>\n",
              "      <td>2</td>\n",
              "      <td>1</td>\n",
              "      <td>1</td>\n",
              "      <td>0</td>\n",
              "      <td>2971</td>\n",
              "      <td>0</td>\n",
              "      <td>0</td>\n",
              "      <td>0</td>\n",
              "      <td>17</td>\n",
              "      <td>9</td>\n",
              "      <td>361</td>\n",
              "      <td>2</td>\n",
              "      <td>188</td>\n",
              "      <td>11</td>\n",
              "      <td>1</td>\n",
              "    </tr>\n",
              "  </tbody>\n",
              "</table>\n",
              "<p>45211 rows × 16 columns</p>\n",
              "</div>"
            ],
            "text/plain": [
              "       age  job  marital  education  ...  campaign  pdays  previous  poutcome\n",
              "0       58    4        1          2  ...         1     -1         0         3\n",
              "1       44    9        2          1  ...         1     -1         0         3\n",
              "2       33    2        1          1  ...         1     -1         0         3\n",
              "3       47    1        1          3  ...         1     -1         0         3\n",
              "4       33   11        2          3  ...         1     -1         0         3\n",
              "...    ...  ...      ...        ...  ...       ...    ...       ...       ...\n",
              "45206   51    9        1          2  ...         3     -1         0         3\n",
              "45207   71    5        0          0  ...         2     -1         0         3\n",
              "45208   72    5        1          1  ...         5    184         3         2\n",
              "45209   57    1        1          1  ...         4     -1         0         3\n",
              "45210   37    2        1          1  ...         2    188        11         1\n",
              "\n",
              "[45211 rows x 16 columns]"
            ]
          },
          "metadata": {
            "tags": []
          },
          "execution_count": 7
        }
      ]
    },
    {
      "cell_type": "markdown",
      "metadata": {
        "tags": [],
        "cell_id": "00015-c9119692-5f17-4117-afe3-2475e5afdfc6",
        "deepnote_cell_type": "text-cell-p",
        "id": "hhfJ0i1y0LNJ"
      },
      "source": [
        "We divided the data into 4 parts:\n",
        "- X_train is a training data that have no output.\n",
        "- X_test is a testing data that have no output. This data will be use by the model to predict the output of the X_test data\n",
        "- y_train is a training data that has the output data from X_train data.\n",
        "- y_test is the original output data from X_test. This data will be used to validate the accuracy of predicted data that were generated by the model."
      ]
    },
    {
      "cell_type": "code",
      "metadata": {
        "tags": [],
        "deepnote_to_be_reexecuted": false,
        "source_hash": "19da14d6",
        "execution_millis": 43,
        "cell_id": "00024-6463aa47-8f7b-4c00-92bb-dc322ad91b1f",
        "execution_start": 1618499624983,
        "deepnote_cell_type": "code",
        "id": "Zviuxfe70LNL"
      },
      "source": [
        "X_train, X_test, y_train, y_test = train_test_split(split_input_data, split_output_data, test_size=0.3, random_state=10)"
      ],
      "execution_count": 8,
      "outputs": []
    },
    {
      "cell_type": "code",
      "metadata": {
        "colab": {
          "base_uri": "https://localhost:8080/"
        },
        "id": "lKZeoUiPENxO",
        "outputId": "3ef00059-14be-4610-dba3-9386b50edd9d"
      },
      "source": [
        "pd.DataFrame(y_train).value_counts()"
      ],
      "execution_count": 9,
      "outputs": [
        {
          "output_type": "execute_result",
          "data": {
            "text/plain": [
              "y  \n",
              "no     27916\n",
              "yes     3731\n",
              "dtype: int64"
            ]
          },
          "metadata": {
            "tags": []
          },
          "execution_count": 9
        }
      ]
    },
    {
      "cell_type": "code",
      "metadata": {
        "colab": {
          "base_uri": "https://localhost:8080/"
        },
        "id": "mjJf-fPCEhow",
        "outputId": "4a06714a-7da2-41d6-a175-718d0ce403f2"
      },
      "source": [
        "y_test.value_counts()"
      ],
      "execution_count": 11,
      "outputs": [
        {
          "output_type": "execute_result",
          "data": {
            "text/plain": [
              "no     12006\n",
              "yes     1558\n",
              "Name: y, dtype: int64"
            ]
          },
          "metadata": {
            "tags": []
          },
          "execution_count": 11
        }
      ]
    },
    {
      "cell_type": "markdown",
      "metadata": {
        "tags": [],
        "cell_id": "00025-40b2bf4b-d201-4202-9135-0397d0c2aa84",
        "deepnote_cell_type": "text-cell-h2",
        "id": "VzFXfc480LNN"
      },
      "source": [
        "## Scale Data"
      ]
    },
    {
      "cell_type": "markdown",
      "metadata": {
        "tags": [],
        "cell_id": "00022-90dfc88b-268b-44da-a2a4-882532d91498",
        "deepnote_cell_type": "text-cell-p",
        "id": "92gJZnGH0LNO"
      },
      "source": [
        "Here we transform the data to fit within a specific scale using these algorithms a change of \"1\" in any numeric feature will give the same importance to each data. We used StandardScaler() method from Sklearn library. Define the transformation for train and test data:\n",
        "- X_train will be scale using fit_transform()\n",
        "- X_test will be scale using transform()"
      ]
    },
    {
      "cell_type": "code",
      "metadata": {
        "tags": [],
        "deepnote_to_be_reexecuted": false,
        "source_hash": "7ca32dca",
        "execution_millis": 43,
        "cell_id": "00026-eada4828-58c0-4e16-81d8-f0509eebbf47",
        "execution_start": 1618499625026,
        "deepnote_cell_type": "code",
        "id": "ffsrC-do0LNP"
      },
      "source": [
        "scaler = StandardScaler()\n",
        "X_train_scaled = pd.DataFrame(scaler.fit_transform(X_train))\n",
        "X_test_scaled = pd.DataFrame(scaler.transform(X_test))"
      ],
      "execution_count": 12,
      "outputs": []
    },
    {
      "cell_type": "code",
      "metadata": {
        "colab": {
          "base_uri": "https://localhost:8080/",
          "height": 416
        },
        "id": "GOT10o47EwBQ",
        "outputId": "ace15035-081f-4012-f1b8-f0ab24a127df"
      },
      "source": [
        "X_train_scaled"
      ],
      "execution_count": 13,
      "outputs": [
        {
          "output_type": "execute_result",
          "data": {
            "text/html": [
              "<div>\n",
              "<style scoped>\n",
              "    .dataframe tbody tr th:only-of-type {\n",
              "        vertical-align: middle;\n",
              "    }\n",
              "\n",
              "    .dataframe tbody tr th {\n",
              "        vertical-align: top;\n",
              "    }\n",
              "\n",
              "    .dataframe thead th {\n",
              "        text-align: right;\n",
              "    }\n",
              "</style>\n",
              "<table border=\"1\" class=\"dataframe\">\n",
              "  <thead>\n",
              "    <tr style=\"text-align: right;\">\n",
              "      <th></th>\n",
              "      <th>0</th>\n",
              "      <th>1</th>\n",
              "      <th>2</th>\n",
              "      <th>3</th>\n",
              "      <th>4</th>\n",
              "      <th>5</th>\n",
              "      <th>6</th>\n",
              "      <th>7</th>\n",
              "      <th>8</th>\n",
              "      <th>9</th>\n",
              "      <th>10</th>\n",
              "      <th>11</th>\n",
              "      <th>12</th>\n",
              "      <th>13</th>\n",
              "      <th>14</th>\n",
              "      <th>15</th>\n",
              "    </tr>\n",
              "  </thead>\n",
              "  <tbody>\n",
              "    <tr>\n",
              "      <th>0</th>\n",
              "      <td>-1.026305</td>\n",
              "      <td>1.423354</td>\n",
              "      <td>-0.280363</td>\n",
              "      <td>-1.640840</td>\n",
              "      <td>-0.13531</td>\n",
              "      <td>-0.410155</td>\n",
              "      <td>0.893093</td>\n",
              "      <td>-0.436666</td>\n",
              "      <td>-0.710219</td>\n",
              "      <td>-0.094313</td>\n",
              "      <td>0.827351</td>\n",
              "      <td>-0.148404</td>\n",
              "      <td>-0.250493</td>\n",
              "      <td>2.575874</td>\n",
              "      <td>0.232301</td>\n",
              "      <td>-2.600080</td>\n",
              "    </tr>\n",
              "    <tr>\n",
              "      <th>1</th>\n",
              "      <td>-0.367918</td>\n",
              "      <td>-1.325856</td>\n",
              "      <td>1.364851</td>\n",
              "      <td>-0.298415</td>\n",
              "      <td>-0.13531</td>\n",
              "      <td>-0.440750</td>\n",
              "      <td>-1.119705</td>\n",
              "      <td>-0.436666</td>\n",
              "      <td>1.521344</td>\n",
              "      <td>1.470066</td>\n",
              "      <td>0.827351</td>\n",
              "      <td>-0.938292</td>\n",
              "      <td>3.303510</td>\n",
              "      <td>-0.411514</td>\n",
              "      <td>-0.304903</td>\n",
              "      <td>0.443520</td>\n",
              "    </tr>\n",
              "    <tr>\n",
              "      <th>2</th>\n",
              "      <td>0.102359</td>\n",
              "      <td>-1.325856</td>\n",
              "      <td>-0.280363</td>\n",
              "      <td>-0.298415</td>\n",
              "      <td>-0.13531</td>\n",
              "      <td>-0.440750</td>\n",
              "      <td>0.893093</td>\n",
              "      <td>-0.436666</td>\n",
              "      <td>-0.710219</td>\n",
              "      <td>-0.936671</td>\n",
              "      <td>-0.169407</td>\n",
              "      <td>2.929436</td>\n",
              "      <td>-0.573585</td>\n",
              "      <td>-0.411514</td>\n",
              "      <td>-0.304903</td>\n",
              "      <td>0.443520</td>\n",
              "    </tr>\n",
              "    <tr>\n",
              "      <th>3</th>\n",
              "      <td>-0.838194</td>\n",
              "      <td>-1.020388</td>\n",
              "      <td>-0.280363</td>\n",
              "      <td>-0.298415</td>\n",
              "      <td>-0.13531</td>\n",
              "      <td>-0.434309</td>\n",
              "      <td>0.893093</td>\n",
              "      <td>2.290082</td>\n",
              "      <td>1.521344</td>\n",
              "      <td>-0.936671</td>\n",
              "      <td>0.827351</td>\n",
              "      <td>-0.549185</td>\n",
              "      <td>0.072598</td>\n",
              "      <td>-0.411514</td>\n",
              "      <td>-0.304903</td>\n",
              "      <td>0.443520</td>\n",
              "    </tr>\n",
              "    <tr>\n",
              "      <th>4</th>\n",
              "      <td>1.513190</td>\n",
              "      <td>0.201483</td>\n",
              "      <td>-0.280363</td>\n",
              "      <td>-0.298415</td>\n",
              "      <td>-0.13531</td>\n",
              "      <td>-0.483583</td>\n",
              "      <td>-1.119705</td>\n",
              "      <td>-0.436666</td>\n",
              "      <td>-0.710219</td>\n",
              "      <td>0.387035</td>\n",
              "      <td>-1.498418</td>\n",
              "      <td>-0.237899</td>\n",
              "      <td>-0.250493</td>\n",
              "      <td>-0.411514</td>\n",
              "      <td>-0.304903</td>\n",
              "      <td>0.443520</td>\n",
              "    </tr>\n",
              "    <tr>\n",
              "      <th>...</th>\n",
              "      <td>...</td>\n",
              "      <td>...</td>\n",
              "      <td>...</td>\n",
              "      <td>...</td>\n",
              "      <td>...</td>\n",
              "      <td>...</td>\n",
              "      <td>...</td>\n",
              "      <td>...</td>\n",
              "      <td>...</td>\n",
              "      <td>...</td>\n",
              "      <td>...</td>\n",
              "      <td>...</td>\n",
              "      <td>...</td>\n",
              "      <td>...</td>\n",
              "      <td>...</td>\n",
              "      <td>...</td>\n",
              "    </tr>\n",
              "    <tr>\n",
              "      <th>31642</th>\n",
              "      <td>-0.744139</td>\n",
              "      <td>-0.103985</td>\n",
              "      <td>1.364851</td>\n",
              "      <td>1.044009</td>\n",
              "      <td>-0.13531</td>\n",
              "      <td>-0.277792</td>\n",
              "      <td>-1.119705</td>\n",
              "      <td>-0.436666</td>\n",
              "      <td>-0.710219</td>\n",
              "      <td>-1.418018</td>\n",
              "      <td>0.162846</td>\n",
              "      <td>-0.319611</td>\n",
              "      <td>-0.573585</td>\n",
              "      <td>0.507682</td>\n",
              "      <td>0.769506</td>\n",
              "      <td>-0.571014</td>\n",
              "    </tr>\n",
              "    <tr>\n",
              "      <th>31643</th>\n",
              "      <td>0.102359</td>\n",
              "      <td>0.812419</td>\n",
              "      <td>-1.925577</td>\n",
              "      <td>-0.298415</td>\n",
              "      <td>-0.13531</td>\n",
              "      <td>-0.290675</td>\n",
              "      <td>-1.119705</td>\n",
              "      <td>-0.436666</td>\n",
              "      <td>-0.710219</td>\n",
              "      <td>1.470066</td>\n",
              "      <td>-0.501660</td>\n",
              "      <td>-0.817669</td>\n",
              "      <td>-0.573585</td>\n",
              "      <td>-0.411514</td>\n",
              "      <td>-0.304903</td>\n",
              "      <td>0.443520</td>\n",
              "    </tr>\n",
              "    <tr>\n",
              "      <th>31644</th>\n",
              "      <td>-0.932250</td>\n",
              "      <td>1.423354</td>\n",
              "      <td>1.364851</td>\n",
              "      <td>1.044009</td>\n",
              "      <td>-0.13531</td>\n",
              "      <td>0.082582</td>\n",
              "      <td>-1.119705</td>\n",
              "      <td>-0.436666</td>\n",
              "      <td>-0.710219</td>\n",
              "      <td>-1.658692</td>\n",
              "      <td>-0.833913</td>\n",
              "      <td>-0.389651</td>\n",
              "      <td>-0.573585</td>\n",
              "      <td>-0.411514</td>\n",
              "      <td>-0.304903</td>\n",
              "      <td>0.443520</td>\n",
              "    </tr>\n",
              "    <tr>\n",
              "      <th>31645</th>\n",
              "      <td>-1.308471</td>\n",
              "      <td>0.812419</td>\n",
              "      <td>1.364851</td>\n",
              "      <td>-0.298415</td>\n",
              "      <td>-0.13531</td>\n",
              "      <td>-0.331575</td>\n",
              "      <td>-1.119705</td>\n",
              "      <td>-0.436666</td>\n",
              "      <td>-0.710219</td>\n",
              "      <td>-1.418018</td>\n",
              "      <td>0.162846</td>\n",
              "      <td>-0.296265</td>\n",
              "      <td>-0.573585</td>\n",
              "      <td>-0.411514</td>\n",
              "      <td>-0.304903</td>\n",
              "      <td>0.443520</td>\n",
              "    </tr>\n",
              "    <tr>\n",
              "      <th>31646</th>\n",
              "      <td>0.760747</td>\n",
              "      <td>-0.103985</td>\n",
              "      <td>-0.280363</td>\n",
              "      <td>-0.298415</td>\n",
              "      <td>-0.13531</td>\n",
              "      <td>0.074853</td>\n",
              "      <td>-1.119705</td>\n",
              "      <td>-0.436666</td>\n",
              "      <td>-0.710219</td>\n",
              "      <td>1.590403</td>\n",
              "      <td>-0.169407</td>\n",
              "      <td>-0.821560</td>\n",
              "      <td>0.718780</td>\n",
              "      <td>-0.411514</td>\n",
              "      <td>-0.304903</td>\n",
              "      <td>0.443520</td>\n",
              "    </tr>\n",
              "  </tbody>\n",
              "</table>\n",
              "<p>31647 rows × 16 columns</p>\n",
              "</div>"
            ],
            "text/plain": [
              "             0         1         2   ...        13        14        15\n",
              "0     -1.026305  1.423354 -0.280363  ...  2.575874  0.232301 -2.600080\n",
              "1     -0.367918 -1.325856  1.364851  ... -0.411514 -0.304903  0.443520\n",
              "2      0.102359 -1.325856 -0.280363  ... -0.411514 -0.304903  0.443520\n",
              "3     -0.838194 -1.020388 -0.280363  ... -0.411514 -0.304903  0.443520\n",
              "4      1.513190  0.201483 -0.280363  ... -0.411514 -0.304903  0.443520\n",
              "...         ...       ...       ...  ...       ...       ...       ...\n",
              "31642 -0.744139 -0.103985  1.364851  ...  0.507682  0.769506 -0.571014\n",
              "31643  0.102359  0.812419 -1.925577  ... -0.411514 -0.304903  0.443520\n",
              "31644 -0.932250  1.423354  1.364851  ... -0.411514 -0.304903  0.443520\n",
              "31645 -1.308471  0.812419  1.364851  ... -0.411514 -0.304903  0.443520\n",
              "31646  0.760747 -0.103985 -0.280363  ... -0.411514 -0.304903  0.443520\n",
              "\n",
              "[31647 rows x 16 columns]"
            ]
          },
          "metadata": {
            "tags": []
          },
          "execution_count": 13
        }
      ]
    },
    {
      "cell_type": "code",
      "metadata": {
        "colab": {
          "base_uri": "https://localhost:8080/",
          "height": 416
        },
        "id": "DxdohMwPEzY7",
        "outputId": "92fccd29-59d7-4a3f-aa71-2f99fc3fc97b"
      },
      "source": [
        "X_test_scaled"
      ],
      "execution_count": 14,
      "outputs": [
        {
          "output_type": "execute_result",
          "data": {
            "text/html": [
              "<div>\n",
              "<style scoped>\n",
              "    .dataframe tbody tr th:only-of-type {\n",
              "        vertical-align: middle;\n",
              "    }\n",
              "\n",
              "    .dataframe tbody tr th {\n",
              "        vertical-align: top;\n",
              "    }\n",
              "\n",
              "    .dataframe thead th {\n",
              "        text-align: right;\n",
              "    }\n",
              "</style>\n",
              "<table border=\"1\" class=\"dataframe\">\n",
              "  <thead>\n",
              "    <tr style=\"text-align: right;\">\n",
              "      <th></th>\n",
              "      <th>0</th>\n",
              "      <th>1</th>\n",
              "      <th>2</th>\n",
              "      <th>3</th>\n",
              "      <th>4</th>\n",
              "      <th>5</th>\n",
              "      <th>6</th>\n",
              "      <th>7</th>\n",
              "      <th>8</th>\n",
              "      <th>9</th>\n",
              "      <th>10</th>\n",
              "      <th>11</th>\n",
              "      <th>12</th>\n",
              "      <th>13</th>\n",
              "      <th>14</th>\n",
              "      <th>15</th>\n",
              "    </tr>\n",
              "  </thead>\n",
              "  <tbody>\n",
              "    <tr>\n",
              "      <th>0</th>\n",
              "      <td>1.325079</td>\n",
              "      <td>1.423354</td>\n",
              "      <td>-1.925577</td>\n",
              "      <td>-0.298415</td>\n",
              "      <td>-0.13531</td>\n",
              "      <td>-0.440750</td>\n",
              "      <td>0.893093</td>\n",
              "      <td>-0.436666</td>\n",
              "      <td>1.521344</td>\n",
              "      <td>0.507372</td>\n",
              "      <td>0.827351</td>\n",
              "      <td>0.415802</td>\n",
              "      <td>0.395689</td>\n",
              "      <td>-0.411514</td>\n",
              "      <td>-0.304903</td>\n",
              "      <td>0.44352</td>\n",
              "    </tr>\n",
              "    <tr>\n",
              "      <th>1</th>\n",
              "      <td>-0.932250</td>\n",
              "      <td>0.506951</td>\n",
              "      <td>1.364851</td>\n",
              "      <td>1.044009</td>\n",
              "      <td>-0.13531</td>\n",
              "      <td>0.145382</td>\n",
              "      <td>0.893093</td>\n",
              "      <td>-0.436666</td>\n",
              "      <td>1.521344</td>\n",
              "      <td>0.507372</td>\n",
              "      <td>0.827351</td>\n",
              "      <td>-0.739847</td>\n",
              "      <td>-0.573585</td>\n",
              "      <td>-0.411514</td>\n",
              "      <td>-0.304903</td>\n",
              "      <td>0.44352</td>\n",
              "    </tr>\n",
              "    <tr>\n",
              "      <th>2</th>\n",
              "      <td>-1.214416</td>\n",
              "      <td>-0.103985</td>\n",
              "      <td>1.364851</td>\n",
              "      <td>1.044009</td>\n",
              "      <td>-0.13531</td>\n",
              "      <td>0.284829</td>\n",
              "      <td>0.893093</td>\n",
              "      <td>-0.436666</td>\n",
              "      <td>1.521344</td>\n",
              "      <td>0.266698</td>\n",
              "      <td>0.162846</td>\n",
              "      <td>2.520873</td>\n",
              "      <td>-0.250493</td>\n",
              "      <td>-0.411514</td>\n",
              "      <td>-0.304903</td>\n",
              "      <td>0.44352</td>\n",
              "    </tr>\n",
              "    <tr>\n",
              "      <th>3</th>\n",
              "      <td>-1.214416</td>\n",
              "      <td>1.423354</td>\n",
              "      <td>-0.280363</td>\n",
              "      <td>-0.298415</td>\n",
              "      <td>-0.13531</td>\n",
              "      <td>1.958202</td>\n",
              "      <td>0.893093</td>\n",
              "      <td>-0.436666</td>\n",
              "      <td>-0.710219</td>\n",
              "      <td>-1.057007</td>\n",
              "      <td>0.827351</td>\n",
              "      <td>-0.253463</td>\n",
              "      <td>-0.573585</td>\n",
              "      <td>-0.411514</td>\n",
              "      <td>-0.304903</td>\n",
              "      <td>0.44352</td>\n",
              "    </tr>\n",
              "    <tr>\n",
              "      <th>4</th>\n",
              "      <td>0.196415</td>\n",
              "      <td>-0.714920</td>\n",
              "      <td>-0.280363</td>\n",
              "      <td>-0.298415</td>\n",
              "      <td>-0.13531</td>\n",
              "      <td>-0.421749</td>\n",
              "      <td>-1.119705</td>\n",
              "      <td>-0.436666</td>\n",
              "      <td>1.521344</td>\n",
              "      <td>-0.334986</td>\n",
              "      <td>0.827351</td>\n",
              "      <td>0.695959</td>\n",
              "      <td>-0.250493</td>\n",
              "      <td>-0.411514</td>\n",
              "      <td>-0.304903</td>\n",
              "      <td>0.44352</td>\n",
              "    </tr>\n",
              "    <tr>\n",
              "      <th>...</th>\n",
              "      <td>...</td>\n",
              "      <td>...</td>\n",
              "      <td>...</td>\n",
              "      <td>...</td>\n",
              "      <td>...</td>\n",
              "      <td>...</td>\n",
              "      <td>...</td>\n",
              "      <td>...</td>\n",
              "      <td>...</td>\n",
              "      <td>...</td>\n",
              "      <td>...</td>\n",
              "      <td>...</td>\n",
              "      <td>...</td>\n",
              "      <td>...</td>\n",
              "      <td>...</td>\n",
              "      <td>...</td>\n",
              "    </tr>\n",
              "    <tr>\n",
              "      <th>13559</th>\n",
              "      <td>-1.684693</td>\n",
              "      <td>0.812419</td>\n",
              "      <td>-0.280363</td>\n",
              "      <td>-0.298415</td>\n",
              "      <td>-0.13531</td>\n",
              "      <td>-0.436241</td>\n",
              "      <td>0.893093</td>\n",
              "      <td>2.290082</td>\n",
              "      <td>0.405563</td>\n",
              "      <td>-0.334986</td>\n",
              "      <td>0.827351</td>\n",
              "      <td>-0.930510</td>\n",
              "      <td>1.688054</td>\n",
              "      <td>3.175350</td>\n",
              "      <td>0.232301</td>\n",
              "      <td>-2.60008</td>\n",
              "    </tr>\n",
              "    <tr>\n",
              "      <th>13560</th>\n",
              "      <td>-0.932250</td>\n",
              "      <td>1.423354</td>\n",
              "      <td>-0.280363</td>\n",
              "      <td>-0.298415</td>\n",
              "      <td>-0.13531</td>\n",
              "      <td>-0.278759</td>\n",
              "      <td>-1.119705</td>\n",
              "      <td>-0.436666</td>\n",
              "      <td>-0.710219</td>\n",
              "      <td>0.507372</td>\n",
              "      <td>1.159604</td>\n",
              "      <td>-0.311829</td>\n",
              "      <td>-0.573585</td>\n",
              "      <td>-0.411514</td>\n",
              "      <td>-0.304903</td>\n",
              "      <td>0.44352</td>\n",
              "    </tr>\n",
              "    <tr>\n",
              "      <th>13561</th>\n",
              "      <td>-0.650084</td>\n",
              "      <td>1.423354</td>\n",
              "      <td>1.364851</td>\n",
              "      <td>-0.298415</td>\n",
              "      <td>-0.13531</td>\n",
              "      <td>1.404920</td>\n",
              "      <td>0.893093</td>\n",
              "      <td>-0.436666</td>\n",
              "      <td>-0.710219</td>\n",
              "      <td>0.627708</td>\n",
              "      <td>-0.169407</td>\n",
              "      <td>-0.611442</td>\n",
              "      <td>0.072598</td>\n",
              "      <td>-0.411514</td>\n",
              "      <td>-0.304903</td>\n",
              "      <td>0.44352</td>\n",
              "    </tr>\n",
              "    <tr>\n",
              "      <th>13562</th>\n",
              "      <td>-0.179807</td>\n",
              "      <td>0.812419</td>\n",
              "      <td>-0.280363</td>\n",
              "      <td>-0.298415</td>\n",
              "      <td>-0.13531</td>\n",
              "      <td>-0.424003</td>\n",
              "      <td>-1.119705</td>\n",
              "      <td>-0.436666</td>\n",
              "      <td>0.405563</td>\n",
              "      <td>-1.658692</td>\n",
              "      <td>-0.833913</td>\n",
              "      <td>4.520886</td>\n",
              "      <td>0.072598</td>\n",
              "      <td>-0.411514</td>\n",
              "      <td>-0.304903</td>\n",
              "      <td>0.44352</td>\n",
              "    </tr>\n",
              "    <tr>\n",
              "      <th>13563</th>\n",
              "      <td>1.231023</td>\n",
              "      <td>1.423354</td>\n",
              "      <td>-0.280363</td>\n",
              "      <td>-0.298415</td>\n",
              "      <td>-0.13531</td>\n",
              "      <td>-0.427224</td>\n",
              "      <td>-1.119705</td>\n",
              "      <td>2.290082</td>\n",
              "      <td>1.521344</td>\n",
              "      <td>-1.538355</td>\n",
              "      <td>-0.169407</td>\n",
              "      <td>0.509188</td>\n",
              "      <td>-0.250493</td>\n",
              "      <td>-0.411514</td>\n",
              "      <td>-0.304903</td>\n",
              "      <td>0.44352</td>\n",
              "    </tr>\n",
              "  </tbody>\n",
              "</table>\n",
              "<p>13564 rows × 16 columns</p>\n",
              "</div>"
            ],
            "text/plain": [
              "             0         1         2   ...        13        14       15\n",
              "0      1.325079  1.423354 -1.925577  ... -0.411514 -0.304903  0.44352\n",
              "1     -0.932250  0.506951  1.364851  ... -0.411514 -0.304903  0.44352\n",
              "2     -1.214416 -0.103985  1.364851  ... -0.411514 -0.304903  0.44352\n",
              "3     -1.214416  1.423354 -0.280363  ... -0.411514 -0.304903  0.44352\n",
              "4      0.196415 -0.714920 -0.280363  ... -0.411514 -0.304903  0.44352\n",
              "...         ...       ...       ...  ...       ...       ...      ...\n",
              "13559 -1.684693  0.812419 -0.280363  ...  3.175350  0.232301 -2.60008\n",
              "13560 -0.932250  1.423354 -0.280363  ... -0.411514 -0.304903  0.44352\n",
              "13561 -0.650084  1.423354  1.364851  ... -0.411514 -0.304903  0.44352\n",
              "13562 -0.179807  0.812419 -0.280363  ... -0.411514 -0.304903  0.44352\n",
              "13563  1.231023  1.423354 -0.280363  ... -0.411514 -0.304903  0.44352\n",
              "\n",
              "[13564 rows x 16 columns]"
            ]
          },
          "metadata": {
            "tags": []
          },
          "execution_count": 14
        }
      ]
    },
    {
      "cell_type": "markdown",
      "metadata": {
        "tags": [],
        "cell_id": "00015-b94fb931-99e7-4d5e-926d-682128b30707",
        "deepnote_cell_type": "text-cell-h2",
        "id": "dWDYAjSU0LNR"
      },
      "source": [
        "## Mix Sampling using SMOTE &amp; Random Under Sampler"
      ]
    },
    {
      "cell_type": "markdown",
      "metadata": {
        "tags": [],
        "cell_id": "00027-5269f383-b5a0-48b0-94ee-a563e9a27371",
        "deepnote_cell_type": "text-cell-p",
        "id": "HnvsiQ6z0LNS"
      },
      "source": [
        "Here we distributed the data using SMOTE and Random Under Sampler to make the classification output data balance. We used SMOTE to duplicates and variance the 'yes' data for the model to learn more variance of yes data.  We used Random Under Sampler to delete random sample of the 'no' data to make the model not to have low bias towards 'yes' data."
      ]
    },
    {
      "cell_type": "code",
      "metadata": {
        "tags": [],
        "cell_id": "00015-87d373cd-3705-4cf8-990b-69974a8a2f51",
        "deepnote_to_be_reexecuted": false,
        "source_hash": "aa80fcd1",
        "execution_millis": 902,
        "execution_start": 1618499625125,
        "deepnote_cell_type": "code",
        "colab": {
          "base_uri": "https://localhost:8080/"
        },
        "id": "Dj1_0JXx0LNU",
        "outputId": "f0d517bd-8544-4208-8f77-67420bd272c1"
      },
      "source": [
        "mixSample_X = X_train_scaled\n",
        "\n",
        "# define pipeline\n",
        "over = SMOTE(sampling_strategy=0.15)\n",
        "under = RandomUnderSampler(sampling_strategy=0.5)\n",
        "steps = [('o', over), ('u', under)]\n",
        "pipeline = Pipeline(steps=steps)\n",
        "\n",
        "# transform the dataset\n",
        "mixSample_X, mixSample_Y = pipeline.fit_resample(mixSample_X, y_train)\n",
        "pd.DataFrame(mixSample_Y).value_counts()"
      ],
      "execution_count": 15,
      "outputs": [
        {
          "output_type": "stream",
          "text": [
            "/usr/local/lib/python3.7/dist-packages/sklearn/utils/deprecation.py:87: FutureWarning: Function safe_indexing is deprecated; safe_indexing is deprecated in version 0.22 and will be removed in version 0.24.\n",
            "  warnings.warn(msg, category=FutureWarning)\n",
            "/usr/local/lib/python3.7/dist-packages/sklearn/utils/deprecation.py:87: FutureWarning: Function safe_indexing is deprecated; safe_indexing is deprecated in version 0.22 and will be removed in version 0.24.\n",
            "  warnings.warn(msg, category=FutureWarning)\n"
          ],
          "name": "stderr"
        },
        {
          "output_type": "execute_result",
          "data": {
            "text/plain": [
              "no     8374\n",
              "yes    4187\n",
              "dtype: int64"
            ]
          },
          "metadata": {
            "tags": []
          },
          "execution_count": 15
        }
      ]
    },
    {
      "cell_type": "markdown",
      "metadata": {
        "tags": [],
        "cell_id": "00033-8bf1966f-7922-452b-a347-2a3ef3a6f410",
        "deepnote_cell_type": "text-cell-h1",
        "id": "3Q0GeZrU0LNW"
      },
      "source": [
        "# Logistic Regression from SKLEARN Library"
      ]
    },
    {
      "cell_type": "markdown",
      "metadata": {
        "tags": [],
        "cell_id": "00026-b3d9c568-ed71-42c9-afaf-5fd463fdad9d",
        "deepnote_cell_type": "text-cell-h2",
        "id": "4pIL9bGo0LNX"
      },
      "source": [
        "## Model Fit with default Parameters"
      ]
    },
    {
      "cell_type": "markdown",
      "metadata": {
        "tags": [],
        "cell_id": "00033-2302b3b7-f14b-44a5-b795-1b6db714d56c",
        "deepnote_cell_type": "text-cell-p",
        "id": "_8xe6A-D0LNY"
      },
      "source": [
        "Here we used logistic regression without specifying the parameters "
      ]
    },
    {
      "cell_type": "code",
      "metadata": {
        "tags": [],
        "cell_id": "00027-e3577462-abae-48a1-ad7d-891e6dca234d",
        "deepnote_to_be_reexecuted": false,
        "source_hash": "d3a9a9f0",
        "execution_millis": 5,
        "execution_start": 1618499626027,
        "deepnote_cell_type": "code",
        "id": "E85h6Rsp0LNb"
      },
      "source": [
        "model = LogisticRegression()"
      ],
      "execution_count": 10,
      "outputs": []
    },
    {
      "cell_type": "markdown",
      "metadata": {
        "tags": [],
        "cell_id": "00028-2694c146-8586-44e5-9d7b-8855a9dd3a6d",
        "deepnote_cell_type": "text-cell-h2",
        "id": "2NUi-Ky30LNe"
      },
      "source": [
        "## Train the Model using Training Data and Validation Training Data"
      ]
    },
    {
      "cell_type": "code",
      "metadata": {
        "tags": [],
        "cell_id": "00028-0db1a00b-67b4-455d-9c54-72f265089bdb",
        "deepnote_to_be_reexecuted": false,
        "source_hash": "21cd9296",
        "execution_millis": 143,
        "execution_start": 1618499626036,
        "deepnote_cell_type": "code",
        "colab": {
          "base_uri": "https://localhost:8080/"
        },
        "id": "9dY_LBWI0LNl",
        "outputId": "0a474364-7a8f-470d-fe44-19fd4eb85708"
      },
      "source": [
        "model.fit(mixSample_X, mixSample_Y)"
      ],
      "execution_count": 11,
      "outputs": [
        {
          "output_type": "execute_result",
          "data": {
            "text/plain": [
              "LogisticRegression(C=1.0, class_weight=None, dual=False, fit_intercept=True,\n",
              "                   intercept_scaling=1, l1_ratio=None, max_iter=100,\n",
              "                   multi_class='auto', n_jobs=None, penalty='l2',\n",
              "                   random_state=None, solver='lbfgs', tol=0.0001, verbose=0,\n",
              "                   warm_start=False)"
            ]
          },
          "metadata": {
            "tags": []
          },
          "execution_count": 11
        }
      ]
    },
    {
      "cell_type": "markdown",
      "metadata": {
        "tags": [],
        "cell_id": "00030-031b3f25-8769-4778-8999-9a7bffb71409",
        "deepnote_cell_type": "text-cell-h2",
        "id": "4cjlS0G10LNn"
      },
      "source": [
        "## Predict Model using Testing Data"
      ]
    },
    {
      "cell_type": "code",
      "metadata": {
        "tags": [],
        "cell_id": "00031-17637baf-01b1-49ce-9d7b-50bdeb85984f",
        "deepnote_to_be_reexecuted": false,
        "source_hash": "48992fe",
        "execution_millis": 38,
        "execution_start": 1618499626182,
        "deepnote_cell_type": "code",
        "id": "tdYoQh5J0LNq"
      },
      "source": [
        "y_pred = model.predict(X_test_scaled)"
      ],
      "execution_count": 12,
      "outputs": []
    },
    {
      "cell_type": "markdown",
      "metadata": {
        "tags": [],
        "cell_id": "00042-5160bd8d-e6db-4d69-9ac7-273af6ad0db4",
        "deepnote_cell_type": "text-cell-h3",
        "id": "XqfWEukX0LNs"
      },
      "source": [
        "### Before evaluation we need to know the value count of each class from the original output data"
      ]
    },
    {
      "cell_type": "markdown",
      "metadata": {
        "tags": [],
        "cell_id": "00040-70663bd2-d385-4d44-8793-aeb3d694cf34",
        "deepnote_cell_type": "text-cell-p",
        "id": "LSr5_Lae0LNt"
      },
      "source": [
        "Here are the count of 'no' data and the count of 'yes' data from the original output data"
      ]
    },
    {
      "cell_type": "code",
      "metadata": {
        "tags": [],
        "cell_id": "00042-e83bee2f-b04c-4294-ab50-4cad651cdddd",
        "deepnote_to_be_reexecuted": false,
        "source_hash": "9f353983",
        "execution_start": 1618501304506,
        "execution_millis": 14,
        "deepnote_cell_type": "code",
        "colab": {
          "base_uri": "https://localhost:8080/"
        },
        "id": "yHAtfDQ70LNt",
        "outputId": "405d1ecf-1280-43cc-e181-ed55a8296626"
      },
      "source": [
        "y_test.value_counts()"
      ],
      "execution_count": 16,
      "outputs": [
        {
          "output_type": "execute_result",
          "data": {
            "text/plain": [
              "no     12006\n",
              "yes     1558\n",
              "Name: y, dtype: int64"
            ]
          },
          "metadata": {
            "tags": []
          },
          "execution_count": 16
        }
      ]
    },
    {
      "cell_type": "markdown",
      "metadata": {
        "tags": [],
        "cell_id": "00032-229bd07a-f4e9-49d1-8e13-55a01bb1c7ca",
        "deepnote_cell_type": "text-cell-h2",
        "id": "9c39o3UY0LNu"
      },
      "source": [
        "## Evaluation Metrics using Confusion Matrix"
      ]
    },
    {
      "cell_type": "markdown",
      "metadata": {
        "tags": [],
        "cell_id": "00040-ef24e007-e43d-470d-b0f5-29dd80b9c764",
        "deepnote_cell_type": "text-cell-p",
        "id": "JPSVRyYh0LNx"
      },
      "source": [
        "Here we used confusion matrix which is crosstab() method from pandas There are 4 terms as a representation of the result of the classification process confusion matrix. The four terms: \n",
        "- True Positive (TP): Represents positive data that is predicted to be correct.\n",
        "- True Negative (TN): Represents negative data that is predicted to be correct.\n",
        "- False Positive (FP) Type I Error: Represents negative data but predicted as positive data.\n",
        "- False Negative (FN) Type II Error: Represents positive data but predicted as negative data."
      ]
    },
    {
      "cell_type": "code",
      "metadata": {
        "tags": [],
        "cell_id": "00032-f9d2da95-b5dd-4a3c-b346-1ca69aba8cb4",
        "deepnote_to_be_reexecuted": false,
        "source_hash": "834f5afa",
        "execution_millis": 57,
        "execution_start": 1618499626265,
        "deepnote_cell_type": "code",
        "colab": {
          "base_uri": "https://localhost:8080/"
        },
        "id": "2sGrHnUw0LNz",
        "outputId": "add0ea64-7e89-443c-9933-f6455f62bb5e"
      },
      "source": [
        "confusion_matrix = pd.crosstab(y_test, y_pred)\n",
        "print (confusion_matrix)"
      ],
      "execution_count": 14,
      "outputs": [
        {
          "output_type": "stream",
          "text": [
            "col_0     no   yes\n",
            "y                 \n",
            "no     10843  1163\n",
            "yes      606   952\n"
          ],
          "name": "stdout"
        }
      ]
    },
    {
      "cell_type": "markdown",
      "metadata": {
        "tags": [],
        "cell_id": "00044-14474115-49a9-4108-867a-e8e879fa48a5",
        "deepnote_cell_type": "text-cell-p",
        "id": "KnetBLPT0LN2"
      },
      "source": [
        " The conclusion from the above result: \n",
        "- True Positive (TP): **952** 'Yes' predicted data is correct **from 1558** 'Yes' original data \n",
        "- True Negative (TN): **10843** 'No' predicted data is correct from **12006** 'No' original data\n",
        "- False Negative (FN): **606** 'Yes' predicted data falsely predicted as 'No' data\n",
        "- False Positive (FP): **1163** 'No' predicted data falsely predicted as 'Yes' data"
      ]
    },
    {
      "cell_type": "markdown",
      "metadata": {
        "tags": [],
        "cell_id": "00034-36e4f280-31f8-4634-9fbe-dd95c73e55ab",
        "deepnote_cell_type": "text-cell-h2",
        "id": "mrRFGIjg0LN4"
      },
      "source": [
        "## Evaluation Metrics using Classification Report"
      ]
    },
    {
      "cell_type": "markdown",
      "metadata": {
        "tags": [],
        "cell_id": "00043-edd5428b-f1cf-4fd1-b0be-b81ea718c79a",
        "deepnote_cell_type": "text-cell-p",
        "id": "SpKclHeh0LOk"
      },
      "source": [
        "Here we used the classification report from sklearn library in the classification report function we have precision, recall, f1-score and support for the evaluation metrics."
      ]
    },
    {
      "cell_type": "markdown",
      "metadata": {
        "tags": [],
        "cell_id": "00045-69c938f2-9150-4f25-8862-940a4efed4df",
        "deepnote_cell_type": "text-cell-h3",
        "id": "Kxaq9qCz0LOl"
      },
      "source": [
        "### Precision"
      ]
    },
    {
      "cell_type": "markdown",
      "metadata": {
        "tags": [],
        "cell_id": "00045-e3eec294-1512-4807-a374-f0023c0595b2",
        "deepnote_cell_type": "text-cell-p",
        "id": "DBIK5tri0LOm"
      },
      "source": [
        "Precision is the ability of a classifier not to label an instance positive that is actually negative. For each class, it is defined as the ratio of true positives to the sum of a true positive and false positive."
      ]
    },
    {
      "cell_type": "markdown",
      "metadata": {
        "tags": [],
        "cell_id": "00047-6d2fa5e5-f1f6-4ddc-89ba-b7cf19501256",
        "deepnote_cell_type": "text-cell-h3",
        "id": "rCA8iXFZ0LOo"
      },
      "source": [
        "### Recall"
      ]
    },
    {
      "cell_type": "markdown",
      "metadata": {
        "tags": [],
        "cell_id": "00046-0daccfd2-d7ac-4614-a7b9-586d947a264d",
        "deepnote_cell_type": "text-cell-p",
        "id": "jYAu8jHz0LOp"
      },
      "source": [
        "Recall is the ability of a classifier to find all positive instances. For each class it is defined as the ratio of true positives to the sum of true positives and false negatives."
      ]
    },
    {
      "cell_type": "markdown",
      "metadata": {
        "tags": [],
        "cell_id": "00049-e867a383-b663-432c-924e-520343cc4d0b",
        "deepnote_cell_type": "text-cell-h3",
        "id": "9RsOksT60LOq"
      },
      "source": [
        "### F1-Score"
      ]
    },
    {
      "cell_type": "markdown",
      "metadata": {
        "tags": [],
        "cell_id": "00047-54e2bb98-93de-45f8-8a66-81c764ba0f2d",
        "deepnote_cell_type": "text-cell-p",
        "id": "gRYa84Pz0LOs"
      },
      "source": [
        "The F1 score is a weighted harmonic mean of precision and recall such that the best score is 1.0 and the worst is 0.0. F1 scores are lower than accuracy measures as they embed precision and recall into their computation. As a rule of thumb, the weighted average of F1 should be used to compare classifier models, not global accuracy."
      ]
    },
    {
      "cell_type": "markdown",
      "metadata": {
        "tags": [],
        "cell_id": "00051-f1d0f9ee-92dc-497d-848d-79488e3e9464",
        "deepnote_cell_type": "text-cell-h3",
        "id": "psnY-mu70LOt"
      },
      "source": [
        "### Support"
      ]
    },
    {
      "cell_type": "markdown",
      "metadata": {
        "tags": [],
        "cell_id": "00052-ebe3b5c6-6032-4d09-a650-b0e30955b0e7",
        "deepnote_cell_type": "text-cell-p",
        "id": "nmCjNWuc0LOu"
      },
      "source": [
        "Support is the number of actual occurrences of the class in the specified dataset. Imbalanced support in the training data may indicate structural weaknesses in the reported scores of the classifier and could indicate the need for stratified sampling or rebalancing. Support doesn’t change between models but instead diagnoses the evaluation process."
      ]
    },
    {
      "cell_type": "code",
      "metadata": {
        "tags": [],
        "cell_id": "00033-ef6a4fbb-53f8-4e3b-add8-e2e9237d09cb",
        "deepnote_to_be_reexecuted": false,
        "source_hash": "74950708",
        "execution_millis": 501,
        "execution_start": 1618499626361,
        "deepnote_cell_type": "code",
        "colab": {
          "base_uri": "https://localhost:8080/"
        },
        "id": "1soKpW9j0LOv",
        "outputId": "627f996d-7cd7-482f-b76e-28eb9fc3c52a"
      },
      "source": [
        "print(classification_report(y_test,y_pred))"
      ],
      "execution_count": 15,
      "outputs": [
        {
          "output_type": "stream",
          "text": [
            "              precision    recall  f1-score   support\n",
            "\n",
            "          no       0.95      0.90      0.92     12006\n",
            "         yes       0.45      0.61      0.52      1558\n",
            "\n",
            "    accuracy                           0.87     13564\n",
            "   macro avg       0.70      0.76      0.72     13564\n",
            "weighted avg       0.89      0.87      0.88     13564\n",
            "\n"
          ],
          "name": "stdout"
        }
      ]
    },
    {
      "cell_type": "markdown",
      "metadata": {
        "tags": [],
        "cell_id": "00048-9472ae4d-3086-4306-a994-bfd89598362a",
        "deepnote_cell_type": "text-cell-p",
        "id": "enoHynve0LOx"
      },
      "source": [
        " The conclusion from the above result:\n",
        "- Precision: **95%** 'No' predicted data are correctly predict &amp; **45%** 'Yes' predicted data are correctly predict\n",
        "- Recall: **90%** 'No' original data have been predicted by the model &amp; **61%** 'Yes' original data have been predicted by the model\n",
        "- F1-Score: The mean from precision and recall for 'No' predicted data is **92%** and for 'Yes' predicted data is **52%**"
      ]
    },
    {
      "cell_type": "markdown",
      "metadata": {
        "tags": [],
        "cell_id": "00036-9bf53121-4de0-4604-9819-ab8b2ee66fea",
        "deepnote_cell_type": "text-cell-h1",
        "id": "DMZAnEfr0LOz"
      },
      "source": [
        "# Model Fit with Best Parameters using Random Search CV"
      ]
    },
    {
      "cell_type": "markdown",
      "metadata": {
        "tags": [],
        "cell_id": "00046-1e6d6f1e-9387-42c0-9b8e-44ab81aa90fc",
        "deepnote_cell_type": "text-cell-p",
        "id": "YHkMN9MS0LO0"
      },
      "source": [
        "We used Random Search CV from to find best parameter for our Logistic regression model here we will compare the model that use default parameter and the model that will be given the best parameter from Random Search CV"
      ]
    },
    {
      "cell_type": "markdown",
      "metadata": {
        "tags": [],
        "cell_id": "00032-3ef1f974-b136-4d1d-bf4d-acef4ebc9e0f",
        "deepnote_cell_type": "text-cell-h2",
        "id": "TfB4uCAv0LO1"
      },
      "source": [
        "## Define Parameters"
      ]
    },
    {
      "cell_type": "code",
      "metadata": {
        "tags": [],
        "cell_id": "00032-f0ce8ed9-e2e9-4e58-98e9-3565e8c24319",
        "deepnote_to_be_reexecuted": false,
        "source_hash": "4676ba93",
        "execution_millis": 4,
        "execution_start": 1618499626853,
        "deepnote_cell_type": "code",
        "id": "a5i8kN8v0LO2"
      },
      "source": [
        "parameters = {\n",
        "    'tol': [0.00001, 0.0001, 0.001],\n",
        "    'C': [0.001,0.01,0.1,1,10,100,1000],\n",
        "    'class_weight': ['balanced', None],\n",
        "    'random_state' : [None,10,20,30,42],\n",
        "    'solver': ['newton-cg', 'lbfgs', 'liblinear', 'sag', 'saga'],\n",
        "    'max_iter' : [100],\n",
        "    'verbose':[0,1,2],\n",
        "}"
      ],
      "execution_count": 16,
      "outputs": []
    },
    {
      "cell_type": "markdown",
      "metadata": {
        "tags": [],
        "cell_id": "00034-46e01b0f-9057-4647-ac08-36c04e28a8fe",
        "deepnote_cell_type": "text-cell-h2",
        "id": "nzWetP5t0LO3"
      },
      "source": [
        "## Find Best Parameter using RandomSearch CV"
      ]
    },
    {
      "cell_type": "markdown",
      "metadata": {
        "tags": [],
        "cell_id": "00059-800449b1-60f8-4285-8b84-b0e833b6fa0e",
        "deepnote_cell_type": "text-cell-p",
        "id": "RKPEulU00LO5"
      },
      "source": [
        "Here we want to focus the result based on the Recall evaluation metric because we would like to know if the result of the predicted output made by the model already predict most of the correct data inside the predicted output."
      ]
    },
    {
      "cell_type": "code",
      "metadata": {
        "tags": [],
        "cell_id": "00036-96d54ccb-de11-44aa-a2ed-0cb15b6c9b5a",
        "deepnote_to_be_reexecuted": false,
        "source_hash": "d6f8f0e3",
        "execution_millis": 18129,
        "execution_start": 1618499626858,
        "deepnote_cell_type": "code",
        "colab": {
          "base_uri": "https://localhost:8080/"
        },
        "id": "0aoqASSQ0LO7",
        "outputId": "a38ecfca-f504-4257-e555-6c033420b9b6"
      },
      "source": [
        "from sklearn.metrics import precision_score, recall_score, make_scorer\n",
        "\n",
        "recall_scorer = make_scorer(recall_score,pos_label='yes')\n",
        "\n",
        "grid_model = RandomizedSearchCV(LogisticRegression(), param_distributions = parameters,n_iter=20,verbose=2,scoring=recall_scorer)\n",
        "\n",
        "grid_model.fit(mixSample_X, mixSample_Y)"
      ],
      "execution_count": 17,
      "outputs": [
        {
          "output_type": "stream",
          "text": [
            "Fitting 5 folds for each of 20 candidates, totalling 100 fits\n",
            "[CV] verbose=2, tol=0.001, solver=saga, random_state=30, max_iter=100, class_weight=None, C=1 \n",
            "convergence after 9 epochs took 0 seconds\n",
            "[CV]  verbose=2, tol=0.001, solver=saga, random_state=30, max_iter=100, class_weight=None, C=1, total=   0.1s\n",
            "[CV] verbose=2, tol=0.001, solver=saga, random_state=30, max_iter=100, class_weight=None, C=1 \n",
            "convergence after 9 epochs took 0 seconds\n"
          ],
          "name": "stdout"
        },
        {
          "output_type": "stream",
          "text": [
            "[Parallel(n_jobs=1)]: Using backend SequentialBackend with 1 concurrent workers.\n",
            "[Parallel(n_jobs=1)]: Using backend SequentialBackend with 1 concurrent workers.\n",
            "[Parallel(n_jobs=1)]: Done   1 out of   1 | elapsed:    0.0s remaining:    0.0s\n",
            "[Parallel(n_jobs=1)]: Done   1 out of   1 | elapsed:    0.0s finished\n",
            "[Parallel(n_jobs=1)]: Done   1 out of   1 | elapsed:    0.1s remaining:    0.0s\n",
            "[Parallel(n_jobs=1)]: Using backend SequentialBackend with 1 concurrent workers.\n",
            "[Parallel(n_jobs=1)]: Done   1 out of   1 | elapsed:    0.1s remaining:    0.0s\n",
            "[Parallel(n_jobs=1)]: Done   1 out of   1 | elapsed:    0.1s finished\n"
          ],
          "name": "stderr"
        },
        {
          "output_type": "stream",
          "text": [
            "[CV]  verbose=2, tol=0.001, solver=saga, random_state=30, max_iter=100, class_weight=None, C=1, total=   0.1s\n",
            "[CV] verbose=2, tol=0.001, solver=saga, random_state=30, max_iter=100, class_weight=None, C=1 \n",
            "convergence after 10 epochs took 0 seconds\n",
            "[CV]  verbose=2, tol=0.001, solver=saga, random_state=30, max_iter=100, class_weight=None, C=1, total=   0.1s\n",
            "[CV] verbose=2, tol=0.001, solver=saga, random_state=30, max_iter=100, class_weight=None, C=1 \n"
          ],
          "name": "stdout"
        },
        {
          "output_type": "stream",
          "text": [
            "[Parallel(n_jobs=1)]: Using backend SequentialBackend with 1 concurrent workers.\n",
            "[Parallel(n_jobs=1)]: Done   1 out of   1 | elapsed:    0.1s remaining:    0.0s\n",
            "[Parallel(n_jobs=1)]: Done   1 out of   1 | elapsed:    0.1s finished\n",
            "[Parallel(n_jobs=1)]: Using backend SequentialBackend with 1 concurrent workers.\n",
            "[Parallel(n_jobs=1)]: Done   1 out of   1 | elapsed:    0.1s remaining:    0.0s\n",
            "[Parallel(n_jobs=1)]: Done   1 out of   1 | elapsed:    0.1s finished\n"
          ],
          "name": "stderr"
        },
        {
          "output_type": "stream",
          "text": [
            "convergence after 10 epochs took 0 seconds\n",
            "[CV]  verbose=2, tol=0.001, solver=saga, random_state=30, max_iter=100, class_weight=None, C=1, total=   0.1s\n",
            "[CV] verbose=2, tol=0.001, solver=saga, random_state=30, max_iter=100, class_weight=None, C=1 \n",
            "convergence after 11 epochs took 0 seconds\n",
            "[CV]  verbose=2, tol=0.001, solver=saga, random_state=30, max_iter=100, class_weight=None, C=1, total=   0.1s\n",
            "[CV] verbose=1, tol=1e-05, solver=saga, random_state=None, max_iter=100, class_weight=None, C=1 \n"
          ],
          "name": "stdout"
        },
        {
          "output_type": "stream",
          "text": [
            "[Parallel(n_jobs=1)]: Using backend SequentialBackend with 1 concurrent workers.\n",
            "[Parallel(n_jobs=1)]: Done   1 out of   1 | elapsed:    0.1s remaining:    0.0s\n",
            "[Parallel(n_jobs=1)]: Done   1 out of   1 | elapsed:    0.1s finished\n",
            "[Parallel(n_jobs=1)]: Using backend SequentialBackend with 1 concurrent workers.\n"
          ],
          "name": "stderr"
        },
        {
          "output_type": "stream",
          "text": [
            "convergence after 17 epochs took 0 seconds\n",
            "[CV]  verbose=1, tol=1e-05, solver=saga, random_state=None, max_iter=100, class_weight=None, C=1, total=   0.1s\n",
            "[CV] verbose=1, tol=1e-05, solver=saga, random_state=None, max_iter=100, class_weight=None, C=1 \n",
            "convergence after 17 epochs took 0 seconds\n",
            "[CV]  verbose=1, tol=1e-05, solver=saga, random_state=None, max_iter=100, class_weight=None, C=1, total=   0.1s\n",
            "[CV] verbose=1, tol=1e-05, solver=saga, random_state=None, max_iter=100, class_weight=None, C=1 \n"
          ],
          "name": "stdout"
        },
        {
          "output_type": "stream",
          "text": [
            "[Parallel(n_jobs=1)]: Done   1 out of   1 | elapsed:    0.1s finished\n",
            "[Parallel(n_jobs=1)]: Using backend SequentialBackend with 1 concurrent workers.\n",
            "[Parallel(n_jobs=1)]: Done   1 out of   1 | elapsed:    0.1s finished\n",
            "[Parallel(n_jobs=1)]: Using backend SequentialBackend with 1 concurrent workers.\n",
            "[Parallel(n_jobs=1)]: Done   1 out of   1 | elapsed:    0.1s finished\n",
            "[Parallel(n_jobs=1)]: Using backend SequentialBackend with 1 concurrent workers.\n"
          ],
          "name": "stderr"
        },
        {
          "output_type": "stream",
          "text": [
            "convergence after 18 epochs took 0 seconds\n",
            "[CV]  verbose=1, tol=1e-05, solver=saga, random_state=None, max_iter=100, class_weight=None, C=1, total=   0.1s\n",
            "[CV] verbose=1, tol=1e-05, solver=saga, random_state=None, max_iter=100, class_weight=None, C=1 \n",
            "convergence after 16 epochs took 0 seconds\n",
            "[CV]  verbose=1, tol=1e-05, solver=saga, random_state=None, max_iter=100, class_weight=None, C=1, total=   0.1s\n",
            "[CV] verbose=1, tol=1e-05, solver=saga, random_state=None, max_iter=100, class_weight=None, C=1 \n"
          ],
          "name": "stdout"
        },
        {
          "output_type": "stream",
          "text": [
            "[Parallel(n_jobs=1)]: Done   1 out of   1 | elapsed:    0.1s finished\n",
            "[Parallel(n_jobs=1)]: Using backend SequentialBackend with 1 concurrent workers.\n",
            "[Parallel(n_jobs=1)]: Done   1 out of   1 | elapsed:    0.1s finished\n"
          ],
          "name": "stderr"
        },
        {
          "output_type": "stream",
          "text": [
            "convergence after 17 epochs took 0 seconds\n",
            "[CV]  verbose=1, tol=1e-05, solver=saga, random_state=None, max_iter=100, class_weight=None, C=1, total=   0.1s\n",
            "[CV] verbose=2, tol=0.0001, solver=sag, random_state=20, max_iter=100, class_weight=None, C=0.001 \n",
            "convergence after 14 epochs took 0 seconds\n",
            "[CV]  verbose=2, tol=0.0001, solver=sag, random_state=20, max_iter=100, class_weight=None, C=0.001, total=   0.1s\n",
            "[CV] verbose=2, tol=0.0001, solver=sag, random_state=20, max_iter=100, class_weight=None, C=0.001 \n"
          ],
          "name": "stdout"
        },
        {
          "output_type": "stream",
          "text": [
            "[Parallel(n_jobs=1)]: Using backend SequentialBackend with 1 concurrent workers.\n",
            "[Parallel(n_jobs=1)]: Done   1 out of   1 | elapsed:    0.1s remaining:    0.0s\n",
            "[Parallel(n_jobs=1)]: Done   1 out of   1 | elapsed:    0.1s finished\n",
            "[Parallel(n_jobs=1)]: Using backend SequentialBackend with 1 concurrent workers.\n",
            "[Parallel(n_jobs=1)]: Done   1 out of   1 | elapsed:    0.1s remaining:    0.0s\n",
            "[Parallel(n_jobs=1)]: Done   1 out of   1 | elapsed:    0.1s finished\n"
          ],
          "name": "stderr"
        },
        {
          "output_type": "stream",
          "text": [
            "convergence after 13 epochs took 1 seconds\n",
            "[CV]  verbose=2, tol=0.0001, solver=sag, random_state=20, max_iter=100, class_weight=None, C=0.001, total=   0.1s\n",
            "[CV] verbose=2, tol=0.0001, solver=sag, random_state=20, max_iter=100, class_weight=None, C=0.001 \n",
            "convergence after 13 epochs took 0 seconds\n",
            "[CV]  verbose=2, tol=0.0001, solver=sag, random_state=20, max_iter=100, class_weight=None, C=0.001, total=   0.1s\n",
            "[CV] verbose=2, tol=0.0001, solver=sag, random_state=20, max_iter=100, class_weight=None, C=0.001 \n"
          ],
          "name": "stdout"
        },
        {
          "output_type": "stream",
          "text": [
            "[Parallel(n_jobs=1)]: Using backend SequentialBackend with 1 concurrent workers.\n",
            "[Parallel(n_jobs=1)]: Done   1 out of   1 | elapsed:    0.1s remaining:    0.0s\n",
            "[Parallel(n_jobs=1)]: Done   1 out of   1 | elapsed:    0.1s finished\n",
            "[Parallel(n_jobs=1)]: Using backend SequentialBackend with 1 concurrent workers.\n",
            "[Parallel(n_jobs=1)]: Done   1 out of   1 | elapsed:    0.1s remaining:    0.0s\n",
            "[Parallel(n_jobs=1)]: Done   1 out of   1 | elapsed:    0.1s finished\n"
          ],
          "name": "stderr"
        },
        {
          "output_type": "stream",
          "text": [
            "convergence after 14 epochs took 0 seconds\n",
            "[CV]  verbose=2, tol=0.0001, solver=sag, random_state=20, max_iter=100, class_weight=None, C=0.001, total=   0.1s\n",
            "[CV] verbose=2, tol=0.0001, solver=sag, random_state=20, max_iter=100, class_weight=None, C=0.001 \n",
            "convergence after 12 epochs took 0 seconds\n",
            "[CV]  verbose=2, tol=0.0001, solver=sag, random_state=20, max_iter=100, class_weight=None, C=0.001, total=   0.1s\n",
            "[CV] verbose=1, tol=1e-05, solver=sag, random_state=20, max_iter=100, class_weight=balanced, C=100 \n"
          ],
          "name": "stdout"
        },
        {
          "output_type": "stream",
          "text": [
            "[Parallel(n_jobs=1)]: Using backend SequentialBackend with 1 concurrent workers.\n",
            "[Parallel(n_jobs=1)]: Done   1 out of   1 | elapsed:    0.1s remaining:    0.0s\n",
            "[Parallel(n_jobs=1)]: Done   1 out of   1 | elapsed:    0.1s finished\n",
            "[Parallel(n_jobs=1)]: Using backend SequentialBackend with 1 concurrent workers.\n"
          ],
          "name": "stderr"
        },
        {
          "output_type": "stream",
          "text": [
            "convergence after 24 epochs took 0 seconds\n",
            "[CV]  verbose=1, tol=1e-05, solver=sag, random_state=20, max_iter=100, class_weight=balanced, C=100, total=   0.2s\n",
            "[CV] verbose=1, tol=1e-05, solver=sag, random_state=20, max_iter=100, class_weight=balanced, C=100 \n",
            "convergence after 24 epochs took 0 seconds\n",
            "[CV]  verbose=1, tol=1e-05, solver=sag, random_state=20, max_iter=100, class_weight=balanced, C=100, total=   0.2s\n",
            "[CV] verbose=1, tol=1e-05, solver=sag, random_state=20, max_iter=100, class_weight=balanced, C=100 \n"
          ],
          "name": "stdout"
        },
        {
          "output_type": "stream",
          "text": [
            "[Parallel(n_jobs=1)]: Done   1 out of   1 | elapsed:    0.1s finished\n",
            "[Parallel(n_jobs=1)]: Using backend SequentialBackend with 1 concurrent workers.\n",
            "[Parallel(n_jobs=1)]: Done   1 out of   1 | elapsed:    0.1s finished\n",
            "[Parallel(n_jobs=1)]: Using backend SequentialBackend with 1 concurrent workers.\n",
            "[Parallel(n_jobs=1)]: Done   1 out of   1 | elapsed:    0.1s finished\n",
            "[Parallel(n_jobs=1)]: Using backend SequentialBackend with 1 concurrent workers.\n"
          ],
          "name": "stderr"
        },
        {
          "output_type": "stream",
          "text": [
            "convergence after 23 epochs took 0 seconds\n",
            "[CV]  verbose=1, tol=1e-05, solver=sag, random_state=20, max_iter=100, class_weight=balanced, C=100, total=   0.2s\n",
            "[CV] verbose=1, tol=1e-05, solver=sag, random_state=20, max_iter=100, class_weight=balanced, C=100 \n",
            "convergence after 25 epochs took 1 seconds\n",
            "[CV]  verbose=1, tol=1e-05, solver=sag, random_state=20, max_iter=100, class_weight=balanced, C=100, total=   0.2s\n",
            "[CV] verbose=1, tol=1e-05, solver=sag, random_state=20, max_iter=100, class_weight=balanced, C=100 \n"
          ],
          "name": "stdout"
        },
        {
          "output_type": "stream",
          "text": [
            "[Parallel(n_jobs=1)]: Done   1 out of   1 | elapsed:    0.1s finished\n",
            "[Parallel(n_jobs=1)]: Using backend SequentialBackend with 1 concurrent workers.\n",
            "[Parallel(n_jobs=1)]: Done   1 out of   1 | elapsed:    0.1s finished\n"
          ],
          "name": "stderr"
        },
        {
          "output_type": "stream",
          "text": [
            "convergence after 24 epochs took 0 seconds\n",
            "[CV]  verbose=1, tol=1e-05, solver=sag, random_state=20, max_iter=100, class_weight=balanced, C=100, total=   0.2s\n",
            "[CV] verbose=0, tol=0.001, solver=saga, random_state=20, max_iter=100, class_weight=None, C=1 \n",
            "[CV]  verbose=0, tol=0.001, solver=saga, random_state=20, max_iter=100, class_weight=None, C=1, total=   0.1s\n",
            "[CV] verbose=0, tol=0.001, solver=saga, random_state=20, max_iter=100, class_weight=None, C=1 \n",
            "[CV]  verbose=0, tol=0.001, solver=saga, random_state=20, max_iter=100, class_weight=None, C=1, total=   0.1s\n",
            "[CV] verbose=0, tol=0.001, solver=saga, random_state=20, max_iter=100, class_weight=None, C=1 \n",
            "[CV]  verbose=0, tol=0.001, solver=saga, random_state=20, max_iter=100, class_weight=None, C=1, total=   0.1s\n",
            "[CV] verbose=0, tol=0.001, solver=saga, random_state=20, max_iter=100, class_weight=None, C=1 \n",
            "[CV]  verbose=0, tol=0.001, solver=saga, random_state=20, max_iter=100, class_weight=None, C=1, total=   0.1s\n",
            "[CV] verbose=0, tol=0.001, solver=saga, random_state=20, max_iter=100, class_weight=None, C=1 \n",
            "[CV]  verbose=0, tol=0.001, solver=saga, random_state=20, max_iter=100, class_weight=None, C=1, total=   0.1s\n",
            "[CV] verbose=1, tol=0.001, solver=liblinear, random_state=20, max_iter=100, class_weight=balanced, C=0.01 \n",
            "[LibLinear][CV]  verbose=1, tol=0.001, solver=liblinear, random_state=20, max_iter=100, class_weight=balanced, C=0.01, total=   0.1s\n",
            "[CV] verbose=1, tol=0.001, solver=liblinear, random_state=20, max_iter=100, class_weight=balanced, C=0.01 \n",
            "[LibLinear][CV]  verbose=1, tol=0.001, solver=liblinear, random_state=20, max_iter=100, class_weight=balanced, C=0.01, total=   0.1s\n",
            "[CV] verbose=1, tol=0.001, solver=liblinear, random_state=20, max_iter=100, class_weight=balanced, C=0.01 \n",
            "[LibLinear][CV]  verbose=1, tol=0.001, solver=liblinear, random_state=20, max_iter=100, class_weight=balanced, C=0.01, total=   0.1s\n",
            "[CV] verbose=1, tol=0.001, solver=liblinear, random_state=20, max_iter=100, class_weight=balanced, C=0.01 \n",
            "[LibLinear][CV]  verbose=1, tol=0.001, solver=liblinear, random_state=20, max_iter=100, class_weight=balanced, C=0.01, total=   0.1s\n",
            "[CV] verbose=1, tol=0.001, solver=liblinear, random_state=20, max_iter=100, class_weight=balanced, C=0.01 \n",
            "[LibLinear][CV]  verbose=1, tol=0.001, solver=liblinear, random_state=20, max_iter=100, class_weight=balanced, C=0.01, total=   0.1s\n",
            "[CV] verbose=0, tol=0.001, solver=lbfgs, random_state=42, max_iter=100, class_weight=None, C=100 \n",
            "[CV]  verbose=0, tol=0.001, solver=lbfgs, random_state=42, max_iter=100, class_weight=None, C=100, total=   0.1s\n",
            "[CV] verbose=0, tol=0.001, solver=lbfgs, random_state=42, max_iter=100, class_weight=None, C=100 \n",
            "[CV]  verbose=0, tol=0.001, solver=lbfgs, random_state=42, max_iter=100, class_weight=None, C=100, total=   0.1s\n",
            "[CV] verbose=0, tol=0.001, solver=lbfgs, random_state=42, max_iter=100, class_weight=None, C=100 \n",
            "[CV]  verbose=0, tol=0.001, solver=lbfgs, random_state=42, max_iter=100, class_weight=None, C=100, total=   0.1s\n",
            "[CV] verbose=0, tol=0.001, solver=lbfgs, random_state=42, max_iter=100, class_weight=None, C=100 \n",
            "[CV]  verbose=0, tol=0.001, solver=lbfgs, random_state=42, max_iter=100, class_weight=None, C=100, total=   0.1s\n",
            "[CV] verbose=0, tol=0.001, solver=lbfgs, random_state=42, max_iter=100, class_weight=None, C=100 \n",
            "[CV]  verbose=0, tol=0.001, solver=lbfgs, random_state=42, max_iter=100, class_weight=None, C=100, total=   0.1s\n",
            "[CV] verbose=2, tol=1e-05, solver=newton-cg, random_state=42, max_iter=100, class_weight=balanced, C=10 \n",
            "[CV]  verbose=2, tol=1e-05, solver=newton-cg, random_state=42, max_iter=100, class_weight=balanced, C=10, total=   0.2s\n",
            "[CV] verbose=2, tol=1e-05, solver=newton-cg, random_state=42, max_iter=100, class_weight=balanced, C=10 \n"
          ],
          "name": "stdout"
        },
        {
          "output_type": "stream",
          "text": [
            "[Parallel(n_jobs=1)]: Using backend SequentialBackend with 1 concurrent workers.\n",
            "[Parallel(n_jobs=1)]: Done   1 out of   1 | elapsed:    0.1s remaining:    0.0s\n",
            "[Parallel(n_jobs=1)]: Done   1 out of   1 | elapsed:    0.1s finished\n",
            "[Parallel(n_jobs=1)]: Using backend SequentialBackend with 1 concurrent workers.\n",
            "[Parallel(n_jobs=1)]: Done   1 out of   1 | elapsed:    0.1s remaining:    0.0s\n",
            "[Parallel(n_jobs=1)]: Done   1 out of   1 | elapsed:    0.1s finished\n",
            "[Parallel(n_jobs=1)]: Using backend SequentialBackend with 1 concurrent workers.\n",
            "[Parallel(n_jobs=1)]: Done   1 out of   1 | elapsed:    0.1s remaining:    0.0s\n",
            "[Parallel(n_jobs=1)]: Done   1 out of   1 | elapsed:    0.1s finished\n"
          ],
          "name": "stderr"
        },
        {
          "output_type": "stream",
          "text": [
            "[CV]  verbose=2, tol=1e-05, solver=newton-cg, random_state=42, max_iter=100, class_weight=balanced, C=10, total=   0.2s\n",
            "[CV] verbose=2, tol=1e-05, solver=newton-cg, random_state=42, max_iter=100, class_weight=balanced, C=10 \n",
            "[CV]  verbose=2, tol=1e-05, solver=newton-cg, random_state=42, max_iter=100, class_weight=balanced, C=10, total=   0.2s\n",
            "[CV] verbose=2, tol=1e-05, solver=newton-cg, random_state=42, max_iter=100, class_weight=balanced, C=10 \n"
          ],
          "name": "stdout"
        },
        {
          "output_type": "stream",
          "text": [
            "[Parallel(n_jobs=1)]: Using backend SequentialBackend with 1 concurrent workers.\n",
            "[Parallel(n_jobs=1)]: Done   1 out of   1 | elapsed:    0.1s remaining:    0.0s\n",
            "[Parallel(n_jobs=1)]: Done   1 out of   1 | elapsed:    0.1s finished\n",
            "[Parallel(n_jobs=1)]: Using backend SequentialBackend with 1 concurrent workers.\n"
          ],
          "name": "stderr"
        },
        {
          "output_type": "stream",
          "text": [
            "[CV]  verbose=2, tol=1e-05, solver=newton-cg, random_state=42, max_iter=100, class_weight=balanced, C=10, total=   0.2s\n",
            "[CV] verbose=2, tol=1e-05, solver=newton-cg, random_state=42, max_iter=100, class_weight=balanced, C=10 \n",
            "[CV]  verbose=2, tol=1e-05, solver=newton-cg, random_state=42, max_iter=100, class_weight=balanced, C=10, total=   0.2s\n",
            "[CV] verbose=2, tol=0.001, solver=liblinear, random_state=42, max_iter=100, class_weight=balanced, C=1000 \n",
            "[LibLinear]"
          ],
          "name": "stdout"
        },
        {
          "output_type": "stream",
          "text": [
            "[Parallel(n_jobs=1)]: Done   1 out of   1 | elapsed:    0.1s remaining:    0.0s\n",
            "[Parallel(n_jobs=1)]: Done   1 out of   1 | elapsed:    0.1s finished\n"
          ],
          "name": "stderr"
        },
        {
          "output_type": "stream",
          "text": [
            "[CV]  verbose=2, tol=0.001, solver=liblinear, random_state=42, max_iter=100, class_weight=balanced, C=1000, total=   0.1s\n",
            "[CV] verbose=2, tol=0.001, solver=liblinear, random_state=42, max_iter=100, class_weight=balanced, C=1000 \n",
            "[LibLinear][CV]  verbose=2, tol=0.001, solver=liblinear, random_state=42, max_iter=100, class_weight=balanced, C=1000, total=   0.1s\n",
            "[CV] verbose=2, tol=0.001, solver=liblinear, random_state=42, max_iter=100, class_weight=balanced, C=1000 \n",
            "[LibLinear][CV]  verbose=2, tol=0.001, solver=liblinear, random_state=42, max_iter=100, class_weight=balanced, C=1000, total=   0.1s\n",
            "[CV] verbose=2, tol=0.001, solver=liblinear, random_state=42, max_iter=100, class_weight=balanced, C=1000 \n",
            "[LibLinear][CV]  verbose=2, tol=0.001, solver=liblinear, random_state=42, max_iter=100, class_weight=balanced, C=1000, total=   0.1s\n",
            "[CV] verbose=2, tol=0.001, solver=liblinear, random_state=42, max_iter=100, class_weight=balanced, C=1000 \n",
            "[LibLinear][CV]  verbose=2, tol=0.001, solver=liblinear, random_state=42, max_iter=100, class_weight=balanced, C=1000, total=   0.1s\n",
            "[CV] verbose=2, tol=1e-05, solver=newton-cg, random_state=20, max_iter=100, class_weight=None, C=0.1 \n"
          ],
          "name": "stdout"
        },
        {
          "output_type": "stream",
          "text": [
            "[Parallel(n_jobs=1)]: Using backend SequentialBackend with 1 concurrent workers.\n",
            "[Parallel(n_jobs=1)]: Done   1 out of   1 | elapsed:    0.1s remaining:    0.0s\n",
            "[Parallel(n_jobs=1)]: Done   1 out of   1 | elapsed:    0.1s finished\n",
            "[Parallel(n_jobs=1)]: Using backend SequentialBackend with 1 concurrent workers.\n"
          ],
          "name": "stderr"
        },
        {
          "output_type": "stream",
          "text": [
            "[CV]  verbose=2, tol=1e-05, solver=newton-cg, random_state=20, max_iter=100, class_weight=None, C=0.1, total=   0.2s\n",
            "[CV] verbose=2, tol=1e-05, solver=newton-cg, random_state=20, max_iter=100, class_weight=None, C=0.1 \n",
            "[CV]  verbose=2, tol=1e-05, solver=newton-cg, random_state=20, max_iter=100, class_weight=None, C=0.1, total=   0.2s\n",
            "[CV] verbose=2, tol=1e-05, solver=newton-cg, random_state=20, max_iter=100, class_weight=None, C=0.1 \n"
          ],
          "name": "stdout"
        },
        {
          "output_type": "stream",
          "text": [
            "[Parallel(n_jobs=1)]: Done   1 out of   1 | elapsed:    0.1s remaining:    0.0s\n",
            "[Parallel(n_jobs=1)]: Done   1 out of   1 | elapsed:    0.1s finished\n",
            "[Parallel(n_jobs=1)]: Using backend SequentialBackend with 1 concurrent workers.\n",
            "[Parallel(n_jobs=1)]: Done   1 out of   1 | elapsed:    0.1s remaining:    0.0s\n",
            "[Parallel(n_jobs=1)]: Done   1 out of   1 | elapsed:    0.1s finished\n"
          ],
          "name": "stderr"
        },
        {
          "output_type": "stream",
          "text": [
            "[CV]  verbose=2, tol=1e-05, solver=newton-cg, random_state=20, max_iter=100, class_weight=None, C=0.1, total=   0.2s\n",
            "[CV] verbose=2, tol=1e-05, solver=newton-cg, random_state=20, max_iter=100, class_weight=None, C=0.1 \n",
            "[CV]  verbose=2, tol=1e-05, solver=newton-cg, random_state=20, max_iter=100, class_weight=None, C=0.1, total=   0.1s\n",
            "[CV] verbose=2, tol=1e-05, solver=newton-cg, random_state=20, max_iter=100, class_weight=None, C=0.1 \n"
          ],
          "name": "stdout"
        },
        {
          "output_type": "stream",
          "text": [
            "[Parallel(n_jobs=1)]: Using backend SequentialBackend with 1 concurrent workers.\n",
            "[Parallel(n_jobs=1)]: Done   1 out of   1 | elapsed:    0.1s remaining:    0.0s\n",
            "[Parallel(n_jobs=1)]: Done   1 out of   1 | elapsed:    0.1s finished\n",
            "[Parallel(n_jobs=1)]: Using backend SequentialBackend with 1 concurrent workers.\n",
            "[Parallel(n_jobs=1)]: Done   1 out of   1 | elapsed:    0.1s remaining:    0.0s\n",
            "[Parallel(n_jobs=1)]: Done   1 out of   1 | elapsed:    0.1s finished\n"
          ],
          "name": "stderr"
        },
        {
          "output_type": "stream",
          "text": [
            "[CV]  verbose=2, tol=1e-05, solver=newton-cg, random_state=20, max_iter=100, class_weight=None, C=0.1, total=   0.2s\n",
            "[CV] verbose=0, tol=0.001, solver=newton-cg, random_state=20, max_iter=100, class_weight=None, C=1 \n",
            "[CV]  verbose=0, tol=0.001, solver=newton-cg, random_state=20, max_iter=100, class_weight=None, C=1, total=   0.1s\n",
            "[CV] verbose=0, tol=0.001, solver=newton-cg, random_state=20, max_iter=100, class_weight=None, C=1 \n",
            "[CV]  verbose=0, tol=0.001, solver=newton-cg, random_state=20, max_iter=100, class_weight=None, C=1, total=   0.2s\n",
            "[CV] verbose=0, tol=0.001, solver=newton-cg, random_state=20, max_iter=100, class_weight=None, C=1 \n",
            "[CV]  verbose=0, tol=0.001, solver=newton-cg, random_state=20, max_iter=100, class_weight=None, C=1, total=   0.1s\n",
            "[CV] verbose=0, tol=0.001, solver=newton-cg, random_state=20, max_iter=100, class_weight=None, C=1 \n",
            "[CV]  verbose=0, tol=0.001, solver=newton-cg, random_state=20, max_iter=100, class_weight=None, C=1, total=   0.1s\n",
            "[CV] verbose=0, tol=0.001, solver=newton-cg, random_state=20, max_iter=100, class_weight=None, C=1 \n",
            "[CV]  verbose=0, tol=0.001, solver=newton-cg, random_state=20, max_iter=100, class_weight=None, C=1, total=   0.1s\n",
            "[CV] verbose=0, tol=0.0001, solver=saga, random_state=42, max_iter=100, class_weight=balanced, C=100 \n",
            "[CV]  verbose=0, tol=0.0001, solver=saga, random_state=42, max_iter=100, class_weight=balanced, C=100, total=   0.1s\n",
            "[CV] verbose=0, tol=0.0001, solver=saga, random_state=42, max_iter=100, class_weight=balanced, C=100 \n",
            "[CV]  verbose=0, tol=0.0001, solver=saga, random_state=42, max_iter=100, class_weight=balanced, C=100, total=   0.1s\n",
            "[CV] verbose=0, tol=0.0001, solver=saga, random_state=42, max_iter=100, class_weight=balanced, C=100 \n",
            "[CV]  verbose=0, tol=0.0001, solver=saga, random_state=42, max_iter=100, class_weight=balanced, C=100, total=   0.1s\n",
            "[CV] verbose=0, tol=0.0001, solver=saga, random_state=42, max_iter=100, class_weight=balanced, C=100 \n",
            "[CV]  verbose=0, tol=0.0001, solver=saga, random_state=42, max_iter=100, class_weight=balanced, C=100, total=   0.1s\n",
            "[CV] verbose=0, tol=0.0001, solver=saga, random_state=42, max_iter=100, class_weight=balanced, C=100 \n",
            "[CV]  verbose=0, tol=0.0001, solver=saga, random_state=42, max_iter=100, class_weight=balanced, C=100, total=   0.1s\n",
            "[CV] verbose=0, tol=0.0001, solver=liblinear, random_state=None, max_iter=100, class_weight=None, C=1 \n",
            "[CV]  verbose=0, tol=0.0001, solver=liblinear, random_state=None, max_iter=100, class_weight=None, C=1, total=   0.1s\n",
            "[CV] verbose=0, tol=0.0001, solver=liblinear, random_state=None, max_iter=100, class_weight=None, C=1 \n",
            "[CV]  verbose=0, tol=0.0001, solver=liblinear, random_state=None, max_iter=100, class_weight=None, C=1, total=   0.1s\n",
            "[CV] verbose=0, tol=0.0001, solver=liblinear, random_state=None, max_iter=100, class_weight=None, C=1 \n",
            "[CV]  verbose=0, tol=0.0001, solver=liblinear, random_state=None, max_iter=100, class_weight=None, C=1, total=   0.1s\n",
            "[CV] verbose=0, tol=0.0001, solver=liblinear, random_state=None, max_iter=100, class_weight=None, C=1 \n",
            "[CV]  verbose=0, tol=0.0001, solver=liblinear, random_state=None, max_iter=100, class_weight=None, C=1, total=   0.1s\n",
            "[CV] verbose=0, tol=0.0001, solver=liblinear, random_state=None, max_iter=100, class_weight=None, C=1 \n",
            "[CV]  verbose=0, tol=0.0001, solver=liblinear, random_state=None, max_iter=100, class_weight=None, C=1, total=   0.1s\n",
            "[CV] verbose=0, tol=0.001, solver=sag, random_state=None, max_iter=100, class_weight=balanced, C=10 \n",
            "[CV]  verbose=0, tol=0.001, solver=sag, random_state=None, max_iter=100, class_weight=balanced, C=10, total=   0.1s\n",
            "[CV] verbose=0, tol=0.001, solver=sag, random_state=None, max_iter=100, class_weight=balanced, C=10 \n",
            "[CV]  verbose=0, tol=0.001, solver=sag, random_state=None, max_iter=100, class_weight=balanced, C=10, total=   0.1s\n",
            "[CV] verbose=0, tol=0.001, solver=sag, random_state=None, max_iter=100, class_weight=balanced, C=10 \n",
            "[CV]  verbose=0, tol=0.001, solver=sag, random_state=None, max_iter=100, class_weight=balanced, C=10, total=   0.1s\n",
            "[CV] verbose=0, tol=0.001, solver=sag, random_state=None, max_iter=100, class_weight=balanced, C=10 \n",
            "[CV]  verbose=0, tol=0.001, solver=sag, random_state=None, max_iter=100, class_weight=balanced, C=10, total=   0.1s\n",
            "[CV] verbose=0, tol=0.001, solver=sag, random_state=None, max_iter=100, class_weight=balanced, C=10 \n",
            "[CV]  verbose=0, tol=0.001, solver=sag, random_state=None, max_iter=100, class_weight=balanced, C=10, total=   0.1s\n",
            "[CV] verbose=0, tol=0.0001, solver=lbfgs, random_state=30, max_iter=100, class_weight=balanced, C=10 \n",
            "[CV]  verbose=0, tol=0.0001, solver=lbfgs, random_state=30, max_iter=100, class_weight=balanced, C=10, total=   0.1s\n",
            "[CV] verbose=0, tol=0.0001, solver=lbfgs, random_state=30, max_iter=100, class_weight=balanced, C=10 \n",
            "[CV]  verbose=0, tol=0.0001, solver=lbfgs, random_state=30, max_iter=100, class_weight=balanced, C=10, total=   0.1s\n",
            "[CV] verbose=0, tol=0.0001, solver=lbfgs, random_state=30, max_iter=100, class_weight=balanced, C=10 \n",
            "[CV]  verbose=0, tol=0.0001, solver=lbfgs, random_state=30, max_iter=100, class_weight=balanced, C=10, total=   0.1s\n",
            "[CV] verbose=0, tol=0.0001, solver=lbfgs, random_state=30, max_iter=100, class_weight=balanced, C=10 \n",
            "[CV]  verbose=0, tol=0.0001, solver=lbfgs, random_state=30, max_iter=100, class_weight=balanced, C=10, total=   0.1s\n",
            "[CV] verbose=0, tol=0.0001, solver=lbfgs, random_state=30, max_iter=100, class_weight=balanced, C=10 \n",
            "[CV]  verbose=0, tol=0.0001, solver=lbfgs, random_state=30, max_iter=100, class_weight=balanced, C=10, total=   0.1s\n",
            "[CV] verbose=2, tol=0.0001, solver=newton-cg, random_state=None, max_iter=100, class_weight=balanced, C=10 \n"
          ],
          "name": "stdout"
        },
        {
          "output_type": "stream",
          "text": [
            "[Parallel(n_jobs=1)]: Using backend SequentialBackend with 1 concurrent workers.\n",
            "[Parallel(n_jobs=1)]: Done   1 out of   1 | elapsed:    0.1s remaining:    0.0s\n",
            "[Parallel(n_jobs=1)]: Done   1 out of   1 | elapsed:    0.1s finished\n",
            "[Parallel(n_jobs=1)]: Using backend SequentialBackend with 1 concurrent workers.\n"
          ],
          "name": "stderr"
        },
        {
          "output_type": "stream",
          "text": [
            "[CV]  verbose=2, tol=0.0001, solver=newton-cg, random_state=None, max_iter=100, class_weight=balanced, C=10, total=   0.2s\n",
            "[CV] verbose=2, tol=0.0001, solver=newton-cg, random_state=None, max_iter=100, class_weight=balanced, C=10 \n",
            "[CV]  verbose=2, tol=0.0001, solver=newton-cg, random_state=None, max_iter=100, class_weight=balanced, C=10, total=   0.1s\n",
            "[CV] verbose=2, tol=0.0001, solver=newton-cg, random_state=None, max_iter=100, class_weight=balanced, C=10 \n"
          ],
          "name": "stdout"
        },
        {
          "output_type": "stream",
          "text": [
            "[Parallel(n_jobs=1)]: Done   1 out of   1 | elapsed:    0.1s remaining:    0.0s\n",
            "[Parallel(n_jobs=1)]: Done   1 out of   1 | elapsed:    0.1s finished\n",
            "[Parallel(n_jobs=1)]: Using backend SequentialBackend with 1 concurrent workers.\n",
            "[Parallel(n_jobs=1)]: Done   1 out of   1 | elapsed:    0.1s remaining:    0.0s\n",
            "[Parallel(n_jobs=1)]: Done   1 out of   1 | elapsed:    0.1s finished\n"
          ],
          "name": "stderr"
        },
        {
          "output_type": "stream",
          "text": [
            "[CV]  verbose=2, tol=0.0001, solver=newton-cg, random_state=None, max_iter=100, class_weight=balanced, C=10, total=   0.1s\n",
            "[CV] verbose=2, tol=0.0001, solver=newton-cg, random_state=None, max_iter=100, class_weight=balanced, C=10 \n",
            "[CV]  verbose=2, tol=0.0001, solver=newton-cg, random_state=None, max_iter=100, class_weight=balanced, C=10, total=   0.1s\n",
            "[CV] verbose=2, tol=0.0001, solver=newton-cg, random_state=None, max_iter=100, class_weight=balanced, C=10 \n"
          ],
          "name": "stdout"
        },
        {
          "output_type": "stream",
          "text": [
            "[Parallel(n_jobs=1)]: Using backend SequentialBackend with 1 concurrent workers.\n",
            "[Parallel(n_jobs=1)]: Done   1 out of   1 | elapsed:    0.1s remaining:    0.0s\n",
            "[Parallel(n_jobs=1)]: Done   1 out of   1 | elapsed:    0.1s finished\n",
            "[Parallel(n_jobs=1)]: Using backend SequentialBackend with 1 concurrent workers.\n",
            "[Parallel(n_jobs=1)]: Done   1 out of   1 | elapsed:    0.1s remaining:    0.0s\n",
            "[Parallel(n_jobs=1)]: Done   1 out of   1 | elapsed:    0.1s finished\n",
            "[Parallel(n_jobs=1)]: Using backend SequentialBackend with 1 concurrent workers.\n",
            "[Parallel(n_jobs=1)]: Done   1 out of   1 | elapsed:    0.1s remaining:    0.0s\n",
            "[Parallel(n_jobs=1)]: Done   1 out of   1 | elapsed:    0.1s finished\n",
            "[Parallel(n_jobs=1)]: Using backend SequentialBackend with 1 concurrent workers.\n"
          ],
          "name": "stderr"
        },
        {
          "output_type": "stream",
          "text": [
            "[CV]  verbose=2, tol=0.0001, solver=newton-cg, random_state=None, max_iter=100, class_weight=balanced, C=10, total=   0.2s\n",
            "[CV] verbose=2, tol=0.0001, solver=saga, random_state=20, max_iter=100, class_weight=None, C=1000 \n",
            "convergence after 13 epochs took 0 seconds\n",
            "[CV]  verbose=2, tol=0.0001, solver=saga, random_state=20, max_iter=100, class_weight=None, C=1000, total=   0.1s\n",
            "[CV] verbose=2, tol=0.0001, solver=saga, random_state=20, max_iter=100, class_weight=None, C=1000 \n",
            "convergence after 13 epochs took 1 seconds\n",
            "[CV]  verbose=2, tol=0.0001, solver=saga, random_state=20, max_iter=100, class_weight=None, C=1000, total=   0.1s\n",
            "[CV] verbose=2, tol=0.0001, solver=saga, random_state=20, max_iter=100, class_weight=None, C=1000 \n",
            "convergence after 13 epochs took 0 seconds\n",
            "[CV]  verbose=2, tol=0.0001, solver=saga, random_state=20, max_iter=100, class_weight=None, C=1000, total=   0.1s\n",
            "[CV] verbose=2, tol=0.0001, solver=saga, random_state=20, max_iter=100, class_weight=None, C=1000 \n"
          ],
          "name": "stdout"
        },
        {
          "output_type": "stream",
          "text": [
            "[Parallel(n_jobs=1)]: Done   1 out of   1 | elapsed:    0.1s remaining:    0.0s\n",
            "[Parallel(n_jobs=1)]: Done   1 out of   1 | elapsed:    0.1s finished\n",
            "[Parallel(n_jobs=1)]: Using backend SequentialBackend with 1 concurrent workers.\n",
            "[Parallel(n_jobs=1)]: Done   1 out of   1 | elapsed:    0.1s remaining:    0.0s\n",
            "[Parallel(n_jobs=1)]: Done   1 out of   1 | elapsed:    0.1s finished\n",
            "[Parallel(n_jobs=1)]: Using backend SequentialBackend with 1 concurrent workers.\n"
          ],
          "name": "stderr"
        },
        {
          "output_type": "stream",
          "text": [
            "convergence after 12 epochs took 0 seconds\n",
            "[CV]  verbose=2, tol=0.0001, solver=saga, random_state=20, max_iter=100, class_weight=None, C=1000, total=   0.1s\n",
            "[CV] verbose=2, tol=0.0001, solver=saga, random_state=20, max_iter=100, class_weight=None, C=1000 \n",
            "convergence after 12 epochs took 0 seconds\n",
            "[CV]  verbose=2, tol=0.0001, solver=saga, random_state=20, max_iter=100, class_weight=None, C=1000, total=   0.1s\n",
            "[CV] verbose=2, tol=1e-05, solver=liblinear, random_state=10, max_iter=100, class_weight=None, C=0.1 \n"
          ],
          "name": "stdout"
        },
        {
          "output_type": "stream",
          "text": [
            "[Parallel(n_jobs=1)]: Done   1 out of   1 | elapsed:    0.1s remaining:    0.0s\n",
            "[Parallel(n_jobs=1)]: Done   1 out of   1 | elapsed:    0.1s finished\n",
            "[Parallel(n_jobs=1)]: Using backend SequentialBackend with 1 concurrent workers.\n",
            "[Parallel(n_jobs=1)]: Done   1 out of   1 | elapsed:    0.1s remaining:    0.0s\n",
            "[Parallel(n_jobs=1)]: Done   1 out of   1 | elapsed:    0.1s finished\n"
          ],
          "name": "stderr"
        },
        {
          "output_type": "stream",
          "text": [
            "[LibLinear][CV]  verbose=2, tol=1e-05, solver=liblinear, random_state=10, max_iter=100, class_weight=None, C=0.1, total=   0.1s\n",
            "[CV] verbose=2, tol=1e-05, solver=liblinear, random_state=10, max_iter=100, class_weight=None, C=0.1 \n",
            "[LibLinear][CV]  verbose=2, tol=1e-05, solver=liblinear, random_state=10, max_iter=100, class_weight=None, C=0.1, total=   0.1s\n",
            "[CV] verbose=2, tol=1e-05, solver=liblinear, random_state=10, max_iter=100, class_weight=None, C=0.1 \n",
            "[LibLinear][CV]  verbose=2, tol=1e-05, solver=liblinear, random_state=10, max_iter=100, class_weight=None, C=0.1, total=   0.1s\n",
            "[CV] verbose=2, tol=1e-05, solver=liblinear, random_state=10, max_iter=100, class_weight=None, C=0.1 \n",
            "[LibLinear][CV]  verbose=2, tol=1e-05, solver=liblinear, random_state=10, max_iter=100, class_weight=None, C=0.1, total=   0.1s\n",
            "[CV] verbose=2, tol=1e-05, solver=liblinear, random_state=10, max_iter=100, class_weight=None, C=0.1 \n",
            "[LibLinear][CV]  verbose=2, tol=1e-05, solver=liblinear, random_state=10, max_iter=100, class_weight=None, C=0.1, total=   0.1s\n",
            "[CV] verbose=1, tol=1e-05, solver=newton-cg, random_state=30, max_iter=100, class_weight=None, C=1000 \n"
          ],
          "name": "stdout"
        },
        {
          "output_type": "stream",
          "text": [
            "[Parallel(n_jobs=1)]: Using backend SequentialBackend with 1 concurrent workers.\n",
            "[Parallel(n_jobs=1)]: Done   1 out of   1 | elapsed:    0.1s finished\n",
            "[Parallel(n_jobs=1)]: Using backend SequentialBackend with 1 concurrent workers.\n"
          ],
          "name": "stderr"
        },
        {
          "output_type": "stream",
          "text": [
            "[CV]  verbose=1, tol=1e-05, solver=newton-cg, random_state=30, max_iter=100, class_weight=None, C=1000, total=   0.2s\n",
            "[CV] verbose=1, tol=1e-05, solver=newton-cg, random_state=30, max_iter=100, class_weight=None, C=1000 \n",
            "[CV]  verbose=1, tol=1e-05, solver=newton-cg, random_state=30, max_iter=100, class_weight=None, C=1000, total=   0.2s\n",
            "[CV] verbose=1, tol=1e-05, solver=newton-cg, random_state=30, max_iter=100, class_weight=None, C=1000 \n"
          ],
          "name": "stdout"
        },
        {
          "output_type": "stream",
          "text": [
            "[Parallel(n_jobs=1)]: Done   1 out of   1 | elapsed:    0.1s finished\n",
            "[Parallel(n_jobs=1)]: Using backend SequentialBackend with 1 concurrent workers.\n",
            "[Parallel(n_jobs=1)]: Done   1 out of   1 | elapsed:    0.1s finished\n"
          ],
          "name": "stderr"
        },
        {
          "output_type": "stream",
          "text": [
            "[CV]  verbose=1, tol=1e-05, solver=newton-cg, random_state=30, max_iter=100, class_weight=None, C=1000, total=   0.2s\n",
            "[CV] verbose=1, tol=1e-05, solver=newton-cg, random_state=30, max_iter=100, class_weight=None, C=1000 \n",
            "[CV]  verbose=1, tol=1e-05, solver=newton-cg, random_state=30, max_iter=100, class_weight=None, C=1000, total=   0.2s\n",
            "[CV] verbose=1, tol=1e-05, solver=newton-cg, random_state=30, max_iter=100, class_weight=None, C=1000 \n"
          ],
          "name": "stdout"
        },
        {
          "output_type": "stream",
          "text": [
            "[Parallel(n_jobs=1)]: Using backend SequentialBackend with 1 concurrent workers.\n",
            "[Parallel(n_jobs=1)]: Done   1 out of   1 | elapsed:    0.1s finished\n",
            "[Parallel(n_jobs=1)]: Using backend SequentialBackend with 1 concurrent workers.\n",
            "[Parallel(n_jobs=1)]: Done   1 out of   1 | elapsed:    0.1s finished\n",
            "[Parallel(n_jobs=1)]: Using backend SequentialBackend with 1 concurrent workers.\n",
            "[Parallel(n_jobs=1)]: Done   1 out of   1 | elapsed:    0.1s remaining:    0.0s\n",
            "[Parallel(n_jobs=1)]: Done   1 out of   1 | elapsed:    0.1s finished\n",
            "[Parallel(n_jobs=1)]: Using backend SequentialBackend with 1 concurrent workers.\n"
          ],
          "name": "stderr"
        },
        {
          "output_type": "stream",
          "text": [
            "[CV]  verbose=1, tol=1e-05, solver=newton-cg, random_state=30, max_iter=100, class_weight=None, C=1000, total=   0.2s\n",
            "[CV] verbose=2, tol=0.001, solver=saga, random_state=None, max_iter=100, class_weight=None, C=10 \n",
            "convergence after 10 epochs took 0 seconds\n",
            "[CV]  verbose=2, tol=0.001, solver=saga, random_state=None, max_iter=100, class_weight=None, C=10, total=   0.1s\n",
            "[CV] verbose=2, tol=0.001, solver=saga, random_state=None, max_iter=100, class_weight=None, C=10 \n",
            "convergence after 9 epochs took 0 seconds\n"
          ],
          "name": "stdout"
        },
        {
          "output_type": "stream",
          "text": [
            "[Parallel(n_jobs=1)]: Done   1 out of   1 | elapsed:    0.1s remaining:    0.0s\n",
            "[Parallel(n_jobs=1)]: Done   1 out of   1 | elapsed:    0.1s finished\n",
            "[Parallel(n_jobs=1)]: Using backend SequentialBackend with 1 concurrent workers.\n",
            "[Parallel(n_jobs=1)]: Done   1 out of   1 | elapsed:    0.1s remaining:    0.0s\n",
            "[Parallel(n_jobs=1)]: Done   1 out of   1 | elapsed:    0.1s finished\n",
            "[Parallel(n_jobs=1)]: Using backend SequentialBackend with 1 concurrent workers.\n"
          ],
          "name": "stderr"
        },
        {
          "output_type": "stream",
          "text": [
            "[CV]  verbose=2, tol=0.001, solver=saga, random_state=None, max_iter=100, class_weight=None, C=10, total=   0.1s\n",
            "[CV] verbose=2, tol=0.001, solver=saga, random_state=None, max_iter=100, class_weight=None, C=10 \n",
            "convergence after 9 epochs took 0 seconds\n",
            "[CV]  verbose=2, tol=0.001, solver=saga, random_state=None, max_iter=100, class_weight=None, C=10, total=   0.1s\n",
            "[CV] verbose=2, tol=0.001, solver=saga, random_state=None, max_iter=100, class_weight=None, C=10 \n",
            "convergence after 10 epochs took 0 seconds\n"
          ],
          "name": "stdout"
        },
        {
          "output_type": "stream",
          "text": [
            "[Parallel(n_jobs=1)]: Done   1 out of   1 | elapsed:    0.1s remaining:    0.0s\n",
            "[Parallel(n_jobs=1)]: Done   1 out of   1 | elapsed:    0.1s finished\n",
            "[Parallel(n_jobs=1)]: Using backend SequentialBackend with 1 concurrent workers.\n",
            "[Parallel(n_jobs=1)]: Done   1 out of   1 | elapsed:    0.1s remaining:    0.0s\n",
            "[Parallel(n_jobs=1)]: Done   1 out of   1 | elapsed:    0.1s finished\n",
            "[Parallel(n_jobs=1)]: Done 100 out of 100 | elapsed:   12.8s finished\n"
          ],
          "name": "stderr"
        },
        {
          "output_type": "stream",
          "text": [
            "[CV]  verbose=2, tol=0.001, solver=saga, random_state=None, max_iter=100, class_weight=None, C=10, total=   0.1s\n",
            "[CV] verbose=2, tol=0.001, solver=saga, random_state=None, max_iter=100, class_weight=None, C=10 \n",
            "convergence after 9 epochs took 0 seconds\n",
            "[CV]  verbose=2, tol=0.001, solver=saga, random_state=None, max_iter=100, class_weight=None, C=10, total=   0.1s\n",
            "[LibLinear]"
          ],
          "name": "stdout"
        },
        {
          "output_type": "execute_result",
          "data": {
            "text/plain": [
              "RandomizedSearchCV(cv=None, error_score=nan,\n",
              "                   estimator=LogisticRegression(C=1.0, class_weight=None,\n",
              "                                                dual=False, fit_intercept=True,\n",
              "                                                intercept_scaling=1,\n",
              "                                                l1_ratio=None, max_iter=100,\n",
              "                                                multi_class='auto', n_jobs=None,\n",
              "                                                penalty='l2', random_state=None,\n",
              "                                                solver='lbfgs', tol=0.0001,\n",
              "                                                verbose=0, warm_start=False),\n",
              "                   iid='deprecated', n_iter=20, n_jobs=None,\n",
              "                   param_distributions={'...001, 0.01, 0.1, 1, 10, 100,\n",
              "                                              1000],\n",
              "                                        'class_weight': ['balanced', None],\n",
              "                                        'max_iter': [100],\n",
              "                                        'random_state': [None, 10, 20, 30, 42],\n",
              "                                        'solver': ['newton-cg', 'lbfgs',\n",
              "                                                   'liblinear', 'sag', 'saga'],\n",
              "                                        'tol': [1e-05, 0.0001, 0.001],\n",
              "                                        'verbose': [0, 1, 2]},\n",
              "                   pre_dispatch='2*n_jobs', random_state=None, refit=True,\n",
              "                   return_train_score=False,\n",
              "                   scoring=make_scorer(recall_score, pos_label=yes), verbose=2)"
            ]
          },
          "metadata": {
            "tags": []
          },
          "execution_count": 17
        }
      ]
    },
    {
      "cell_type": "markdown",
      "metadata": {
        "tags": [],
        "cell_id": "00036-8f040e00-767c-487f-9e2c-8026b9760298",
        "deepnote_cell_type": "text-cell-h2",
        "id": "ipZkq_UH0LO9"
      },
      "source": [
        "## Check Best Parameter using Random Search CV"
      ]
    },
    {
      "cell_type": "code",
      "metadata": {
        "tags": [],
        "cell_id": "00037-4cd855ae-74b1-425d-8bea-adbcca111ad1",
        "deepnote_to_be_reexecuted": false,
        "source_hash": "73f7efd2",
        "execution_millis": 7,
        "output_cleared": false,
        "execution_start": 1618504183209,
        "deepnote_cell_type": "code",
        "colab": {
          "base_uri": "https://localhost:8080/"
        },
        "id": "CZb7rFmS0LPE",
        "outputId": "ed2e952e-5ded-4e08-9c3a-816671a4764e"
      },
      "source": [
        "grid_model.best_params_"
      ],
      "execution_count": 18,
      "outputs": [
        {
          "output_type": "execute_result",
          "data": {
            "text/plain": [
              "{'C': 0.01,\n",
              " 'class_weight': 'balanced',\n",
              " 'max_iter': 100,\n",
              " 'random_state': 20,\n",
              " 'solver': 'liblinear',\n",
              " 'tol': 0.001,\n",
              " 'verbose': 1}"
            ]
          },
          "metadata": {
            "tags": []
          },
          "execution_count": 18
        }
      ]
    },
    {
      "cell_type": "markdown",
      "metadata": {
        "tags": [],
        "cell_id": "00042-e3172f9a-c3e7-4470-8523-09c6edf4b3fd",
        "deepnote_cell_type": "text-cell-h2",
        "id": "LoeHqkOv0LPF"
      },
      "source": [
        "## Input Best Parameter into the Logistic Regression Function"
      ]
    },
    {
      "cell_type": "code",
      "metadata": {
        "tags": [],
        "deepnote_to_be_reexecuted": false,
        "source_hash": "e6d2db0b",
        "execution_millis": 1,
        "cell_id": "00035-1871cbcd-023d-41f2-8af0-ee67a659287d",
        "execution_start": 1618499645077,
        "deepnote_cell_type": "code",
        "id": "frnAB_fI0LPG"
      },
      "source": [
        "model = LogisticRegression(C= 0.01,\n",
        " class_weight= 'balanced',\n",
        " max_iter= 100,\n",
        " random_state= 20,\n",
        " solver= 'liblinear',\n",
        " tol= 0.001,\n",
        " verbose= 1)"
      ],
      "execution_count": 25,
      "outputs": []
    },
    {
      "cell_type": "markdown",
      "metadata": {
        "tags": [],
        "cell_id": "00044-f3f473dd-ab0e-441e-a1ca-0a7eae69c831",
        "deepnote_cell_type": "text-cell-h2",
        "id": "M9dNjcTF0LPI"
      },
      "source": [
        "## Train the Model using Training Data and Validation Training Data"
      ]
    },
    {
      "cell_type": "code",
      "metadata": {
        "tags": [],
        "deepnote_to_be_reexecuted": false,
        "source_hash": "21cd9296",
        "execution_millis": 501,
        "cell_id": "00036-e8729130-d229-45d7-80ba-0758fbd28c37",
        "execution_start": 1618499645121,
        "deepnote_cell_type": "code",
        "colab": {
          "base_uri": "https://localhost:8080/"
        },
        "id": "rwybbrf60LPK",
        "outputId": "66831b45-8fac-4d78-a67c-b8b04e350648"
      },
      "source": [
        "model.fit(mixSample_X, mixSample_Y)"
      ],
      "execution_count": 26,
      "outputs": [
        {
          "output_type": "stream",
          "text": [
            "[LibLinear]"
          ],
          "name": "stdout"
        },
        {
          "output_type": "execute_result",
          "data": {
            "text/plain": [
              "LogisticRegression(C=0.01, class_weight='balanced', dual=False,\n",
              "                   fit_intercept=True, intercept_scaling=1, l1_ratio=None,\n",
              "                   max_iter=100, multi_class='auto', n_jobs=None, penalty='l2',\n",
              "                   random_state=20, solver='liblinear', tol=0.001, verbose=1,\n",
              "                   warm_start=False)"
            ]
          },
          "metadata": {
            "tags": []
          },
          "execution_count": 26
        }
      ]
    },
    {
      "cell_type": "markdown",
      "metadata": {
        "tags": [],
        "cell_id": "00046-58bb2172-9083-47e1-b9e6-77681673f308",
        "deepnote_cell_type": "text-cell-h2",
        "id": "9LrTF8ya0LPM"
      },
      "source": [
        "## Predict Model using Testing Data"
      ]
    },
    {
      "cell_type": "code",
      "metadata": {
        "tags": [],
        "deepnote_to_be_reexecuted": false,
        "source_hash": "48992fe",
        "execution_millis": 23,
        "cell_id": "00037-427c0043-711b-4f52-87b0-0896588d67f8",
        "execution_start": 1618499645627,
        "deepnote_cell_type": "code",
        "id": "I5OEShV80LPN"
      },
      "source": [
        "y_pred = model.predict(X_test_scaled)"
      ],
      "execution_count": 27,
      "outputs": []
    },
    {
      "cell_type": "markdown",
      "metadata": {
        "tags": [],
        "cell_id": "00048-fd8867b7-df80-420f-9f0b-44ddb5304821",
        "deepnote_cell_type": "text-cell-h2",
        "id": "iXCgGY_w0LPP"
      },
      "source": [
        "## Evaluation Metrics using Confusion Matrix"
      ]
    },
    {
      "cell_type": "code",
      "metadata": {
        "tags": [],
        "deepnote_to_be_reexecuted": false,
        "source_hash": "834f5afa",
        "execution_millis": 42,
        "cell_id": "00038-4bf5a0d3-af57-4540-b998-5e607ec854f6",
        "execution_start": 1618504222593,
        "deepnote_cell_type": "code",
        "colab": {
          "base_uri": "https://localhost:8080/"
        },
        "id": "6OwCB96O0LPQ",
        "outputId": "796a3288-8875-4eec-82b9-d23cf51f4161"
      },
      "source": [
        "confusion_matrix = pd.crosstab(y_test, y_pred)\n",
        "print (confusion_matrix)"
      ],
      "execution_count": 28,
      "outputs": [
        {
          "output_type": "stream",
          "text": [
            "col_0    no   yes\n",
            "y                \n",
            "no     9646  2360\n",
            "yes     302  1256\n"
          ],
          "name": "stdout"
        }
      ]
    },
    {
      "cell_type": "markdown",
      "metadata": {
        "tags": [],
        "cell_id": "00066-08beea0a-0bd1-4265-9d96-3e5725b0728c",
        "deepnote_cell_type": "text-cell-p",
        "id": "k7fJXvKN0LPS"
      },
      "source": [
        " The conclusion from the above result: \n",
        "- True Positive (TP): **1256** 'Yes' predicted data is correct **from 1558** 'Yes' original data \n",
        "- True Negative (TN): **9646** 'No' predicted data is correct **from 12006** 'No' original data\n",
        "- False Negative (FN): **302** 'Yes' predicted data falsely predicted as 'No' data\n",
        "- False Positive (FP): **2360** 'No' predicted data falsely predicted as 'Yes' data"
      ]
    },
    {
      "cell_type": "markdown",
      "metadata": {
        "tags": [],
        "cell_id": "00050-1d01ba90-4e3c-447f-a205-edd530b73745",
        "deepnote_cell_type": "text-cell-h2",
        "id": "ffAc3So50LPT"
      },
      "source": [
        "## Evaluation Metrics using Classification Report"
      ]
    },
    {
      "cell_type": "code",
      "metadata": {
        "tags": [],
        "deepnote_to_be_reexecuted": false,
        "source_hash": "74950708",
        "execution_millis": 998,
        "cell_id": "00039-86956c50-0438-447b-98e2-75ec04f66fae",
        "execution_start": 1618504225367,
        "deepnote_cell_type": "code",
        "colab": {
          "base_uri": "https://localhost:8080/"
        },
        "id": "zYQqzHxE0LPU",
        "outputId": "c190db0c-95eb-477f-8f43-bc8b460531c7"
      },
      "source": [
        "print(classification_report(y_test,y_pred))"
      ],
      "execution_count": 29,
      "outputs": [
        {
          "output_type": "stream",
          "text": [
            "              precision    recall  f1-score   support\n",
            "\n",
            "          no       0.97      0.80      0.88     12006\n",
            "         yes       0.35      0.81      0.49      1558\n",
            "\n",
            "    accuracy                           0.80     13564\n",
            "   macro avg       0.66      0.80      0.68     13564\n",
            "weighted avg       0.90      0.80      0.83     13564\n",
            "\n"
          ],
          "name": "stdout"
        }
      ]
    },
    {
      "cell_type": "markdown",
      "metadata": {
        "tags": [],
        "cell_id": "00069-dbbeb732-d3cc-4f96-b8df-38b86b2568d8",
        "deepnote_cell_type": "text-cell-p",
        "id": "faDUvih30LPV"
      },
      "source": [
        " The conclusion from the above result:\n",
        "- Precision: **97%** 'No' predicted data are correctly predict &amp; **35%** 'Yes' predicted data are correctly predict\n",
        "- Recall: **80%** 'No' original data have been predicted by the model &amp; **81%** 'Yes' original data have been predicted by the model\n",
        "- F1-Score: The mean from precision and recall for 'No' predicted data is **88%** and for 'Yes' predicted data is **49%**"
      ]
    },
    {
      "cell_type": "markdown",
      "metadata": {
        "tags": [],
        "cell_id": "00063-4733b2a7-75f1-4da2-8633-f375b4c73f00",
        "deepnote_cell_type": "text-cell-h1",
        "id": "qU5EInJU0LPV"
      },
      "source": [
        "# Evaluation Metrics using Cross Validation"
      ]
    },
    {
      "cell_type": "code",
      "metadata": {
        "tags": [],
        "deepnote_to_be_reexecuted": false,
        "source_hash": "8620789e",
        "execution_millis": 3189,
        "cell_id": "00072-f7510a4f-8c16-4b5c-b95f-685f4e7794c5",
        "execution_start": 1618509125973,
        "deepnote_cell_type": "code",
        "id": "TME_7FsJP3j_",
        "colab": {
          "base_uri": "https://localhost:8080/"
        },
        "outputId": "5cffa645-eaeb-4a4d-ee74-f24dd796db73"
      },
      "source": [
        "cv = KFold(n_splits=5, shuffle=True)\n",
        "scores = cross_val_score(model, split_input_data, split_output_data, cv=cv)"
      ],
      "execution_count": 30,
      "outputs": [
        {
          "output_type": "stream",
          "text": [
            "[LibLinear][LibLinear][LibLinear][LibLinear][LibLinear]"
          ],
          "name": "stdout"
        }
      ]
    },
    {
      "cell_type": "code",
      "metadata": {
        "tags": [],
        "deepnote_to_be_reexecuted": false,
        "source_hash": "119a8f77",
        "execution_millis": 10,
        "cell_id": "00073-8dd91331-6096-4f83-9c79-a86dab828238",
        "execution_start": 1618509129167,
        "deepnote_cell_type": "code",
        "colab": {
          "base_uri": "https://localhost:8080/"
        },
        "id": "nK6B3rwiP3kB",
        "outputId": "8befac27-3e94-41d5-bd55-7e04d7d5df42"
      },
      "source": [
        "print('F1_Score: %.3f (%.3f)' % (mean(scores), std(scores)))"
      ],
      "execution_count": 31,
      "outputs": [
        {
          "output_type": "stream",
          "text": [
            "F1_Score: 0.798 (0.003)\n"
          ],
          "name": "stdout"
        }
      ]
    },
    {
      "cell_type": "code",
      "metadata": {
        "tags": [],
        "deepnote_to_be_reexecuted": false,
        "source_hash": "6ae4d27b",
        "cell_id": "00074-ab6a027c-edfe-4df3-812b-41bb2a1471a7",
        "execution_start": 1618509129174,
        "execution_millis": 535,
        "deepnote_cell_type": "code",
        "colab": {
          "base_uri": "https://localhost:8080/"
        },
        "id": "uTu5cNVyP3kC",
        "outputId": "cc8f6a00-e292-48a3-e435-da595c16e4b5"
      },
      "source": [
        "kf= KFold(n_splits=5)\n",
        "X = split_input_data.to_numpy()\n",
        "y = split_output_data\n",
        "le = LabelEncoder()\n",
        "y = le.fit_transform(y)\n",
        "F1=[]\n",
        "Accuracy=[]\n",
        "Recall=[]\n",
        "Precision=[]\n",
        "for fold, (train_index, test_index) in enumerate(kf.split(X), 1):\n",
        "    X_train = X[train_index]\n",
        "    y_train = y[train_index]  # Based on your code, you might need a ravel call here, but I would look into how you're generating your y\n",
        "    X_test = X[test_index]\n",
        "    y_test = y[test_index]  # See comment on ravel and  y_train\n",
        "    \n",
        "    #Create the Dataframe\n",
        "    X_train = pd.DataFrame(X_train,columns=data.drop('y',axis=1).columns)\n",
        "    X_test = pd.DataFrame(X_test,columns=data.drop('y',axis=1).columns)\n",
        "    \n",
        "\n",
        "    #Standard Scalling\n",
        "    ss = StandardScaler()\n",
        "    X_train= ss.fit_transform(X_train)\n",
        "    X_test = ss.transform(X_test)\n",
        "    \n",
        "    X_train = pd.DataFrame(X_train, columns = split_input_data.columns)\n",
        "    X_test = pd.DataFrame(X_test , columns = split_input_data.columns)\n",
        "    \n",
        "\n",
        "    # Sampling\n",
        "    over = SMOTE(sampling_strategy = 0.18)\n",
        "    under = RandomUnderSampler(sampling_strategy=0.85)\n",
        "    steps = [('o',over),('u',under)]\n",
        "    pipeline = Pipeline(steps=steps)\n",
        "    \n",
        "    X_train,y_train_s =pipeline.fit_resample(X_train,y_train)\n",
        "    \n",
        "    #Modelling\n",
        "    model1 = LogisticRegression(C= 0.001,\n",
        " class_weight= 'balanced',\n",
        " max_iter= 100,\n",
        " random_state= None,\n",
        " solver= 'liblinear',\n",
        " tol= 1e-05,\n",
        " verbose= 2)\n",
        "    model1.fit(X_train,y_train_s)\n",
        "    y_pred1 = model1.predict(X_test)\n",
        "    \n",
        "    F1.append(f1_score(y_test, y_pred1))\n",
        "    Accuracy.append(accuracy_score(y_test, y_pred1))\n",
        "    Recall.append(recall_score(y_test, y_pred1))\n",
        "    Precision.append(precision_score(y_test, y_pred1))"
      ],
      "execution_count": 32,
      "outputs": [
        {
          "output_type": "stream",
          "text": [
            "/usr/local/lib/python3.7/dist-packages/sklearn/utils/deprecation.py:87: FutureWarning: Function safe_indexing is deprecated; safe_indexing is deprecated in version 0.22 and will be removed in version 0.24.\n",
            "  warnings.warn(msg, category=FutureWarning)\n",
            "/usr/local/lib/python3.7/dist-packages/sklearn/utils/deprecation.py:87: FutureWarning: Function safe_indexing is deprecated; safe_indexing is deprecated in version 0.22 and will be removed in version 0.24.\n",
            "  warnings.warn(msg, category=FutureWarning)\n",
            "/usr/local/lib/python3.7/dist-packages/sklearn/utils/deprecation.py:87: FutureWarning: Function safe_indexing is deprecated; safe_indexing is deprecated in version 0.22 and will be removed in version 0.24.\n",
            "  warnings.warn(msg, category=FutureWarning)\n"
          ],
          "name": "stderr"
        },
        {
          "output_type": "stream",
          "text": [
            "[LibLinear]"
          ],
          "name": "stdout"
        },
        {
          "output_type": "stream",
          "text": [
            "/usr/local/lib/python3.7/dist-packages/sklearn/utils/deprecation.py:87: FutureWarning: Function safe_indexing is deprecated; safe_indexing is deprecated in version 0.22 and will be removed in version 0.24.\n",
            "  warnings.warn(msg, category=FutureWarning)\n",
            "/usr/local/lib/python3.7/dist-packages/sklearn/utils/deprecation.py:87: FutureWarning: Function safe_indexing is deprecated; safe_indexing is deprecated in version 0.22 and will be removed in version 0.24.\n",
            "  warnings.warn(msg, category=FutureWarning)\n"
          ],
          "name": "stderr"
        },
        {
          "output_type": "stream",
          "text": [
            "[LibLinear]"
          ],
          "name": "stdout"
        },
        {
          "output_type": "stream",
          "text": [
            "/usr/local/lib/python3.7/dist-packages/sklearn/utils/deprecation.py:87: FutureWarning: Function safe_indexing is deprecated; safe_indexing is deprecated in version 0.22 and will be removed in version 0.24.\n",
            "  warnings.warn(msg, category=FutureWarning)\n",
            "/usr/local/lib/python3.7/dist-packages/sklearn/utils/deprecation.py:87: FutureWarning: Function safe_indexing is deprecated; safe_indexing is deprecated in version 0.22 and will be removed in version 0.24.\n",
            "  warnings.warn(msg, category=FutureWarning)\n"
          ],
          "name": "stderr"
        },
        {
          "output_type": "stream",
          "text": [
            "[LibLinear]"
          ],
          "name": "stdout"
        },
        {
          "output_type": "stream",
          "text": [
            "/usr/local/lib/python3.7/dist-packages/sklearn/utils/deprecation.py:87: FutureWarning: Function safe_indexing is deprecated; safe_indexing is deprecated in version 0.22 and will be removed in version 0.24.\n",
            "  warnings.warn(msg, category=FutureWarning)\n",
            "/usr/local/lib/python3.7/dist-packages/sklearn/utils/deprecation.py:87: FutureWarning: Function safe_indexing is deprecated; safe_indexing is deprecated in version 0.22 and will be removed in version 0.24.\n",
            "  warnings.warn(msg, category=FutureWarning)\n"
          ],
          "name": "stderr"
        },
        {
          "output_type": "stream",
          "text": [
            "[LibLinear][LibLinear]"
          ],
          "name": "stdout"
        },
        {
          "output_type": "stream",
          "text": [
            "/usr/local/lib/python3.7/dist-packages/sklearn/utils/deprecation.py:87: FutureWarning: Function safe_indexing is deprecated; safe_indexing is deprecated in version 0.22 and will be removed in version 0.24.\n",
            "  warnings.warn(msg, category=FutureWarning)\n"
          ],
          "name": "stderr"
        }
      ]
    },
    {
      "cell_type": "code",
      "metadata": {
        "tags": [],
        "deepnote_to_be_reexecuted": true,
        "source_hash": "9b0534a3",
        "cell_id": "00075-25ca92f0-6422-4c24-8013-c8e5b0b4cfc2",
        "deepnote_cell_type": "code",
        "colab": {
          "base_uri": "https://localhost:8080/"
        },
        "id": "Ydi9XlS1P3kD",
        "outputId": "ce6cd3bc-19a6-4550-e670-245822988c8d"
      },
      "source": [
        "print('F1 : '+str(np.mean(F1)))\n",
        "print('Accuracy : '+str(np.mean(Accuracy)))\n",
        "print('Recall : '+str(np.mean(Recall)))\n",
        "print('Precision : '+str(np.mean(Precision)))"
      ],
      "execution_count": 33,
      "outputs": [
        {
          "output_type": "stream",
          "text": [
            "F1 : 0.37310730355916066\n",
            "Accuracy : 0.7309680776817917\n",
            "Recall : 0.7570421598604739\n",
            "Precision : 0.28437546637333205\n"
          ],
          "name": "stdout"
        }
      ]
    },
    {
      "cell_type": "code",
      "metadata": {
        "id": "P4-OFnHb4d4G"
      },
      "source": [
        ""
      ],
      "execution_count": 33,
      "outputs": []
    }
  ]
}