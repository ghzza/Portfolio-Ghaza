{
  "nbformat": 4,
  "nbformat_minor": 0,
  "metadata": {
    "orig_nbformat": 2,
    "deepnote_notebook_id": "a2a4f59b-9eac-4daa-bc69-bfd44ba78820",
    "deepnote": {
      "is_reactive": false
    },
    "deepnote_execution_queue": [],
    "colab": {
      "name": "PortugeseBank_ANN_FinalSolution.ipynb",
      "provenance": [],
      "collapsed_sections": [
        "1nsYuCS0Jqzf",
        "GoIHcl0QJqzh",
        "doFWiTjdJqzi"
      ],
      "toc_visible": true
    },
    "language_info": {
      "name": "python"
    },
    "kernelspec": {
      "name": "python3",
      "display_name": "Python 3"
    }
  },
  "cells": [
    {
      "cell_type": "markdown",
      "metadata": {
        "tags": [],
        "cell_id": "00000-2d6dd8ae-e01c-4eee-9612-1a854717494f",
        "deepnote_cell_type": "text-cell-h1",
        "id": "WyJT4ov0Jqym"
      },
      "source": [
        "# Import Library"
      ]
    },
    {
      "cell_type": "code",
      "metadata": {
        "tags": [],
        "deepnote_to_be_reexecuted": false,
        "source_hash": "73efdfa6",
        "execution_millis": 3920,
        "cell_id": "00001-592b7cd3-d5e8-4bf7-ae54-723f2b6cd4e4",
        "execution_start": 1618509397114,
        "deepnote_cell_type": "code",
        "colab": {
          "base_uri": "https://localhost:8080/"
        },
        "id": "c9yqsKYeJqy4",
        "outputId": "a74ad549-3a79-4ebf-90e0-2fd574642b62"
      },
      "source": [
        "!pip install imblearn"
      ],
      "execution_count": 1,
      "outputs": [
        {
          "output_type": "stream",
          "text": [
            "Requirement already satisfied: imblearn in /usr/local/lib/python3.7/dist-packages (0.0)\n",
            "Requirement already satisfied: imbalanced-learn in /usr/local/lib/python3.7/dist-packages (from imblearn) (0.4.3)\n",
            "Requirement already satisfied: scikit-learn>=0.20 in /usr/local/lib/python3.7/dist-packages (from imbalanced-learn->imblearn) (0.22.2.post1)\n",
            "Requirement already satisfied: scipy>=0.13.3 in /usr/local/lib/python3.7/dist-packages (from imbalanced-learn->imblearn) (1.4.1)\n",
            "Requirement already satisfied: numpy>=1.8.2 in /usr/local/lib/python3.7/dist-packages (from imbalanced-learn->imblearn) (1.19.5)\n",
            "Requirement already satisfied: joblib>=0.11 in /usr/local/lib/python3.7/dist-packages (from scikit-learn>=0.20->imbalanced-learn->imblearn) (1.0.1)\n"
          ],
          "name": "stdout"
        }
      ]
    },
    {
      "cell_type": "code",
      "metadata": {
        "tags": [],
        "deepnote_to_be_reexecuted": false,
        "source_hash": "921cd287",
        "execution_millis": 1918,
        "cell_id": "00002-8db38087-b903-4e79-9842-0988074dd509",
        "execution_start": 1618509401035,
        "deepnote_cell_type": "code",
        "colab": {
          "base_uri": "https://localhost:8080/"
        },
        "id": "FVSwCAhFJqy8",
        "outputId": "41dbd045-6768-4ffa-8cf1-6c57159c8100"
      },
      "source": [
        "import os\n",
        "import pandas as pd\n",
        "import numpy as np\n",
        "import matplotlib.pyplot as plt\n",
        "import seaborn as sns\n",
        "import sklearn\n",
        "from sklearn.model_selection import train_test_split\n",
        "from sklearn.preprocessing import MinMaxScaler\n",
        "from sklearn import preprocessing\n",
        "from sklearn.preprocessing import LabelEncoder\n",
        "from imblearn.over_sampling import SMOTE\n",
        "from imblearn.under_sampling import RandomUnderSampler\n",
        "from imblearn.pipeline import Pipeline\n",
        "from sklearn.neural_network import MLPClassifier\n",
        "from sklearn.model_selection import RandomizedSearchCV\n",
        "from sklearn.model_selection import GridSearchCV\n",
        "from sklearn.metrics import classification_report\n",
        "from sklearn.model_selection import KFold\n",
        "from sklearn.model_selection import cross_val_score\n",
        "from numpy import mean\n",
        "from numpy import std\n",
        "from sklearn.metrics import f1_score\n",
        "from sklearn.metrics import accuracy_score\n",
        "from sklearn.metrics import recall_score\n",
        "from sklearn.metrics import precision_score"
      ],
      "execution_count": 2,
      "outputs": [
        {
          "output_type": "stream",
          "text": [
            "/usr/local/lib/python3.7/dist-packages/sklearn/externals/six.py:31: FutureWarning: The module is deprecated in version 0.21 and will be removed in version 0.23 since we've dropped support for Python 2.7. Please rely on the official version of six (https://pypi.org/project/six/).\n",
            "  \"(https://pypi.org/project/six/).\", FutureWarning)\n",
            "/usr/local/lib/python3.7/dist-packages/sklearn/utils/deprecation.py:144: FutureWarning: The sklearn.neighbors.base module is  deprecated in version 0.22 and will be removed in version 0.24. The corresponding classes / functions should instead be imported from sklearn.neighbors. Anything that cannot be imported from sklearn.neighbors is now part of the private API.\n",
            "  warnings.warn(message, FutureWarning)\n"
          ],
          "name": "stderr"
        }
      ]
    },
    {
      "cell_type": "markdown",
      "metadata": {
        "tags": [],
        "cell_id": "00003-80166b25-ed4c-4cd6-a8fd-b6df77be19cd",
        "deepnote_cell_type": "text-cell-h1",
        "id": "jFzTzWKWJqy_"
      },
      "source": [
        "# Read Data"
      ]
    },
    {
      "cell_type": "code",
      "metadata": {
        "tags": [],
        "deepnote_to_be_reexecuted": false,
        "source_hash": "5285587f",
        "execution_millis": 111,
        "cell_id": "00004-408b7033-9adc-4974-a1ce-f55f9cdadea1",
        "execution_start": 1618509403013,
        "deepnote_cell_type": "code",
        "id": "99ramAECJqzA"
      },
      "source": [
        "data = pd.read_csv(\"bank-full.csv\", delimiter=';')"
      ],
      "execution_count": 3,
      "outputs": []
    },
    {
      "cell_type": "markdown",
      "metadata": {
        "tags": [],
        "cell_id": "00005-32528b09-175f-4643-8525-256ef56520d2",
        "deepnote_cell_type": "text-cell-h1",
        "id": "MREXs-8vJqzB"
      },
      "source": [
        "# Simple Data Visualization"
      ]
    },
    {
      "cell_type": "code",
      "metadata": {
        "tags": [],
        "deepnote_to_be_reexecuted": false,
        "source_hash": "2007f58",
        "execution_millis": 38,
        "cell_id": "00006-82c7ca34-0e51-4608-bb21-2651c4226c11",
        "execution_start": 1618509403129,
        "deepnote_cell_type": "code",
        "colab": {
          "base_uri": "https://localhost:8080/"
        },
        "id": "kOfQJaLuJqzC",
        "outputId": "5076a67d-54da-4ef9-b799-103d6356735c"
      },
      "source": [
        "data.shape"
      ],
      "execution_count": 4,
      "outputs": [
        {
          "output_type": "execute_result",
          "data": {
            "text/plain": [
              "(45211, 17)"
            ]
          },
          "metadata": {
            "tags": []
          },
          "execution_count": 4
        }
      ]
    },
    {
      "cell_type": "markdown",
      "metadata": {
        "tags": [],
        "cell_id": "00007-3ab484f0-3fa6-4bbb-982b-efd651cc631f",
        "deepnote_cell_type": "text-cell-h1",
        "id": "oap9eO7KJqzE"
      },
      "source": [
        "# Model Construction"
      ]
    },
    {
      "cell_type": "markdown",
      "metadata": {
        "tags": [],
        "cell_id": "00008-3b1ae93b-2cf8-4781-8b2f-52f607f4c67f",
        "deepnote_cell_type": "text-cell-h2",
        "id": "616l8GnRJqzF"
      },
      "source": [
        "## Label Encoding For Categorical Data Train"
      ]
    },
    {
      "cell_type": "markdown",
      "metadata": {
        "tags": [],
        "cell_id": "00009-7a6bc9ab-5c18-41d1-92a4-0f2b8cef3699",
        "deepnote_cell_type": "text-cell-p",
        "id": "j3O2dmfiJqzG"
      },
      "source": [
        "Label Encoding are used to transform non-numerical&nbsp;labels&nbsp;(as long as they are hashable and comparable) to numerical&nbsp;labels. Label that are being transform to numerical are categorical data column which is job, marital, education, default, housing, loan, contact, month and poutcome."
      ]
    },
    {
      "cell_type": "code",
      "metadata": {
        "tags": [],
        "deepnote_to_be_reexecuted": false,
        "source_hash": "86f54dab",
        "execution_millis": 140,
        "cell_id": "00010-f681f3aa-e72f-4474-ba0b-79d6e10cfc22",
        "execution_start": 1618509403164,
        "deepnote_cell_type": "code",
        "id": "Vh5n_5RHJqzH"
      },
      "source": [
        "le = LabelEncoder()\n",
        "encode_x = data.iloc[ : , :-1]\n",
        "encode_x.job = le.fit_transform(encode_x.job)\n",
        "encode_x.marital = le.fit_transform(encode_x.marital)\n",
        "encode_x.education = le.fit_transform(encode_x.education)\n",
        "encode_x.default = le.fit_transform(encode_x.default)\n",
        "encode_x.housing = le.fit_transform(encode_x.housing)\n",
        "encode_x.loan = le.fit_transform(encode_x.loan)\n",
        "encode_x.contact = le.fit_transform(encode_x.contact)\n",
        "encode_x.month = le.fit_transform(encode_x.month)\n",
        "encode_x.poutcome = le.fit_transform(encode_x.poutcome)"
      ],
      "execution_count": 5,
      "outputs": []
    },
    {
      "cell_type": "markdown",
      "metadata": {
        "tags": [],
        "cell_id": "00011-1bbafe9a-7db1-41f1-a406-0d3886cdb3fb",
        "deepnote_cell_type": "text-cell-h2",
        "id": "ccvLJcx9JqzI"
      },
      "source": [
        "## Split Data"
      ]
    },
    {
      "cell_type": "markdown",
      "metadata": {
        "tags": [],
        "cell_id": "00012-adde2205-759c-4cb8-a22e-40493091ba1b",
        "deepnote_cell_type": "text-cell-p",
        "id": "jFODRgQAJqzJ"
      },
      "source": [
        "Split data are used to split the original data into 2 different parts which is training data and testing data. Training data will also be divided into 2 parts training data and validation training data. This process to ensure when the model being trained we have a data to validate the predicted output of a model."
      ]
    },
    {
      "cell_type": "code",
      "metadata": {
        "tags": [],
        "deepnote_to_be_reexecuted": false,
        "source_hash": "de325735",
        "execution_millis": 42,
        "cell_id": "00013-e8c9ddae-7288-4f4c-beb0-139a0fd39d11",
        "execution_start": 1618509403311,
        "deepnote_cell_type": "code",
        "id": "Z1pd7B7IJqzK"
      },
      "source": [
        "split_input_data = encode_x\n",
        "split_output_data = data['y']"
      ],
      "execution_count": 6,
      "outputs": []
    },
    {
      "cell_type": "markdown",
      "metadata": {
        "tags": [],
        "cell_id": "00014-70f31f25-3b33-4a2f-8d31-8e9b028d52cd",
        "deepnote_cell_type": "text-cell-p",
        "id": "UPInu4UNJqzK"
      },
      "source": [
        "We divided the data into 4 parts:\n",
        "- X_train is a training data that have no output.\n",
        "- X_test is a testing data that have no output. This data will be use by the model to predict the output of the X_test data\n",
        "- y_train is a training data that has the output data from X_train data.\n",
        "- y_test is the original output data from X_test. This data will be used to validate the accuracy of predicted data that were generated by the model."
      ]
    },
    {
      "cell_type": "code",
      "metadata": {
        "tags": [],
        "deepnote_to_be_reexecuted": false,
        "source_hash": "5e746e28",
        "execution_millis": 43,
        "cell_id": "00015-29b76e65-c9ed-4bcb-885e-167652e8185d",
        "execution_start": 1618509403354,
        "deepnote_cell_type": "code",
        "id": "N4xdNTQYJqzL"
      },
      "source": [
        "X_train, X_test, y_train, y_test = train_test_split(split_input_data, split_output_data, test_size=0.3, random_state=10)"
      ],
      "execution_count": 7,
      "outputs": []
    },
    {
      "cell_type": "markdown",
      "metadata": {
        "tags": [],
        "cell_id": "00016-970d2bde-59e4-4efc-9fe7-6ec184f4cdb2",
        "deepnote_cell_type": "text-cell-h2",
        "id": "RHUZnPZOJqzM"
      },
      "source": [
        "## Scale Data"
      ]
    },
    {
      "cell_type": "markdown",
      "metadata": {
        "tags": [],
        "cell_id": "00017-8edcb2dc-508e-47b5-b2ab-e89412e6c711",
        "deepnote_cell_type": "text-cell-p",
        "id": "fjyU0DM_JqzN"
      },
      "source": [
        "Here we transform the data to fit within a specific scale using these algorithms a change of \"1\" in any numeric feature will give the same importance to each data. We used MinMaxScaler() method from Sklearn library. Define the transformation for train and test data:- X_train will be scale using fit_transform()\n",
        "- X_test will be scale using transform()"
      ]
    },
    {
      "cell_type": "code",
      "metadata": {
        "tags": [],
        "deepnote_to_be_reexecuted": false,
        "source_hash": "e7a6cd61",
        "execution_millis": 0,
        "cell_id": "00018-1ba01a58-a793-4e7a-a6c2-1b1c13ee4fdd",
        "execution_start": 1618509403398,
        "deepnote_cell_type": "code",
        "id": "E20fxshBJqzN"
      },
      "source": [
        "scaler = MinMaxScaler()\n",
        "X_train_scaled = pd.DataFrame(scaler.fit_transform(X_train))\n",
        "X_test_scaled = pd.DataFrame(scaler.transform(X_test))"
      ],
      "execution_count": 8,
      "outputs": []
    },
    {
      "cell_type": "markdown",
      "metadata": {
        "tags": [],
        "cell_id": "00019-be7978fc-8b0c-4b55-82b9-c69e4fb48382",
        "deepnote_cell_type": "text-cell-h2",
        "id": "uGHCIYb7JqzO"
      },
      "source": [
        "## Mix Sampling using SMOTE &amp; Random Under Sampler"
      ]
    },
    {
      "cell_type": "markdown",
      "metadata": {
        "tags": [],
        "cell_id": "00020-3902b696-6daf-43bc-9447-960321544c65",
        "deepnote_cell_type": "text-cell-p",
        "id": "eVTuHq5CJqzP"
      },
      "source": [
        "Here we distributed the data using SMOTE and Random Under Sampler to make the classification output data balance. We used SMOTE to duplicates and variance the 'yes' data for the model to learn more variance of yes data.  We used Random Under Sampler to delete random sample of the 'no' data to make the model not to have low bias towards 'yes' data."
      ]
    },
    {
      "cell_type": "code",
      "metadata": {
        "tags": [],
        "deepnote_to_be_reexecuted": false,
        "source_hash": "340e3557",
        "execution_millis": 793,
        "cell_id": "00021-b050ff86-5e4b-4231-a7b2-35153d582c94",
        "execution_start": 1618509403441,
        "deepnote_cell_type": "code",
        "colab": {
          "base_uri": "https://localhost:8080/"
        },
        "id": "BqcnJ48bJqzQ",
        "outputId": "816c8f6c-6cbf-4d91-c2d8-5d0c98ad9c5e"
      },
      "source": [
        "mixSample_X = X_train_scaled\n",
        "# define pipeline\n",
        "over = SMOTE(sampling_strategy=0.15)\n",
        "under = RandomUnderSampler(sampling_strategy=0.5)\n",
        "steps = [('o', over), ('u', under)]\n",
        "pipeline = Pipeline(steps=steps)\n",
        "# transform the dataset\n",
        "mixSample_X, mixSample_Y = pipeline.fit_resample(mixSample_X, y_train)\n",
        "pd.DataFrame(mixSample_Y).value_counts()"
      ],
      "execution_count": 9,
      "outputs": [
        {
          "output_type": "stream",
          "text": [
            "/usr/local/lib/python3.7/dist-packages/sklearn/utils/deprecation.py:87: FutureWarning: Function safe_indexing is deprecated; safe_indexing is deprecated in version 0.22 and will be removed in version 0.24.\n",
            "  warnings.warn(msg, category=FutureWarning)\n",
            "/usr/local/lib/python3.7/dist-packages/sklearn/utils/deprecation.py:87: FutureWarning: Function safe_indexing is deprecated; safe_indexing is deprecated in version 0.22 and will be removed in version 0.24.\n",
            "  warnings.warn(msg, category=FutureWarning)\n"
          ],
          "name": "stderr"
        },
        {
          "output_type": "execute_result",
          "data": {
            "text/plain": [
              "no     8374\n",
              "yes    4187\n",
              "dtype: int64"
            ]
          },
          "metadata": {
            "tags": []
          },
          "execution_count": 9
        }
      ]
    },
    {
      "cell_type": "markdown",
      "metadata": {
        "tags": [],
        "cell_id": "00022-c0ddaca1-dd6b-435a-ba91-682d55a7a4e2",
        "deepnote_cell_type": "text-cell-h1",
        "id": "AF8Nc6k_JqzR"
      },
      "source": [
        "# ANN from SKLEARN Library"
      ]
    },
    {
      "cell_type": "markdown",
      "metadata": {
        "tags": [],
        "cell_id": "00023-62238849-a6ee-4364-9d56-fc51a56189e8",
        "deepnote_cell_type": "text-cell-h2",
        "id": "KK5rx-_WJqzR"
      },
      "source": [
        "## Model Fit with default Parameters"
      ]
    },
    {
      "cell_type": "markdown",
      "metadata": {
        "tags": [],
        "cell_id": "00024-20597891-052b-48d8-ab34-a17b78fbe064",
        "deepnote_cell_type": "text-cell-p",
        "id": "TfKVd9HrJqzS"
      },
      "source": [
        "Here we used MLPClassifier() without specifying the parameters "
      ]
    },
    {
      "cell_type": "code",
      "metadata": {
        "tags": [],
        "deepnote_to_be_reexecuted": false,
        "source_hash": "b19b2253",
        "execution_millis": 1,
        "cell_id": "00025-9de081ac-bc5b-481b-982a-d7b380cf9625",
        "execution_start": 1618509404259,
        "deepnote_cell_type": "code",
        "id": "YvCJcoFzJqzT"
      },
      "source": [
        "model = MLPClassifier()"
      ],
      "execution_count": 10,
      "outputs": []
    },
    {
      "cell_type": "markdown",
      "metadata": {
        "tags": [],
        "cell_id": "00026-8d5249bf-3fbf-414f-91c2-d32e0003b3b3",
        "deepnote_cell_type": "text-cell-h2",
        "id": "oFKLNv0gJqzU"
      },
      "source": [
        "## Train the Model using Training Data and Validation Training Data"
      ]
    },
    {
      "cell_type": "code",
      "metadata": {
        "tags": [],
        "deepnote_to_be_reexecuted": false,
        "source_hash": "21cd9296",
        "execution_millis": 65901,
        "cell_id": "00027-c235b52f-ef20-4091-981a-1a8f0ffce1c2",
        "execution_start": 1618509404301,
        "deepnote_cell_type": "code",
        "colab": {
          "base_uri": "https://localhost:8080/"
        },
        "id": "piNhzm-NJqzV",
        "outputId": "0b17302f-3368-43fa-e86e-71a1d74edf3f"
      },
      "source": [
        "model.fit(mixSample_X, mixSample_Y)"
      ],
      "execution_count": 11,
      "outputs": [
        {
          "output_type": "stream",
          "text": [
            "/usr/local/lib/python3.7/dist-packages/sklearn/neural_network/_multilayer_perceptron.py:571: ConvergenceWarning: Stochastic Optimizer: Maximum iterations (200) reached and the optimization hasn't converged yet.\n",
            "  % self.max_iter, ConvergenceWarning)\n"
          ],
          "name": "stderr"
        },
        {
          "output_type": "execute_result",
          "data": {
            "text/plain": [
              "MLPClassifier(activation='relu', alpha=0.0001, batch_size='auto', beta_1=0.9,\n",
              "              beta_2=0.999, early_stopping=False, epsilon=1e-08,\n",
              "              hidden_layer_sizes=(100,), learning_rate='constant',\n",
              "              learning_rate_init=0.001, max_fun=15000, max_iter=200,\n",
              "              momentum=0.9, n_iter_no_change=10, nesterovs_momentum=True,\n",
              "              power_t=0.5, random_state=None, shuffle=True, solver='adam',\n",
              "              tol=0.0001, validation_fraction=0.1, verbose=False,\n",
              "              warm_start=False)"
            ]
          },
          "metadata": {
            "tags": []
          },
          "execution_count": 11
        }
      ]
    },
    {
      "cell_type": "markdown",
      "metadata": {
        "tags": [],
        "cell_id": "00028-a1625236-4886-4e4c-b6d8-eb8881be5866",
        "deepnote_cell_type": "text-cell-h2",
        "id": "kDeIf67PJqzW"
      },
      "source": [
        "## Predict Model using Testing Data"
      ]
    },
    {
      "cell_type": "code",
      "metadata": {
        "tags": [],
        "deepnote_to_be_reexecuted": false,
        "source_hash": "48992fe",
        "execution_millis": 109,
        "cell_id": "00029-64a6f293-fa70-4221-9789-4fc45030a3f1",
        "execution_start": 1618509470196,
        "deepnote_cell_type": "code",
        "id": "7Qu10P8FJqzW"
      },
      "source": [
        "y_pred = model.predict(X_test_scaled)"
      ],
      "execution_count": 12,
      "outputs": []
    },
    {
      "cell_type": "markdown",
      "metadata": {
        "tags": [],
        "cell_id": "00030-e603a156-f2b9-4c3c-801f-79c7f5684aa8",
        "deepnote_cell_type": "text-cell-h3",
        "id": "InnATHXmJqzX"
      },
      "source": [
        "### Before evaluation we need to know the value count of each class from the original output data"
      ]
    },
    {
      "cell_type": "markdown",
      "metadata": {
        "tags": [],
        "cell_id": "00031-6a038468-942d-449c-8393-afb0ab7b0f05",
        "deepnote_cell_type": "text-cell-p",
        "id": "Ml_nJA3dJqzY"
      },
      "source": [
        "Here are the count of 'no' data and the count of 'yes' data from the original output data"
      ]
    },
    {
      "cell_type": "code",
      "metadata": {
        "tags": [],
        "deepnote_to_be_reexecuted": false,
        "source_hash": "9f353983",
        "execution_millis": 96,
        "cell_id": "00032-b8a0f80a-5496-4898-9574-b1895f3436e3",
        "execution_start": 1618509470314,
        "deepnote_cell_type": "code",
        "colab": {
          "base_uri": "https://localhost:8080/"
        },
        "id": "oq2wtLsYJqzY",
        "outputId": "a76e92f7-2d5b-48b9-d131-abaf93374992"
      },
      "source": [
        "y_test.value_counts()"
      ],
      "execution_count": 13,
      "outputs": [
        {
          "output_type": "execute_result",
          "data": {
            "text/plain": [
              "no     12006\n",
              "yes     1558\n",
              "Name: y, dtype: int64"
            ]
          },
          "metadata": {
            "tags": []
          },
          "execution_count": 13
        }
      ]
    },
    {
      "cell_type": "markdown",
      "metadata": {
        "tags": [],
        "cell_id": "00033-31dd4839-377b-4de4-bd10-19ee5aa69d74",
        "deepnote_cell_type": "text-cell-h2",
        "id": "MOLAWUbPJqzZ"
      },
      "source": [
        "## Evaluation Metrics using Confusion Matrix"
      ]
    },
    {
      "cell_type": "markdown",
      "metadata": {
        "tags": [],
        "cell_id": "00034-61b0e923-4b39-45ac-985b-b2d056a8775f",
        "deepnote_cell_type": "text-cell-p",
        "id": "rpmY26pOJqza"
      },
      "source": [
        "Here we used confusion matrix which is crosstab() method from pandas There are 4 terms as a representation of the result of the classification process confusion matrix. The four terms: \n",
        "- True Positive (TP): Represents positive data that is predicted to be correct.\n",
        "- True Negative (TN): Represents negative data that is predicted to be correct.\n",
        "- False Positive (FP) Type I Error: Represents negative data but predicted as positive data.\n",
        "- False Negative (FN) Type II Error: Represents positive data but predicted as negative data."
      ]
    },
    {
      "cell_type": "code",
      "metadata": {
        "tags": [],
        "deepnote_to_be_reexecuted": false,
        "source_hash": "834f5afa",
        "execution_millis": 107,
        "cell_id": "00035-c715370c-3cd5-4e02-ad5b-8ad876498b53",
        "execution_start": 1618509470407,
        "deepnote_cell_type": "code",
        "colab": {
          "base_uri": "https://localhost:8080/"
        },
        "id": "HGrcNR-JJqzc",
        "outputId": "26aa3a81-3d0d-4631-91dd-1d6ff8a80d5f"
      },
      "source": [
        "confusion_matrix = pd.crosstab(y_test, y_pred)\n",
        "print (confusion_matrix)"
      ],
      "execution_count": 14,
      "outputs": [
        {
          "output_type": "stream",
          "text": [
            "col_0     no   yes\n",
            "y                 \n",
            "no     10480  1526\n",
            "yes      380  1178\n"
          ],
          "name": "stdout"
        }
      ]
    },
    {
      "cell_type": "markdown",
      "metadata": {
        "tags": [],
        "cell_id": "00036-c4cbfde9-68ec-43fc-9eb2-27e5f78769d0",
        "deepnote_cell_type": "text-cell-p",
        "id": "gI6QqGEAJqzd"
      },
      "source": [
        " The conclusion from the above result: \n",
        "- True Positive (TP): **1178** 'Yes' predicted data is correct **from 1558** 'Yes' original data \n",
        "- True Negative (TN): **10480** 'No' predicted data is correct **from 12006** 'No' original data\n",
        "- False Negative (FN): **380** 'Yes' predicted data falsely predicted as 'No' data\n",
        "- False Positive (FP): **1526** 'No' predicted data falsely predicted as 'Yes' data"
      ]
    },
    {
      "cell_type": "markdown",
      "metadata": {
        "tags": [],
        "cell_id": "00037-bc0b1d6b-baa5-4fbb-8190-64d308af7773",
        "deepnote_cell_type": "text-cell-h2",
        "id": "UEyT-3UPJqze"
      },
      "source": [
        "## Evaluation Metrics using Classification Report"
      ]
    },
    {
      "cell_type": "markdown",
      "metadata": {
        "tags": [],
        "cell_id": "00038-9b4ec79f-0512-43e5-ac55-c7ab23fc52cb",
        "deepnote_cell_type": "text-cell-p",
        "id": "v9qNP4i1Jqzf"
      },
      "source": [
        "Here we used the classification report from sklearn library in the classification report function we have precision, recall, f1-score and support for the evaluation metrics."
      ]
    },
    {
      "cell_type": "markdown",
      "metadata": {
        "tags": [],
        "cell_id": "00039-4771a88c-33d2-4324-ac21-c940055644a4",
        "deepnote_cell_type": "text-cell-h3",
        "id": "1nsYuCS0Jqzf"
      },
      "source": [
        "### Precision"
      ]
    },
    {
      "cell_type": "markdown",
      "metadata": {
        "tags": [],
        "cell_id": "00040-147d2d79-44ae-4c22-bc48-084c358e3d94",
        "deepnote_cell_type": "text-cell-p",
        "id": "Ucs-AlbBJqzg"
      },
      "source": [
        "Precision is the ability of a classifier not to label an instance positive that is actually negative. For each class, it is defined as the ratio of true positives to the sum of a true positive and false positive."
      ]
    },
    {
      "cell_type": "markdown",
      "metadata": {
        "tags": [],
        "cell_id": "00041-a639295f-08c5-499c-94c3-3468638459b1",
        "deepnote_cell_type": "text-cell-h3",
        "id": "GoIHcl0QJqzh"
      },
      "source": [
        "### Recall"
      ]
    },
    {
      "cell_type": "markdown",
      "metadata": {
        "tags": [],
        "cell_id": "00042-59555f9d-f222-4d07-ab4d-343b9e6594ab",
        "deepnote_cell_type": "text-cell-p",
        "id": "VZ0zm5UYJqzi"
      },
      "source": [
        "Recall is the ability of a classifier to find all positive instances. For each class it is defined as the ratio of true positives to the sum of true positives and false negatives."
      ]
    },
    {
      "cell_type": "markdown",
      "metadata": {
        "tags": [],
        "cell_id": "00043-3f9a4996-3171-468e-adab-aaab5d1933c3",
        "deepnote_cell_type": "text-cell-h3",
        "id": "doFWiTjdJqzi"
      },
      "source": [
        "### F1-Score"
      ]
    },
    {
      "cell_type": "markdown",
      "metadata": {
        "tags": [],
        "cell_id": "00044-3040b8b2-d4de-41f5-a6cc-b1369e5d7aec",
        "deepnote_cell_type": "text-cell-p",
        "id": "EFX1WE1nJqzj"
      },
      "source": [
        "The F1 score is a weighted harmonic mean of precision and recall such that the best score is 1.0 and the worst is 0.0. F1 scores are lower than accuracy measures as they embed precision and recall into their computation. As a rule of thumb, the weighted average of F1 should be used to compare classifier models, not global accuracy."
      ]
    },
    {
      "cell_type": "markdown",
      "metadata": {
        "tags": [],
        "cell_id": "00045-071eb155-fcfd-43f6-9cfb-82014484ac8a",
        "deepnote_cell_type": "text-cell-h3",
        "id": "lRYwtqXvJqzk"
      },
      "source": [
        "### Support"
      ]
    },
    {
      "cell_type": "markdown",
      "metadata": {
        "tags": [],
        "cell_id": "00046-c70d8ed7-99cf-4860-89c2-9cfe0d728af3",
        "deepnote_cell_type": "text-cell-p",
        "id": "okMa0RE3Jqzl"
      },
      "source": [
        "Support is the number of actual occurrences of the class in the specified dataset. Imbalanced support in the training data may indicate structural weaknesses in the reported scores of the classifier and could indicate the need for stratified sampling or rebalancing. Support doesn’t change between models but instead diagnoses the evaluation process."
      ]
    },
    {
      "cell_type": "code",
      "metadata": {
        "tags": [],
        "deepnote_to_be_reexecuted": false,
        "source_hash": "74950708",
        "execution_millis": 929,
        "cell_id": "00047-d997270d-f043-4ca0-8808-575792b852e7",
        "execution_start": 1618509470537,
        "deepnote_cell_type": "code",
        "colab": {
          "base_uri": "https://localhost:8080/"
        },
        "id": "r6dt180eJqzl",
        "outputId": "2b62a108-ebc6-446b-caec-edaab4741908"
      },
      "source": [
        "print(classification_report(y_test,y_pred))"
      ],
      "execution_count": 15,
      "outputs": [
        {
          "output_type": "stream",
          "text": [
            "              precision    recall  f1-score   support\n",
            "\n",
            "          no       0.97      0.87      0.92     12006\n",
            "         yes       0.44      0.76      0.55      1558\n",
            "\n",
            "    accuracy                           0.86     13564\n",
            "   macro avg       0.70      0.81      0.73     13564\n",
            "weighted avg       0.90      0.86      0.87     13564\n",
            "\n"
          ],
          "name": "stdout"
        }
      ]
    },
    {
      "cell_type": "markdown",
      "metadata": {
        "tags": [],
        "cell_id": "00048-3e056a19-7567-4e73-a96c-4c7fc5ef22ff",
        "deepnote_cell_type": "text-cell-p",
        "id": "XtKP4U1LJqzm"
      },
      "source": [
        " The conclusion from the above result:\n",
        "- Precision: **97%** 'No' predicted data are correctly predict &amp; **44%** 'Yes' predicted data are correctly predict\n",
        "- Recall: **87%** 'No' original data have been predicted by the model &amp; **76%** 'Yes' original data have been predicted by the model\n",
        "- F1-Score: The mean from precision and recall for 'No' predicted data is **92%** and for 'Yes' predicted data is **55%**"
      ]
    },
    {
      "cell_type": "markdown",
      "metadata": {
        "tags": [],
        "cell_id": "00049-73eb2852-b799-49cc-b925-abab93ce37b6",
        "deepnote_cell_type": "text-cell-h1",
        "id": "J1j4UqB2Jqzn"
      },
      "source": [
        "# Model Fit with Best Parameters using Random Search CV"
      ]
    },
    {
      "cell_type": "markdown",
      "metadata": {
        "tags": [],
        "cell_id": "00050-6b9d608a-c354-4696-bcdf-b191688925d9",
        "deepnote_cell_type": "text-cell-p",
        "id": "eR1__qs_Jqzn"
      },
      "source": [
        "We used Random Search CV from to find best parameter for our ANN model here we will compare the model that use default parameter and the model that will be given the best parameter from Random Search CV"
      ]
    },
    {
      "cell_type": "markdown",
      "metadata": {
        "tags": [],
        "cell_id": "00051-18696d74-91d2-414a-9b27-a9880a3889fd",
        "deepnote_cell_type": "text-cell-h2",
        "id": "z7V_93-bJqzn"
      },
      "source": [
        "## Define Parameters"
      ]
    },
    {
      "cell_type": "code",
      "metadata": {
        "tags": [],
        "deepnote_to_be_reexecuted": false,
        "source_hash": "b0f0d2ed",
        "execution_millis": 6,
        "cell_id": "00052-12e4c50e-a2a6-4473-bbfd-d66639f5ea96",
        "execution_start": 1618509471463,
        "deepnote_cell_type": "code",
        "id": "92wZBl6nJqzo"
      },
      "source": [
        "parameters = {\n",
        "    'hidden_layer_sizes': [(50,50,50), (50,100,50), (100,)],\n",
        "    'activation': ['tanh', 'relu','logistic'],\n",
        "    'solver': ['sgd', 'adam'],\n",
        "    'alpha': [0.0001, 0.05],\n",
        "    'learning_rate': ['constant','adaptive','invscaling'],\n",
        "}"
      ],
      "execution_count": 16,
      "outputs": []
    },
    {
      "cell_type": "markdown",
      "metadata": {
        "tags": [],
        "cell_id": "00053-099daa71-a933-404e-a43b-40e6b6ff7265",
        "deepnote_cell_type": "text-cell-h2",
        "id": "eWLc69shJqzp"
      },
      "source": [
        "## Find Best Parameter using RandomSearch CV"
      ]
    },
    {
      "cell_type": "markdown",
      "metadata": {
        "tags": [],
        "cell_id": "00054-0f130cc5-368d-4714-ae02-46b6954a6439",
        "deepnote_cell_type": "text-cell-p",
        "id": "KQ9On3iGJqzp"
      },
      "source": [
        "Here we want to focus the result based on the Recall evaluation metric because we would like to know if the result of the predicted output made by the model already predict most of the correct data inside the predicted output."
      ]
    },
    {
      "cell_type": "code",
      "metadata": {
        "tags": [],
        "deepnote_to_be_reexecuted": false,
        "source_hash": "5c36fdae",
        "execution_millis": 3,
        "cell_id": "00055-6e83fe8c-2fb8-4df5-af58-840a0a63a733",
        "execution_start": 1618509471473,
        "deepnote_cell_type": "code",
        "colab": {
          "base_uri": "https://localhost:8080/"
        },
        "id": "HIuvE2VLJqzp",
        "outputId": "3375a3f9-df5b-4d55-a117-9a638187cd96"
      },
      "source": [
        "from sklearn.metrics import precision_score, recall_score, make_scorer\n",
        "\n",
        "recall_scorer = make_scorer(recall_score,pos_label='yes')\n",
        "\n",
        "grid_model = RandomizedSearchCV(MLPClassifier(), param_distributions = parameters,n_iter=20,verbose=2,scoring=recall_scorer)\n",
        "\n",
        "grid_model.fit(mixSample_X, mixSample_Y)"
      ],
      "execution_count": 17,
      "outputs": [
        {
          "output_type": "stream",
          "text": [
            "Fitting 5 folds for each of 20 candidates, totalling 100 fits\n",
            "[CV] solver=sgd, learning_rate=adaptive, hidden_layer_sizes=(50, 50, 50), alpha=0.05, activation=relu \n"
          ],
          "name": "stdout"
        },
        {
          "output_type": "stream",
          "text": [
            "[Parallel(n_jobs=1)]: Using backend SequentialBackend with 1 concurrent workers.\n",
            "/usr/local/lib/python3.7/dist-packages/sklearn/neural_network/_multilayer_perceptron.py:571: ConvergenceWarning: Stochastic Optimizer: Maximum iterations (200) reached and the optimization hasn't converged yet.\n",
            "  % self.max_iter, ConvergenceWarning)\n",
            "[Parallel(n_jobs=1)]: Done   1 out of   1 | elapsed:   20.6s remaining:    0.0s\n"
          ],
          "name": "stderr"
        },
        {
          "output_type": "stream",
          "text": [
            "[CV]  solver=sgd, learning_rate=adaptive, hidden_layer_sizes=(50, 50, 50), alpha=0.05, activation=relu, total=  20.6s\n",
            "[CV] solver=sgd, learning_rate=adaptive, hidden_layer_sizes=(50, 50, 50), alpha=0.05, activation=relu \n"
          ],
          "name": "stdout"
        },
        {
          "output_type": "stream",
          "text": [
            "/usr/local/lib/python3.7/dist-packages/sklearn/neural_network/_multilayer_perceptron.py:571: ConvergenceWarning: Stochastic Optimizer: Maximum iterations (200) reached and the optimization hasn't converged yet.\n",
            "  % self.max_iter, ConvergenceWarning)\n"
          ],
          "name": "stderr"
        },
        {
          "output_type": "stream",
          "text": [
            "[CV]  solver=sgd, learning_rate=adaptive, hidden_layer_sizes=(50, 50, 50), alpha=0.05, activation=relu, total=  18.5s\n",
            "[CV] solver=sgd, learning_rate=adaptive, hidden_layer_sizes=(50, 50, 50), alpha=0.05, activation=relu \n"
          ],
          "name": "stdout"
        },
        {
          "output_type": "stream",
          "text": [
            "/usr/local/lib/python3.7/dist-packages/sklearn/neural_network/_multilayer_perceptron.py:571: ConvergenceWarning: Stochastic Optimizer: Maximum iterations (200) reached and the optimization hasn't converged yet.\n",
            "  % self.max_iter, ConvergenceWarning)\n"
          ],
          "name": "stderr"
        },
        {
          "output_type": "stream",
          "text": [
            "[CV]  solver=sgd, learning_rate=adaptive, hidden_layer_sizes=(50, 50, 50), alpha=0.05, activation=relu, total=  18.5s\n",
            "[CV] solver=sgd, learning_rate=adaptive, hidden_layer_sizes=(50, 50, 50), alpha=0.05, activation=relu \n"
          ],
          "name": "stdout"
        },
        {
          "output_type": "stream",
          "text": [
            "/usr/local/lib/python3.7/dist-packages/sklearn/neural_network/_multilayer_perceptron.py:571: ConvergenceWarning: Stochastic Optimizer: Maximum iterations (200) reached and the optimization hasn't converged yet.\n",
            "  % self.max_iter, ConvergenceWarning)\n"
          ],
          "name": "stderr"
        },
        {
          "output_type": "stream",
          "text": [
            "[CV]  solver=sgd, learning_rate=adaptive, hidden_layer_sizes=(50, 50, 50), alpha=0.05, activation=relu, total=  18.7s\n",
            "[CV] solver=sgd, learning_rate=adaptive, hidden_layer_sizes=(50, 50, 50), alpha=0.05, activation=relu \n"
          ],
          "name": "stdout"
        },
        {
          "output_type": "stream",
          "text": [
            "/usr/local/lib/python3.7/dist-packages/sklearn/neural_network/_multilayer_perceptron.py:571: ConvergenceWarning: Stochastic Optimizer: Maximum iterations (200) reached and the optimization hasn't converged yet.\n",
            "  % self.max_iter, ConvergenceWarning)\n"
          ],
          "name": "stderr"
        },
        {
          "output_type": "stream",
          "text": [
            "[CV]  solver=sgd, learning_rate=adaptive, hidden_layer_sizes=(50, 50, 50), alpha=0.05, activation=relu, total=  18.4s\n",
            "[CV] solver=sgd, learning_rate=invscaling, hidden_layer_sizes=(100,), alpha=0.0001, activation=relu \n",
            "[CV]  solver=sgd, learning_rate=invscaling, hidden_layer_sizes=(100,), alpha=0.0001, activation=relu, total=   0.9s\n",
            "[CV] solver=sgd, learning_rate=invscaling, hidden_layer_sizes=(100,), alpha=0.0001, activation=relu \n",
            "[CV]  solver=sgd, learning_rate=invscaling, hidden_layer_sizes=(100,), alpha=0.0001, activation=relu, total=   1.4s\n",
            "[CV] solver=sgd, learning_rate=invscaling, hidden_layer_sizes=(100,), alpha=0.0001, activation=relu \n",
            "[CV]  solver=sgd, learning_rate=invscaling, hidden_layer_sizes=(100,), alpha=0.0001, activation=relu, total=   0.8s\n",
            "[CV] solver=sgd, learning_rate=invscaling, hidden_layer_sizes=(100,), alpha=0.0001, activation=relu \n",
            "[CV]  solver=sgd, learning_rate=invscaling, hidden_layer_sizes=(100,), alpha=0.0001, activation=relu, total=   1.4s\n",
            "[CV] solver=sgd, learning_rate=invscaling, hidden_layer_sizes=(100,), alpha=0.0001, activation=relu \n",
            "[CV]  solver=sgd, learning_rate=invscaling, hidden_layer_sizes=(100,), alpha=0.0001, activation=relu, total=   0.8s\n",
            "[CV] solver=sgd, learning_rate=adaptive, hidden_layer_sizes=(50, 50, 50), alpha=0.05, activation=logistic \n",
            "[CV]  solver=sgd, learning_rate=adaptive, hidden_layer_sizes=(50, 50, 50), alpha=0.05, activation=logistic, total=   9.1s\n",
            "[CV] solver=sgd, learning_rate=adaptive, hidden_layer_sizes=(50, 50, 50), alpha=0.05, activation=logistic \n",
            "[CV]  solver=sgd, learning_rate=adaptive, hidden_layer_sizes=(50, 50, 50), alpha=0.05, activation=logistic, total=   8.4s\n",
            "[CV] solver=sgd, learning_rate=adaptive, hidden_layer_sizes=(50, 50, 50), alpha=0.05, activation=logistic \n",
            "[CV]  solver=sgd, learning_rate=adaptive, hidden_layer_sizes=(50, 50, 50), alpha=0.05, activation=logistic, total=   8.5s\n",
            "[CV] solver=sgd, learning_rate=adaptive, hidden_layer_sizes=(50, 50, 50), alpha=0.05, activation=logistic \n",
            "[CV]  solver=sgd, learning_rate=adaptive, hidden_layer_sizes=(50, 50, 50), alpha=0.05, activation=logistic, total=   8.3s\n",
            "[CV] solver=sgd, learning_rate=adaptive, hidden_layer_sizes=(50, 50, 50), alpha=0.05, activation=logistic \n",
            "[CV]  solver=sgd, learning_rate=adaptive, hidden_layer_sizes=(50, 50, 50), alpha=0.05, activation=logistic, total=   8.4s\n",
            "[CV] solver=sgd, learning_rate=constant, hidden_layer_sizes=(50, 50, 50), alpha=0.05, activation=tanh \n"
          ],
          "name": "stdout"
        },
        {
          "output_type": "stream",
          "text": [
            "/usr/local/lib/python3.7/dist-packages/sklearn/neural_network/_multilayer_perceptron.py:571: ConvergenceWarning: Stochastic Optimizer: Maximum iterations (200) reached and the optimization hasn't converged yet.\n",
            "  % self.max_iter, ConvergenceWarning)\n"
          ],
          "name": "stderr"
        },
        {
          "output_type": "stream",
          "text": [
            "[CV]  solver=sgd, learning_rate=constant, hidden_layer_sizes=(50, 50, 50), alpha=0.05, activation=tanh, total=  29.0s\n",
            "[CV] solver=sgd, learning_rate=constant, hidden_layer_sizes=(50, 50, 50), alpha=0.05, activation=tanh \n"
          ],
          "name": "stdout"
        },
        {
          "output_type": "stream",
          "text": [
            "/usr/local/lib/python3.7/dist-packages/sklearn/neural_network/_multilayer_perceptron.py:571: ConvergenceWarning: Stochastic Optimizer: Maximum iterations (200) reached and the optimization hasn't converged yet.\n",
            "  % self.max_iter, ConvergenceWarning)\n"
          ],
          "name": "stderr"
        },
        {
          "output_type": "stream",
          "text": [
            "[CV]  solver=sgd, learning_rate=constant, hidden_layer_sizes=(50, 50, 50), alpha=0.05, activation=tanh, total=  26.8s\n",
            "[CV] solver=sgd, learning_rate=constant, hidden_layer_sizes=(50, 50, 50), alpha=0.05, activation=tanh \n"
          ],
          "name": "stdout"
        },
        {
          "output_type": "stream",
          "text": [
            "/usr/local/lib/python3.7/dist-packages/sklearn/neural_network/_multilayer_perceptron.py:571: ConvergenceWarning: Stochastic Optimizer: Maximum iterations (200) reached and the optimization hasn't converged yet.\n",
            "  % self.max_iter, ConvergenceWarning)\n"
          ],
          "name": "stderr"
        },
        {
          "output_type": "stream",
          "text": [
            "[CV]  solver=sgd, learning_rate=constant, hidden_layer_sizes=(50, 50, 50), alpha=0.05, activation=tanh, total=  26.7s\n",
            "[CV] solver=sgd, learning_rate=constant, hidden_layer_sizes=(50, 50, 50), alpha=0.05, activation=tanh \n"
          ],
          "name": "stdout"
        },
        {
          "output_type": "stream",
          "text": [
            "/usr/local/lib/python3.7/dist-packages/sklearn/neural_network/_multilayer_perceptron.py:571: ConvergenceWarning: Stochastic Optimizer: Maximum iterations (200) reached and the optimization hasn't converged yet.\n",
            "  % self.max_iter, ConvergenceWarning)\n"
          ],
          "name": "stderr"
        },
        {
          "output_type": "stream",
          "text": [
            "[CV]  solver=sgd, learning_rate=constant, hidden_layer_sizes=(50, 50, 50), alpha=0.05, activation=tanh, total=  26.9s\n",
            "[CV] solver=sgd, learning_rate=constant, hidden_layer_sizes=(50, 50, 50), alpha=0.05, activation=tanh \n"
          ],
          "name": "stdout"
        },
        {
          "output_type": "stream",
          "text": [
            "/usr/local/lib/python3.7/dist-packages/sklearn/neural_network/_multilayer_perceptron.py:571: ConvergenceWarning: Stochastic Optimizer: Maximum iterations (200) reached and the optimization hasn't converged yet.\n",
            "  % self.max_iter, ConvergenceWarning)\n"
          ],
          "name": "stderr"
        },
        {
          "output_type": "stream",
          "text": [
            "[CV]  solver=sgd, learning_rate=constant, hidden_layer_sizes=(50, 50, 50), alpha=0.05, activation=tanh, total=  26.9s\n",
            "[CV] solver=adam, learning_rate=invscaling, hidden_layer_sizes=(50, 50, 50), alpha=0.05, activation=logistic \n",
            "[CV]  solver=adam, learning_rate=invscaling, hidden_layer_sizes=(50, 50, 50), alpha=0.05, activation=logistic, total=  13.4s\n",
            "[CV] solver=adam, learning_rate=invscaling, hidden_layer_sizes=(50, 50, 50), alpha=0.05, activation=logistic \n",
            "[CV]  solver=adam, learning_rate=invscaling, hidden_layer_sizes=(50, 50, 50), alpha=0.05, activation=logistic, total=  11.0s\n",
            "[CV] solver=adam, learning_rate=invscaling, hidden_layer_sizes=(50, 50, 50), alpha=0.05, activation=logistic \n",
            "[CV]  solver=adam, learning_rate=invscaling, hidden_layer_sizes=(50, 50, 50), alpha=0.05, activation=logistic, total=  14.1s\n",
            "[CV] solver=adam, learning_rate=invscaling, hidden_layer_sizes=(50, 50, 50), alpha=0.05, activation=logistic \n",
            "[CV]  solver=adam, learning_rate=invscaling, hidden_layer_sizes=(50, 50, 50), alpha=0.05, activation=logistic, total=  16.2s\n",
            "[CV] solver=adam, learning_rate=invscaling, hidden_layer_sizes=(50, 50, 50), alpha=0.05, activation=logistic \n",
            "[CV]  solver=adam, learning_rate=invscaling, hidden_layer_sizes=(50, 50, 50), alpha=0.05, activation=logistic, total=   9.7s\n",
            "[CV] solver=adam, learning_rate=invscaling, hidden_layer_sizes=(50, 100, 50), alpha=0.0001, activation=tanh \n"
          ],
          "name": "stdout"
        },
        {
          "output_type": "stream",
          "text": [
            "/usr/local/lib/python3.7/dist-packages/sklearn/neural_network/_multilayer_perceptron.py:571: ConvergenceWarning: Stochastic Optimizer: Maximum iterations (200) reached and the optimization hasn't converged yet.\n",
            "  % self.max_iter, ConvergenceWarning)\n"
          ],
          "name": "stderr"
        },
        {
          "output_type": "stream",
          "text": [
            "[CV]  solver=adam, learning_rate=invscaling, hidden_layer_sizes=(50, 100, 50), alpha=0.0001, activation=tanh, total=  37.9s\n",
            "[CV] solver=adam, learning_rate=invscaling, hidden_layer_sizes=(50, 100, 50), alpha=0.0001, activation=tanh \n"
          ],
          "name": "stdout"
        },
        {
          "output_type": "stream",
          "text": [
            "/usr/local/lib/python3.7/dist-packages/sklearn/neural_network/_multilayer_perceptron.py:571: ConvergenceWarning: Stochastic Optimizer: Maximum iterations (200) reached and the optimization hasn't converged yet.\n",
            "  % self.max_iter, ConvergenceWarning)\n"
          ],
          "name": "stderr"
        },
        {
          "output_type": "stream",
          "text": [
            "[CV]  solver=adam, learning_rate=invscaling, hidden_layer_sizes=(50, 100, 50), alpha=0.0001, activation=tanh, total=  37.8s\n",
            "[CV] solver=adam, learning_rate=invscaling, hidden_layer_sizes=(50, 100, 50), alpha=0.0001, activation=tanh \n"
          ],
          "name": "stdout"
        },
        {
          "output_type": "stream",
          "text": [
            "/usr/local/lib/python3.7/dist-packages/sklearn/neural_network/_multilayer_perceptron.py:571: ConvergenceWarning: Stochastic Optimizer: Maximum iterations (200) reached and the optimization hasn't converged yet.\n",
            "  % self.max_iter, ConvergenceWarning)\n"
          ],
          "name": "stderr"
        },
        {
          "output_type": "stream",
          "text": [
            "[CV]  solver=adam, learning_rate=invscaling, hidden_layer_sizes=(50, 100, 50), alpha=0.0001, activation=tanh, total=  38.0s\n",
            "[CV] solver=adam, learning_rate=invscaling, hidden_layer_sizes=(50, 100, 50), alpha=0.0001, activation=tanh \n"
          ],
          "name": "stdout"
        },
        {
          "output_type": "stream",
          "text": [
            "/usr/local/lib/python3.7/dist-packages/sklearn/neural_network/_multilayer_perceptron.py:571: ConvergenceWarning: Stochastic Optimizer: Maximum iterations (200) reached and the optimization hasn't converged yet.\n",
            "  % self.max_iter, ConvergenceWarning)\n"
          ],
          "name": "stderr"
        },
        {
          "output_type": "stream",
          "text": [
            "[CV]  solver=adam, learning_rate=invscaling, hidden_layer_sizes=(50, 100, 50), alpha=0.0001, activation=tanh, total=  38.0s\n",
            "[CV] solver=adam, learning_rate=invscaling, hidden_layer_sizes=(50, 100, 50), alpha=0.0001, activation=tanh \n"
          ],
          "name": "stdout"
        },
        {
          "output_type": "stream",
          "text": [
            "/usr/local/lib/python3.7/dist-packages/sklearn/neural_network/_multilayer_perceptron.py:571: ConvergenceWarning: Stochastic Optimizer: Maximum iterations (200) reached and the optimization hasn't converged yet.\n",
            "  % self.max_iter, ConvergenceWarning)\n"
          ],
          "name": "stderr"
        },
        {
          "output_type": "stream",
          "text": [
            "[CV]  solver=adam, learning_rate=invscaling, hidden_layer_sizes=(50, 100, 50), alpha=0.0001, activation=tanh, total=  37.8s\n",
            "[CV] solver=adam, learning_rate=invscaling, hidden_layer_sizes=(50, 100, 50), alpha=0.05, activation=tanh \n"
          ],
          "name": "stdout"
        },
        {
          "output_type": "stream",
          "text": [
            "/usr/local/lib/python3.7/dist-packages/sklearn/neural_network/_multilayer_perceptron.py:571: ConvergenceWarning: Stochastic Optimizer: Maximum iterations (200) reached and the optimization hasn't converged yet.\n",
            "  % self.max_iter, ConvergenceWarning)\n"
          ],
          "name": "stderr"
        },
        {
          "output_type": "stream",
          "text": [
            "[CV]  solver=adam, learning_rate=invscaling, hidden_layer_sizes=(50, 100, 50), alpha=0.05, activation=tanh, total=  36.7s\n",
            "[CV] solver=adam, learning_rate=invscaling, hidden_layer_sizes=(50, 100, 50), alpha=0.05, activation=tanh \n"
          ],
          "name": "stdout"
        },
        {
          "output_type": "stream",
          "text": [
            "/usr/local/lib/python3.7/dist-packages/sklearn/neural_network/_multilayer_perceptron.py:571: ConvergenceWarning: Stochastic Optimizer: Maximum iterations (200) reached and the optimization hasn't converged yet.\n",
            "  % self.max_iter, ConvergenceWarning)\n"
          ],
          "name": "stderr"
        },
        {
          "output_type": "stream",
          "text": [
            "[CV]  solver=adam, learning_rate=invscaling, hidden_layer_sizes=(50, 100, 50), alpha=0.05, activation=tanh, total=  36.8s\n",
            "[CV] solver=adam, learning_rate=invscaling, hidden_layer_sizes=(50, 100, 50), alpha=0.05, activation=tanh \n"
          ],
          "name": "stdout"
        },
        {
          "output_type": "stream",
          "text": [
            "/usr/local/lib/python3.7/dist-packages/sklearn/neural_network/_multilayer_perceptron.py:571: ConvergenceWarning: Stochastic Optimizer: Maximum iterations (200) reached and the optimization hasn't converged yet.\n",
            "  % self.max_iter, ConvergenceWarning)\n"
          ],
          "name": "stderr"
        },
        {
          "output_type": "stream",
          "text": [
            "[CV]  solver=adam, learning_rate=invscaling, hidden_layer_sizes=(50, 100, 50), alpha=0.05, activation=tanh, total=  36.5s\n",
            "[CV] solver=adam, learning_rate=invscaling, hidden_layer_sizes=(50, 100, 50), alpha=0.05, activation=tanh \n",
            "[CV]  solver=adam, learning_rate=invscaling, hidden_layer_sizes=(50, 100, 50), alpha=0.05, activation=tanh, total=  28.3s\n",
            "[CV] solver=adam, learning_rate=invscaling, hidden_layer_sizes=(50, 100, 50), alpha=0.05, activation=tanh \n",
            "[CV]  solver=adam, learning_rate=invscaling, hidden_layer_sizes=(50, 100, 50), alpha=0.05, activation=tanh, total=  27.8s\n",
            "[CV] solver=sgd, learning_rate=invscaling, hidden_layer_sizes=(50, 50, 50), alpha=0.0001, activation=tanh \n",
            "[CV]  solver=sgd, learning_rate=invscaling, hidden_layer_sizes=(50, 50, 50), alpha=0.0001, activation=tanh, total=   2.0s\n",
            "[CV] solver=sgd, learning_rate=invscaling, hidden_layer_sizes=(50, 50, 50), alpha=0.0001, activation=tanh \n",
            "[CV]  solver=sgd, learning_rate=invscaling, hidden_layer_sizes=(50, 50, 50), alpha=0.0001, activation=tanh, total=   2.0s\n",
            "[CV] solver=sgd, learning_rate=invscaling, hidden_layer_sizes=(50, 50, 50), alpha=0.0001, activation=tanh \n",
            "[CV]  solver=sgd, learning_rate=invscaling, hidden_layer_sizes=(50, 50, 50), alpha=0.0001, activation=tanh, total=   2.0s\n",
            "[CV] solver=sgd, learning_rate=invscaling, hidden_layer_sizes=(50, 50, 50), alpha=0.0001, activation=tanh \n",
            "[CV]  solver=sgd, learning_rate=invscaling, hidden_layer_sizes=(50, 50, 50), alpha=0.0001, activation=tanh, total=   2.2s\n",
            "[CV] solver=sgd, learning_rate=invscaling, hidden_layer_sizes=(50, 50, 50), alpha=0.0001, activation=tanh \n",
            "[CV]  solver=sgd, learning_rate=invscaling, hidden_layer_sizes=(50, 50, 50), alpha=0.0001, activation=tanh, total=   2.0s\n",
            "[CV] solver=sgd, learning_rate=constant, hidden_layer_sizes=(100,), alpha=0.05, activation=tanh \n"
          ],
          "name": "stdout"
        },
        {
          "output_type": "stream",
          "text": [
            "/usr/local/lib/python3.7/dist-packages/sklearn/neural_network/_multilayer_perceptron.py:571: ConvergenceWarning: Stochastic Optimizer: Maximum iterations (200) reached and the optimization hasn't converged yet.\n",
            "  % self.max_iter, ConvergenceWarning)\n"
          ],
          "name": "stderr"
        },
        {
          "output_type": "stream",
          "text": [
            "[CV]  solver=sgd, learning_rate=constant, hidden_layer_sizes=(100,), alpha=0.05, activation=tanh, total=  15.4s\n",
            "[CV] solver=sgd, learning_rate=constant, hidden_layer_sizes=(100,), alpha=0.05, activation=tanh \n"
          ],
          "name": "stdout"
        },
        {
          "output_type": "stream",
          "text": [
            "/usr/local/lib/python3.7/dist-packages/sklearn/neural_network/_multilayer_perceptron.py:571: ConvergenceWarning: Stochastic Optimizer: Maximum iterations (200) reached and the optimization hasn't converged yet.\n",
            "  % self.max_iter, ConvergenceWarning)\n"
          ],
          "name": "stderr"
        },
        {
          "output_type": "stream",
          "text": [
            "[CV]  solver=sgd, learning_rate=constant, hidden_layer_sizes=(100,), alpha=0.05, activation=tanh, total=  15.5s\n",
            "[CV] solver=sgd, learning_rate=constant, hidden_layer_sizes=(100,), alpha=0.05, activation=tanh \n"
          ],
          "name": "stdout"
        },
        {
          "output_type": "stream",
          "text": [
            "/usr/local/lib/python3.7/dist-packages/sklearn/neural_network/_multilayer_perceptron.py:571: ConvergenceWarning: Stochastic Optimizer: Maximum iterations (200) reached and the optimization hasn't converged yet.\n",
            "  % self.max_iter, ConvergenceWarning)\n"
          ],
          "name": "stderr"
        },
        {
          "output_type": "stream",
          "text": [
            "[CV]  solver=sgd, learning_rate=constant, hidden_layer_sizes=(100,), alpha=0.05, activation=tanh, total=  15.4s\n",
            "[CV] solver=sgd, learning_rate=constant, hidden_layer_sizes=(100,), alpha=0.05, activation=tanh \n"
          ],
          "name": "stdout"
        },
        {
          "output_type": "stream",
          "text": [
            "/usr/local/lib/python3.7/dist-packages/sklearn/neural_network/_multilayer_perceptron.py:571: ConvergenceWarning: Stochastic Optimizer: Maximum iterations (200) reached and the optimization hasn't converged yet.\n",
            "  % self.max_iter, ConvergenceWarning)\n"
          ],
          "name": "stderr"
        },
        {
          "output_type": "stream",
          "text": [
            "[CV]  solver=sgd, learning_rate=constant, hidden_layer_sizes=(100,), alpha=0.05, activation=tanh, total=  15.5s\n",
            "[CV] solver=sgd, learning_rate=constant, hidden_layer_sizes=(100,), alpha=0.05, activation=tanh \n"
          ],
          "name": "stdout"
        },
        {
          "output_type": "stream",
          "text": [
            "/usr/local/lib/python3.7/dist-packages/sklearn/neural_network/_multilayer_perceptron.py:571: ConvergenceWarning: Stochastic Optimizer: Maximum iterations (200) reached and the optimization hasn't converged yet.\n",
            "  % self.max_iter, ConvergenceWarning)\n"
          ],
          "name": "stderr"
        },
        {
          "output_type": "stream",
          "text": [
            "[CV]  solver=sgd, learning_rate=constant, hidden_layer_sizes=(100,), alpha=0.05, activation=tanh, total=  15.3s\n",
            "[CV] solver=sgd, learning_rate=invscaling, hidden_layer_sizes=(50, 100, 50), alpha=0.05, activation=tanh \n",
            "[CV]  solver=sgd, learning_rate=invscaling, hidden_layer_sizes=(50, 100, 50), alpha=0.05, activation=tanh, total=   2.6s\n",
            "[CV] solver=sgd, learning_rate=invscaling, hidden_layer_sizes=(50, 100, 50), alpha=0.05, activation=tanh \n",
            "[CV]  solver=sgd, learning_rate=invscaling, hidden_layer_sizes=(50, 100, 50), alpha=0.05, activation=tanh, total=   2.5s\n",
            "[CV] solver=sgd, learning_rate=invscaling, hidden_layer_sizes=(50, 100, 50), alpha=0.05, activation=tanh \n",
            "[CV]  solver=sgd, learning_rate=invscaling, hidden_layer_sizes=(50, 100, 50), alpha=0.05, activation=tanh, total=   2.5s\n",
            "[CV] solver=sgd, learning_rate=invscaling, hidden_layer_sizes=(50, 100, 50), alpha=0.05, activation=tanh \n",
            "[CV]  solver=sgd, learning_rate=invscaling, hidden_layer_sizes=(50, 100, 50), alpha=0.05, activation=tanh, total=   2.7s\n",
            "[CV] solver=sgd, learning_rate=invscaling, hidden_layer_sizes=(50, 100, 50), alpha=0.05, activation=tanh \n",
            "[CV]  solver=sgd, learning_rate=invscaling, hidden_layer_sizes=(50, 100, 50), alpha=0.05, activation=tanh, total=   2.5s\n",
            "[CV] solver=adam, learning_rate=invscaling, hidden_layer_sizes=(100,), alpha=0.0001, activation=relu \n"
          ],
          "name": "stdout"
        },
        {
          "output_type": "stream",
          "text": [
            "/usr/local/lib/python3.7/dist-packages/sklearn/neural_network/_multilayer_perceptron.py:571: ConvergenceWarning: Stochastic Optimizer: Maximum iterations (200) reached and the optimization hasn't converged yet.\n",
            "  % self.max_iter, ConvergenceWarning)\n"
          ],
          "name": "stderr"
        },
        {
          "output_type": "stream",
          "text": [
            "[CV]  solver=adam, learning_rate=invscaling, hidden_layer_sizes=(100,), alpha=0.0001, activation=relu, total=  10.5s\n",
            "[CV] solver=adam, learning_rate=invscaling, hidden_layer_sizes=(100,), alpha=0.0001, activation=relu \n"
          ],
          "name": "stdout"
        },
        {
          "output_type": "stream",
          "text": [
            "/usr/local/lib/python3.7/dist-packages/sklearn/neural_network/_multilayer_perceptron.py:571: ConvergenceWarning: Stochastic Optimizer: Maximum iterations (200) reached and the optimization hasn't converged yet.\n",
            "  % self.max_iter, ConvergenceWarning)\n"
          ],
          "name": "stderr"
        },
        {
          "output_type": "stream",
          "text": [
            "[CV]  solver=adam, learning_rate=invscaling, hidden_layer_sizes=(100,), alpha=0.0001, activation=relu, total=  10.5s\n",
            "[CV] solver=adam, learning_rate=invscaling, hidden_layer_sizes=(100,), alpha=0.0001, activation=relu \n"
          ],
          "name": "stdout"
        },
        {
          "output_type": "stream",
          "text": [
            "/usr/local/lib/python3.7/dist-packages/sklearn/neural_network/_multilayer_perceptron.py:571: ConvergenceWarning: Stochastic Optimizer: Maximum iterations (200) reached and the optimization hasn't converged yet.\n",
            "  % self.max_iter, ConvergenceWarning)\n"
          ],
          "name": "stderr"
        },
        {
          "output_type": "stream",
          "text": [
            "[CV]  solver=adam, learning_rate=invscaling, hidden_layer_sizes=(100,), alpha=0.0001, activation=relu, total=  10.6s\n",
            "[CV] solver=adam, learning_rate=invscaling, hidden_layer_sizes=(100,), alpha=0.0001, activation=relu \n"
          ],
          "name": "stdout"
        },
        {
          "output_type": "stream",
          "text": [
            "/usr/local/lib/python3.7/dist-packages/sklearn/neural_network/_multilayer_perceptron.py:571: ConvergenceWarning: Stochastic Optimizer: Maximum iterations (200) reached and the optimization hasn't converged yet.\n",
            "  % self.max_iter, ConvergenceWarning)\n"
          ],
          "name": "stderr"
        },
        {
          "output_type": "stream",
          "text": [
            "[CV]  solver=adam, learning_rate=invscaling, hidden_layer_sizes=(100,), alpha=0.0001, activation=relu, total=  10.6s\n",
            "[CV] solver=adam, learning_rate=invscaling, hidden_layer_sizes=(100,), alpha=0.0001, activation=relu \n"
          ],
          "name": "stdout"
        },
        {
          "output_type": "stream",
          "text": [
            "/usr/local/lib/python3.7/dist-packages/sklearn/neural_network/_multilayer_perceptron.py:571: ConvergenceWarning: Stochastic Optimizer: Maximum iterations (200) reached and the optimization hasn't converged yet.\n",
            "  % self.max_iter, ConvergenceWarning)\n"
          ],
          "name": "stderr"
        },
        {
          "output_type": "stream",
          "text": [
            "[CV]  solver=adam, learning_rate=invscaling, hidden_layer_sizes=(100,), alpha=0.0001, activation=relu, total=  10.5s\n",
            "[CV] solver=sgd, learning_rate=adaptive, hidden_layer_sizes=(50, 100, 50), alpha=0.0001, activation=tanh \n"
          ],
          "name": "stdout"
        },
        {
          "output_type": "stream",
          "text": [
            "/usr/local/lib/python3.7/dist-packages/sklearn/neural_network/_multilayer_perceptron.py:571: ConvergenceWarning: Stochastic Optimizer: Maximum iterations (200) reached and the optimization hasn't converged yet.\n",
            "  % self.max_iter, ConvergenceWarning)\n"
          ],
          "name": "stderr"
        },
        {
          "output_type": "stream",
          "text": [
            "[CV]  solver=sgd, learning_rate=adaptive, hidden_layer_sizes=(50, 100, 50), alpha=0.0001, activation=tanh, total=  34.0s\n",
            "[CV] solver=sgd, learning_rate=adaptive, hidden_layer_sizes=(50, 100, 50), alpha=0.0001, activation=tanh \n"
          ],
          "name": "stdout"
        },
        {
          "output_type": "stream",
          "text": [
            "/usr/local/lib/python3.7/dist-packages/sklearn/neural_network/_multilayer_perceptron.py:571: ConvergenceWarning: Stochastic Optimizer: Maximum iterations (200) reached and the optimization hasn't converged yet.\n",
            "  % self.max_iter, ConvergenceWarning)\n"
          ],
          "name": "stderr"
        },
        {
          "output_type": "stream",
          "text": [
            "[CV]  solver=sgd, learning_rate=adaptive, hidden_layer_sizes=(50, 100, 50), alpha=0.0001, activation=tanh, total=  34.4s\n",
            "[CV] solver=sgd, learning_rate=adaptive, hidden_layer_sizes=(50, 100, 50), alpha=0.0001, activation=tanh \n"
          ],
          "name": "stdout"
        },
        {
          "output_type": "stream",
          "text": [
            "/usr/local/lib/python3.7/dist-packages/sklearn/neural_network/_multilayer_perceptron.py:571: ConvergenceWarning: Stochastic Optimizer: Maximum iterations (200) reached and the optimization hasn't converged yet.\n",
            "  % self.max_iter, ConvergenceWarning)\n"
          ],
          "name": "stderr"
        },
        {
          "output_type": "stream",
          "text": [
            "[CV]  solver=sgd, learning_rate=adaptive, hidden_layer_sizes=(50, 100, 50), alpha=0.0001, activation=tanh, total=  33.8s\n",
            "[CV] solver=sgd, learning_rate=adaptive, hidden_layer_sizes=(50, 100, 50), alpha=0.0001, activation=tanh \n"
          ],
          "name": "stdout"
        },
        {
          "output_type": "stream",
          "text": [
            "/usr/local/lib/python3.7/dist-packages/sklearn/neural_network/_multilayer_perceptron.py:571: ConvergenceWarning: Stochastic Optimizer: Maximum iterations (200) reached and the optimization hasn't converged yet.\n",
            "  % self.max_iter, ConvergenceWarning)\n"
          ],
          "name": "stderr"
        },
        {
          "output_type": "stream",
          "text": [
            "[CV]  solver=sgd, learning_rate=adaptive, hidden_layer_sizes=(50, 100, 50), alpha=0.0001, activation=tanh, total=  34.2s\n",
            "[CV] solver=sgd, learning_rate=adaptive, hidden_layer_sizes=(50, 100, 50), alpha=0.0001, activation=tanh \n"
          ],
          "name": "stdout"
        },
        {
          "output_type": "stream",
          "text": [
            "/usr/local/lib/python3.7/dist-packages/sklearn/neural_network/_multilayer_perceptron.py:571: ConvergenceWarning: Stochastic Optimizer: Maximum iterations (200) reached and the optimization hasn't converged yet.\n",
            "  % self.max_iter, ConvergenceWarning)\n"
          ],
          "name": "stderr"
        },
        {
          "output_type": "stream",
          "text": [
            "[CV]  solver=sgd, learning_rate=adaptive, hidden_layer_sizes=(50, 100, 50), alpha=0.0001, activation=tanh, total=  34.0s\n",
            "[CV] solver=sgd, learning_rate=adaptive, hidden_layer_sizes=(100,), alpha=0.0001, activation=tanh \n"
          ],
          "name": "stdout"
        },
        {
          "output_type": "stream",
          "text": [
            "/usr/local/lib/python3.7/dist-packages/sklearn/neural_network/_multilayer_perceptron.py:571: ConvergenceWarning: Stochastic Optimizer: Maximum iterations (200) reached and the optimization hasn't converged yet.\n",
            "  % self.max_iter, ConvergenceWarning)\n"
          ],
          "name": "stderr"
        },
        {
          "output_type": "stream",
          "text": [
            "[CV]  solver=sgd, learning_rate=adaptive, hidden_layer_sizes=(100,), alpha=0.0001, activation=tanh, total=  15.5s\n",
            "[CV] solver=sgd, learning_rate=adaptive, hidden_layer_sizes=(100,), alpha=0.0001, activation=tanh \n"
          ],
          "name": "stdout"
        },
        {
          "output_type": "stream",
          "text": [
            "/usr/local/lib/python3.7/dist-packages/sklearn/neural_network/_multilayer_perceptron.py:571: ConvergenceWarning: Stochastic Optimizer: Maximum iterations (200) reached and the optimization hasn't converged yet.\n",
            "  % self.max_iter, ConvergenceWarning)\n"
          ],
          "name": "stderr"
        },
        {
          "output_type": "stream",
          "text": [
            "[CV]  solver=sgd, learning_rate=adaptive, hidden_layer_sizes=(100,), alpha=0.0001, activation=tanh, total=  15.2s\n",
            "[CV] solver=sgd, learning_rate=adaptive, hidden_layer_sizes=(100,), alpha=0.0001, activation=tanh \n"
          ],
          "name": "stdout"
        },
        {
          "output_type": "stream",
          "text": [
            "/usr/local/lib/python3.7/dist-packages/sklearn/neural_network/_multilayer_perceptron.py:571: ConvergenceWarning: Stochastic Optimizer: Maximum iterations (200) reached and the optimization hasn't converged yet.\n",
            "  % self.max_iter, ConvergenceWarning)\n"
          ],
          "name": "stderr"
        },
        {
          "output_type": "stream",
          "text": [
            "[CV]  solver=sgd, learning_rate=adaptive, hidden_layer_sizes=(100,), alpha=0.0001, activation=tanh, total=  15.4s\n",
            "[CV] solver=sgd, learning_rate=adaptive, hidden_layer_sizes=(100,), alpha=0.0001, activation=tanh \n"
          ],
          "name": "stdout"
        },
        {
          "output_type": "stream",
          "text": [
            "/usr/local/lib/python3.7/dist-packages/sklearn/neural_network/_multilayer_perceptron.py:571: ConvergenceWarning: Stochastic Optimizer: Maximum iterations (200) reached and the optimization hasn't converged yet.\n",
            "  % self.max_iter, ConvergenceWarning)\n"
          ],
          "name": "stderr"
        },
        {
          "output_type": "stream",
          "text": [
            "[CV]  solver=sgd, learning_rate=adaptive, hidden_layer_sizes=(100,), alpha=0.0001, activation=tanh, total=  15.1s\n",
            "[CV] solver=sgd, learning_rate=adaptive, hidden_layer_sizes=(100,), alpha=0.0001, activation=tanh \n"
          ],
          "name": "stdout"
        },
        {
          "output_type": "stream",
          "text": [
            "/usr/local/lib/python3.7/dist-packages/sklearn/neural_network/_multilayer_perceptron.py:571: ConvergenceWarning: Stochastic Optimizer: Maximum iterations (200) reached and the optimization hasn't converged yet.\n",
            "  % self.max_iter, ConvergenceWarning)\n"
          ],
          "name": "stderr"
        },
        {
          "output_type": "stream",
          "text": [
            "[CV]  solver=sgd, learning_rate=adaptive, hidden_layer_sizes=(100,), alpha=0.0001, activation=tanh, total=  15.4s\n",
            "[CV] solver=sgd, learning_rate=constant, hidden_layer_sizes=(100,), alpha=0.0001, activation=relu \n"
          ],
          "name": "stdout"
        },
        {
          "output_type": "stream",
          "text": [
            "/usr/local/lib/python3.7/dist-packages/sklearn/neural_network/_multilayer_perceptron.py:571: ConvergenceWarning: Stochastic Optimizer: Maximum iterations (200) reached and the optimization hasn't converged yet.\n",
            "  % self.max_iter, ConvergenceWarning)\n"
          ],
          "name": "stderr"
        },
        {
          "output_type": "stream",
          "text": [
            "[CV]  solver=sgd, learning_rate=constant, hidden_layer_sizes=(100,), alpha=0.0001, activation=relu, total=   9.6s\n",
            "[CV] solver=sgd, learning_rate=constant, hidden_layer_sizes=(100,), alpha=0.0001, activation=relu \n"
          ],
          "name": "stdout"
        },
        {
          "output_type": "stream",
          "text": [
            "/usr/local/lib/python3.7/dist-packages/sklearn/neural_network/_multilayer_perceptron.py:571: ConvergenceWarning: Stochastic Optimizer: Maximum iterations (200) reached and the optimization hasn't converged yet.\n",
            "  % self.max_iter, ConvergenceWarning)\n"
          ],
          "name": "stderr"
        },
        {
          "output_type": "stream",
          "text": [
            "[CV]  solver=sgd, learning_rate=constant, hidden_layer_sizes=(100,), alpha=0.0001, activation=relu, total=   9.5s\n",
            "[CV] solver=sgd, learning_rate=constant, hidden_layer_sizes=(100,), alpha=0.0001, activation=relu \n"
          ],
          "name": "stdout"
        },
        {
          "output_type": "stream",
          "text": [
            "/usr/local/lib/python3.7/dist-packages/sklearn/neural_network/_multilayer_perceptron.py:571: ConvergenceWarning: Stochastic Optimizer: Maximum iterations (200) reached and the optimization hasn't converged yet.\n",
            "  % self.max_iter, ConvergenceWarning)\n"
          ],
          "name": "stderr"
        },
        {
          "output_type": "stream",
          "text": [
            "[CV]  solver=sgd, learning_rate=constant, hidden_layer_sizes=(100,), alpha=0.0001, activation=relu, total=   9.5s\n",
            "[CV] solver=sgd, learning_rate=constant, hidden_layer_sizes=(100,), alpha=0.0001, activation=relu \n"
          ],
          "name": "stdout"
        },
        {
          "output_type": "stream",
          "text": [
            "/usr/local/lib/python3.7/dist-packages/sklearn/neural_network/_multilayer_perceptron.py:571: ConvergenceWarning: Stochastic Optimizer: Maximum iterations (200) reached and the optimization hasn't converged yet.\n",
            "  % self.max_iter, ConvergenceWarning)\n"
          ],
          "name": "stderr"
        },
        {
          "output_type": "stream",
          "text": [
            "[CV]  solver=sgd, learning_rate=constant, hidden_layer_sizes=(100,), alpha=0.0001, activation=relu, total=   9.7s\n",
            "[CV] solver=sgd, learning_rate=constant, hidden_layer_sizes=(100,), alpha=0.0001, activation=relu \n"
          ],
          "name": "stdout"
        },
        {
          "output_type": "stream",
          "text": [
            "/usr/local/lib/python3.7/dist-packages/sklearn/neural_network/_multilayer_perceptron.py:571: ConvergenceWarning: Stochastic Optimizer: Maximum iterations (200) reached and the optimization hasn't converged yet.\n",
            "  % self.max_iter, ConvergenceWarning)\n"
          ],
          "name": "stderr"
        },
        {
          "output_type": "stream",
          "text": [
            "[CV]  solver=sgd, learning_rate=constant, hidden_layer_sizes=(100,), alpha=0.0001, activation=relu, total=   9.6s\n",
            "[CV] solver=adam, learning_rate=invscaling, hidden_layer_sizes=(100,), alpha=0.05, activation=tanh \n"
          ],
          "name": "stdout"
        },
        {
          "output_type": "stream",
          "text": [
            "/usr/local/lib/python3.7/dist-packages/sklearn/neural_network/_multilayer_perceptron.py:571: ConvergenceWarning: Stochastic Optimizer: Maximum iterations (200) reached and the optimization hasn't converged yet.\n",
            "  % self.max_iter, ConvergenceWarning)\n"
          ],
          "name": "stderr"
        },
        {
          "output_type": "stream",
          "text": [
            "[CV]  solver=adam, learning_rate=invscaling, hidden_layer_sizes=(100,), alpha=0.05, activation=tanh, total=  15.9s\n",
            "[CV] solver=adam, learning_rate=invscaling, hidden_layer_sizes=(100,), alpha=0.05, activation=tanh \n"
          ],
          "name": "stdout"
        },
        {
          "output_type": "stream",
          "text": [
            "/usr/local/lib/python3.7/dist-packages/sklearn/neural_network/_multilayer_perceptron.py:571: ConvergenceWarning: Stochastic Optimizer: Maximum iterations (200) reached and the optimization hasn't converged yet.\n",
            "  % self.max_iter, ConvergenceWarning)\n"
          ],
          "name": "stderr"
        },
        {
          "output_type": "stream",
          "text": [
            "[CV]  solver=adam, learning_rate=invscaling, hidden_layer_sizes=(100,), alpha=0.05, activation=tanh, total=  16.0s\n",
            "[CV] solver=adam, learning_rate=invscaling, hidden_layer_sizes=(100,), alpha=0.05, activation=tanh \n",
            "[CV]  solver=adam, learning_rate=invscaling, hidden_layer_sizes=(100,), alpha=0.05, activation=tanh, total=   4.7s\n",
            "[CV] solver=adam, learning_rate=invscaling, hidden_layer_sizes=(100,), alpha=0.05, activation=tanh \n"
          ],
          "name": "stdout"
        },
        {
          "output_type": "stream",
          "text": [
            "/usr/local/lib/python3.7/dist-packages/sklearn/neural_network/_multilayer_perceptron.py:571: ConvergenceWarning: Stochastic Optimizer: Maximum iterations (200) reached and the optimization hasn't converged yet.\n",
            "  % self.max_iter, ConvergenceWarning)\n"
          ],
          "name": "stderr"
        },
        {
          "output_type": "stream",
          "text": [
            "[CV]  solver=adam, learning_rate=invscaling, hidden_layer_sizes=(100,), alpha=0.05, activation=tanh, total=  15.9s\n",
            "[CV] solver=adam, learning_rate=invscaling, hidden_layer_sizes=(100,), alpha=0.05, activation=tanh \n",
            "[CV]  solver=adam, learning_rate=invscaling, hidden_layer_sizes=(100,), alpha=0.05, activation=tanh, total=   3.8s\n",
            "[CV] solver=adam, learning_rate=adaptive, hidden_layer_sizes=(50, 50, 50), alpha=0.0001, activation=logistic \n",
            "[CV]  solver=adam, learning_rate=adaptive, hidden_layer_sizes=(50, 50, 50), alpha=0.0001, activation=logistic, total=  13.3s\n",
            "[CV] solver=adam, learning_rate=adaptive, hidden_layer_sizes=(50, 50, 50), alpha=0.0001, activation=logistic \n"
          ],
          "name": "stdout"
        },
        {
          "output_type": "stream",
          "text": [
            "/usr/local/lib/python3.7/dist-packages/sklearn/neural_network/_multilayer_perceptron.py:571: ConvergenceWarning: Stochastic Optimizer: Maximum iterations (200) reached and the optimization hasn't converged yet.\n",
            "  % self.max_iter, ConvergenceWarning)\n"
          ],
          "name": "stderr"
        },
        {
          "output_type": "stream",
          "text": [
            "[CV]  solver=adam, learning_rate=adaptive, hidden_layer_sizes=(50, 50, 50), alpha=0.0001, activation=logistic, total=  25.2s\n",
            "[CV] solver=adam, learning_rate=adaptive, hidden_layer_sizes=(50, 50, 50), alpha=0.0001, activation=logistic \n",
            "[CV]  solver=adam, learning_rate=adaptive, hidden_layer_sizes=(50, 50, 50), alpha=0.0001, activation=logistic, total=  10.8s\n",
            "[CV] solver=adam, learning_rate=adaptive, hidden_layer_sizes=(50, 50, 50), alpha=0.0001, activation=logistic \n",
            "[CV]  solver=adam, learning_rate=adaptive, hidden_layer_sizes=(50, 50, 50), alpha=0.0001, activation=logistic, total=  13.0s\n",
            "[CV] solver=adam, learning_rate=adaptive, hidden_layer_sizes=(50, 50, 50), alpha=0.0001, activation=logistic \n",
            "[CV]  solver=adam, learning_rate=adaptive, hidden_layer_sizes=(50, 50, 50), alpha=0.0001, activation=logistic, total=   8.9s\n",
            "[CV] solver=sgd, learning_rate=adaptive, hidden_layer_sizes=(50, 50, 50), alpha=0.0001, activation=relu \n"
          ],
          "name": "stdout"
        },
        {
          "output_type": "stream",
          "text": [
            "/usr/local/lib/python3.7/dist-packages/sklearn/neural_network/_multilayer_perceptron.py:571: ConvergenceWarning: Stochastic Optimizer: Maximum iterations (200) reached and the optimization hasn't converged yet.\n",
            "  % self.max_iter, ConvergenceWarning)\n"
          ],
          "name": "stderr"
        },
        {
          "output_type": "stream",
          "text": [
            "[CV]  solver=sgd, learning_rate=adaptive, hidden_layer_sizes=(50, 50, 50), alpha=0.0001, activation=relu, total=  18.0s\n",
            "[CV] solver=sgd, learning_rate=adaptive, hidden_layer_sizes=(50, 50, 50), alpha=0.0001, activation=relu \n"
          ],
          "name": "stdout"
        },
        {
          "output_type": "stream",
          "text": [
            "/usr/local/lib/python3.7/dist-packages/sklearn/neural_network/_multilayer_perceptron.py:571: ConvergenceWarning: Stochastic Optimizer: Maximum iterations (200) reached and the optimization hasn't converged yet.\n",
            "  % self.max_iter, ConvergenceWarning)\n"
          ],
          "name": "stderr"
        },
        {
          "output_type": "stream",
          "text": [
            "[CV]  solver=sgd, learning_rate=adaptive, hidden_layer_sizes=(50, 50, 50), alpha=0.0001, activation=relu, total=  18.0s\n",
            "[CV] solver=sgd, learning_rate=adaptive, hidden_layer_sizes=(50, 50, 50), alpha=0.0001, activation=relu \n"
          ],
          "name": "stdout"
        },
        {
          "output_type": "stream",
          "text": [
            "/usr/local/lib/python3.7/dist-packages/sklearn/neural_network/_multilayer_perceptron.py:571: ConvergenceWarning: Stochastic Optimizer: Maximum iterations (200) reached and the optimization hasn't converged yet.\n",
            "  % self.max_iter, ConvergenceWarning)\n"
          ],
          "name": "stderr"
        },
        {
          "output_type": "stream",
          "text": [
            "[CV]  solver=sgd, learning_rate=adaptive, hidden_layer_sizes=(50, 50, 50), alpha=0.0001, activation=relu, total=  18.2s\n",
            "[CV] solver=sgd, learning_rate=adaptive, hidden_layer_sizes=(50, 50, 50), alpha=0.0001, activation=relu \n"
          ],
          "name": "stdout"
        },
        {
          "output_type": "stream",
          "text": [
            "/usr/local/lib/python3.7/dist-packages/sklearn/neural_network/_multilayer_perceptron.py:571: ConvergenceWarning: Stochastic Optimizer: Maximum iterations (200) reached and the optimization hasn't converged yet.\n",
            "  % self.max_iter, ConvergenceWarning)\n"
          ],
          "name": "stderr"
        },
        {
          "output_type": "stream",
          "text": [
            "[CV]  solver=sgd, learning_rate=adaptive, hidden_layer_sizes=(50, 50, 50), alpha=0.0001, activation=relu, total=  17.9s\n",
            "[CV] solver=sgd, learning_rate=adaptive, hidden_layer_sizes=(50, 50, 50), alpha=0.0001, activation=relu \n"
          ],
          "name": "stdout"
        },
        {
          "output_type": "stream",
          "text": [
            "/usr/local/lib/python3.7/dist-packages/sklearn/neural_network/_multilayer_perceptron.py:571: ConvergenceWarning: Stochastic Optimizer: Maximum iterations (200) reached and the optimization hasn't converged yet.\n",
            "  % self.max_iter, ConvergenceWarning)\n"
          ],
          "name": "stderr"
        },
        {
          "output_type": "stream",
          "text": [
            "[CV]  solver=sgd, learning_rate=adaptive, hidden_layer_sizes=(50, 50, 50), alpha=0.0001, activation=relu, total=  17.9s\n",
            "[CV] solver=sgd, learning_rate=constant, hidden_layer_sizes=(50, 100, 50), alpha=0.05, activation=logistic \n",
            "[CV]  solver=sgd, learning_rate=constant, hidden_layer_sizes=(50, 100, 50), alpha=0.05, activation=logistic, total=   2.1s\n",
            "[CV] solver=sgd, learning_rate=constant, hidden_layer_sizes=(50, 100, 50), alpha=0.05, activation=logistic \n",
            "[CV]  solver=sgd, learning_rate=constant, hidden_layer_sizes=(50, 100, 50), alpha=0.05, activation=logistic, total=   2.3s\n",
            "[CV] solver=sgd, learning_rate=constant, hidden_layer_sizes=(50, 100, 50), alpha=0.05, activation=logistic \n",
            "[CV]  solver=sgd, learning_rate=constant, hidden_layer_sizes=(50, 100, 50), alpha=0.05, activation=logistic, total=   2.3s\n",
            "[CV] solver=sgd, learning_rate=constant, hidden_layer_sizes=(50, 100, 50), alpha=0.05, activation=logistic \n",
            "[CV]  solver=sgd, learning_rate=constant, hidden_layer_sizes=(50, 100, 50), alpha=0.05, activation=logistic, total=   2.1s\n",
            "[CV] solver=sgd, learning_rate=constant, hidden_layer_sizes=(50, 100, 50), alpha=0.05, activation=logistic \n",
            "[CV]  solver=sgd, learning_rate=constant, hidden_layer_sizes=(50, 100, 50), alpha=0.05, activation=logistic, total=   2.3s\n",
            "[CV] solver=adam, learning_rate=adaptive, hidden_layer_sizes=(50, 50, 50), alpha=0.0001, activation=tanh \n"
          ],
          "name": "stdout"
        },
        {
          "output_type": "stream",
          "text": [
            "/usr/local/lib/python3.7/dist-packages/sklearn/neural_network/_multilayer_perceptron.py:571: ConvergenceWarning: Stochastic Optimizer: Maximum iterations (200) reached and the optimization hasn't converged yet.\n",
            "  % self.max_iter, ConvergenceWarning)\n"
          ],
          "name": "stderr"
        },
        {
          "output_type": "stream",
          "text": [
            "[CV]  solver=adam, learning_rate=adaptive, hidden_layer_sizes=(50, 50, 50), alpha=0.0001, activation=tanh, total=  29.5s\n",
            "[CV] solver=adam, learning_rate=adaptive, hidden_layer_sizes=(50, 50, 50), alpha=0.0001, activation=tanh \n"
          ],
          "name": "stdout"
        },
        {
          "output_type": "stream",
          "text": [
            "/usr/local/lib/python3.7/dist-packages/sklearn/neural_network/_multilayer_perceptron.py:571: ConvergenceWarning: Stochastic Optimizer: Maximum iterations (200) reached and the optimization hasn't converged yet.\n",
            "  % self.max_iter, ConvergenceWarning)\n"
          ],
          "name": "stderr"
        },
        {
          "output_type": "stream",
          "text": [
            "[CV]  solver=adam, learning_rate=adaptive, hidden_layer_sizes=(50, 50, 50), alpha=0.0001, activation=tanh, total=  29.5s\n",
            "[CV] solver=adam, learning_rate=adaptive, hidden_layer_sizes=(50, 50, 50), alpha=0.0001, activation=tanh \n"
          ],
          "name": "stdout"
        },
        {
          "output_type": "stream",
          "text": [
            "/usr/local/lib/python3.7/dist-packages/sklearn/neural_network/_multilayer_perceptron.py:571: ConvergenceWarning: Stochastic Optimizer: Maximum iterations (200) reached and the optimization hasn't converged yet.\n",
            "  % self.max_iter, ConvergenceWarning)\n"
          ],
          "name": "stderr"
        },
        {
          "output_type": "stream",
          "text": [
            "[CV]  solver=adam, learning_rate=adaptive, hidden_layer_sizes=(50, 50, 50), alpha=0.0001, activation=tanh, total=  29.6s\n",
            "[CV] solver=adam, learning_rate=adaptive, hidden_layer_sizes=(50, 50, 50), alpha=0.0001, activation=tanh \n"
          ],
          "name": "stdout"
        },
        {
          "output_type": "stream",
          "text": [
            "/usr/local/lib/python3.7/dist-packages/sklearn/neural_network/_multilayer_perceptron.py:571: ConvergenceWarning: Stochastic Optimizer: Maximum iterations (200) reached and the optimization hasn't converged yet.\n",
            "  % self.max_iter, ConvergenceWarning)\n"
          ],
          "name": "stderr"
        },
        {
          "output_type": "stream",
          "text": [
            "[CV]  solver=adam, learning_rate=adaptive, hidden_layer_sizes=(50, 50, 50), alpha=0.0001, activation=tanh, total=  29.4s\n",
            "[CV] solver=adam, learning_rate=adaptive, hidden_layer_sizes=(50, 50, 50), alpha=0.0001, activation=tanh \n"
          ],
          "name": "stdout"
        },
        {
          "output_type": "stream",
          "text": [
            "/usr/local/lib/python3.7/dist-packages/sklearn/neural_network/_multilayer_perceptron.py:571: ConvergenceWarning: Stochastic Optimizer: Maximum iterations (200) reached and the optimization hasn't converged yet.\n",
            "  % self.max_iter, ConvergenceWarning)\n"
          ],
          "name": "stderr"
        },
        {
          "output_type": "stream",
          "text": [
            "[CV]  solver=adam, learning_rate=adaptive, hidden_layer_sizes=(50, 50, 50), alpha=0.0001, activation=tanh, total=  29.5s\n",
            "[CV] solver=adam, learning_rate=adaptive, hidden_layer_sizes=(50, 100, 50), alpha=0.05, activation=logistic \n",
            "[CV]  solver=adam, learning_rate=adaptive, hidden_layer_sizes=(50, 100, 50), alpha=0.05, activation=logistic, total=  10.9s\n",
            "[CV] solver=adam, learning_rate=adaptive, hidden_layer_sizes=(50, 100, 50), alpha=0.05, activation=logistic \n",
            "[CV]  solver=adam, learning_rate=adaptive, hidden_layer_sizes=(50, 100, 50), alpha=0.05, activation=logistic, total=  14.9s\n",
            "[CV] solver=adam, learning_rate=adaptive, hidden_layer_sizes=(50, 100, 50), alpha=0.05, activation=logistic \n",
            "[CV]  solver=adam, learning_rate=adaptive, hidden_layer_sizes=(50, 100, 50), alpha=0.05, activation=logistic, total=  26.2s\n",
            "[CV] solver=adam, learning_rate=adaptive, hidden_layer_sizes=(50, 100, 50), alpha=0.05, activation=logistic \n",
            "[CV]  solver=adam, learning_rate=adaptive, hidden_layer_sizes=(50, 100, 50), alpha=0.05, activation=logistic, total=  13.5s\n",
            "[CV] solver=adam, learning_rate=adaptive, hidden_layer_sizes=(50, 100, 50), alpha=0.05, activation=logistic \n",
            "[CV]  solver=adam, learning_rate=adaptive, hidden_layer_sizes=(50, 100, 50), alpha=0.05, activation=logistic, total=  16.4s\n"
          ],
          "name": "stdout"
        },
        {
          "output_type": "stream",
          "text": [
            "[Parallel(n_jobs=1)]: Done 100 out of 100 | elapsed: 26.7min finished\n",
            "/usr/local/lib/python3.7/dist-packages/sklearn/neural_network/_multilayer_perceptron.py:571: ConvergenceWarning: Stochastic Optimizer: Maximum iterations (200) reached and the optimization hasn't converged yet.\n",
            "  % self.max_iter, ConvergenceWarning)\n"
          ],
          "name": "stderr"
        },
        {
          "output_type": "execute_result",
          "data": {
            "text/plain": [
              "RandomizedSearchCV(cv=None, error_score=nan,\n",
              "                   estimator=MLPClassifier(activation='relu', alpha=0.0001,\n",
              "                                           batch_size='auto', beta_1=0.9,\n",
              "                                           beta_2=0.999, early_stopping=False,\n",
              "                                           epsilon=1e-08,\n",
              "                                           hidden_layer_sizes=(100,),\n",
              "                                           learning_rate='constant',\n",
              "                                           learning_rate_init=0.001,\n",
              "                                           max_fun=15000, max_iter=200,\n",
              "                                           momentum=0.9, n_iter_no_change=10,\n",
              "                                           nesterovs_momentum=True, power_t=0.5,\n",
              "                                           ran...\n",
              "                   param_distributions={'activation': ['tanh', 'relu',\n",
              "                                                       'logistic'],\n",
              "                                        'alpha': [0.0001, 0.05],\n",
              "                                        'hidden_layer_sizes': [(50, 50, 50),\n",
              "                                                               (50, 100, 50),\n",
              "                                                               (100,)],\n",
              "                                        'learning_rate': ['constant',\n",
              "                                                          'adaptive',\n",
              "                                                          'invscaling'],\n",
              "                                        'solver': ['sgd', 'adam']},\n",
              "                   pre_dispatch='2*n_jobs', random_state=None, refit=True,\n",
              "                   return_train_score=False,\n",
              "                   scoring=make_scorer(recall_score, pos_label=yes), verbose=2)"
            ]
          },
          "metadata": {
            "tags": []
          },
          "execution_count": 17
        }
      ]
    },
    {
      "cell_type": "markdown",
      "metadata": {
        "tags": [],
        "cell_id": "00056-ce3e5101-9a41-4295-8f2c-f94579f0cec2",
        "deepnote_cell_type": "text-cell-h2",
        "id": "yC64hoSlJqzq"
      },
      "source": [
        "## Check Best Parameter using Random Search CV"
      ]
    },
    {
      "cell_type": "code",
      "metadata": {
        "tags": [],
        "deepnote_to_be_reexecuted": false,
        "source_hash": "ea67ae22",
        "execution_millis": 5,
        "output_cleared": false,
        "cell_id": "00057-29a79de7-5907-4788-b700-20dd74036bdb",
        "execution_start": 1618509471479,
        "deepnote_cell_type": "code",
        "colab": {
          "base_uri": "https://localhost:8080/"
        },
        "id": "VrUTRq_JJqzq",
        "outputId": "ec66ec08-1458-4ef0-e85e-2e7a83ddb6f4"
      },
      "source": [
        "grid_model.best_params_"
      ],
      "execution_count": 18,
      "outputs": [
        {
          "output_type": "execute_result",
          "data": {
            "text/plain": [
              "{'activation': 'tanh',\n",
              " 'alpha': 0.0001,\n",
              " 'hidden_layer_sizes': (50, 50, 50),\n",
              " 'learning_rate': 'adaptive',\n",
              " 'solver': 'adam'}"
            ]
          },
          "metadata": {
            "tags": []
          },
          "execution_count": 18
        }
      ]
    },
    {
      "cell_type": "markdown",
      "metadata": {
        "tags": [],
        "cell_id": "00058-88b2e422-d546-4eb6-818e-06922acf448d",
        "deepnote_cell_type": "text-cell-h2",
        "id": "TLnYeBw5Jqzr"
      },
      "source": [
        "## Input Best Parameter into the MLPClassifier Function"
      ]
    },
    {
      "cell_type": "code",
      "metadata": {
        "tags": [],
        "deepnote_to_be_reexecuted": false,
        "source_hash": "63bce003",
        "execution_millis": 46,
        "cell_id": "00059-6cf09302-9197-41b6-a88e-b0eb0107035c",
        "execution_start": 1618509471487,
        "deepnote_cell_type": "code",
        "id": "lgdQ2ih_Jqzr"
      },
      "source": [
        "model = MLPClassifier(hidden_layer_sizes=(50,50,50),activation='tanh',alpha=0.0001,learning_rate='adaptive',solver='adam')"
      ],
      "execution_count": 25,
      "outputs": []
    },
    {
      "cell_type": "markdown",
      "metadata": {
        "tags": [],
        "cell_id": "00060-6418847f-43f5-4826-bc7d-5cf66397462e",
        "deepnote_cell_type": "text-cell-h2",
        "id": "uQy9MBMDJqzs"
      },
      "source": [
        "## Train the Model using Training Data and Validation Training Data"
      ]
    },
    {
      "cell_type": "code",
      "metadata": {
        "tags": [],
        "deepnote_to_be_reexecuted": false,
        "source_hash": "21cd9296",
        "execution_millis": 28483,
        "cell_id": "00061-a74b4a13-123b-4ea0-bd0d-7cba6d328590",
        "execution_start": 1618509471533,
        "deepnote_cell_type": "code",
        "colab": {
          "base_uri": "https://localhost:8080/"
        },
        "id": "giJZANTwJqzs",
        "outputId": "992ba6bd-f7ca-4040-bfb6-b5e5fb616983"
      },
      "source": [
        "model.fit(mixSample_X, mixSample_Y)"
      ],
      "execution_count": 26,
      "outputs": [
        {
          "output_type": "stream",
          "text": [
            "/usr/local/lib/python3.7/dist-packages/sklearn/neural_network/_multilayer_perceptron.py:571: ConvergenceWarning: Stochastic Optimizer: Maximum iterations (200) reached and the optimization hasn't converged yet.\n",
            "  % self.max_iter, ConvergenceWarning)\n"
          ],
          "name": "stderr"
        },
        {
          "output_type": "execute_result",
          "data": {
            "text/plain": [
              "MLPClassifier(activation='tanh', alpha=0.0001, batch_size='auto', beta_1=0.9,\n",
              "              beta_2=0.999, early_stopping=False, epsilon=1e-08,\n",
              "              hidden_layer_sizes=(50, 50, 50), learning_rate='adaptive',\n",
              "              learning_rate_init=0.001, max_fun=15000, max_iter=200,\n",
              "              momentum=0.9, n_iter_no_change=10, nesterovs_momentum=True,\n",
              "              power_t=0.5, random_state=None, shuffle=True, solver='adam',\n",
              "              tol=0.0001, validation_fraction=0.1, verbose=False,\n",
              "              warm_start=False)"
            ]
          },
          "metadata": {
            "tags": []
          },
          "execution_count": 26
        }
      ]
    },
    {
      "cell_type": "markdown",
      "metadata": {
        "tags": [],
        "cell_id": "00062-8ede8fb0-0f35-4d7a-b615-a3ed94b366b1",
        "deepnote_cell_type": "text-cell-h2",
        "id": "Ne5YXS4FJqzt"
      },
      "source": [
        "## Predict Model using Testing Data"
      ]
    },
    {
      "cell_type": "code",
      "metadata": {
        "tags": [],
        "deepnote_to_be_reexecuted": false,
        "source_hash": "48992fe",
        "execution_millis": 60,
        "cell_id": "00063-eb90a865-2c1d-4dad-ab26-76f5b9068818",
        "execution_start": 1618509500010,
        "deepnote_cell_type": "code",
        "id": "BR0NA2lGJqzu"
      },
      "source": [
        "y_pred = model.predict(X_test_scaled)"
      ],
      "execution_count": 27,
      "outputs": []
    },
    {
      "cell_type": "markdown",
      "metadata": {
        "tags": [],
        "cell_id": "00064-b5260487-e2a7-4358-9b2c-1fc080628beb",
        "deepnote_cell_type": "text-cell-h2",
        "id": "PWbSEU8iJqzv"
      },
      "source": [
        "## Evaluation Metrics using Confusion Matrix"
      ]
    },
    {
      "cell_type": "code",
      "metadata": {
        "tags": [],
        "deepnote_to_be_reexecuted": false,
        "source_hash": "834f5afa",
        "execution_millis": 120,
        "cell_id": "00065-7be93a35-d14a-456b-ae4d-1c04cba3b8bf",
        "execution_start": 1618509500076,
        "deepnote_cell_type": "code",
        "colab": {
          "base_uri": "https://localhost:8080/"
        },
        "id": "BUKo1VJIJqzv",
        "outputId": "0a6ae224-ed03-473a-c626-5773f664fb12"
      },
      "source": [
        "confusion_matrix = pd.crosstab(y_test, y_pred)\n",
        "print (confusion_matrix)"
      ],
      "execution_count": 28,
      "outputs": [
        {
          "output_type": "stream",
          "text": [
            "col_0     no   yes\n",
            "y                 \n",
            "no     10470  1536\n",
            "yes      364  1194\n"
          ],
          "name": "stdout"
        }
      ]
    },
    {
      "cell_type": "markdown",
      "metadata": {
        "tags": [],
        "cell_id": "00066-3e88404d-f488-4752-ae25-2d0e0a466ffb",
        "deepnote_cell_type": "text-cell-p",
        "id": "SjcFaiJFJqzw"
      },
      "source": [
        " The conclusion from the above result: \n",
        "- True Positive (TP): **1194** 'Yes' predicted data is correct **from 1558** 'Yes' original data \n",
        "- True Negative (TN): **10470** 'No' predicted data is correct **from 12006** 'No' original data\n",
        "- False Negative (FN): **364** 'Yes' predicted data falsely predicted as 'No' data\n",
        "- False Positive (FP): **1536** 'No' predicted data falsely predicted as 'Yes' data"
      ]
    },
    {
      "cell_type": "markdown",
      "metadata": {
        "tags": [],
        "cell_id": "00067-169b2f8b-811f-45f3-bcaf-f82555420fac",
        "deepnote_cell_type": "text-cell-h2",
        "id": "GkcwpA_DJqzx"
      },
      "source": [
        "## Evaluation Metrics using Classification Report"
      ]
    },
    {
      "cell_type": "code",
      "metadata": {
        "tags": [],
        "deepnote_to_be_reexecuted": false,
        "source_hash": "74950708",
        "execution_millis": 1021,
        "cell_id": "00068-87325305-4680-4f8f-838b-b8c70496e71d",
        "execution_start": 1618509500192,
        "deepnote_cell_type": "code",
        "colab": {
          "base_uri": "https://localhost:8080/"
        },
        "id": "wcVNAEgnJqzy",
        "outputId": "33c14fd8-1caf-45b3-8042-a2a636562fe9"
      },
      "source": [
        "print(classification_report(y_test,y_pred))"
      ],
      "execution_count": 29,
      "outputs": [
        {
          "output_type": "stream",
          "text": [
            "              precision    recall  f1-score   support\n",
            "\n",
            "          no       0.97      0.87      0.92     12006\n",
            "         yes       0.44      0.77      0.56      1558\n",
            "\n",
            "    accuracy                           0.86     13564\n",
            "   macro avg       0.70      0.82      0.74     13564\n",
            "weighted avg       0.91      0.86      0.88     13564\n",
            "\n"
          ],
          "name": "stdout"
        }
      ]
    },
    {
      "cell_type": "markdown",
      "metadata": {
        "tags": [],
        "cell_id": "00069-1bf514de-0ff6-4f57-8795-ed5edeecb3e0",
        "deepnote_cell_type": "text-cell-p",
        "id": "TholrSluJqzz"
      },
      "source": [
        " The conclusion from the above result:\n",
        "- Precision: **97%** 'No' predicted data are correctly predict &amp; **44%** 'Yes' predicted data are correctly predict\n",
        "- Recall: **87%** 'No' original data have been predicted by the model &amp; **77%** 'Yes' original data have been predicted by the model\n",
        "- F1-Score: The mean from precision and recall for 'No' predicted data is **92%** and for 'Yes' predicted data is **56%**"
      ]
    },
    {
      "cell_type": "markdown",
      "metadata": {
        "tags": [],
        "cell_id": "00070-7cbb169d-993a-4810-84a3-ed18bd575018",
        "deepnote_cell_type": "text-cell-h1",
        "id": "mJZY_R37Jqz0"
      },
      "source": [
        "# Evaluation Metrics using Cross Validation"
      ]
    },
    {
      "cell_type": "code",
      "metadata": {
        "tags": [],
        "deepnote_to_be_reexecuted": false,
        "source_hash": "8620789e",
        "execution_millis": 3189,
        "cell_id": "00072-f7510a4f-8c16-4b5c-b95f-685f4e7794c5",
        "execution_start": 1618509125973,
        "deepnote_cell_type": "code",
        "id": "TME_7FsJP3j_"
      },
      "source": [
        "cv = KFold(n_splits=5, shuffle=True)\n",
        "scores = cross_val_score(model, split_input_data, split_output_data, cv=cv)"
      ],
      "execution_count": 30,
      "outputs": []
    },
    {
      "cell_type": "code",
      "metadata": {
        "tags": [],
        "deepnote_to_be_reexecuted": false,
        "source_hash": "119a8f77",
        "execution_millis": 10,
        "cell_id": "00073-8dd91331-6096-4f83-9c79-a86dab828238",
        "execution_start": 1618509129167,
        "deepnote_cell_type": "code",
        "colab": {
          "base_uri": "https://localhost:8080/"
        },
        "id": "nK6B3rwiP3kB",
        "outputId": "5412315b-8523-4047-dfbb-906cd1b0c89e"
      },
      "source": [
        "print('F1_Score: %.3f (%.3f)' % (mean(scores), std(scores)))"
      ],
      "execution_count": 31,
      "outputs": [
        {
          "output_type": "stream",
          "text": [
            "F1_Score: 0.889 (0.004)\n"
          ],
          "name": "stdout"
        }
      ]
    },
    {
      "cell_type": "code",
      "metadata": {
        "tags": [],
        "deepnote_to_be_reexecuted": false,
        "source_hash": "6ae4d27b",
        "cell_id": "00074-ab6a027c-edfe-4df3-812b-41bb2a1471a7",
        "execution_start": 1618509129174,
        "execution_millis": 535,
        "deepnote_cell_type": "code",
        "colab": {
          "base_uri": "https://localhost:8080/"
        },
        "id": "uTu5cNVyP3kC",
        "outputId": "c835dd9d-33a2-4753-dea0-001bb2cbb99a"
      },
      "source": [
        "kf= KFold(n_splits=5)\n",
        "X = split_input_data.to_numpy()\n",
        "y = split_output_data\n",
        "le = LabelEncoder()\n",
        "y = le.fit_transform(y)\n",
        "F1=[]\n",
        "Accuracy=[]\n",
        "Recall=[]\n",
        "Precision=[]\n",
        "for fold, (train_index, test_index) in enumerate(kf.split(X), 1):\n",
        "    X_train = X[train_index]\n",
        "    y_train = y[train_index]  # Based on your code, you might need a ravel call here, but I would look into how you're generating your y\n",
        "    X_test = X[test_index]\n",
        "    y_test = y[test_index]  # See comment on ravel and  y_train\n",
        "    \n",
        "    #Create the Dataframe\n",
        "    X_train = pd.DataFrame(X_train,columns=data.drop('y',axis=1).columns)\n",
        "    X_test = pd.DataFrame(X_test,columns=data.drop('y',axis=1).columns)\n",
        "    \n",
        "\n",
        "    #Standard Scalling\n",
        "    ss = MinMaxScaler()\n",
        "    X_train= ss.fit_transform(X_train)\n",
        "    X_test = ss.transform(X_test)\n",
        "    \n",
        "    X_train = pd.DataFrame(X_train, columns = split_input_data.columns)\n",
        "    X_test = pd.DataFrame(X_test , columns = split_input_data.columns)\n",
        "    \n",
        "\n",
        "    # Sampling\n",
        "    over = SMOTE(sampling_strategy = 0.18)\n",
        "    under = RandomUnderSampler(sampling_strategy=0.85)\n",
        "    steps = [('o',over),('u',under)]\n",
        "    pipeline = Pipeline(steps=steps)\n",
        "    \n",
        "    X_train,y_train_s =pipeline.fit_resample(X_train,y_train)\n",
        "    \n",
        "    #Modelling\n",
        "    model1 = MLPClassifier(hidden_layer_sizes=(50,100,50),activation='tanh',alpha=0.0001,learning_rate='adaptive',solver='adam')\n",
        "    model1.fit(X_train,y_train_s)\n",
        "    y_pred1 = model1.predict(X_test)\n",
        "    \n",
        "    F1.append(f1_score(y_test, y_pred1))\n",
        "    Accuracy.append(accuracy_score(y_test, y_pred1))\n",
        "    Recall.append(recall_score(y_test, y_pred1))\n",
        "    Precision.append(precision_score(y_test, y_pred1))"
      ],
      "execution_count": 32,
      "outputs": [
        {
          "output_type": "stream",
          "text": [
            "/usr/local/lib/python3.7/dist-packages/sklearn/utils/deprecation.py:87: FutureWarning: Function safe_indexing is deprecated; safe_indexing is deprecated in version 0.22 and will be removed in version 0.24.\n",
            "  warnings.warn(msg, category=FutureWarning)\n",
            "/usr/local/lib/python3.7/dist-packages/sklearn/utils/deprecation.py:87: FutureWarning: Function safe_indexing is deprecated; safe_indexing is deprecated in version 0.22 and will be removed in version 0.24.\n",
            "  warnings.warn(msg, category=FutureWarning)\n",
            "/usr/local/lib/python3.7/dist-packages/sklearn/neural_network/_multilayer_perceptron.py:571: ConvergenceWarning: Stochastic Optimizer: Maximum iterations (200) reached and the optimization hasn't converged yet.\n",
            "  % self.max_iter, ConvergenceWarning)\n",
            "/usr/local/lib/python3.7/dist-packages/sklearn/utils/deprecation.py:87: FutureWarning: Function safe_indexing is deprecated; safe_indexing is deprecated in version 0.22 and will be removed in version 0.24.\n",
            "  warnings.warn(msg, category=FutureWarning)\n",
            "/usr/local/lib/python3.7/dist-packages/sklearn/utils/deprecation.py:87: FutureWarning: Function safe_indexing is deprecated; safe_indexing is deprecated in version 0.22 and will be removed in version 0.24.\n",
            "  warnings.warn(msg, category=FutureWarning)\n",
            "/usr/local/lib/python3.7/dist-packages/sklearn/neural_network/_multilayer_perceptron.py:571: ConvergenceWarning: Stochastic Optimizer: Maximum iterations (200) reached and the optimization hasn't converged yet.\n",
            "  % self.max_iter, ConvergenceWarning)\n",
            "/usr/local/lib/python3.7/dist-packages/sklearn/utils/deprecation.py:87: FutureWarning: Function safe_indexing is deprecated; safe_indexing is deprecated in version 0.22 and will be removed in version 0.24.\n",
            "  warnings.warn(msg, category=FutureWarning)\n",
            "/usr/local/lib/python3.7/dist-packages/sklearn/utils/deprecation.py:87: FutureWarning: Function safe_indexing is deprecated; safe_indexing is deprecated in version 0.22 and will be removed in version 0.24.\n",
            "  warnings.warn(msg, category=FutureWarning)\n",
            "/usr/local/lib/python3.7/dist-packages/sklearn/neural_network/_multilayer_perceptron.py:571: ConvergenceWarning: Stochastic Optimizer: Maximum iterations (200) reached and the optimization hasn't converged yet.\n",
            "  % self.max_iter, ConvergenceWarning)\n",
            "/usr/local/lib/python3.7/dist-packages/sklearn/utils/deprecation.py:87: FutureWarning: Function safe_indexing is deprecated; safe_indexing is deprecated in version 0.22 and will be removed in version 0.24.\n",
            "  warnings.warn(msg, category=FutureWarning)\n",
            "/usr/local/lib/python3.7/dist-packages/sklearn/utils/deprecation.py:87: FutureWarning: Function safe_indexing is deprecated; safe_indexing is deprecated in version 0.22 and will be removed in version 0.24.\n",
            "  warnings.warn(msg, category=FutureWarning)\n",
            "/usr/local/lib/python3.7/dist-packages/sklearn/neural_network/_multilayer_perceptron.py:571: ConvergenceWarning: Stochastic Optimizer: Maximum iterations (200) reached and the optimization hasn't converged yet.\n",
            "  % self.max_iter, ConvergenceWarning)\n",
            "/usr/local/lib/python3.7/dist-packages/sklearn/utils/deprecation.py:87: FutureWarning: Function safe_indexing is deprecated; safe_indexing is deprecated in version 0.22 and will be removed in version 0.24.\n",
            "  warnings.warn(msg, category=FutureWarning)\n",
            "/usr/local/lib/python3.7/dist-packages/sklearn/utils/deprecation.py:87: FutureWarning: Function safe_indexing is deprecated; safe_indexing is deprecated in version 0.22 and will be removed in version 0.24.\n",
            "  warnings.warn(msg, category=FutureWarning)\n",
            "/usr/local/lib/python3.7/dist-packages/sklearn/neural_network/_multilayer_perceptron.py:571: ConvergenceWarning: Stochastic Optimizer: Maximum iterations (200) reached and the optimization hasn't converged yet.\n",
            "  % self.max_iter, ConvergenceWarning)\n"
          ],
          "name": "stderr"
        }
      ]
    },
    {
      "cell_type": "code",
      "metadata": {
        "tags": [],
        "deepnote_to_be_reexecuted": true,
        "source_hash": "9b0534a3",
        "cell_id": "00075-25ca92f0-6422-4c24-8013-c8e5b0b4cfc2",
        "deepnote_cell_type": "code",
        "colab": {
          "base_uri": "https://localhost:8080/"
        },
        "id": "Ydi9XlS1P3kD",
        "outputId": "85c5a104-50c1-4e8c-b06c-9f2b4ac8b39c"
      },
      "source": [
        "print('F1 : '+str(np.mean(F1)))\n",
        "print('Accuracy : '+str(np.mean(Accuracy)))\n",
        "print('Recall : '+str(np.mean(Recall)))\n",
        "print('Precision : '+str(np.mean(Precision)))"
      ],
      "execution_count": 33,
      "outputs": [
        {
          "output_type": "stream",
          "text": [
            "F1 : 0.28927563501399245\n",
            "Accuracy : 0.6312180250748696\n",
            "Recall : 0.8195134926329791\n",
            "Precision : 0.2083441420521376\n"
          ],
          "name": "stdout"
        }
      ]
    }
  ]
}