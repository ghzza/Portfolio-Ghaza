{
 "cells": [
  {
   "cell_type": "markdown",
   "metadata": {
    "id": "oQ9qUnIdYTEG"
   },
   "source": [
    "# Author \n",
    "\n",
    "1. Muhammad Dhiaz Rafilianza **(First Author)**\n",
    "2. Ghazali Akmal Rabbani **(Second Author)**\n",
    "3. Daniel Najoan **(Third Author)**"
   ]
  },
  {
   "cell_type": "markdown",
   "metadata": {
    "cell_id": "00000-d3d08d12-0a66-40fc-a445-01afa71ebff6",
    "deepnote_cell_type": "text-cell-h1",
    "id": "71XlOSME6Ndj",
    "tags": []
   },
   "source": [
    "# Import Library"
   ]
  },
  {
   "cell_type": "code",
   "execution_count": null,
   "metadata": {
    "cell_id": "00001-32485321-38e2-49a9-a785-00621ec313cf",
    "colab": {
     "base_uri": "https://localhost:8080/"
    },
    "deepnote_cell_type": "code",
    "deepnote_to_be_reexecuted": false,
    "execution_millis": 5377,
    "execution_start": 1618510389196,
    "id": "r6HCzPn36Nd4",
    "outputId": "85ba89e0-7938-409e-c129-ba1e7b907c74",
    "source_hash": "73efdfa6",
    "tags": []
   },
   "outputs": [
    {
     "name": "stdout",
     "output_type": "stream",
     "text": [
      "Requirement already satisfied: imblearn in /usr/local/lib/python3.7/dist-packages (0.0)\n",
      "Requirement already satisfied: imbalanced-learn in /usr/local/lib/python3.7/dist-packages (from imblearn) (0.4.3)\n",
      "Requirement already satisfied: scipy>=0.13.3 in /usr/local/lib/python3.7/dist-packages (from imbalanced-learn->imblearn) (1.4.1)\n",
      "Requirement already satisfied: scikit-learn>=0.20 in /usr/local/lib/python3.7/dist-packages (from imbalanced-learn->imblearn) (0.22.2.post1)\n",
      "Requirement already satisfied: numpy>=1.8.2 in /usr/local/lib/python3.7/dist-packages (from imbalanced-learn->imblearn) (1.19.5)\n",
      "Requirement already satisfied: joblib>=0.11 in /usr/local/lib/python3.7/dist-packages (from scikit-learn>=0.20->imbalanced-learn->imblearn) (1.0.1)\n"
     ]
    }
   ],
   "source": [
    "!pip install imblearn"
   ]
  },
  {
   "cell_type": "code",
   "execution_count": null,
   "metadata": {
    "cell_id": "00002-ff121aa0-8971-4e50-81a3-2767f48acdcd",
    "colab": {
     "base_uri": "https://localhost:8080/"
    },
    "deepnote_cell_type": "code",
    "deepnote_to_be_reexecuted": false,
    "execution_millis": 1900,
    "execution_start": 1618510394591,
    "id": "2KKCV29s6Nd9",
    "outputId": "32eaa484-cc1b-4a09-bb4b-1b32e4dd56e3",
    "source_hash": "a40e8223",
    "tags": []
   },
   "outputs": [
    {
     "name": "stderr",
     "output_type": "stream",
     "text": [
      "/usr/local/lib/python3.7/dist-packages/sklearn/externals/six.py:31: FutureWarning: The module is deprecated in version 0.21 and will be removed in version 0.23 since we've dropped support for Python 2.7. Please rely on the official version of six (https://pypi.org/project/six/).\n",
      "  \"(https://pypi.org/project/six/).\", FutureWarning)\n",
      "/usr/local/lib/python3.7/dist-packages/sklearn/utils/deprecation.py:144: FutureWarning: The sklearn.neighbors.base module is  deprecated in version 0.22 and will be removed in version 0.24. The corresponding classes / functions should instead be imported from sklearn.neighbors. Anything that cannot be imported from sklearn.neighbors is now part of the private API.\n",
      "  warnings.warn(message, FutureWarning)\n"
     ]
    }
   ],
   "source": [
    "import os\n",
    "import pandas as pd\n",
    "import numpy as np\n",
    "import matplotlib.pyplot as plt\n",
    "import seaborn as sns\n",
    "import sklearn\n",
    "from sklearn.model_selection import train_test_split\n",
    "from sklearn.preprocessing import StandardScaler\n",
    "from sklearn import preprocessing\n",
    "from sklearn.preprocessing import LabelEncoder\n",
    "from imblearn.over_sampling import SMOTE\n",
    "from imblearn.under_sampling import RandomUnderSampler\n",
    "from imblearn.pipeline import Pipeline\n",
    "from sklearn.ensemble import RandomForestClassifier\n",
    "from sklearn.model_selection import RandomizedSearchCV\n",
    "from sklearn.model_selection import GridSearchCV\n",
    "from sklearn.metrics import classification_report\n",
    "from sklearn.model_selection import KFold\n",
    "from sklearn.model_selection import cross_val_score\n",
    "from numpy import mean\n",
    "from numpy import std\n",
    "from sklearn.metrics import f1_score\n",
    "from sklearn.metrics import accuracy_score\n",
    "from sklearn.metrics import recall_score\n",
    "from sklearn.metrics import precision_score"
   ]
  },
  {
   "cell_type": "markdown",
   "metadata": {
    "cell_id": "00003-21729fd5-c5b2-466b-88d4-30eeb9f38243",
    "deepnote_cell_type": "text-cell-h1",
    "id": "rDAzT0q16NeA",
    "tags": []
   },
   "source": [
    "# Read Data"
   ]
  },
  {
   "cell_type": "code",
   "execution_count": null,
   "metadata": {
    "cell_id": "00004-1e646a86-75ee-4e7e-bc03-4ba2892d5441",
    "deepnote_cell_type": "code",
    "deepnote_to_be_reexecuted": false,
    "execution_millis": 283,
    "execution_start": 1618510396497,
    "id": "OI7AY64L6NeB",
    "source_hash": "5285587f",
    "tags": []
   },
   "outputs": [],
   "source": [
    "data = pd.read_csv(\"bank-full.csv\", delimiter=';')"
   ]
  },
  {
   "cell_type": "markdown",
   "metadata": {
    "cell_id": "00005-c9207795-0512-40e4-8007-21be81f13732",
    "deepnote_cell_type": "text-cell-h1",
    "id": "FYzbZzFX6NeC",
    "tags": []
   },
   "source": [
    "# Simple Data Visualization"
   ]
  },
  {
   "cell_type": "code",
   "execution_count": null,
   "metadata": {
    "cell_id": "00006-7b90ca9b-3b24-48e6-8062-e7dec68ea2a8",
    "colab": {
     "base_uri": "https://localhost:8080/"
    },
    "deepnote_cell_type": "code",
    "deepnote_to_be_reexecuted": false,
    "execution_millis": 18,
    "execution_start": 1618510396784,
    "id": "ZOZK75PY6NeD",
    "outputId": "a2b07bc1-0724-4a1b-ac81-5004e2808910",
    "source_hash": "2007f58",
    "tags": []
   },
   "outputs": [
    {
     "data": {
      "text/plain": [
       "(45211, 17)"
      ]
     },
     "execution_count": 4,
     "metadata": {
      "tags": []
     },
     "output_type": "execute_result"
    }
   ],
   "source": [
    "data.shape"
   ]
  },
  {
   "cell_type": "markdown",
   "metadata": {
    "cell_id": "00007-a7ddcf51-3f29-4ed3-861d-cac890ee804c",
    "deepnote_cell_type": "text-cell-h1",
    "id": "CiCFIa-w6NeE",
    "tags": []
   },
   "source": [
    "# Model Construction"
   ]
  },
  {
   "cell_type": "markdown",
   "metadata": {
    "cell_id": "00008-e1b7e10c-0d92-4b20-a009-573fab354b12",
    "deepnote_cell_type": "text-cell-h2",
    "id": "cFIQmhmg6NeF",
    "tags": []
   },
   "source": [
    "## Label Encoding For Categorical Data Train"
   ]
  },
  {
   "cell_type": "markdown",
   "metadata": {
    "cell_id": "00009-f290bb47-1e9d-4113-81a1-300c7389bbb6",
    "deepnote_cell_type": "text-cell-p",
    "id": "62hgkN3r6NeG",
    "tags": []
   },
   "source": [
    "Label Encoding are used to transform non-numerical&nbsp;labels&nbsp;(as long as they are hashable and comparable) to numerical&nbsp;labels. Label that are being transform to numerical are categorical data column which is job, marital, education, default, housing, loan, contact, month and poutcome."
   ]
  },
  {
   "cell_type": "code",
   "execution_count": null,
   "metadata": {
    "cell_id": "00010-2e26410f-7ea2-4026-acda-02bf355e2b47",
    "deepnote_cell_type": "code",
    "deepnote_to_be_reexecuted": false,
    "execution_millis": 226,
    "execution_start": 1618510396805,
    "id": "kvdhm1ji6NeH",
    "source_hash": "86f54dab",
    "tags": []
   },
   "outputs": [],
   "source": [
    "le = LabelEncoder()\n",
    "encode_x = data.iloc[ : , :-1]\n",
    "encode_x.job = le.fit_transform(encode_x.job)\n",
    "encode_x.marital = le.fit_transform(encode_x.marital)\n",
    "encode_x.education = le.fit_transform(encode_x.education)\n",
    "encode_x.default = le.fit_transform(encode_x.default)\n",
    "encode_x.housing = le.fit_transform(encode_x.housing)\n",
    "encode_x.loan = le.fit_transform(encode_x.loan)\n",
    "encode_x.contact = le.fit_transform(encode_x.contact)\n",
    "encode_x.month = le.fit_transform(encode_x.month)\n",
    "encode_x.poutcome = le.fit_transform(encode_x.poutcome)"
   ]
  },
  {
   "cell_type": "markdown",
   "metadata": {
    "cell_id": "00011-3f6e03bf-4570-4651-9bec-9fc71272dcc9",
    "deepnote_cell_type": "text-cell-h2",
    "id": "XR37djMa6NeJ",
    "tags": []
   },
   "source": [
    "## Split Data"
   ]
  },
  {
   "cell_type": "markdown",
   "metadata": {
    "cell_id": "00012-5fc88d0b-68cb-4375-8043-eb7eb471a83d",
    "deepnote_cell_type": "text-cell-p",
    "id": "ekNpzaq66NeJ",
    "tags": []
   },
   "source": [
    "Split data are used to split the original data into 2 different parts which is training data and testing data. Training data will also be divided into 2 parts training data and validation training data. This process to ensure when the model being trained we have a data to validate the predicted output of a model."
   ]
  },
  {
   "cell_type": "code",
   "execution_count": null,
   "metadata": {
    "cell_id": "00013-20106a6d-5802-4f04-b21a-1b1042579d30",
    "deepnote_cell_type": "code",
    "deepnote_to_be_reexecuted": false,
    "execution_millis": 11,
    "execution_start": 1618510397059,
    "id": "_aWKvUXf6NeK",
    "source_hash": "de325735",
    "tags": []
   },
   "outputs": [],
   "source": [
    "split_input_data = encode_x\n",
    "split_output_data = data['y']"
   ]
  },
  {
   "cell_type": "markdown",
   "metadata": {
    "cell_id": "00014-1195366e-c6f8-4c1f-82c4-7cdb6663b992",
    "deepnote_cell_type": "text-cell-p",
    "id": "KEgdT7ZL6NeL",
    "tags": []
   },
   "source": [
    "We divided the data into 4 parts:\n",
    "- X_train is a training data that have no output.\n",
    "- X_test is a testing data that have no output. This data will be use by the model to predict the output of the X_test data\n",
    "- y_train is a training data that has the output data from X_train data.\n",
    "- y_test is the original output data from X_test. This data will be used to validate the accuracy of predicted data that were generated by the model."
   ]
  },
  {
   "cell_type": "code",
   "execution_count": null,
   "metadata": {
    "cell_id": "00015-2cfa5e1a-4b3a-421f-8797-d50180b9dda4",
    "deepnote_cell_type": "code",
    "deepnote_to_be_reexecuted": false,
    "execution_millis": 34,
    "execution_start": 1618510397073,
    "id": "wG6oT7xe6NeM",
    "source_hash": "5e746e28",
    "tags": []
   },
   "outputs": [],
   "source": [
    "X_train, X_test, y_train, y_test = train_test_split(split_input_data, split_output_data, test_size=0.3, random_state=10)"
   ]
  },
  {
   "cell_type": "markdown",
   "metadata": {
    "cell_id": "00016-77dc5c5c-17cf-4124-a8c4-4f4ad2376940",
    "deepnote_cell_type": "text-cell-h2",
    "id": "ZH-ZuFrS6NeN",
    "tags": []
   },
   "source": [
    "## Scale Data"
   ]
  },
  {
   "cell_type": "markdown",
   "metadata": {
    "cell_id": "00017-fd22bb55-1e57-4700-9aaf-c02d005b88d0",
    "deepnote_cell_type": "text-cell-p",
    "id": "_zCJkrp86NeN",
    "tags": []
   },
   "source": [
    "Here we transform the data to fit within a specific scale using these algorithms a change of \"1\" in any numeric feature will give the same importance to each data. We used StandardScaler() method from Sklearn library. Define the transformation for train and test data:\n",
    "- X_train will be scale using fit_transform()\n",
    "- X_test will be scale using transform()"
   ]
  },
  {
   "cell_type": "code",
   "execution_count": null,
   "metadata": {
    "cell_id": "00018-5c948e53-ca25-44b6-9964-5d93c52d8bd0",
    "deepnote_cell_type": "code",
    "deepnote_to_be_reexecuted": false,
    "execution_millis": 55,
    "execution_start": 1618510397112,
    "id": "TozDiqps6NeO",
    "source_hash": "7ca32dca",
    "tags": []
   },
   "outputs": [],
   "source": [
    "scaler = StandardScaler()\n",
    "X_train_scaled = pd.DataFrame(scaler.fit_transform(X_train))\n",
    "X_test_scaled = pd.DataFrame(scaler.transform(X_test))"
   ]
  },
  {
   "cell_type": "code",
   "execution_count": null,
   "metadata": {
    "id": "fCsh1GTV3YiT"
   },
   "outputs": [],
   "source": []
  },
  {
   "cell_type": "markdown",
   "metadata": {
    "cell_id": "00019-8a492faa-d46a-446e-841c-ef0b0ccf3bf4",
    "deepnote_cell_type": "text-cell-h2",
    "id": "bEEMC8bC6NeP",
    "tags": []
   },
   "source": [
    "## Mix Sampling using SMOTE &amp; Random Under Sampler"
   ]
  },
  {
   "cell_type": "markdown",
   "metadata": {
    "cell_id": "00020-27d5108a-87a5-4e82-a361-594fd3501dda",
    "deepnote_cell_type": "text-cell-p",
    "id": "sPliL_UF6NeQ",
    "tags": []
   },
   "source": [
    "Here we distributed the data using SMOTE and Random Under Sampler to make the classification output data balance. We used SMOTE to duplicates and variance the 'yes' data for the model to learn more variance of yes data.  We used Random Under Sampler to delete random sample of the 'no' data to make the model not to have low bias towards 'yes' data."
   ]
  },
  {
   "cell_type": "code",
   "execution_count": null,
   "metadata": {
    "cell_id": "00021-802b893b-6a70-41a5-b2ca-a1ee2610bc3f",
    "colab": {
     "base_uri": "https://localhost:8080/"
    },
    "deepnote_cell_type": "code",
    "deepnote_to_be_reexecuted": false,
    "execution_millis": 1212,
    "execution_start": 1618510397205,
    "id": "QRlx9EzU6NeR",
    "outputId": "5a915b66-6f2f-424d-b70e-4084bb786225",
    "source_hash": "aa80fcd1",
    "tags": []
   },
   "outputs": [
    {
     "name": "stderr",
     "output_type": "stream",
     "text": [
      "/usr/local/lib/python3.7/dist-packages/sklearn/utils/deprecation.py:87: FutureWarning: Function safe_indexing is deprecated; safe_indexing is deprecated in version 0.22 and will be removed in version 0.24.\n",
      "  warnings.warn(msg, category=FutureWarning)\n",
      "/usr/local/lib/python3.7/dist-packages/sklearn/utils/deprecation.py:87: FutureWarning: Function safe_indexing is deprecated; safe_indexing is deprecated in version 0.22 and will be removed in version 0.24.\n",
      "  warnings.warn(msg, category=FutureWarning)\n"
     ]
    },
    {
     "data": {
      "text/plain": [
       "no     8374\n",
       "yes    4187\n",
       "dtype: int64"
      ]
     },
     "execution_count": 9,
     "metadata": {
      "tags": []
     },
     "output_type": "execute_result"
    }
   ],
   "source": [
    "mixSample_X = X_train_scaled\n",
    "# define pipeline\n",
    "over = SMOTE(sampling_strategy=0.15)\n",
    "under = RandomUnderSampler(sampling_strategy=0.5)\n",
    "steps = [('o', over), ('u', under)]\n",
    "pipeline = Pipeline(steps=steps)\n",
    "# transform the dataset\n",
    "mixSample_X, mixSample_Y = pipeline.fit_resample(mixSample_X, y_train)\n",
    "pd.DataFrame(mixSample_Y).value_counts()"
   ]
  },
  {
   "cell_type": "code",
   "execution_count": null,
   "metadata": {
    "id": "JjF4bVJd3gI8"
   },
   "outputs": [],
   "source": [
    "asd"
   ]
  },
  {
   "cell_type": "code",
   "execution_count": null,
   "metadata": {
    "colab": {
     "base_uri": "https://localhost:8080/",
     "height": 391
    },
    "id": "vviN4lHz31nt",
    "outputId": "bf7cf556-917c-4ce2-c1c6-ddce5ee42d7f"
   },
   "outputs": [
    {
     "data": {
      "text/html": [
       "<div>\n",
       "<style scoped>\n",
       "    .dataframe tbody tr th:only-of-type {\n",
       "        vertical-align: middle;\n",
       "    }\n",
       "\n",
       "    .dataframe tbody tr th {\n",
       "        vertical-align: top;\n",
       "    }\n",
       "\n",
       "    .dataframe thead th {\n",
       "        text-align: right;\n",
       "    }\n",
       "</style>\n",
       "<table border=\"1\" class=\"dataframe\">\n",
       "  <thead>\n",
       "    <tr style=\"text-align: right;\">\n",
       "      <th></th>\n",
       "      <th>0</th>\n",
       "      <th>1</th>\n",
       "      <th>2</th>\n",
       "      <th>3</th>\n",
       "      <th>4</th>\n",
       "      <th>5</th>\n",
       "      <th>6</th>\n",
       "      <th>7</th>\n",
       "      <th>8</th>\n",
       "      <th>9</th>\n",
       "      <th>10</th>\n",
       "      <th>11</th>\n",
       "      <th>12</th>\n",
       "      <th>13</th>\n",
       "      <th>14</th>\n",
       "      <th>15</th>\n",
       "    </tr>\n",
       "  </thead>\n",
       "  <tbody>\n",
       "    <tr>\n",
       "      <th>0</th>\n",
       "      <td>-0.744139</td>\n",
       "      <td>-0.714920</td>\n",
       "      <td>-0.280363</td>\n",
       "      <td>1.044009</td>\n",
       "      <td>-0.13531</td>\n",
       "      <td>-0.377628</td>\n",
       "      <td>0.893093</td>\n",
       "      <td>-0.436666</td>\n",
       "      <td>-0.710219</td>\n",
       "      <td>0.266698</td>\n",
       "      <td>1.159604</td>\n",
       "      <td>-0.778758</td>\n",
       "      <td>-0.573585</td>\n",
       "      <td>-0.411514</td>\n",
       "      <td>-0.304903</td>\n",
       "      <td>0.443520</td>\n",
       "    </tr>\n",
       "    <tr>\n",
       "      <th>1</th>\n",
       "      <td>-0.367918</td>\n",
       "      <td>1.728822</td>\n",
       "      <td>-1.925577</td>\n",
       "      <td>1.044009</td>\n",
       "      <td>-0.13531</td>\n",
       "      <td>-0.091325</td>\n",
       "      <td>-1.119705</td>\n",
       "      <td>-0.436666</td>\n",
       "      <td>-0.710219</td>\n",
       "      <td>1.109056</td>\n",
       "      <td>-1.498418</td>\n",
       "      <td>-0.436343</td>\n",
       "      <td>0.395689</td>\n",
       "      <td>-0.411514</td>\n",
       "      <td>-0.304903</td>\n",
       "      <td>0.443520</td>\n",
       "    </tr>\n",
       "    <tr>\n",
       "      <th>2</th>\n",
       "      <td>1.231023</td>\n",
       "      <td>-1.325856</td>\n",
       "      <td>-1.925577</td>\n",
       "      <td>-0.298415</td>\n",
       "      <td>-0.13531</td>\n",
       "      <td>0.143449</td>\n",
       "      <td>-1.119705</td>\n",
       "      <td>-0.436666</td>\n",
       "      <td>1.521344</td>\n",
       "      <td>-0.334986</td>\n",
       "      <td>0.827351</td>\n",
       "      <td>1.022810</td>\n",
       "      <td>-0.573585</td>\n",
       "      <td>-0.411514</td>\n",
       "      <td>-0.304903</td>\n",
       "      <td>0.443520</td>\n",
       "    </tr>\n",
       "    <tr>\n",
       "      <th>3</th>\n",
       "      <td>-0.744139</td>\n",
       "      <td>1.423354</td>\n",
       "      <td>-0.280363</td>\n",
       "      <td>1.044009</td>\n",
       "      <td>-0.13531</td>\n",
       "      <td>0.320577</td>\n",
       "      <td>0.893093</td>\n",
       "      <td>-0.436666</td>\n",
       "      <td>1.521344</td>\n",
       "      <td>-1.658692</td>\n",
       "      <td>0.162846</td>\n",
       "      <td>-0.405215</td>\n",
       "      <td>-0.250493</td>\n",
       "      <td>-0.411514</td>\n",
       "      <td>-0.304903</td>\n",
       "      <td>0.443520</td>\n",
       "    </tr>\n",
       "    <tr>\n",
       "      <th>4</th>\n",
       "      <td>-0.461973</td>\n",
       "      <td>0.812419</td>\n",
       "      <td>-1.925577</td>\n",
       "      <td>-0.298415</td>\n",
       "      <td>-0.13531</td>\n",
       "      <td>-0.503228</td>\n",
       "      <td>-1.119705</td>\n",
       "      <td>-0.436666</td>\n",
       "      <td>-0.710219</td>\n",
       "      <td>1.109056</td>\n",
       "      <td>-0.169407</td>\n",
       "      <td>-0.681481</td>\n",
       "      <td>-0.250493</td>\n",
       "      <td>-0.411514</td>\n",
       "      <td>-0.304903</td>\n",
       "      <td>0.443520</td>\n",
       "    </tr>\n",
       "    <tr>\n",
       "      <th>...</th>\n",
       "      <td>...</td>\n",
       "      <td>...</td>\n",
       "      <td>...</td>\n",
       "      <td>...</td>\n",
       "      <td>...</td>\n",
       "      <td>...</td>\n",
       "      <td>...</td>\n",
       "      <td>...</td>\n",
       "      <td>...</td>\n",
       "      <td>...</td>\n",
       "      <td>...</td>\n",
       "      <td>...</td>\n",
       "      <td>...</td>\n",
       "      <td>...</td>\n",
       "      <td>...</td>\n",
       "      <td>...</td>\n",
       "    </tr>\n",
       "    <tr>\n",
       "      <th>12556</th>\n",
       "      <td>-1.060133</td>\n",
       "      <td>-1.088523</td>\n",
       "      <td>1.364851</td>\n",
       "      <td>1.044009</td>\n",
       "      <td>-0.13531</td>\n",
       "      <td>-0.219291</td>\n",
       "      <td>0.893093</td>\n",
       "      <td>-0.436666</td>\n",
       "      <td>-0.710219</td>\n",
       "      <td>0.584428</td>\n",
       "      <td>-1.830671</td>\n",
       "      <td>-0.281606</td>\n",
       "      <td>-0.250493</td>\n",
       "      <td>2.837236</td>\n",
       "      <td>0.769506</td>\n",
       "      <td>-1.585547</td>\n",
       "    </tr>\n",
       "    <tr>\n",
       "      <th>12557</th>\n",
       "      <td>-1.625343</td>\n",
       "      <td>1.117886</td>\n",
       "      <td>1.364851</td>\n",
       "      <td>-0.298415</td>\n",
       "      <td>-0.13531</td>\n",
       "      <td>-0.060418</td>\n",
       "      <td>-1.119705</td>\n",
       "      <td>-0.436666</td>\n",
       "      <td>-0.710219</td>\n",
       "      <td>-0.442449</td>\n",
       "      <td>1.491857</td>\n",
       "      <td>-0.478712</td>\n",
       "      <td>-0.573585</td>\n",
       "      <td>0.872079</td>\n",
       "      <td>0.571280</td>\n",
       "      <td>-0.571014</td>\n",
       "    </tr>\n",
       "    <tr>\n",
       "      <th>12558</th>\n",
       "      <td>-0.461973</td>\n",
       "      <td>1.589567</td>\n",
       "      <td>-0.280363</td>\n",
       "      <td>0.840017</td>\n",
       "      <td>-0.13531</td>\n",
       "      <td>0.739308</td>\n",
       "      <td>-1.119705</td>\n",
       "      <td>-0.436666</td>\n",
       "      <td>1.521344</td>\n",
       "      <td>0.434227</td>\n",
       "      <td>0.162846</td>\n",
       "      <td>2.902026</td>\n",
       "      <td>0.248400</td>\n",
       "      <td>-0.411514</td>\n",
       "      <td>-0.304903</td>\n",
       "      <td>0.443520</td>\n",
       "    </tr>\n",
       "    <tr>\n",
       "      <th>12559</th>\n",
       "      <td>3.318613</td>\n",
       "      <td>-0.165435</td>\n",
       "      <td>-0.280363</td>\n",
       "      <td>2.386433</td>\n",
       "      <td>-0.13531</td>\n",
       "      <td>0.178643</td>\n",
       "      <td>0.893093</td>\n",
       "      <td>-0.436666</td>\n",
       "      <td>-0.710219</td>\n",
       "      <td>0.904694</td>\n",
       "      <td>1.408308</td>\n",
       "      <td>-0.119465</td>\n",
       "      <td>-0.234245</td>\n",
       "      <td>1.426879</td>\n",
       "      <td>1.279694</td>\n",
       "      <td>-0.571014</td>\n",
       "    </tr>\n",
       "    <tr>\n",
       "      <th>12560</th>\n",
       "      <td>-0.020183</td>\n",
       "      <td>-1.020388</td>\n",
       "      <td>-0.280363</td>\n",
       "      <td>-1.539193</td>\n",
       "      <td>-0.13531</td>\n",
       "      <td>-0.364476</td>\n",
       "      <td>-1.119705</td>\n",
       "      <td>-0.436666</td>\n",
       "      <td>1.521344</td>\n",
       "      <td>0.450817</td>\n",
       "      <td>0.213161</td>\n",
       "      <td>1.651985</td>\n",
       "      <td>0.048134</td>\n",
       "      <td>-0.411514</td>\n",
       "      <td>-0.304903</td>\n",
       "      <td>0.443520</td>\n",
       "    </tr>\n",
       "  </tbody>\n",
       "</table>\n",
       "<p>12561 rows × 16 columns</p>\n",
       "</div>"
      ],
      "text/plain": [
       "             0         1         2   ...        13        14        15\n",
       "0     -0.744139 -0.714920 -0.280363  ... -0.411514 -0.304903  0.443520\n",
       "1     -0.367918  1.728822 -1.925577  ... -0.411514 -0.304903  0.443520\n",
       "2      1.231023 -1.325856 -1.925577  ... -0.411514 -0.304903  0.443520\n",
       "3     -0.744139  1.423354 -0.280363  ... -0.411514 -0.304903  0.443520\n",
       "4     -0.461973  0.812419 -1.925577  ... -0.411514 -0.304903  0.443520\n",
       "...         ...       ...       ...  ...       ...       ...       ...\n",
       "12556 -1.060133 -1.088523  1.364851  ...  2.837236  0.769506 -1.585547\n",
       "12557 -1.625343  1.117886  1.364851  ...  0.872079  0.571280 -0.571014\n",
       "12558 -0.461973  1.589567 -0.280363  ... -0.411514 -0.304903  0.443520\n",
       "12559  3.318613 -0.165435 -0.280363  ...  1.426879  1.279694 -0.571014\n",
       "12560 -0.020183 -1.020388 -0.280363  ... -0.411514 -0.304903  0.443520\n",
       "\n",
       "[12561 rows x 16 columns]"
      ]
     },
     "execution_count": 11,
     "metadata": {
      "tags": []
     },
     "output_type": "execute_result"
    }
   ],
   "source": [
    "pd.DataFrame(mixSample_X)"
   ]
  },
  {
   "cell_type": "code",
   "execution_count": null,
   "metadata": {
    "colab": {
     "base_uri": "https://localhost:8080/",
     "height": 391
    },
    "id": "rY1iYiNE36oy",
    "outputId": "05fdb285-4117-419d-dcef-6fc1e82d4a72"
   },
   "outputs": [
    {
     "data": {
      "text/html": [
       "<div>\n",
       "<style scoped>\n",
       "    .dataframe tbody tr th:only-of-type {\n",
       "        vertical-align: middle;\n",
       "    }\n",
       "\n",
       "    .dataframe tbody tr th {\n",
       "        vertical-align: top;\n",
       "    }\n",
       "\n",
       "    .dataframe thead th {\n",
       "        text-align: right;\n",
       "    }\n",
       "</style>\n",
       "<table border=\"1\" class=\"dataframe\">\n",
       "  <thead>\n",
       "    <tr style=\"text-align: right;\">\n",
       "      <th></th>\n",
       "      <th>0</th>\n",
       "      <th>1</th>\n",
       "      <th>2</th>\n",
       "      <th>3</th>\n",
       "      <th>4</th>\n",
       "      <th>5</th>\n",
       "      <th>6</th>\n",
       "      <th>7</th>\n",
       "      <th>8</th>\n",
       "      <th>9</th>\n",
       "      <th>10</th>\n",
       "      <th>11</th>\n",
       "      <th>12</th>\n",
       "      <th>13</th>\n",
       "      <th>14</th>\n",
       "      <th>15</th>\n",
       "    </tr>\n",
       "  </thead>\n",
       "  <tbody>\n",
       "    <tr>\n",
       "      <th>0</th>\n",
       "      <td>1.325079</td>\n",
       "      <td>1.423354</td>\n",
       "      <td>-1.925577</td>\n",
       "      <td>-0.298415</td>\n",
       "      <td>-0.13531</td>\n",
       "      <td>-0.440750</td>\n",
       "      <td>0.893093</td>\n",
       "      <td>-0.436666</td>\n",
       "      <td>1.521344</td>\n",
       "      <td>0.507372</td>\n",
       "      <td>0.827351</td>\n",
       "      <td>0.415802</td>\n",
       "      <td>0.395689</td>\n",
       "      <td>-0.411514</td>\n",
       "      <td>-0.304903</td>\n",
       "      <td>0.44352</td>\n",
       "    </tr>\n",
       "    <tr>\n",
       "      <th>1</th>\n",
       "      <td>-0.932250</td>\n",
       "      <td>0.506951</td>\n",
       "      <td>1.364851</td>\n",
       "      <td>1.044009</td>\n",
       "      <td>-0.13531</td>\n",
       "      <td>0.145382</td>\n",
       "      <td>0.893093</td>\n",
       "      <td>-0.436666</td>\n",
       "      <td>1.521344</td>\n",
       "      <td>0.507372</td>\n",
       "      <td>0.827351</td>\n",
       "      <td>-0.739847</td>\n",
       "      <td>-0.573585</td>\n",
       "      <td>-0.411514</td>\n",
       "      <td>-0.304903</td>\n",
       "      <td>0.44352</td>\n",
       "    </tr>\n",
       "    <tr>\n",
       "      <th>2</th>\n",
       "      <td>-1.214416</td>\n",
       "      <td>-0.103985</td>\n",
       "      <td>1.364851</td>\n",
       "      <td>1.044009</td>\n",
       "      <td>-0.13531</td>\n",
       "      <td>0.284829</td>\n",
       "      <td>0.893093</td>\n",
       "      <td>-0.436666</td>\n",
       "      <td>1.521344</td>\n",
       "      <td>0.266698</td>\n",
       "      <td>0.162846</td>\n",
       "      <td>2.520873</td>\n",
       "      <td>-0.250493</td>\n",
       "      <td>-0.411514</td>\n",
       "      <td>-0.304903</td>\n",
       "      <td>0.44352</td>\n",
       "    </tr>\n",
       "    <tr>\n",
       "      <th>3</th>\n",
       "      <td>-1.214416</td>\n",
       "      <td>1.423354</td>\n",
       "      <td>-0.280363</td>\n",
       "      <td>-0.298415</td>\n",
       "      <td>-0.13531</td>\n",
       "      <td>1.958202</td>\n",
       "      <td>0.893093</td>\n",
       "      <td>-0.436666</td>\n",
       "      <td>-0.710219</td>\n",
       "      <td>-1.057007</td>\n",
       "      <td>0.827351</td>\n",
       "      <td>-0.253463</td>\n",
       "      <td>-0.573585</td>\n",
       "      <td>-0.411514</td>\n",
       "      <td>-0.304903</td>\n",
       "      <td>0.44352</td>\n",
       "    </tr>\n",
       "    <tr>\n",
       "      <th>4</th>\n",
       "      <td>0.196415</td>\n",
       "      <td>-0.714920</td>\n",
       "      <td>-0.280363</td>\n",
       "      <td>-0.298415</td>\n",
       "      <td>-0.13531</td>\n",
       "      <td>-0.421749</td>\n",
       "      <td>-1.119705</td>\n",
       "      <td>-0.436666</td>\n",
       "      <td>1.521344</td>\n",
       "      <td>-0.334986</td>\n",
       "      <td>0.827351</td>\n",
       "      <td>0.695959</td>\n",
       "      <td>-0.250493</td>\n",
       "      <td>-0.411514</td>\n",
       "      <td>-0.304903</td>\n",
       "      <td>0.44352</td>\n",
       "    </tr>\n",
       "    <tr>\n",
       "      <th>...</th>\n",
       "      <td>...</td>\n",
       "      <td>...</td>\n",
       "      <td>...</td>\n",
       "      <td>...</td>\n",
       "      <td>...</td>\n",
       "      <td>...</td>\n",
       "      <td>...</td>\n",
       "      <td>...</td>\n",
       "      <td>...</td>\n",
       "      <td>...</td>\n",
       "      <td>...</td>\n",
       "      <td>...</td>\n",
       "      <td>...</td>\n",
       "      <td>...</td>\n",
       "      <td>...</td>\n",
       "      <td>...</td>\n",
       "    </tr>\n",
       "    <tr>\n",
       "      <th>13559</th>\n",
       "      <td>-1.684693</td>\n",
       "      <td>0.812419</td>\n",
       "      <td>-0.280363</td>\n",
       "      <td>-0.298415</td>\n",
       "      <td>-0.13531</td>\n",
       "      <td>-0.436241</td>\n",
       "      <td>0.893093</td>\n",
       "      <td>2.290082</td>\n",
       "      <td>0.405563</td>\n",
       "      <td>-0.334986</td>\n",
       "      <td>0.827351</td>\n",
       "      <td>-0.930510</td>\n",
       "      <td>1.688054</td>\n",
       "      <td>3.175350</td>\n",
       "      <td>0.232301</td>\n",
       "      <td>-2.60008</td>\n",
       "    </tr>\n",
       "    <tr>\n",
       "      <th>13560</th>\n",
       "      <td>-0.932250</td>\n",
       "      <td>1.423354</td>\n",
       "      <td>-0.280363</td>\n",
       "      <td>-0.298415</td>\n",
       "      <td>-0.13531</td>\n",
       "      <td>-0.278759</td>\n",
       "      <td>-1.119705</td>\n",
       "      <td>-0.436666</td>\n",
       "      <td>-0.710219</td>\n",
       "      <td>0.507372</td>\n",
       "      <td>1.159604</td>\n",
       "      <td>-0.311829</td>\n",
       "      <td>-0.573585</td>\n",
       "      <td>-0.411514</td>\n",
       "      <td>-0.304903</td>\n",
       "      <td>0.44352</td>\n",
       "    </tr>\n",
       "    <tr>\n",
       "      <th>13561</th>\n",
       "      <td>-0.650084</td>\n",
       "      <td>1.423354</td>\n",
       "      <td>1.364851</td>\n",
       "      <td>-0.298415</td>\n",
       "      <td>-0.13531</td>\n",
       "      <td>1.404920</td>\n",
       "      <td>0.893093</td>\n",
       "      <td>-0.436666</td>\n",
       "      <td>-0.710219</td>\n",
       "      <td>0.627708</td>\n",
       "      <td>-0.169407</td>\n",
       "      <td>-0.611442</td>\n",
       "      <td>0.072598</td>\n",
       "      <td>-0.411514</td>\n",
       "      <td>-0.304903</td>\n",
       "      <td>0.44352</td>\n",
       "    </tr>\n",
       "    <tr>\n",
       "      <th>13562</th>\n",
       "      <td>-0.179807</td>\n",
       "      <td>0.812419</td>\n",
       "      <td>-0.280363</td>\n",
       "      <td>-0.298415</td>\n",
       "      <td>-0.13531</td>\n",
       "      <td>-0.424003</td>\n",
       "      <td>-1.119705</td>\n",
       "      <td>-0.436666</td>\n",
       "      <td>0.405563</td>\n",
       "      <td>-1.658692</td>\n",
       "      <td>-0.833913</td>\n",
       "      <td>4.520886</td>\n",
       "      <td>0.072598</td>\n",
       "      <td>-0.411514</td>\n",
       "      <td>-0.304903</td>\n",
       "      <td>0.44352</td>\n",
       "    </tr>\n",
       "    <tr>\n",
       "      <th>13563</th>\n",
       "      <td>1.231023</td>\n",
       "      <td>1.423354</td>\n",
       "      <td>-0.280363</td>\n",
       "      <td>-0.298415</td>\n",
       "      <td>-0.13531</td>\n",
       "      <td>-0.427224</td>\n",
       "      <td>-1.119705</td>\n",
       "      <td>2.290082</td>\n",
       "      <td>1.521344</td>\n",
       "      <td>-1.538355</td>\n",
       "      <td>-0.169407</td>\n",
       "      <td>0.509188</td>\n",
       "      <td>-0.250493</td>\n",
       "      <td>-0.411514</td>\n",
       "      <td>-0.304903</td>\n",
       "      <td>0.44352</td>\n",
       "    </tr>\n",
       "  </tbody>\n",
       "</table>\n",
       "<p>13564 rows × 16 columns</p>\n",
       "</div>"
      ],
      "text/plain": [
       "             0         1         2   ...        13        14       15\n",
       "0      1.325079  1.423354 -1.925577  ... -0.411514 -0.304903  0.44352\n",
       "1     -0.932250  0.506951  1.364851  ... -0.411514 -0.304903  0.44352\n",
       "2     -1.214416 -0.103985  1.364851  ... -0.411514 -0.304903  0.44352\n",
       "3     -1.214416  1.423354 -0.280363  ... -0.411514 -0.304903  0.44352\n",
       "4      0.196415 -0.714920 -0.280363  ... -0.411514 -0.304903  0.44352\n",
       "...         ...       ...       ...  ...       ...       ...      ...\n",
       "13559 -1.684693  0.812419 -0.280363  ...  3.175350  0.232301 -2.60008\n",
       "13560 -0.932250  1.423354 -0.280363  ... -0.411514 -0.304903  0.44352\n",
       "13561 -0.650084  1.423354  1.364851  ... -0.411514 -0.304903  0.44352\n",
       "13562 -0.179807  0.812419 -0.280363  ... -0.411514 -0.304903  0.44352\n",
       "13563  1.231023  1.423354 -0.280363  ... -0.411514 -0.304903  0.44352\n",
       "\n",
       "[13564 rows x 16 columns]"
      ]
     },
     "execution_count": 12,
     "metadata": {
      "tags": []
     },
     "output_type": "execute_result"
    }
   ],
   "source": [
    "X_test_scaled"
   ]
  },
  {
   "cell_type": "code",
   "execution_count": null,
   "metadata": {
    "colab": {
     "base_uri": "https://localhost:8080/",
     "height": 391
    },
    "id": "_2RjuPHC4IUU",
    "outputId": "77c1130e-6390-4539-d968-35470783e56c"
   },
   "outputs": [
    {
     "data": {
      "text/html": [
       "<div>\n",
       "<style scoped>\n",
       "    .dataframe tbody tr th:only-of-type {\n",
       "        vertical-align: middle;\n",
       "    }\n",
       "\n",
       "    .dataframe tbody tr th {\n",
       "        vertical-align: top;\n",
       "    }\n",
       "\n",
       "    .dataframe thead th {\n",
       "        text-align: right;\n",
       "    }\n",
       "</style>\n",
       "<table border=\"1\" class=\"dataframe\">\n",
       "  <thead>\n",
       "    <tr style=\"text-align: right;\">\n",
       "      <th></th>\n",
       "      <th>age</th>\n",
       "      <th>job</th>\n",
       "      <th>marital</th>\n",
       "      <th>education</th>\n",
       "      <th>default</th>\n",
       "      <th>balance</th>\n",
       "      <th>housing</th>\n",
       "      <th>loan</th>\n",
       "      <th>contact</th>\n",
       "      <th>day</th>\n",
       "      <th>month</th>\n",
       "      <th>duration</th>\n",
       "      <th>campaign</th>\n",
       "      <th>pdays</th>\n",
       "      <th>previous</th>\n",
       "      <th>poutcome</th>\n",
       "    </tr>\n",
       "  </thead>\n",
       "  <tbody>\n",
       "    <tr>\n",
       "      <th>4393</th>\n",
       "      <td>55</td>\n",
       "      <td>9</td>\n",
       "      <td>0</td>\n",
       "      <td>1</td>\n",
       "      <td>0</td>\n",
       "      <td>0</td>\n",
       "      <td>1</td>\n",
       "      <td>0</td>\n",
       "      <td>2</td>\n",
       "      <td>20</td>\n",
       "      <td>8</td>\n",
       "      <td>365</td>\n",
       "      <td>4</td>\n",
       "      <td>-1</td>\n",
       "      <td>0</td>\n",
       "      <td>3</td>\n",
       "    </tr>\n",
       "    <tr>\n",
       "      <th>4438</th>\n",
       "      <td>31</td>\n",
       "      <td>6</td>\n",
       "      <td>2</td>\n",
       "      <td>2</td>\n",
       "      <td>0</td>\n",
       "      <td>1820</td>\n",
       "      <td>1</td>\n",
       "      <td>0</td>\n",
       "      <td>2</td>\n",
       "      <td>20</td>\n",
       "      <td>8</td>\n",
       "      <td>68</td>\n",
       "      <td>1</td>\n",
       "      <td>-1</td>\n",
       "      <td>0</td>\n",
       "      <td>3</td>\n",
       "    </tr>\n",
       "    <tr>\n",
       "      <th>11108</th>\n",
       "      <td>28</td>\n",
       "      <td>4</td>\n",
       "      <td>2</td>\n",
       "      <td>2</td>\n",
       "      <td>0</td>\n",
       "      <td>2253</td>\n",
       "      <td>1</td>\n",
       "      <td>0</td>\n",
       "      <td>2</td>\n",
       "      <td>18</td>\n",
       "      <td>6</td>\n",
       "      <td>906</td>\n",
       "      <td>2</td>\n",
       "      <td>-1</td>\n",
       "      <td>0</td>\n",
       "      <td>3</td>\n",
       "    </tr>\n",
       "    <tr>\n",
       "      <th>35421</th>\n",
       "      <td>28</td>\n",
       "      <td>9</td>\n",
       "      <td>1</td>\n",
       "      <td>1</td>\n",
       "      <td>0</td>\n",
       "      <td>7449</td>\n",
       "      <td>1</td>\n",
       "      <td>0</td>\n",
       "      <td>0</td>\n",
       "      <td>7</td>\n",
       "      <td>8</td>\n",
       "      <td>193</td>\n",
       "      <td>1</td>\n",
       "      <td>-1</td>\n",
       "      <td>0</td>\n",
       "      <td>3</td>\n",
       "    </tr>\n",
       "    <tr>\n",
       "      <th>2667</th>\n",
       "      <td>43</td>\n",
       "      <td>2</td>\n",
       "      <td>1</td>\n",
       "      <td>1</td>\n",
       "      <td>0</td>\n",
       "      <td>59</td>\n",
       "      <td>0</td>\n",
       "      <td>0</td>\n",
       "      <td>2</td>\n",
       "      <td>13</td>\n",
       "      <td>8</td>\n",
       "      <td>437</td>\n",
       "      <td>2</td>\n",
       "      <td>-1</td>\n",
       "      <td>0</td>\n",
       "      <td>3</td>\n",
       "    </tr>\n",
       "    <tr>\n",
       "      <th>...</th>\n",
       "      <td>...</td>\n",
       "      <td>...</td>\n",
       "      <td>...</td>\n",
       "      <td>...</td>\n",
       "      <td>...</td>\n",
       "      <td>...</td>\n",
       "      <td>...</td>\n",
       "      <td>...</td>\n",
       "      <td>...</td>\n",
       "      <td>...</td>\n",
       "      <td>...</td>\n",
       "      <td>...</td>\n",
       "      <td>...</td>\n",
       "      <td>...</td>\n",
       "      <td>...</td>\n",
       "      <td>...</td>\n",
       "    </tr>\n",
       "    <tr>\n",
       "      <th>37075</th>\n",
       "      <td>23</td>\n",
       "      <td>7</td>\n",
       "      <td>1</td>\n",
       "      <td>1</td>\n",
       "      <td>0</td>\n",
       "      <td>14</td>\n",
       "      <td>1</td>\n",
       "      <td>1</td>\n",
       "      <td>1</td>\n",
       "      <td>13</td>\n",
       "      <td>8</td>\n",
       "      <td>19</td>\n",
       "      <td>8</td>\n",
       "      <td>358</td>\n",
       "      <td>1</td>\n",
       "      <td>0</td>\n",
       "    </tr>\n",
       "    <tr>\n",
       "      <th>26370</th>\n",
       "      <td>31</td>\n",
       "      <td>9</td>\n",
       "      <td>1</td>\n",
       "      <td>1</td>\n",
       "      <td>0</td>\n",
       "      <td>503</td>\n",
       "      <td>0</td>\n",
       "      <td>0</td>\n",
       "      <td>0</td>\n",
       "      <td>20</td>\n",
       "      <td>9</td>\n",
       "      <td>178</td>\n",
       "      <td>1</td>\n",
       "      <td>-1</td>\n",
       "      <td>0</td>\n",
       "      <td>3</td>\n",
       "    </tr>\n",
       "    <tr>\n",
       "      <th>15684</th>\n",
       "      <td>34</td>\n",
       "      <td>9</td>\n",
       "      <td>2</td>\n",
       "      <td>1</td>\n",
       "      <td>0</td>\n",
       "      <td>5731</td>\n",
       "      <td>1</td>\n",
       "      <td>0</td>\n",
       "      <td>0</td>\n",
       "      <td>21</td>\n",
       "      <td>5</td>\n",
       "      <td>101</td>\n",
       "      <td>3</td>\n",
       "      <td>-1</td>\n",
       "      <td>0</td>\n",
       "      <td>3</td>\n",
       "    </tr>\n",
       "    <tr>\n",
       "      <th>29313</th>\n",
       "      <td>39</td>\n",
       "      <td>7</td>\n",
       "      <td>1</td>\n",
       "      <td>1</td>\n",
       "      <td>0</td>\n",
       "      <td>52</td>\n",
       "      <td>0</td>\n",
       "      <td>0</td>\n",
       "      <td>1</td>\n",
       "      <td>2</td>\n",
       "      <td>3</td>\n",
       "      <td>1420</td>\n",
       "      <td>3</td>\n",
       "      <td>-1</td>\n",
       "      <td>0</td>\n",
       "      <td>3</td>\n",
       "    </tr>\n",
       "    <tr>\n",
       "      <th>12575</th>\n",
       "      <td>54</td>\n",
       "      <td>9</td>\n",
       "      <td>1</td>\n",
       "      <td>1</td>\n",
       "      <td>0</td>\n",
       "      <td>42</td>\n",
       "      <td>0</td>\n",
       "      <td>1</td>\n",
       "      <td>2</td>\n",
       "      <td>3</td>\n",
       "      <td>5</td>\n",
       "      <td>389</td>\n",
       "      <td>2</td>\n",
       "      <td>-1</td>\n",
       "      <td>0</td>\n",
       "      <td>3</td>\n",
       "    </tr>\n",
       "  </tbody>\n",
       "</table>\n",
       "<p>13564 rows × 16 columns</p>\n",
       "</div>"
      ],
      "text/plain": [
       "       age  job  marital  education  ...  campaign  pdays  previous  poutcome\n",
       "4393    55    9        0          1  ...         4     -1         0         3\n",
       "4438    31    6        2          2  ...         1     -1         0         3\n",
       "11108   28    4        2          2  ...         2     -1         0         3\n",
       "35421   28    9        1          1  ...         1     -1         0         3\n",
       "2667    43    2        1          1  ...         2     -1         0         3\n",
       "...    ...  ...      ...        ...  ...       ...    ...       ...       ...\n",
       "37075   23    7        1          1  ...         8    358         1         0\n",
       "26370   31    9        1          1  ...         1     -1         0         3\n",
       "15684   34    9        2          1  ...         3     -1         0         3\n",
       "29313   39    7        1          1  ...         3     -1         0         3\n",
       "12575   54    9        1          1  ...         2     -1         0         3\n",
       "\n",
       "[13564 rows x 16 columns]"
      ]
     },
     "execution_count": 17,
     "metadata": {
      "tags": []
     },
     "output_type": "execute_result"
    }
   ],
   "source": [
    "X_test"
   ]
  },
  {
   "cell_type": "markdown",
   "metadata": {
    "cell_id": "00022-d8628064-9767-4f54-b5d3-591763537791",
    "deepnote_cell_type": "text-cell-h1",
    "id": "Bs5YJQIv6NeS",
    "tags": []
   },
   "source": [
    "# Random Forest from SKLEARN Library"
   ]
  },
  {
   "cell_type": "markdown",
   "metadata": {
    "cell_id": "00023-4a3e65a8-e224-4f81-b441-ec336b87f3b5",
    "deepnote_cell_type": "text-cell-h2",
    "id": "-_OeFYi16NeU",
    "tags": []
   },
   "source": [
    "## Model Fit with default Parameters"
   ]
  },
  {
   "cell_type": "markdown",
   "metadata": {
    "cell_id": "00024-cf70e74b-4d16-475e-bf1b-6bacd96d1a58",
    "deepnote_cell_type": "text-cell-p",
    "id": "xIjw5SD16NeU",
    "tags": []
   },
   "source": [
    "Here we used Random Forest only define class weight parameter"
   ]
  },
  {
   "cell_type": "code",
   "execution_count": null,
   "metadata": {
    "cell_id": "00025-cff5aa33-1427-4382-a143-f67869fefe03",
    "deepnote_cell_type": "code",
    "deepnote_to_be_reexecuted": false,
    "execution_millis": 2,
    "execution_start": 1618510398422,
    "id": "klKS2BOO6NeV",
    "source_hash": "3f8d68e",
    "tags": []
   },
   "outputs": [],
   "source": [
    "model = RandomForestClassifier()"
   ]
  },
  {
   "cell_type": "markdown",
   "metadata": {
    "cell_id": "00026-e4cce382-cef3-4ba3-82a9-87d0faca8ccb",
    "deepnote_cell_type": "text-cell-h2",
    "id": "duhBww086NeX",
    "tags": []
   },
   "source": [
    "## Train the Model using Training Data and Validation Training Data"
   ]
  },
  {
   "cell_type": "code",
   "execution_count": null,
   "metadata": {
    "cell_id": "00027-16136058-3c35-4ecb-84d3-bf2606b02787",
    "colab": {
     "base_uri": "https://localhost:8080/"
    },
    "deepnote_cell_type": "code",
    "deepnote_to_be_reexecuted": false,
    "execution_millis": 4332,
    "execution_start": 1618510398427,
    "id": "w5nXhSAB6NeY",
    "outputId": "039b2a9b-22e7-4eec-cf11-3620e8fb6dbe",
    "source_hash": "21cd9296",
    "tags": []
   },
   "outputs": [
    {
     "data": {
      "text/plain": [
       "RandomForestClassifier(bootstrap=True, ccp_alpha=0.0, class_weight=None,\n",
       "                       criterion='gini', max_depth=None, max_features='auto',\n",
       "                       max_leaf_nodes=None, max_samples=None,\n",
       "                       min_impurity_decrease=0.0, min_impurity_split=None,\n",
       "                       min_samples_leaf=1, min_samples_split=2,\n",
       "                       min_weight_fraction_leaf=0.0, n_estimators=100,\n",
       "                       n_jobs=None, oob_score=False, random_state=None,\n",
       "                       verbose=0, warm_start=False)"
      ]
     },
     "execution_count": 14,
     "metadata": {
      "tags": []
     },
     "output_type": "execute_result"
    }
   ],
   "source": [
    "model.fit(mixSample_X, mixSample_Y)"
   ]
  },
  {
   "cell_type": "markdown",
   "metadata": {
    "cell_id": "00028-12b8c02c-7646-413e-b33b-8cc5c283c6b6",
    "deepnote_cell_type": "text-cell-h2",
    "id": "Tm9vNBd26NeZ",
    "tags": []
   },
   "source": [
    "## Predict Model using Testing Data"
   ]
  },
  {
   "cell_type": "code",
   "execution_count": null,
   "metadata": {
    "cell_id": "00029-10a3d0d2-99ba-4486-890e-871d863dbe66",
    "deepnote_cell_type": "code",
    "deepnote_to_be_reexecuted": false,
    "execution_millis": 419,
    "execution_start": 1618510402754,
    "id": "idVDjArw6Nea",
    "source_hash": "48992fe",
    "tags": []
   },
   "outputs": [],
   "source": [
    "y_pred = model.predict(X_test_scaled)"
   ]
  },
  {
   "cell_type": "markdown",
   "metadata": {
    "cell_id": "00030-abbfdb5a-77d0-4c67-99a4-df48ff766727",
    "deepnote_cell_type": "text-cell-h3",
    "id": "-1lslr6o6Nea",
    "tags": []
   },
   "source": [
    "### Before evaluation we need to know the value count of each class from the original output data"
   ]
  },
  {
   "cell_type": "markdown",
   "metadata": {
    "cell_id": "00031-36b2df20-ba8e-4891-bfab-c24a2afc5459",
    "deepnote_cell_type": "text-cell-p",
    "id": "hALj6iik6Neb",
    "tags": []
   },
   "source": [
    "Here are the count of 'no' data and the count of 'yes' data from the original output data"
   ]
  },
  {
   "cell_type": "code",
   "execution_count": null,
   "metadata": {
    "cell_id": "00032-919d0009-cc8a-4fef-be11-dd132348885d",
    "deepnote_cell_type": "code",
    "deepnote_to_be_reexecuted": false,
    "execution_millis": 1,
    "execution_start": 1618510403186,
    "id": "sv9iNNlI6Neb",
    "source_hash": "9f353983",
    "tags": []
   },
   "outputs": [],
   "source": [
    "y_test.value_counts()"
   ]
  },
  {
   "cell_type": "markdown",
   "metadata": {
    "cell_id": "00033-04ffc0a3-0b19-4aed-ba04-95a96a792d5c",
    "deepnote_cell_type": "text-cell-h2",
    "id": "aeSZOhFH6Nec",
    "tags": []
   },
   "source": [
    "## Evaluation Metrics using Confusion Matrix"
   ]
  },
  {
   "cell_type": "markdown",
   "metadata": {
    "cell_id": "00034-ca81310d-642f-410d-bb07-6065c7c7d63b",
    "deepnote_cell_type": "text-cell-p",
    "id": "Lt9B1E4Y6Ned",
    "tags": []
   },
   "source": [
    "Here we used confusion matrix which is crosstab() method from pandas There are 4 terms as a representation of the result of the classification process confusion matrix. The four terms: \n",
    "- True Positive (TP): Represents positive data that is predicted to be correct.\n",
    "- True Negative (TN): Represents negative data that is predicted to be correct.\n",
    "- False Positive (FP) Type I Error: Represents negative data but predicted as positive data.\n",
    "- False Negative (FN) Type II Error: Represents positive data but predicted as negative data."
   ]
  },
  {
   "cell_type": "code",
   "execution_count": null,
   "metadata": {
    "cell_id": "00035-68b05e7f-9084-4a17-bf6d-edc0418139ae",
    "deepnote_cell_type": "code",
    "deepnote_to_be_reexecuted": false,
    "execution_millis": 34,
    "execution_start": 1618510403200,
    "id": "c0VTsKeW6Nee",
    "source_hash": "834f5afa",
    "tags": []
   },
   "outputs": [],
   "source": [
    "confusion_matrix = pd.crosstab(y_test, y_pred)\n",
    "print (confusion_matrix)"
   ]
  },
  {
   "cell_type": "markdown",
   "metadata": {
    "cell_id": "00036-95c7dba0-de11-4ad8-ae38-36b2c5a17b20",
    "deepnote_cell_type": "text-cell-p",
    "id": "1kdUdCu56Nee",
    "tags": []
   },
   "source": [
    " The conclusion from the above result: \n",
    "- True Positive (TP): **1199** 'Yes' predicted data is correct **from 1558** 'Yes' original data \n",
    "- True Negative (TN): **10732** 'No' predicted data is correct **from 12006** 'No' original data\n",
    "- False Negative (FN): **359** 'Yes' predicted data falsely predicted as 'No' data\n",
    "- False Positive (FP): **1274** 'No' predicted data falsely predicted as 'Yes' data"
   ]
  },
  {
   "cell_type": "markdown",
   "metadata": {
    "cell_id": "00037-c0384c28-544a-4186-96bd-41e38dbc6cab",
    "deepnote_cell_type": "text-cell-h2",
    "id": "HVUdc3dm6Nef",
    "tags": []
   },
   "source": [
    "## Evaluation Metrics using Classification Report"
   ]
  },
  {
   "cell_type": "markdown",
   "metadata": {
    "cell_id": "00038-f8a68410-b1e0-4bba-996b-5582cf82c595",
    "deepnote_cell_type": "text-cell-p",
    "id": "Nais13ZN6Neg",
    "tags": []
   },
   "source": [
    "Here we used the classification report from sklearn library in the classification report function we have precision, recall, f1-score and support for the evaluation metrics."
   ]
  },
  {
   "cell_type": "markdown",
   "metadata": {
    "cell_id": "00039-5c545dce-2abd-4cf1-9ff6-aa6df6820b26",
    "deepnote_cell_type": "text-cell-h3",
    "id": "6y8q6RiX6Neg",
    "tags": []
   },
   "source": [
    "### Precision"
   ]
  },
  {
   "cell_type": "markdown",
   "metadata": {
    "cell_id": "00040-e52cf22d-058d-4beb-bb93-fa4aab12f054",
    "deepnote_cell_type": "text-cell-p",
    "id": "Hb0L5am26Neh",
    "tags": []
   },
   "source": [
    "Precision is the ability of a classifier not to label an instance positive that is actually negative. For each class, it is defined as the ratio of true positives to the sum of a true positive and false positive."
   ]
  },
  {
   "cell_type": "markdown",
   "metadata": {
    "cell_id": "00041-655caed2-319c-4909-b79d-d7e8a8add61b",
    "deepnote_cell_type": "text-cell-h3",
    "id": "gsxP21gR6Neh",
    "tags": []
   },
   "source": [
    "### Recall"
   ]
  },
  {
   "cell_type": "markdown",
   "metadata": {
    "cell_id": "00042-dceaa23c-1e04-45a0-9691-ca45a58923df",
    "deepnote_cell_type": "text-cell-p",
    "id": "RL21LtD76Nei",
    "tags": []
   },
   "source": [
    "Recall is the ability of a classifier to find all positive instances. For each class it is defined as the ratio of true positives to the sum of true positives and false negatives."
   ]
  },
  {
   "cell_type": "markdown",
   "metadata": {
    "cell_id": "00043-ae5279c6-1f7c-40e9-88f2-ce63a69c9d94",
    "deepnote_cell_type": "text-cell-h3",
    "id": "5Xc4hAVt6Nej",
    "tags": []
   },
   "source": [
    "### F1-Score"
   ]
  },
  {
   "cell_type": "markdown",
   "metadata": {
    "cell_id": "00044-7d0e1e0e-3d6a-4a8a-a8bd-adae247f8a28",
    "deepnote_cell_type": "text-cell-p",
    "id": "HDi68VJ_6Nej",
    "tags": []
   },
   "source": [
    "The F1 score is a weighted harmonic mean of precision and recall such that the best score is 1.0 and the worst is 0.0. F1 scores are lower than accuracy measures as they embed precision and recall into their computation. As a rule of thumb, the weighted average of F1 should be used to compare classifier models, not global accuracy."
   ]
  },
  {
   "cell_type": "markdown",
   "metadata": {
    "cell_id": "00045-71508676-4b45-4d05-8dd1-06c04865ae01",
    "deepnote_cell_type": "text-cell-h3",
    "id": "COiT0T9s6Nek",
    "tags": []
   },
   "source": [
    "### Support"
   ]
  },
  {
   "cell_type": "markdown",
   "metadata": {
    "cell_id": "00046-196ac055-0cd8-4ca9-ae91-0a51053993f6",
    "deepnote_cell_type": "text-cell-p",
    "id": "PVwNKsgj6Nek",
    "tags": []
   },
   "source": [
    "Support is the number of actual occurrences of the class in the specified dataset. Imbalanced support in the training data may indicate structural weaknesses in the reported scores of the classifier and could indicate the need for stratified sampling or rebalancing. Support doesn’t change between models but instead diagnoses the evaluation process."
   ]
  },
  {
   "cell_type": "code",
   "execution_count": null,
   "metadata": {
    "cell_id": "00047-d87cc0e3-c5e3-48c4-a586-03880303378b",
    "deepnote_cell_type": "code",
    "deepnote_to_be_reexecuted": false,
    "execution_millis": 1192,
    "execution_start": 1618510403230,
    "id": "Ak75hME_6Nel",
    "source_hash": "74950708",
    "tags": []
   },
   "outputs": [],
   "source": [
    "print(classification_report(y_test,y_pred))"
   ]
  },
  {
   "cell_type": "markdown",
   "metadata": {
    "cell_id": "00048-6a836957-1288-4195-8d32-92e1c484628e",
    "deepnote_cell_type": "text-cell-p",
    "id": "iOiRWicX6Nem",
    "tags": []
   },
   "source": [
    " The conclusion from the above result:\n",
    "- Precision: **97%** 'No' predicted data are correctly predict &amp; **48%** 'Yes' predicted data are correctly predict\n",
    "- Recall: **89%** 'No' original data have been predicted by the model &amp; **77%** 'Yes' original data have been predicted by the model\n",
    "- F1-Score: The mean from precision and recall for 'No' predicted data is **93%** and for 'Yes' predicted data is **59%**"
   ]
  },
  {
   "cell_type": "markdown",
   "metadata": {
    "cell_id": "00049-23c8c56b-eca0-4c44-adf5-7127cd60f44a",
    "deepnote_cell_type": "text-cell-h1",
    "id": "ve9VUIP86Nem",
    "tags": []
   },
   "source": [
    "# Model Fit with Best Parameters using Grid Search CV"
   ]
  },
  {
   "cell_type": "markdown",
   "metadata": {
    "cell_id": "00050-bbe0f9cd-48c3-4daf-b7f2-773d751e0240",
    "deepnote_cell_type": "text-cell-p",
    "id": "wz8Z6vXb6Nen",
    "tags": []
   },
   "source": [
    "We used Grid Search CV from to find best parameter for our Random Forest model here we will compare the model that use default parameter and the model that will be given the best parameter from Grid Search CV"
   ]
  },
  {
   "cell_type": "markdown",
   "metadata": {
    "cell_id": "00051-e4795172-dd82-42d0-9153-525b18a4a7c1",
    "deepnote_cell_type": "text-cell-h2",
    "id": "vDabnwkM6Nen",
    "tags": []
   },
   "source": [
    "## Define Parameters"
   ]
  },
  {
   "cell_type": "code",
   "execution_count": null,
   "metadata": {
    "cell_id": "00052-2b700568-5775-49cb-9d90-8db121e68f64",
    "deepnote_cell_type": "code",
    "deepnote_to_be_reexecuted": false,
    "execution_millis": 8,
    "execution_start": 1618510404401,
    "id": "-JrbMrbV6Neo",
    "source_hash": "42c7e10d",
    "tags": []
   },
   "outputs": [],
   "source": [
    "parameters = {\n",
    "        'criterion':['gini','entropy'],\n",
    "        'bootstrap':[True,False],\n",
    "         'oob_score':[True,False],\n",
    "        'warm_start':[True,False],\n",
    "        'class_weight' : ['balanced', 'balanced_subsample']\n",
    "}"
   ]
  },
  {
   "cell_type": "markdown",
   "metadata": {
    "cell_id": "00053-de40e07d-160e-4c80-bd70-8fb7b966058d",
    "deepnote_cell_type": "text-cell-h2",
    "id": "g1vnzS0r6Nep",
    "tags": []
   },
   "source": [
    "## Find Best Parameter using Randomized Search CV"
   ]
  },
  {
   "cell_type": "markdown",
   "metadata": {
    "cell_id": "00054-9c544fec-b19e-4ba9-930e-e04f9a5a2909",
    "deepnote_cell_type": "text-cell-p",
    "id": "NPiYXMV96Nep",
    "tags": []
   },
   "source": [
    "Here we want to focus the result based on the Recall evaluation metric because we would like to know if the result of the predicted output made by the model already predict most of the correct data inside the predicted output."
   ]
  },
  {
   "cell_type": "code",
   "execution_count": null,
   "metadata": {
    "cell_id": "00055-dc990f83-f2a1-4601-844f-9d26bc9b9fb6",
    "deepnote_cell_type": "code",
    "deepnote_to_be_reexecuted": false,
    "execution_millis": 279195,
    "execution_start": 1618510404412,
    "id": "tGfOQVxM6Neq",
    "source_hash": "6a5edefe",
    "tags": []
   },
   "outputs": [],
   "source": [
    "from sklearn.metrics import precision_score, recall_score, make_scorer\n",
    "\n",
    "recall_scorer = make_scorer(recall_score,pos_label='yes')\n",
    "\n",
    "grid_model = RandomizedSearchCV(RandomForestClassifier(), param_distributions = parameters,n_iter=20,verbose=2,scoring=recall_scorer)\n",
    "\n",
    "grid_model.fit(mixSample_X, mixSample_Y)"
   ]
  },
  {
   "cell_type": "markdown",
   "metadata": {
    "cell_id": "00056-3e242c77-f6f5-4da1-ab9a-ad92ef85a763",
    "deepnote_cell_type": "text-cell-h2",
    "id": "3z1niQOj6Ner",
    "tags": []
   },
   "source": [
    "## Check Best Parameter using Randomized Search CV"
   ]
  },
  {
   "cell_type": "code",
   "execution_count": null,
   "metadata": {
    "cell_id": "00057-50e540a3-0b8e-4a06-ad9d-1b417ea36b2a",
    "deepnote_cell_type": "code",
    "deepnote_to_be_reexecuted": false,
    "execution_millis": 13,
    "execution_start": 1618510683606,
    "id": "hvTEZRjW6Ner",
    "output_cleared": false,
    "source_hash": "d704bb5e",
    "tags": []
   },
   "outputs": [],
   "source": [
    "grid_model.best_params_"
   ]
  },
  {
   "cell_type": "markdown",
   "metadata": {
    "cell_id": "00058-7edfde80-58a6-4f6e-8821-dcc83d4f4690",
    "deepnote_cell_type": "text-cell-h2",
    "id": "i3Fxf4Bc6Nes",
    "tags": []
   },
   "source": [
    "## Input Best Parameter into the Random Forest Function"
   ]
  },
  {
   "cell_type": "code",
   "execution_count": null,
   "metadata": {
    "cell_id": "00059-be3c2883-3d56-4731-8898-2bf339dcb917",
    "deepnote_cell_type": "code",
    "deepnote_to_be_reexecuted": false,
    "execution_millis": 1,
    "execution_start": 1618510806801,
    "id": "-2wu4S4y6Net",
    "source_hash": "1277220b",
    "tags": []
   },
   "outputs": [],
   "source": [
    "model = RandomForestClassifier(class_weight='balanced_subsample',\n",
    "                               bootstrap=True,\n",
    "                               criterion='entropy',oob_score=True,\n",
    "                               warm_start=True)"
   ]
  },
  {
   "cell_type": "markdown",
   "metadata": {
    "cell_id": "00060-f1e7e750-ad87-454e-8bc9-3b0745587748",
    "deepnote_cell_type": "text-cell-h2",
    "id": "4D4n42gm6Net",
    "tags": []
   },
   "source": [
    "## Train the Model using Training Data and Validation Training Data"
   ]
  },
  {
   "cell_type": "code",
   "execution_count": null,
   "metadata": {
    "cell_id": "00061-bd3d4550-2fa8-4028-8496-ea19094a3a1e",
    "deepnote_cell_type": "code",
    "deepnote_to_be_reexecuted": false,
    "execution_millis": 4686,
    "execution_start": 1618510808194,
    "id": "DQmfAV7r6Neu",
    "source_hash": "21cd9296",
    "tags": []
   },
   "outputs": [],
   "source": [
    "model.fit(mixSample_X, mixSample_Y)"
   ]
  },
  {
   "cell_type": "markdown",
   "metadata": {
    "cell_id": "00062-d5f04ee9-d048-40eb-bb64-2a0b85570eae",
    "deepnote_cell_type": "text-cell-h2",
    "id": "-DXhCKCk6Nev",
    "tags": []
   },
   "source": [
    "## Predict Model using Testing Data"
   ]
  },
  {
   "cell_type": "code",
   "execution_count": null,
   "metadata": {
    "cell_id": "00063-b8ca9134-a7dc-4b80-b99e-5b3d893e94d9",
    "deepnote_cell_type": "code",
    "deepnote_to_be_reexecuted": false,
    "execution_millis": 424,
    "execution_start": 1618510816637,
    "id": "D1aJyEbv6Nev",
    "source_hash": "48992fe",
    "tags": []
   },
   "outputs": [],
   "source": [
    "y_pred = model.predict(X_test_scaled)"
   ]
  },
  {
   "cell_type": "markdown",
   "metadata": {
    "cell_id": "00064-9974ab37-4886-4499-88e3-7791a9b7581e",
    "deepnote_cell_type": "text-cell-h2",
    "id": "NdMSLZiz6New",
    "tags": []
   },
   "source": [
    "## Evaluation Metrics using Confusion Matrix"
   ]
  },
  {
   "cell_type": "code",
   "execution_count": null,
   "metadata": {
    "cell_id": "00065-1b972ab9-7b8b-4871-ab53-2cbf27793cbb",
    "deepnote_cell_type": "code",
    "deepnote_to_be_reexecuted": false,
    "execution_millis": 22,
    "execution_start": 1618510818717,
    "id": "hPg6mCNs6New",
    "source_hash": "834f5afa",
    "tags": []
   },
   "outputs": [],
   "source": [
    "confusion_matrix = pd.crosstab(y_test, y_pred)\n",
    "print (confusion_matrix)"
   ]
  },
  {
   "cell_type": "markdown",
   "metadata": {
    "cell_id": "00066-f37887e3-6786-478b-ba94-679abb58d55b",
    "deepnote_cell_type": "text-cell-p",
    "id": "EaXzIKM96Nex",
    "tags": []
   },
   "source": [
    " The conclusion from the above result: \n",
    "- True Positive (TP): **1200** 'Yes' predicted data is correct **from 1558** 'Yes' original data \n",
    "- True Negative (TN): **10767** 'No' predicted data is correct **from 12006** 'No' original data\n",
    "- False Negative (FN): **358** 'Yes' predicted data falsely predicted as 'No' data\n",
    "- False Positive (FP): **1239** 'No' predicted data falsely predicted as 'Yes' data"
   ]
  },
  {
   "cell_type": "markdown",
   "metadata": {
    "cell_id": "00067-ed3c1784-797e-4994-8be8-69de841ff63f",
    "deepnote_cell_type": "text-cell-h2",
    "id": "SoJKItuk6Ney",
    "tags": []
   },
   "source": [
    "## Evaluation Metrics using Classification Report"
   ]
  },
  {
   "cell_type": "code",
   "execution_count": null,
   "metadata": {
    "cell_id": "00068-784c4282-3ce0-4506-b1e8-446d978b8e12",
    "deepnote_cell_type": "code",
    "deepnote_to_be_reexecuted": false,
    "execution_millis": 1295,
    "execution_start": 1618510690130,
    "id": "I4MSK_-o6Ney",
    "source_hash": "74950708",
    "tags": []
   },
   "outputs": [],
   "source": [
    "print(classification_report(y_test,y_pred))"
   ]
  },
  {
   "cell_type": "markdown",
   "metadata": {
    "cell_id": "00069-d51f8c34-7d56-46d1-b105-1b3563b7a86c",
    "deepnote_cell_type": "text-cell-p",
    "id": "874oJj6i6Nez",
    "tags": []
   },
   "source": [
    " The conclusion from the above result:\n",
    "- Precision: **97%** 'No' predicted data are correctly predict &amp; **49%** 'Yes' predicted data are correctly predict\n",
    "- Recall: **90%** 'No' original data have been predicted by the model &amp; **77%** 'Yes' original data have been predicted by the model\n",
    "- F1-Score: The mean from precision and recall for 'No' predicted data is **93%** and for 'Yes' predicted data is **60%**"
   ]
  },
  {
   "cell_type": "markdown",
   "metadata": {
    "cell_id": "00070-2665a5ab-285e-42f3-82cd-a770c2c58dfb",
    "deepnote_cell_type": "text-cell-h1",
    "id": "sPk2RsIW6Ne0",
    "tags": []
   },
   "source": [
    "# Evaluation Metrics using Cross Validation"
   ]
  },
  {
   "cell_type": "code",
   "execution_count": null,
   "metadata": {
    "cell_id": "00072-f7510a4f-8c16-4b5c-b95f-685f4e7794c5",
    "deepnote_cell_type": "code",
    "deepnote_to_be_reexecuted": false,
    "execution_millis": 3189,
    "execution_start": 1618509125973,
    "id": "TME_7FsJP3j_",
    "source_hash": "8620789e",
    "tags": []
   },
   "outputs": [],
   "source": [
    "cv = KFold(n_splits=5, shuffle=True)\n",
    "scores = cross_val_score(model, split_input_data, split_output_data, cv=cv)"
   ]
  },
  {
   "cell_type": "code",
   "execution_count": null,
   "metadata": {
    "cell_id": "00073-8dd91331-6096-4f83-9c79-a86dab828238",
    "deepnote_cell_type": "code",
    "deepnote_to_be_reexecuted": false,
    "execution_millis": 10,
    "execution_start": 1618509129167,
    "id": "nK6B3rwiP3kB",
    "source_hash": "119a8f77",
    "tags": []
   },
   "outputs": [],
   "source": [
    "print('F1_Score: %.3f (%.3f)' % (mean(scores), std(scores)))"
   ]
  },
  {
   "cell_type": "code",
   "execution_count": null,
   "metadata": {
    "cell_id": "00074-ab6a027c-edfe-4df3-812b-41bb2a1471a7",
    "deepnote_cell_type": "code",
    "deepnote_to_be_reexecuted": false,
    "execution_millis": 535,
    "execution_start": 1618509129174,
    "id": "uTu5cNVyP3kC",
    "source_hash": "6ae4d27b",
    "tags": []
   },
   "outputs": [],
   "source": [
    "kf= KFold(n_splits=5)\n",
    "X = split_input_data.to_numpy()\n",
    "y = split_output_data\n",
    "le = LabelEncoder()\n",
    "y = le.fit_transform(y)\n",
    "F1=[]\n",
    "Accuracy=[]\n",
    "Recall=[]\n",
    "Precision=[]\n",
    "for fold, (train_index, test_index) in enumerate(kf.split(X), 1):\n",
    "    X_train = X[train_index]\n",
    "    y_train = y[train_index]  # Based on your code, you might need a ravel call here, but I would look into how you're generating your y\n",
    "    X_test = X[test_index]\n",
    "    y_test = y[test_index]  # See comment on ravel and  y_train\n",
    "    \n",
    "    #Create the Dataframe\n",
    "    X_train = pd.DataFrame(X_train,columns=data.drop('y',axis=1).columns)\n",
    "    X_test = pd.DataFrame(X_test,columns=data.drop('y',axis=1).columns)\n",
    "    \n",
    "\n",
    "    #Standard Scalling\n",
    "    ss = StandardScaler()\n",
    "    X_train= ss.fit_transform(X_train)\n",
    "    X_test = ss.transform(X_test)\n",
    "    \n",
    "    X_train = pd.DataFrame(X_train, columns = split_input_data.columns)\n",
    "    X_test = pd.DataFrame(X_test , columns = split_input_data.columns)\n",
    "    \n",
    "\n",
    "    # Sampling\n",
    "    over = SMOTE(sampling_strategy = 0.18)\n",
    "    under = RandomUnderSampler(sampling_strategy=0.85)\n",
    "    steps = [('o',over),('u',under)]\n",
    "    pipeline = Pipeline(steps=steps)\n",
    "    \n",
    "    X_train,y_train_s =pipeline.fit_resample(X_train,y_train)\n",
    "    \n",
    "    #Modelling\n",
    "    model1 = RandomForestClassifier(class_weight='balanced_subsample',bootstrap=True,criterion='entropy',oob_score=True,warm_start=True)\n",
    "    model1.fit(X_train,y_train_s)\n",
    "    y_pred1 = model1.predict(X_test)\n",
    "    \n",
    "    F1.append(f1_score(y_test, y_pred1))\n",
    "    Accuracy.append(accuracy_score(y_test, y_pred1))\n",
    "    Recall.append(recall_score(y_test, y_pred1))\n",
    "    Precision.append(precision_score(y_test, y_pred1))"
   ]
  },
  {
   "cell_type": "code",
   "execution_count": null,
   "metadata": {
    "cell_id": "00075-25ca92f0-6422-4c24-8013-c8e5b0b4cfc2",
    "deepnote_cell_type": "code",
    "deepnote_to_be_reexecuted": true,
    "id": "Ydi9XlS1P3kD",
    "source_hash": "9b0534a3",
    "tags": []
   },
   "outputs": [],
   "source": [
    "print('F1 : '+str(np.mean(F1)))\n",
    "print('Accuracy : '+str(np.mean(Accuracy)))\n",
    "print('Recall : '+str(np.mean(Recall)))\n",
    "print('Precision : '+str(np.mean(Precision)))"
   ]
  }
 ],
 "metadata": {
  "colab": {
   "collapsed_sections": [
    "6y8q6RiX6Neg",
    "gsxP21gR6Neh",
    "5Xc4hAVt6Nej"
   ],
   "name": "PortugeseBank_RandomForest_FinalSolution.ipynb",
   "provenance": [],
   "toc_visible": true
  },
  "deepnote": {
   "is_reactive": false
  },
  "deepnote_execution_queue": [],
  "deepnote_notebook_id": "af2783aa-5974-457c-a1bb-3cb2b2fcc2d9",
  "kernelspec": {
   "display_name": "Python 3",
   "language": "python",
   "name": "python3"
  },
  "language_info": {
   "codemirror_mode": {
    "name": "ipython",
    "version": 3
   },
   "file_extension": ".py",
   "mimetype": "text/x-python",
   "name": "python",
   "nbconvert_exporter": "python",
   "pygments_lexer": "ipython3",
   "version": "3.8.8"
  },
  "toc": {
   "base_numbering": 1,
   "nav_menu": {},
   "number_sections": true,
   "sideBar": true,
   "skip_h1_title": false,
   "title_cell": "Table of Contents",
   "title_sidebar": "Contents",
   "toc_cell": false,
   "toc_position": {},
   "toc_section_display": true,
   "toc_window_display": false
  }
 },
 "nbformat": 4,
 "nbformat_minor": 1
}
