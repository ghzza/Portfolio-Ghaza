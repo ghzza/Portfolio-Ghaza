{
  "nbformat": 4,
  "nbformat_minor": 0,
  "metadata": {
    "orig_nbformat": 2,
    "deepnote_notebook_id": "7f2ff7e1-de71-443c-b560-3426019664cc",
    "deepnote": {
      "is_reactive": false
    },
    "deepnote_execution_queue": [],
    "colab": {
      "name": "PortugeseBank_SVC_FinalSolution.ipynb",
      "provenance": [],
      "collapsed_sections": [],
      "toc_visible": true
    },
    "language_info": {
      "name": "python"
    },
    "kernelspec": {
      "name": "python3",
      "display_name": "Python 3"
    }
  },
  "cells": [
    {
      "cell_type": "markdown",
      "metadata": {
        "id": "iT-q8SspXZqa"
      },
      "source": [
        "# Author\n",
        "\n",
        "1. Ghazali Akmal Rabbani **(First Author)**\n",
        "2. Daniel Najoan **(Second Author)**\n",
        "3. Muhammad Dhiaz Rafilianza **(Third Author)**"
      ]
    },
    {
      "cell_type": "markdown",
      "metadata": {
        "tags": [],
        "cell_id": "00000-8c006ad0-988d-4df2-89f8-52050d11c7d1",
        "deepnote_cell_type": "text-cell-h1",
        "id": "7WQHWhhuP3iv"
      },
      "source": [
        "# Import Library"
      ]
    },
    {
      "cell_type": "code",
      "metadata": {
        "tags": [],
        "deepnote_to_be_reexecuted": false,
        "source_hash": "73efdfa6",
        "execution_millis": 5485,
        "cell_id": "00001-ab489831-ce52-406b-b620-ec7d7df5571f",
        "execution_start": 1618509071418,
        "deepnote_cell_type": "code",
        "colab": {
          "base_uri": "https://localhost:8080/"
        },
        "id": "ETtGNabHP3jC",
        "outputId": "d73800d2-ac04-4c3f-959e-ab472ebac172"
      },
      "source": [
        "!pip install imblearn"
      ],
      "execution_count": null,
      "outputs": [
        {
          "output_type": "stream",
          "text": [
            "Requirement already satisfied: imblearn in /usr/local/lib/python3.7/dist-packages (0.0)\n",
            "Requirement already satisfied: imbalanced-learn in /usr/local/lib/python3.7/dist-packages (from imblearn) (0.4.3)\n",
            "Requirement already satisfied: scipy>=0.13.3 in /usr/local/lib/python3.7/dist-packages (from imbalanced-learn->imblearn) (1.4.1)\n",
            "Requirement already satisfied: numpy>=1.8.2 in /usr/local/lib/python3.7/dist-packages (from imbalanced-learn->imblearn) (1.19.5)\n",
            "Requirement already satisfied: scikit-learn>=0.20 in /usr/local/lib/python3.7/dist-packages (from imbalanced-learn->imblearn) (0.22.2.post1)\n",
            "Requirement already satisfied: joblib>=0.11 in /usr/local/lib/python3.7/dist-packages (from scikit-learn>=0.20->imbalanced-learn->imblearn) (1.0.1)\n"
          ],
          "name": "stdout"
        }
      ]
    },
    {
      "cell_type": "code",
      "metadata": {
        "tags": [],
        "deepnote_to_be_reexecuted": false,
        "source_hash": "35808d03",
        "execution_millis": 2424,
        "cell_id": "00002-dfc1b7a9-7de2-413b-9631-1382f3dcfaa5",
        "execution_start": 1618509076919,
        "deepnote_cell_type": "code",
        "colab": {
          "base_uri": "https://localhost:8080/"
        },
        "id": "CvYlUxTDP3jH",
        "outputId": "a3966512-a129-4b3d-8106-3fe6c8b8ce83"
      },
      "source": [
        "import os\n",
        "import pandas as pd\n",
        "import numpy as np\n",
        "import matplotlib.pyplot as plt\n",
        "import seaborn as sns\n",
        "import sklearn\n",
        "from sklearn.model_selection import train_test_split\n",
        "from sklearn.preprocessing import StandardScaler\n",
        "from sklearn import preprocessing\n",
        "from sklearn.preprocessing import LabelEncoder\n",
        "from imblearn.over_sampling import SMOTE\n",
        "from imblearn.under_sampling import RandomUnderSampler\n",
        "from imblearn.pipeline import Pipeline\n",
        "from sklearn.svm import SVC\n",
        "from sklearn.model_selection import RandomizedSearchCV\n",
        "from sklearn.model_selection import GridSearchCV\n",
        "from sklearn.metrics import classification_report\n",
        "from sklearn.model_selection import KFold\n",
        "from sklearn.model_selection import cross_val_score\n",
        "from numpy import mean\n",
        "from numpy import std\n",
        "from sklearn.metrics import f1_score\n",
        "from sklearn.metrics import accuracy_score\n",
        "from sklearn.metrics import recall_score\n",
        "from sklearn.metrics import precision_score"
      ],
      "execution_count": null,
      "outputs": [
        {
          "output_type": "stream",
          "text": [
            "/usr/local/lib/python3.7/dist-packages/sklearn/externals/six.py:31: FutureWarning: The module is deprecated in version 0.21 and will be removed in version 0.23 since we've dropped support for Python 2.7. Please rely on the official version of six (https://pypi.org/project/six/).\n",
            "  \"(https://pypi.org/project/six/).\", FutureWarning)\n",
            "/usr/local/lib/python3.7/dist-packages/sklearn/utils/deprecation.py:144: FutureWarning: The sklearn.neighbors.base module is  deprecated in version 0.22 and will be removed in version 0.24. The corresponding classes / functions should instead be imported from sklearn.neighbors. Anything that cannot be imported from sklearn.neighbors is now part of the private API.\n",
            "  warnings.warn(message, FutureWarning)\n"
          ],
          "name": "stderr"
        }
      ]
    },
    {
      "cell_type": "markdown",
      "metadata": {
        "tags": [],
        "cell_id": "00003-6eb2bb9c-d47a-4197-ad78-b9d9adae884c",
        "deepnote_cell_type": "text-cell-h1",
        "id": "cmJ3vX4xP3jK"
      },
      "source": [
        "# Read Data"
      ]
    },
    {
      "cell_type": "code",
      "metadata": {
        "tags": [],
        "deepnote_to_be_reexecuted": false,
        "source_hash": "5285587f",
        "execution_millis": 175,
        "cell_id": "00004-e173a76d-5918-40d1-a6b2-45a106d81d1b",
        "execution_start": 1618509079350,
        "deepnote_cell_type": "code",
        "id": "puTM3C19P3jL"
      },
      "source": [
        "data = pd.read_csv(\"bank-full.csv\", delimiter=';')"
      ],
      "execution_count": null,
      "outputs": []
    },
    {
      "cell_type": "markdown",
      "metadata": {
        "tags": [],
        "cell_id": "00005-26bc38ac-1691-4b2f-84a7-e2b1b87d75a1",
        "deepnote_cell_type": "text-cell-h1",
        "id": "7hVayueYP3jM"
      },
      "source": [
        "# Simple Data Visualization"
      ]
    },
    {
      "cell_type": "code",
      "metadata": {
        "tags": [],
        "deepnote_to_be_reexecuted": false,
        "source_hash": "2007f58",
        "execution_millis": 37,
        "cell_id": "00006-52917942-ba5b-4f03-bf63-2cac740fc0fe",
        "execution_start": 1618509079530,
        "deepnote_cell_type": "code",
        "colab": {
          "base_uri": "https://localhost:8080/"
        },
        "id": "SlS7efknP3jN",
        "outputId": "c1a0a38a-9d5b-4693-b9b6-47ae0c8a2a31"
      },
      "source": [
        "data.shape"
      ],
      "execution_count": null,
      "outputs": [
        {
          "output_type": "execute_result",
          "data": {
            "text/plain": [
              "(45211, 17)"
            ]
          },
          "metadata": {
            "tags": []
          },
          "execution_count": 4
        }
      ]
    },
    {
      "cell_type": "markdown",
      "metadata": {
        "tags": [],
        "cell_id": "00007-8fb2d59a-1fd8-4bf3-8b25-a993ea1ccf5b",
        "deepnote_cell_type": "text-cell-h1",
        "id": "xA4SiYHUP3jO"
      },
      "source": [
        "# Model Construction"
      ]
    },
    {
      "cell_type": "markdown",
      "metadata": {
        "tags": [],
        "cell_id": "00008-8e6977ca-a13d-43fa-aa04-e9caaac19938",
        "deepnote_cell_type": "text-cell-h2",
        "id": "VYB6VvQ2P3jP"
      },
      "source": [
        "## Label Encoding For Categorical Data Train"
      ]
    },
    {
      "cell_type": "markdown",
      "metadata": {
        "tags": [],
        "cell_id": "00009-3e1b5906-90a4-4764-92e8-bb2cbc4b1d00",
        "deepnote_cell_type": "text-cell-p",
        "id": "4B963psXP3jQ"
      },
      "source": [
        "Label Encoding are used to transform non-numerical&nbsp;labels&nbsp;(as long as they are hashable and comparable) to numerical&nbsp;labels. Label that are being transform to numerical are categorical data column which is job, marital, education, default, housing, loan, contact, month and poutcome."
      ]
    },
    {
      "cell_type": "code",
      "metadata": {
        "tags": [],
        "deepnote_to_be_reexecuted": false,
        "source_hash": "86f54dab",
        "execution_millis": 113,
        "cell_id": "00010-97d2ebf7-ffce-45f7-9c3a-2d82967daa76",
        "execution_start": 1618509079582,
        "deepnote_cell_type": "code",
        "id": "IQ8HpQb8P3jR"
      },
      "source": [
        "le = LabelEncoder()\n",
        "encode_x = data.iloc[ : , :-1]\n",
        "encode_x.job = le.fit_transform(encode_x.job)\n",
        "encode_x.marital = le.fit_transform(encode_x.marital)\n",
        "encode_x.education = le.fit_transform(encode_x.education)\n",
        "encode_x.default = le.fit_transform(encode_x.default)\n",
        "encode_x.housing = le.fit_transform(encode_x.housing)\n",
        "encode_x.loan = le.fit_transform(encode_x.loan)\n",
        "encode_x.contact = le.fit_transform(encode_x.contact)\n",
        "encode_x.month = le.fit_transform(encode_x.month)\n",
        "encode_x.poutcome = le.fit_transform(encode_x.poutcome)"
      ],
      "execution_count": null,
      "outputs": []
    },
    {
      "cell_type": "markdown",
      "metadata": {
        "tags": [],
        "cell_id": "00011-26f056de-e8a9-4131-a074-a411d69ee083",
        "deepnote_cell_type": "text-cell-h2",
        "id": "LODTgqWHP3jS"
      },
      "source": [
        "## Split Data"
      ]
    },
    {
      "cell_type": "markdown",
      "metadata": {
        "tags": [],
        "cell_id": "00012-10a73b1a-178e-4dac-8604-7b92ac2347bc",
        "deepnote_cell_type": "text-cell-p",
        "id": "E-w9fb9kP3jT"
      },
      "source": [
        "Split data are used to split the original data into 2 different parts which is training data and testing data. Training data will also be divided into 2 parts training data and validation training data. This process to ensure when the model being trained we have a data to validate the predicted output of a model."
      ]
    },
    {
      "cell_type": "code",
      "metadata": {
        "tags": [],
        "deepnote_to_be_reexecuted": false,
        "source_hash": "de325735",
        "execution_millis": 44,
        "cell_id": "00013-d0cfa199-2aa6-4cb8-8951-59768a3f6103",
        "execution_start": 1618509079698,
        "deepnote_cell_type": "code",
        "id": "WXgEqsfFP3jU"
      },
      "source": [
        "split_input_data = encode_x\n",
        "split_output_data = data['y']"
      ],
      "execution_count": null,
      "outputs": []
    },
    {
      "cell_type": "markdown",
      "metadata": {
        "tags": [],
        "cell_id": "00014-daed55b0-bf73-467b-9ca6-dc3029eb2875",
        "deepnote_cell_type": "text-cell-p",
        "id": "t-6fb7HbP3jV"
      },
      "source": [
        "We divided the data into 4 parts:\n",
        "- X_train is a training data that have no output.\n",
        "- X_test is a testing data that have no output. This data will be use by the model to predict the output of the X_test data\n",
        "- y_train is a training data that has the output data from X_train data.\n",
        "- y_test is the original output data from X_test. This data will be used to validate the accuracy of predicted data that were generated by the model."
      ]
    },
    {
      "cell_type": "code",
      "metadata": {
        "tags": [],
        "deepnote_to_be_reexecuted": false,
        "source_hash": "5e746e28",
        "execution_millis": 0,
        "cell_id": "00015-e0f552b7-c70d-4741-9158-1d44e8918f5b",
        "execution_start": 1618509079743,
        "deepnote_cell_type": "code",
        "id": "CIWKNF2ZP3jV"
      },
      "source": [
        "X_train, X_test, y_train, y_test = train_test_split(split_input_data, split_output_data, test_size=0.3, random_state=10)"
      ],
      "execution_count": null,
      "outputs": []
    },
    {
      "cell_type": "markdown",
      "metadata": {
        "tags": [],
        "cell_id": "00016-f2ec13ef-1588-4ebe-9aed-3f415a8d4768",
        "deepnote_cell_type": "text-cell-h2",
        "id": "GzPk8Je8P3jW"
      },
      "source": [
        "## Scale Data"
      ]
    },
    {
      "cell_type": "markdown",
      "metadata": {
        "tags": [],
        "cell_id": "00017-32ce1166-dae1-4fed-9606-db2ba2fb637b",
        "deepnote_cell_type": "text-cell-p",
        "id": "9fWGHfHEP3jX"
      },
      "source": [
        "Here we transform the data to fit within a specific scale using these algorithms a change of \"1\" in any numeric feature will give the same importance to each data. We used StandardScaler() method from Sklearn library. Define the transformation for train and test data:\n",
        "- X_train will be scale using fit_transform()\n",
        "- X_test will be scale using transform()"
      ]
    },
    {
      "cell_type": "code",
      "metadata": {
        "tags": [],
        "deepnote_to_be_reexecuted": false,
        "source_hash": "7ca32dca",
        "execution_millis": 0,
        "cell_id": "00018-abb66e19-c20d-45f5-93c9-4ebd76ad84ed",
        "execution_start": 1618509079786,
        "deepnote_cell_type": "code",
        "id": "FpDhA6rKP3jY"
      },
      "source": [
        "scaler = StandardScaler()\n",
        "X_train_scaled = pd.DataFrame(scaler.fit_transform(X_train))\n",
        "X_test_scaled = pd.DataFrame(scaler.transform(X_test))"
      ],
      "execution_count": null,
      "outputs": []
    },
    {
      "cell_type": "markdown",
      "metadata": {
        "tags": [],
        "cell_id": "00019-c7968a94-e66f-49d4-8d9c-bac539255ce7",
        "deepnote_cell_type": "text-cell-h2",
        "id": "9PRK_yVnP3jZ"
      },
      "source": [
        "## Mix Sampling using SMOTE &amp; Random Under Sampler"
      ]
    },
    {
      "cell_type": "markdown",
      "metadata": {
        "tags": [],
        "cell_id": "00020-8c3ac5cf-e404-4e6a-a234-cc65624aba4c",
        "deepnote_cell_type": "text-cell-p",
        "id": "9fyW90wIP3jZ"
      },
      "source": [
        "Here we distributed the data using SMOTE and Random Under Sampler to make the classification output data balance. We used SMOTE to duplicates and variance the 'yes' data for the model to learn more variance of yes data.  We used Random Under Sampler to delete random sample of the 'no' data to make the model not to have low bias towards 'yes' data."
      ]
    },
    {
      "cell_type": "code",
      "metadata": {
        "tags": [],
        "deepnote_to_be_reexecuted": false,
        "source_hash": "340e3557",
        "execution_millis": 817,
        "cell_id": "00021-473c2eee-3533-4b39-acf8-d9a430be7d3c",
        "execution_start": 1618509079816,
        "deepnote_cell_type": "code",
        "colab": {
          "base_uri": "https://localhost:8080/"
        },
        "id": "mpkxazzOP3ja",
        "outputId": "0abf8008-167f-47df-c874-4be330a51717"
      },
      "source": [
        "mixSample_X = X_train_scaled\n",
        "# define pipeline\n",
        "over = SMOTE(sampling_strategy=0.15)\n",
        "under = RandomUnderSampler(sampling_strategy=0.5)\n",
        "steps = [('o', over), ('u', under)]\n",
        "pipeline = Pipeline(steps=steps)\n",
        "# transform the dataset\n",
        "mixSample_X, mixSample_Y = pipeline.fit_resample(mixSample_X, y_train)\n",
        "pd.DataFrame(mixSample_Y).value_counts()"
      ],
      "execution_count": null,
      "outputs": [
        {
          "output_type": "stream",
          "text": [
            "/usr/local/lib/python3.7/dist-packages/sklearn/utils/deprecation.py:87: FutureWarning: Function safe_indexing is deprecated; safe_indexing is deprecated in version 0.22 and will be removed in version 0.24.\n",
            "  warnings.warn(msg, category=FutureWarning)\n",
            "/usr/local/lib/python3.7/dist-packages/sklearn/utils/deprecation.py:87: FutureWarning: Function safe_indexing is deprecated; safe_indexing is deprecated in version 0.22 and will be removed in version 0.24.\n",
            "  warnings.warn(msg, category=FutureWarning)\n"
          ],
          "name": "stderr"
        },
        {
          "output_type": "execute_result",
          "data": {
            "text/plain": [
              "no     8374\n",
              "yes    4187\n",
              "dtype: int64"
            ]
          },
          "metadata": {
            "tags": []
          },
          "execution_count": 9
        }
      ]
    },
    {
      "cell_type": "markdown",
      "metadata": {
        "tags": [],
        "cell_id": "00022-a045af8d-e025-469f-8722-7f2628c650bc",
        "deepnote_cell_type": "text-cell-h1",
        "id": "hEk3OME-P3jc"
      },
      "source": [
        "# SVC from SKLEARN Library"
      ]
    },
    {
      "cell_type": "markdown",
      "metadata": {
        "tags": [],
        "cell_id": "00023-fb46cf43-bff1-41a6-b9d3-0bf6278d19a6",
        "deepnote_cell_type": "text-cell-h2",
        "id": "BeszVMMHP3jd"
      },
      "source": [
        "## Model Fit with default Parameters"
      ]
    },
    {
      "cell_type": "markdown",
      "metadata": {
        "tags": [],
        "cell_id": "00024-d6cf2da1-4533-42c8-b5e8-5597a0f94351",
        "deepnote_cell_type": "text-cell-p",
        "id": "UlgsKeTOP3jd"
      },
      "source": [
        "Here we used SVC without specifying the parameters "
      ]
    },
    {
      "cell_type": "code",
      "metadata": {
        "tags": [],
        "deepnote_to_be_reexecuted": false,
        "source_hash": "e0a1cd85",
        "execution_millis": 3,
        "cell_id": "00025-c5104bc4-b933-4cbc-9022-0594a55ad354",
        "execution_start": 1618509080609,
        "deepnote_cell_type": "code",
        "id": "wu-lm8XDP3je"
      },
      "source": [
        "model = SVC()"
      ],
      "execution_count": null,
      "outputs": []
    },
    {
      "cell_type": "markdown",
      "metadata": {
        "tags": [],
        "cell_id": "00026-935481ac-1b99-45f9-ae10-4696dc7802af",
        "deepnote_cell_type": "text-cell-h2",
        "id": "A3WLlNPdP3jf"
      },
      "source": [
        "## Train the Model using Training Data and Validation Training Data"
      ]
    },
    {
      "cell_type": "code",
      "metadata": {
        "tags": [],
        "deepnote_to_be_reexecuted": false,
        "source_hash": "21cd9296",
        "execution_millis": 5704,
        "cell_id": "00027-dcdb9aba-2692-417e-8948-a4cfde21de6c",
        "execution_start": 1618509080693,
        "deepnote_cell_type": "code",
        "colab": {
          "base_uri": "https://localhost:8080/"
        },
        "id": "RKcNLIS5P3jh",
        "outputId": "80e69650-4aa4-498f-8b52-f13f172a77b4"
      },
      "source": [
        "model.fit(mixSample_X, mixSample_Y)"
      ],
      "execution_count": null,
      "outputs": [
        {
          "output_type": "execute_result",
          "data": {
            "text/plain": [
              "SVC(C=1.0, break_ties=False, cache_size=200, class_weight=None, coef0=0.0,\n",
              "    decision_function_shape='ovr', degree=3, gamma='scale', kernel='rbf',\n",
              "    max_iter=-1, probability=False, random_state=None, shrinking=True,\n",
              "    tol=0.001, verbose=False)"
            ]
          },
          "metadata": {
            "tags": []
          },
          "execution_count": 11
        }
      ]
    },
    {
      "cell_type": "markdown",
      "metadata": {
        "tags": [],
        "cell_id": "00028-885210de-eac7-46fb-a7cf-d9a382cfa5d7",
        "deepnote_cell_type": "text-cell-h2",
        "id": "WeBcfFLoP3ji"
      },
      "source": [
        "## Predict Model using Testing Data"
      ]
    },
    {
      "cell_type": "code",
      "metadata": {
        "tags": [],
        "deepnote_to_be_reexecuted": false,
        "source_hash": "48992fe",
        "execution_millis": 5918,
        "cell_id": "00029-4b52a221-af21-4bda-9e62-034789a30315",
        "execution_start": 1618509086402,
        "deepnote_cell_type": "code",
        "id": "aF7429UxP3jj"
      },
      "source": [
        "y_pred = model.predict(X_test_scaled)"
      ],
      "execution_count": null,
      "outputs": []
    },
    {
      "cell_type": "markdown",
      "metadata": {
        "tags": [],
        "cell_id": "00030-9a938cd5-820e-4cd9-85d6-89c489972d00",
        "deepnote_cell_type": "text-cell-h3",
        "id": "0yIDJ7YuP3jj"
      },
      "source": [
        "### Before evaluation we need to know the value count of each class from the original output data"
      ]
    },
    {
      "cell_type": "markdown",
      "metadata": {
        "tags": [],
        "cell_id": "00031-8187693e-18ba-4dbf-a3a5-b96b7bf17ef3",
        "deepnote_cell_type": "text-cell-p",
        "id": "dEfzXtNTP3jk"
      },
      "source": [
        "Here are the count of 'no' data and the count of 'yes' data from the original output data"
      ]
    },
    {
      "cell_type": "code",
      "metadata": {
        "tags": [],
        "deepnote_to_be_reexecuted": false,
        "source_hash": "9f353983",
        "execution_millis": 1,
        "cell_id": "00032-17eae79f-ffce-4822-93aa-3ecc56121a97",
        "execution_start": 1618509092328,
        "deepnote_cell_type": "code",
        "colab": {
          "base_uri": "https://localhost:8080/"
        },
        "id": "AVOX3KQeP3jl",
        "outputId": "b882e88c-4142-46dd-b0c8-88aea05b011f"
      },
      "source": [
        "y_test.value_counts()"
      ],
      "execution_count": null,
      "outputs": [
        {
          "output_type": "execute_result",
          "data": {
            "text/plain": [
              "no     12006\n",
              "yes     1558\n",
              "Name: y, dtype: int64"
            ]
          },
          "metadata": {
            "tags": []
          },
          "execution_count": 13
        }
      ]
    },
    {
      "cell_type": "markdown",
      "metadata": {
        "tags": [],
        "cell_id": "00033-504b40d3-f350-4573-abcd-e6995a6c57ae",
        "deepnote_cell_type": "text-cell-h2",
        "id": "wXAa88NVP3jm"
      },
      "source": [
        "## Evaluation Metrics using Confusion Matrix"
      ]
    },
    {
      "cell_type": "markdown",
      "metadata": {
        "tags": [],
        "cell_id": "00034-03950d22-8e72-4aec-b5c1-af5957379a6f",
        "deepnote_cell_type": "text-cell-p",
        "id": "58F2LdlcP3jm"
      },
      "source": [
        "Here we used confusion matrix which is crosstab() method from pandas There are 4 terms as a representation of the result of the classification process confusion matrix. The four terms: \n",
        "- True Positive (TP): Represents positive data that is predicted to be correct.\n",
        "- True Negative (TN): Represents negative data that is predicted to be correct.\n",
        "- False Positive (FP) Type I Error: Represents negative data but predicted as positive data.\n",
        "- False Negative (FN) Type II Error: Represents positive data but predicted as negative data."
      ]
    },
    {
      "cell_type": "code",
      "metadata": {
        "tags": [],
        "deepnote_to_be_reexecuted": false,
        "source_hash": "834f5afa",
        "execution_millis": 33,
        "cell_id": "00035-6c47b846-e212-4bc8-a95c-35b56cdb5500",
        "execution_start": 1618509092360,
        "deepnote_cell_type": "code",
        "colab": {
          "base_uri": "https://localhost:8080/"
        },
        "id": "qUhQbJc8P3jn",
        "outputId": "c479e8c0-7f72-4089-a4e5-974280a0fae5"
      },
      "source": [
        "confusion_matrix = pd.crosstab(y_test, y_pred)\n",
        "print (confusion_matrix)"
      ],
      "execution_count": null,
      "outputs": [
        {
          "output_type": "stream",
          "text": [
            "col_0     no   yes\n",
            "y                 \n",
            "no     10689  1317\n",
            "yes      429  1129\n"
          ],
          "name": "stdout"
        }
      ]
    },
    {
      "cell_type": "markdown",
      "metadata": {
        "tags": [],
        "cell_id": "00036-1290b524-0ab1-4d4d-a5fc-e14eefea405c",
        "deepnote_cell_type": "text-cell-p",
        "id": "Ej3J54-pP3jo"
      },
      "source": [
        " The conclusion from the above result: \n",
        "- True Positive (TP): **1129** 'Yes' predicted data is correct **from 1558** 'Yes' original data \n",
        "- True Negative (TN): **10689** 'No' predicted data is correct **from 12006** 'No' original data\n",
        "- False Negative (FN): **429** 'Yes' predicted data falsely predicted as 'No' data\n",
        "- False Positive (FP): **1317** 'No' predicted data falsely predicted as 'Yes' data"
      ]
    },
    {
      "cell_type": "markdown",
      "metadata": {
        "tags": [],
        "cell_id": "00037-70eeeff0-ad38-46bb-a2da-736dd78a04ba",
        "deepnote_cell_type": "text-cell-h2",
        "id": "QgfvU8c-P3jp"
      },
      "source": [
        "## Evaluation Metrics using Classification Report"
      ]
    },
    {
      "cell_type": "markdown",
      "metadata": {
        "tags": [],
        "cell_id": "00038-10ce9e5f-1baa-451f-a401-cb854be62ca2",
        "deepnote_cell_type": "text-cell-p",
        "id": "RYoWQBIVP3jp"
      },
      "source": [
        "Here we used the classification report from sklearn library in the classification report function we have precision, recall, f1-score and support for the evaluation metrics."
      ]
    },
    {
      "cell_type": "markdown",
      "metadata": {
        "tags": [],
        "cell_id": "00039-efeb4f31-16ed-48be-8caf-ba4ffbdc9009",
        "deepnote_cell_type": "text-cell-h3",
        "id": "KMGcVpUsP3jq"
      },
      "source": [
        "### Precision"
      ]
    },
    {
      "cell_type": "markdown",
      "metadata": {
        "tags": [],
        "cell_id": "00040-e5551b00-8fcc-4e43-b58d-b1cba66802e1",
        "deepnote_cell_type": "text-cell-p",
        "id": "KqLxIXmGP3jr"
      },
      "source": [
        "Precision is the ability of a classifier not to label an instance positive that is actually negative. For each class, it is defined as the ratio of true positives to the sum of a true positive and false positive."
      ]
    },
    {
      "cell_type": "markdown",
      "metadata": {
        "tags": [],
        "cell_id": "00041-25b03970-38aa-4f7f-a4d4-7066b985219c",
        "deepnote_cell_type": "text-cell-h3",
        "id": "RQxpFsYdP3js"
      },
      "source": [
        "### Recall"
      ]
    },
    {
      "cell_type": "markdown",
      "metadata": {
        "tags": [],
        "cell_id": "00042-a5e76612-a2ac-4595-98a6-89b9171d0424",
        "deepnote_cell_type": "text-cell-p",
        "id": "4CbDnzaZP3jt"
      },
      "source": [
        "Recall is the ability of a classifier to find all positive instances. For each class it is defined as the ratio of true positives to the sum of true positives and false negatives."
      ]
    },
    {
      "cell_type": "markdown",
      "metadata": {
        "tags": [],
        "cell_id": "00043-bd821e04-6ecb-4053-a859-ae8ee53abffe",
        "deepnote_cell_type": "text-cell-h3",
        "id": "D0BjFe7_P3jt"
      },
      "source": [
        "### F1-Score"
      ]
    },
    {
      "cell_type": "markdown",
      "metadata": {
        "tags": [],
        "cell_id": "00044-ae958297-1a59-4c58-9d5c-fa6e4805a126",
        "deepnote_cell_type": "text-cell-p",
        "id": "2y9AZ0TdP3ju"
      },
      "source": [
        "The F1 score is a weighted harmonic mean of precision and recall such that the best score is 1.0 and the worst is 0.0. F1 scores are lower than accuracy measures as they embed precision and recall into their computation. As a rule of thumb, the weighted average of F1 should be used to compare classifier models, not global accuracy."
      ]
    },
    {
      "cell_type": "markdown",
      "metadata": {
        "tags": [],
        "cell_id": "00045-496a9d23-a0c2-49c4-9415-7376c97f3407",
        "deepnote_cell_type": "text-cell-h3",
        "id": "iRPwsn-HP3ju"
      },
      "source": [
        "### Support"
      ]
    },
    {
      "cell_type": "markdown",
      "metadata": {
        "tags": [],
        "cell_id": "00046-99b0cf00-2be1-4c97-90c2-9adfe4e07fc8",
        "deepnote_cell_type": "text-cell-p",
        "id": "IUA8uHutP3jv"
      },
      "source": [
        "Support is the number of actual occurrences of the class in the specified dataset. Imbalanced support in the training data may indicate structural weaknesses in the reported scores of the classifier and could indicate the need for stratified sampling or rebalancing. Support doesn’t change between models but instead diagnoses the evaluation process."
      ]
    },
    {
      "cell_type": "code",
      "metadata": {
        "tags": [],
        "deepnote_to_be_reexecuted": false,
        "source_hash": "74950708",
        "execution_millis": 622,
        "cell_id": "00047-6a99b30d-e789-4b51-bcfd-f956e485a617",
        "execution_start": 1618509092406,
        "deepnote_cell_type": "code",
        "colab": {
          "base_uri": "https://localhost:8080/"
        },
        "id": "r8CTTOEmP3jw",
        "outputId": "a748798a-6f20-4a97-ed74-354c2eda6e05"
      },
      "source": [
        "print(classification_report(y_test,y_pred))"
      ],
      "execution_count": null,
      "outputs": [
        {
          "output_type": "stream",
          "text": [
            "              precision    recall  f1-score   support\n",
            "\n",
            "          no       0.96      0.89      0.92     12006\n",
            "         yes       0.46      0.72      0.56      1558\n",
            "\n",
            "    accuracy                           0.87     13564\n",
            "   macro avg       0.71      0.81      0.74     13564\n",
            "weighted avg       0.90      0.87      0.88     13564\n",
            "\n"
          ],
          "name": "stdout"
        }
      ]
    },
    {
      "cell_type": "markdown",
      "metadata": {
        "tags": [],
        "cell_id": "00048-95500aae-035e-4c08-8046-f533c54f3da5",
        "deepnote_cell_type": "text-cell-p",
        "id": "deXPKjRCP3jx"
      },
      "source": [
        " The conclusion from the above result:\n",
        "- Precision: **96%** 'No' predicted data are correctly predict &amp; **46%** 'Yes' predicted data are correctly predict\n",
        "- Recall: **89%** 'No' original data have been predicted by the model &amp; **72%** 'Yes' original data have been predicted by the model\n",
        "- F1-Score: The mean from precision and recall for 'No' predicted data is **92%** and for 'Yes' predicted data is **56%**"
      ]
    },
    {
      "cell_type": "markdown",
      "metadata": {
        "tags": [],
        "cell_id": "00049-5b4dee36-01cb-4a4b-917d-7a7d105b7f73",
        "deepnote_cell_type": "text-cell-h1",
        "id": "AMCbid3OP3jy"
      },
      "source": [
        "# Model Fit with Best Parameters using Random Search CV"
      ]
    },
    {
      "cell_type": "markdown",
      "metadata": {
        "tags": [],
        "cell_id": "00050-d2b09c98-ec6d-4912-90d0-1b9367a3692c",
        "deepnote_cell_type": "text-cell-p",
        "id": "DvhcXMS3P3jy"
      },
      "source": [
        "We used Random Search CV from to find best parameter for our SVC model here we will compare the model that use default parameter and the model that will be given the best parameter from Random Search CV"
      ]
    },
    {
      "cell_type": "markdown",
      "metadata": {
        "tags": [],
        "cell_id": "00051-c7b0f4d4-f012-4840-addc-b4251e5929e0",
        "deepnote_cell_type": "text-cell-h2",
        "id": "LMJ0x-Q7P3jz"
      },
      "source": [
        "## Define Parameters"
      ]
    },
    {
      "cell_type": "code",
      "metadata": {
        "tags": [],
        "deepnote_to_be_reexecuted": false,
        "source_hash": "b0f0d2ed",
        "execution_millis": 2,
        "cell_id": "00052-acd85060-9de8-4981-933e-d0dad2c9c82f",
        "execution_start": 1618509093015,
        "deepnote_cell_type": "code",
        "id": "fCrvOdAXP3jz"
      },
      "source": [
        "from sklearn.model_selection import RandomizedSearchCV\n",
        "\n",
        "parameters = {\n",
        "    'kernel': ['rbf','linear','poly','sigmoid'],\n",
        "    'C': [1,10,20,50,100],\n",
        "    'gamma': ['scale','auto'],\n",
        "    'degree' : [3,5,7]\n",
        "}"
      ],
      "execution_count": null,
      "outputs": []
    },
    {
      "cell_type": "markdown",
      "metadata": {
        "tags": [],
        "cell_id": "00053-15921e64-144b-4eba-894d-dd2ae996d6dc",
        "deepnote_cell_type": "text-cell-h2",
        "id": "zmkEvUYFP3j0"
      },
      "source": [
        "## Find Best Parameter using RandomSearch CV"
      ]
    },
    {
      "cell_type": "markdown",
      "metadata": {
        "tags": [],
        "cell_id": "00054-d959cd86-bc2a-4ab0-b215-e4254d3b058d",
        "deepnote_cell_type": "text-cell-p",
        "id": "2ZCmKI0QP3j1"
      },
      "source": [
        "Here we want to focus the result based on the Recall evaluation metric because we would like to know if the result of the predicted output made by the model already predict most of the correct data inside the predicted output."
      ]
    },
    {
      "cell_type": "code",
      "metadata": {
        "tags": [],
        "deepnote_to_be_reexecuted": false,
        "source_hash": "5c36fdae",
        "execution_millis": 2,
        "cell_id": "00055-c85a6aeb-e833-4ce0-970b-41eeccf74228",
        "execution_start": 1618509093020,
        "deepnote_cell_type": "code",
        "colab": {
          "base_uri": "https://localhost:8080/"
        },
        "id": "2aW_zj4gP3j1",
        "outputId": "6e693ffe-949a-42e4-f537-06e9750db962"
      },
      "source": [
        "from sklearn.metrics import precision_score, recall_score, make_scorer\n",
        "\n",
        "recall_scorer = make_scorer(recall_score,pos_label='yes')\n",
        "\n",
        "grid_model = RandomizedSearchCV(SVC(), param_distributions = parameters,n_iter=20,verbose=2,scoring=recall_scorer)\n",
        "\n",
        "grid_model.fit(mixSample_X, mixSample_Y)"
      ],
      "execution_count": null,
      "outputs": [
        {
          "output_type": "stream",
          "text": [
            "Fitting 5 folds for each of 20 candidates, totalling 100 fits\n",
            "[CV] kernel=poly, gamma=scale, degree=5, C=10 ........................\n"
          ],
          "name": "stdout"
        },
        {
          "output_type": "stream",
          "text": [
            "[Parallel(n_jobs=1)]: Using backend SequentialBackend with 1 concurrent workers.\n"
          ],
          "name": "stderr"
        },
        {
          "output_type": "stream",
          "text": [
            "[CV] ......... kernel=poly, gamma=scale, degree=5, C=10, total=   7.6s\n",
            "[CV] kernel=poly, gamma=scale, degree=5, C=10 ........................\n"
          ],
          "name": "stdout"
        },
        {
          "output_type": "stream",
          "text": [
            "[Parallel(n_jobs=1)]: Done   1 out of   1 | elapsed:    7.6s remaining:    0.0s\n"
          ],
          "name": "stderr"
        },
        {
          "output_type": "stream",
          "text": [
            "[CV] ......... kernel=poly, gamma=scale, degree=5, C=10, total=   8.0s\n",
            "[CV] kernel=poly, gamma=scale, degree=5, C=10 ........................\n",
            "[CV] ......... kernel=poly, gamma=scale, degree=5, C=10, total=   7.8s\n",
            "[CV] kernel=poly, gamma=scale, degree=5, C=10 ........................\n",
            "[CV] ......... kernel=poly, gamma=scale, degree=5, C=10, total=   7.6s\n",
            "[CV] kernel=poly, gamma=scale, degree=5, C=10 ........................\n",
            "[CV] ......... kernel=poly, gamma=scale, degree=5, C=10, total=   7.1s\n",
            "[CV] kernel=linear, gamma=auto, degree=5, C=1 ........................\n",
            "[CV] ......... kernel=linear, gamma=auto, degree=5, C=1, total=   4.5s\n",
            "[CV] kernel=linear, gamma=auto, degree=5, C=1 ........................\n",
            "[CV] ......... kernel=linear, gamma=auto, degree=5, C=1, total=   4.5s\n",
            "[CV] kernel=linear, gamma=auto, degree=5, C=1 ........................\n",
            "[CV] ......... kernel=linear, gamma=auto, degree=5, C=1, total=   4.3s\n",
            "[CV] kernel=linear, gamma=auto, degree=5, C=1 ........................\n",
            "[CV] ......... kernel=linear, gamma=auto, degree=5, C=1, total=   4.5s\n",
            "[CV] kernel=linear, gamma=auto, degree=5, C=1 ........................\n",
            "[CV] ......... kernel=linear, gamma=auto, degree=5, C=1, total=   4.4s\n",
            "[CV] kernel=sigmoid, gamma=scale, degree=7, C=100 ....................\n",
            "[CV] ..... kernel=sigmoid, gamma=scale, degree=7, C=100, total=   5.4s\n",
            "[CV] kernel=sigmoid, gamma=scale, degree=7, C=100 ....................\n",
            "[CV] ..... kernel=sigmoid, gamma=scale, degree=7, C=100, total=   3.0s\n",
            "[CV] kernel=sigmoid, gamma=scale, degree=7, C=100 ....................\n",
            "[CV] ..... kernel=sigmoid, gamma=scale, degree=7, C=100, total=   4.4s\n",
            "[CV] kernel=sigmoid, gamma=scale, degree=7, C=100 ....................\n",
            "[CV] ..... kernel=sigmoid, gamma=scale, degree=7, C=100, total=   3.0s\n",
            "[CV] kernel=sigmoid, gamma=scale, degree=7, C=100 ....................\n",
            "[CV] ..... kernel=sigmoid, gamma=scale, degree=7, C=100, total=   5.0s\n",
            "[CV] kernel=rbf, gamma=auto, degree=7, C=50 ..........................\n",
            "[CV] ........... kernel=rbf, gamma=auto, degree=7, C=50, total=   7.7s\n",
            "[CV] kernel=rbf, gamma=auto, degree=7, C=50 ..........................\n",
            "[CV] ........... kernel=rbf, gamma=auto, degree=7, C=50, total=   7.7s\n",
            "[CV] kernel=rbf, gamma=auto, degree=7, C=50 ..........................\n",
            "[CV] ........... kernel=rbf, gamma=auto, degree=7, C=50, total=   7.7s\n",
            "[CV] kernel=rbf, gamma=auto, degree=7, C=50 ..........................\n",
            "[CV] ........... kernel=rbf, gamma=auto, degree=7, C=50, total=   7.8s\n",
            "[CV] kernel=rbf, gamma=auto, degree=7, C=50 ..........................\n",
            "[CV] ........... kernel=rbf, gamma=auto, degree=7, C=50, total=   7.8s\n",
            "[CV] kernel=rbf, gamma=scale, degree=5, C=1 ..........................\n",
            "[CV] ........... kernel=rbf, gamma=scale, degree=5, C=1, total=   3.6s\n",
            "[CV] kernel=rbf, gamma=scale, degree=5, C=1 ..........................\n",
            "[CV] ........... kernel=rbf, gamma=scale, degree=5, C=1, total=   3.6s\n",
            "[CV] kernel=rbf, gamma=scale, degree=5, C=1 ..........................\n",
            "[CV] ........... kernel=rbf, gamma=scale, degree=5, C=1, total=   3.6s\n",
            "[CV] kernel=rbf, gamma=scale, degree=5, C=1 ..........................\n",
            "[CV] ........... kernel=rbf, gamma=scale, degree=5, C=1, total=   3.6s\n",
            "[CV] kernel=rbf, gamma=scale, degree=5, C=1 ..........................\n",
            "[CV] ........... kernel=rbf, gamma=scale, degree=5, C=1, total=   3.6s\n",
            "[CV] kernel=rbf, gamma=auto, degree=7, C=1 ...........................\n",
            "[CV] ............ kernel=rbf, gamma=auto, degree=7, C=1, total=   3.6s\n",
            "[CV] kernel=rbf, gamma=auto, degree=7, C=1 ...........................\n",
            "[CV] ............ kernel=rbf, gamma=auto, degree=7, C=1, total=   3.6s\n",
            "[CV] kernel=rbf, gamma=auto, degree=7, C=1 ...........................\n",
            "[CV] ............ kernel=rbf, gamma=auto, degree=7, C=1, total=   3.5s\n",
            "[CV] kernel=rbf, gamma=auto, degree=7, C=1 ...........................\n",
            "[CV] ............ kernel=rbf, gamma=auto, degree=7, C=1, total=   3.6s\n",
            "[CV] kernel=rbf, gamma=auto, degree=7, C=1 ...........................\n",
            "[CV] ............ kernel=rbf, gamma=auto, degree=7, C=1, total=   3.7s\n",
            "[CV] kernel=poly, gamma=auto, degree=5, C=10 .........................\n",
            "[CV] .......... kernel=poly, gamma=auto, degree=5, C=10, total=   6.8s\n",
            "[CV] kernel=poly, gamma=auto, degree=5, C=10 .........................\n",
            "[CV] .......... kernel=poly, gamma=auto, degree=5, C=10, total=   9.6s\n",
            "[CV] kernel=poly, gamma=auto, degree=5, C=10 .........................\n",
            "[CV] .......... kernel=poly, gamma=auto, degree=5, C=10, total=   9.0s\n",
            "[CV] kernel=poly, gamma=auto, degree=5, C=10 .........................\n",
            "[CV] .......... kernel=poly, gamma=auto, degree=5, C=10, total=   7.8s\n",
            "[CV] kernel=poly, gamma=auto, degree=5, C=10 .........................\n",
            "[CV] .......... kernel=poly, gamma=auto, degree=5, C=10, total=   9.2s\n",
            "[CV] kernel=rbf, gamma=auto, degree=7, C=20 ..........................\n",
            "[CV] ........... kernel=rbf, gamma=auto, degree=7, C=20, total=   5.6s\n",
            "[CV] kernel=rbf, gamma=auto, degree=7, C=20 ..........................\n",
            "[CV] ........... kernel=rbf, gamma=auto, degree=7, C=20, total=   5.6s\n",
            "[CV] kernel=rbf, gamma=auto, degree=7, C=20 ..........................\n",
            "[CV] ........... kernel=rbf, gamma=auto, degree=7, C=20, total=   5.5s\n",
            "[CV] kernel=rbf, gamma=auto, degree=7, C=20 ..........................\n",
            "[CV] ........... kernel=rbf, gamma=auto, degree=7, C=20, total=   5.4s\n",
            "[CV] kernel=rbf, gamma=auto, degree=7, C=20 ..........................\n",
            "[CV] ........... kernel=rbf, gamma=auto, degree=7, C=20, total=   5.6s\n",
            "[CV] kernel=linear, gamma=scale, degree=5, C=20 ......................\n",
            "[CV] ....... kernel=linear, gamma=scale, degree=5, C=20, total=  26.1s\n",
            "[CV] kernel=linear, gamma=scale, degree=5, C=20 ......................\n",
            "[CV] ....... kernel=linear, gamma=scale, degree=5, C=20, total=  27.9s\n",
            "[CV] kernel=linear, gamma=scale, degree=5, C=20 ......................\n",
            "[CV] ....... kernel=linear, gamma=scale, degree=5, C=20, total=  25.6s\n",
            "[CV] kernel=linear, gamma=scale, degree=5, C=20 ......................\n",
            "[CV] ....... kernel=linear, gamma=scale, degree=5, C=20, total=  26.5s\n",
            "[CV] kernel=linear, gamma=scale, degree=5, C=20 ......................\n",
            "[CV] ....... kernel=linear, gamma=scale, degree=5, C=20, total=  26.2s\n",
            "[CV] kernel=linear, gamma=auto, degree=7, C=1 ........................\n",
            "[CV] ......... kernel=linear, gamma=auto, degree=7, C=1, total=   4.4s\n",
            "[CV] kernel=linear, gamma=auto, degree=7, C=1 ........................\n",
            "[CV] ......... kernel=linear, gamma=auto, degree=7, C=1, total=   4.5s\n",
            "[CV] kernel=linear, gamma=auto, degree=7, C=1 ........................\n",
            "[CV] ......... kernel=linear, gamma=auto, degree=7, C=1, total=   4.3s\n",
            "[CV] kernel=linear, gamma=auto, degree=7, C=1 ........................\n",
            "[CV] ......... kernel=linear, gamma=auto, degree=7, C=1, total=   4.4s\n",
            "[CV] kernel=linear, gamma=auto, degree=7, C=1 ........................\n",
            "[CV] ......... kernel=linear, gamma=auto, degree=7, C=1, total=   4.3s\n",
            "[CV] kernel=linear, gamma=auto, degree=7, C=50 .......................\n",
            "[CV] ........ kernel=linear, gamma=auto, degree=7, C=50, total=  52.9s\n",
            "[CV] kernel=linear, gamma=auto, degree=7, C=50 .......................\n",
            "[CV] ........ kernel=linear, gamma=auto, degree=7, C=50, total=  54.0s\n",
            "[CV] kernel=linear, gamma=auto, degree=7, C=50 .......................\n",
            "[CV] ........ kernel=linear, gamma=auto, degree=7, C=50, total=  54.7s\n",
            "[CV] kernel=linear, gamma=auto, degree=7, C=50 .......................\n",
            "[CV] ........ kernel=linear, gamma=auto, degree=7, C=50, total=  52.8s\n",
            "[CV] kernel=linear, gamma=auto, degree=7, C=50 .......................\n",
            "[CV] ........ kernel=linear, gamma=auto, degree=7, C=50, total=  54.3s\n",
            "[CV] kernel=linear, gamma=scale, degree=7, C=100 .....................\n",
            "[CV] ...... kernel=linear, gamma=scale, degree=7, C=100, total= 1.6min\n",
            "[CV] kernel=linear, gamma=scale, degree=7, C=100 .....................\n",
            "[CV] ...... kernel=linear, gamma=scale, degree=7, C=100, total= 1.7min\n",
            "[CV] kernel=linear, gamma=scale, degree=7, C=100 .....................\n",
            "[CV] ...... kernel=linear, gamma=scale, degree=7, C=100, total= 1.6min\n",
            "[CV] kernel=linear, gamma=scale, degree=7, C=100 .....................\n",
            "[CV] ...... kernel=linear, gamma=scale, degree=7, C=100, total= 1.6min\n",
            "[CV] kernel=linear, gamma=scale, degree=7, C=100 .....................\n",
            "[CV] ...... kernel=linear, gamma=scale, degree=7, C=100, total= 1.6min\n",
            "[CV] kernel=linear, gamma=auto, degree=5, C=10 .......................\n",
            "[CV] ........ kernel=linear, gamma=auto, degree=5, C=10, total=  15.8s\n",
            "[CV] kernel=linear, gamma=auto, degree=5, C=10 .......................\n",
            "[CV] ........ kernel=linear, gamma=auto, degree=5, C=10, total=  15.0s\n",
            "[CV] kernel=linear, gamma=auto, degree=5, C=10 .......................\n",
            "[CV] ........ kernel=linear, gamma=auto, degree=5, C=10, total=  16.1s\n",
            "[CV] kernel=linear, gamma=auto, degree=5, C=10 .......................\n",
            "[CV] ........ kernel=linear, gamma=auto, degree=5, C=10, total=  15.4s\n",
            "[CV] kernel=linear, gamma=auto, degree=5, C=10 .......................\n",
            "[CV] ........ kernel=linear, gamma=auto, degree=5, C=10, total=  15.5s\n",
            "[CV] kernel=linear, gamma=scale, degree=7, C=20 ......................\n",
            "[CV] ....... kernel=linear, gamma=scale, degree=7, C=20, total=  25.9s\n",
            "[CV] kernel=linear, gamma=scale, degree=7, C=20 ......................\n",
            "[CV] ....... kernel=linear, gamma=scale, degree=7, C=20, total=  27.8s\n",
            "[CV] kernel=linear, gamma=scale, degree=7, C=20 ......................\n",
            "[CV] ....... kernel=linear, gamma=scale, degree=7, C=20, total=  25.4s\n",
            "[CV] kernel=linear, gamma=scale, degree=7, C=20 ......................\n",
            "[CV] ....... kernel=linear, gamma=scale, degree=7, C=20, total=  26.3s\n",
            "[CV] kernel=linear, gamma=scale, degree=7, C=20 ......................\n",
            "[CV] ....... kernel=linear, gamma=scale, degree=7, C=20, total=  26.0s\n",
            "[CV] kernel=linear, gamma=auto, degree=5, C=20 .......................\n",
            "[CV] ........ kernel=linear, gamma=auto, degree=5, C=20, total=  25.9s\n",
            "[CV] kernel=linear, gamma=auto, degree=5, C=20 .......................\n",
            "[CV] ........ kernel=linear, gamma=auto, degree=5, C=20, total=  27.9s\n",
            "[CV] kernel=linear, gamma=auto, degree=5, C=20 .......................\n",
            "[CV] ........ kernel=linear, gamma=auto, degree=5, C=20, total=  25.6s\n",
            "[CV] kernel=linear, gamma=auto, degree=5, C=20 .......................\n",
            "[CV] ........ kernel=linear, gamma=auto, degree=5, C=20, total=  26.3s\n",
            "[CV] kernel=linear, gamma=auto, degree=5, C=20 .......................\n",
            "[CV] ........ kernel=linear, gamma=auto, degree=5, C=20, total=  26.1s\n",
            "[CV] kernel=linear, gamma=scale, degree=3, C=50 ......................\n",
            "[CV] ....... kernel=linear, gamma=scale, degree=3, C=50, total=  52.6s\n",
            "[CV] kernel=linear, gamma=scale, degree=3, C=50 ......................\n",
            "[CV] ....... kernel=linear, gamma=scale, degree=3, C=50, total=  53.6s\n",
            "[CV] kernel=linear, gamma=scale, degree=3, C=50 ......................\n",
            "[CV] ....... kernel=linear, gamma=scale, degree=3, C=50, total=  54.2s\n",
            "[CV] kernel=linear, gamma=scale, degree=3, C=50 ......................\n",
            "[CV] ....... kernel=linear, gamma=scale, degree=3, C=50, total=  52.3s\n",
            "[CV] kernel=linear, gamma=scale, degree=3, C=50 ......................\n",
            "[CV] ....... kernel=linear, gamma=scale, degree=3, C=50, total=  54.1s\n",
            "[CV] kernel=sigmoid, gamma=scale, degree=5, C=50 .....................\n",
            "[CV] ...... kernel=sigmoid, gamma=scale, degree=5, C=50, total=   4.7s\n",
            "[CV] kernel=sigmoid, gamma=scale, degree=5, C=50 .....................\n",
            "[CV] ...... kernel=sigmoid, gamma=scale, degree=5, C=50, total=   3.0s\n",
            "[CV] kernel=sigmoid, gamma=scale, degree=5, C=50 .....................\n",
            "[CV] ...... kernel=sigmoid, gamma=scale, degree=5, C=50, total=   2.9s\n",
            "[CV] kernel=sigmoid, gamma=scale, degree=5, C=50 .....................\n",
            "[CV] ...... kernel=sigmoid, gamma=scale, degree=5, C=50, total=   5.5s\n",
            "[CV] kernel=sigmoid, gamma=scale, degree=5, C=50 .....................\n",
            "[CV] ...... kernel=sigmoid, gamma=scale, degree=5, C=50, total=   4.9s\n",
            "[CV] kernel=linear, gamma=auto, degree=7, C=20 .......................\n",
            "[CV] ........ kernel=linear, gamma=auto, degree=7, C=20, total=  25.7s\n",
            "[CV] kernel=linear, gamma=auto, degree=7, C=20 .......................\n",
            "[CV] ........ kernel=linear, gamma=auto, degree=7, C=20, total=  27.5s\n",
            "[CV] kernel=linear, gamma=auto, degree=7, C=20 .......................\n",
            "[CV] ........ kernel=linear, gamma=auto, degree=7, C=20, total=  25.4s\n",
            "[CV] kernel=linear, gamma=auto, degree=7, C=20 .......................\n",
            "[CV] ........ kernel=linear, gamma=auto, degree=7, C=20, total=  26.1s\n",
            "[CV] kernel=linear, gamma=auto, degree=7, C=20 .......................\n",
            "[CV] ........ kernel=linear, gamma=auto, degree=7, C=20, total=  25.8s\n",
            "[CV] kernel=sigmoid, gamma=auto, degree=7, C=100 .....................\n",
            "[CV] ...... kernel=sigmoid, gamma=auto, degree=7, C=100, total=   4.7s\n",
            "[CV] kernel=sigmoid, gamma=auto, degree=7, C=100 .....................\n",
            "[CV] ...... kernel=sigmoid, gamma=auto, degree=7, C=100, total=   3.1s\n",
            "[CV] kernel=sigmoid, gamma=auto, degree=7, C=100 .....................\n",
            "[CV] ...... kernel=sigmoid, gamma=auto, degree=7, C=100, total=   4.4s\n",
            "[CV] kernel=sigmoid, gamma=auto, degree=7, C=100 .....................\n",
            "[CV] ...... kernel=sigmoid, gamma=auto, degree=7, C=100, total=   3.0s\n",
            "[CV] kernel=sigmoid, gamma=auto, degree=7, C=100 .....................\n",
            "[CV] ...... kernel=sigmoid, gamma=auto, degree=7, C=100, total=   4.5s\n",
            "[CV] kernel=linear, gamma=scale, degree=7, C=10 ......................\n",
            "[CV] ....... kernel=linear, gamma=scale, degree=7, C=10, total=  15.7s\n",
            "[CV] kernel=linear, gamma=scale, degree=7, C=10 ......................\n",
            "[CV] ....... kernel=linear, gamma=scale, degree=7, C=10, total=  15.0s\n",
            "[CV] kernel=linear, gamma=scale, degree=7, C=10 ......................\n",
            "[CV] ....... kernel=linear, gamma=scale, degree=7, C=10, total=  16.0s\n",
            "[CV] kernel=linear, gamma=scale, degree=7, C=10 ......................\n",
            "[CV] ....... kernel=linear, gamma=scale, degree=7, C=10, total=  15.4s\n",
            "[CV] kernel=linear, gamma=scale, degree=7, C=10 ......................\n",
            "[CV] ....... kernel=linear, gamma=scale, degree=7, C=10, total=  15.4s\n"
          ],
          "name": "stdout"
        },
        {
          "output_type": "stream",
          "text": [
            "[Parallel(n_jobs=1)]: Done 100 out of 100 | elapsed: 33.2min finished\n"
          ],
          "name": "stderr"
        },
        {
          "output_type": "execute_result",
          "data": {
            "text/plain": [
              "RandomizedSearchCV(cv=None, error_score=nan,\n",
              "                   estimator=SVC(C=1.0, break_ties=False, cache_size=200,\n",
              "                                 class_weight=None, coef0=0.0,\n",
              "                                 decision_function_shape='ovr', degree=3,\n",
              "                                 gamma='scale', kernel='rbf', max_iter=-1,\n",
              "                                 probability=False, random_state=None,\n",
              "                                 shrinking=True, tol=0.001, verbose=False),\n",
              "                   iid='deprecated', n_iter=20, n_jobs=None,\n",
              "                   param_distributions={'C': [1, 10, 20, 50, 100],\n",
              "                                        'degree': [3, 5, 7],\n",
              "                                        'gamma': ['scale', 'auto'],\n",
              "                                        'kernel': ['rbf', 'linear', 'poly',\n",
              "                                                   'sigmoid']},\n",
              "                   pre_dispatch='2*n_jobs', random_state=None, refit=True,\n",
              "                   return_train_score=False,\n",
              "                   scoring=make_scorer(recall_score, pos_label=yes), verbose=2)"
            ]
          },
          "metadata": {
            "tags": []
          },
          "execution_count": 17
        }
      ]
    },
    {
      "cell_type": "markdown",
      "metadata": {
        "tags": [],
        "cell_id": "00056-2d364d2a-3f79-4362-b645-39acc9c3b63b",
        "deepnote_cell_type": "text-cell-h2",
        "id": "Tzi8ve_WP3j2"
      },
      "source": [
        "## Check Best Parameter using Random Search CV"
      ]
    },
    {
      "cell_type": "code",
      "metadata": {
        "tags": [],
        "deepnote_to_be_reexecuted": false,
        "source_hash": "ea67ae22",
        "execution_millis": 36,
        "output_cleared": false,
        "cell_id": "00057-8faa79d0-8b5f-4f0f-a269-fa4bb2483ae0",
        "execution_start": 1618509093024,
        "deepnote_cell_type": "code",
        "colab": {
          "base_uri": "https://localhost:8080/"
        },
        "id": "5qZs37pXP3j2",
        "outputId": "5d5434d2-f1c6-484a-f321-16987d24c1fc"
      },
      "source": [
        "grid_model.best_params_"
      ],
      "execution_count": null,
      "outputs": [
        {
          "output_type": "execute_result",
          "data": {
            "text/plain": [
              "{'C': 20, 'degree': 7, 'gamma': 'auto', 'kernel': 'rbf'}"
            ]
          },
          "metadata": {
            "tags": []
          },
          "execution_count": 18
        }
      ]
    },
    {
      "cell_type": "markdown",
      "metadata": {
        "tags": [],
        "cell_id": "00058-fe65491e-97d6-4350-a9d5-8508fe1aad0e",
        "deepnote_cell_type": "text-cell-h2",
        "id": "MRArujgwP3j3"
      },
      "source": [
        "## Input Best Parameter into the SVC Function"
      ]
    },
    {
      "cell_type": "code",
      "metadata": {
        "tags": [],
        "deepnote_to_be_reexecuted": false,
        "source_hash": "3e15ec53",
        "execution_millis": 0,
        "cell_id": "00059-bfc40306-7ce7-40b2-90de-dc9a63104718",
        "execution_start": 1618509093064,
        "deepnote_cell_type": "code",
        "id": "_qYzFgqhP3j3"
      },
      "source": [
        "model = SVC(kernel = 'rbf', C=20, gamma='auto',degree=7)"
      ],
      "execution_count": null,
      "outputs": []
    },
    {
      "cell_type": "markdown",
      "metadata": {
        "tags": [],
        "cell_id": "00060-b86d8b58-7215-4168-bc95-783437997d25",
        "deepnote_cell_type": "text-cell-h2",
        "id": "c90PVZpLP3j4"
      },
      "source": [
        "## Train the Model using Training Data and Validation Training Data"
      ]
    },
    {
      "cell_type": "code",
      "metadata": {
        "tags": [],
        "deepnote_to_be_reexecuted": false,
        "source_hash": "21cd9296",
        "execution_millis": 22826,
        "cell_id": "00061-4cec6af7-cd83-478d-bd4e-8b03be23e228",
        "execution_start": 1618509093106,
        "deepnote_cell_type": "code",
        "colab": {
          "base_uri": "https://localhost:8080/"
        },
        "id": "BgQeeds0P3j4",
        "outputId": "4f391c47-3da6-4f54-a8a9-6744d5e12af2"
      },
      "source": [
        "model.fit(mixSample_X, mixSample_Y)"
      ],
      "execution_count": null,
      "outputs": [
        {
          "output_type": "execute_result",
          "data": {
            "text/plain": [
              "SVC(C=20, break_ties=False, cache_size=200, class_weight=None, coef0=0.0,\n",
              "    decision_function_shape='ovr', degree=7, gamma='auto', kernel='rbf',\n",
              "    max_iter=-1, probability=False, random_state=None, shrinking=True,\n",
              "    tol=0.001, verbose=False)"
            ]
          },
          "metadata": {
            "tags": []
          },
          "execution_count": 26
        }
      ]
    },
    {
      "cell_type": "markdown",
      "metadata": {
        "tags": [],
        "cell_id": "00062-6d8cc426-12d3-499e-9f35-ee6c4ed8aa41",
        "deepnote_cell_type": "text-cell-h2",
        "id": "g1SIl9_kP3j5"
      },
      "source": [
        "## Predict Model using Testing Data"
      ]
    },
    {
      "cell_type": "code",
      "metadata": {
        "tags": [],
        "deepnote_to_be_reexecuted": false,
        "source_hash": "48992fe",
        "execution_millis": 8876,
        "cell_id": "00063-a4882ec2-d5eb-41f2-a471-160e9263491a",
        "execution_start": 1618509115927,
        "deepnote_cell_type": "code",
        "id": "lKRz8AVkP3j5"
      },
      "source": [
        "y_pred = model.predict(X_test_scaled)"
      ],
      "execution_count": null,
      "outputs": []
    },
    {
      "cell_type": "markdown",
      "metadata": {
        "tags": [],
        "cell_id": "00064-bf28b36d-e1e6-4226-a946-9d36829cf73f",
        "deepnote_cell_type": "text-cell-h2",
        "id": "eoGAmY7wP3j6"
      },
      "source": [
        "## Evaluation Metrics using Confusion Matrix"
      ]
    },
    {
      "cell_type": "code",
      "metadata": {
        "tags": [],
        "deepnote_to_be_reexecuted": false,
        "source_hash": "834f5afa",
        "execution_millis": 18,
        "cell_id": "00065-8baf59d5-56c4-43bc-9b40-a0e2fa860b01",
        "execution_start": 1618509124809,
        "deepnote_cell_type": "code",
        "colab": {
          "base_uri": "https://localhost:8080/"
        },
        "id": "c5ywhxj8P3j6",
        "outputId": "4e77be13-9e57-4033-eee9-55f228932a67"
      },
      "source": [
        "confusion_matrix = pd.crosstab(y_test, y_pred)\n",
        "print (confusion_matrix)"
      ],
      "execution_count": null,
      "outputs": [
        {
          "output_type": "stream",
          "text": [
            "col_0     no   yes\n",
            "y                 \n",
            "no     10603  1403\n",
            "yes      476  1082\n"
          ],
          "name": "stdout"
        }
      ]
    },
    {
      "cell_type": "markdown",
      "metadata": {
        "tags": [],
        "cell_id": "00066-0cd13f9a-d2fb-47e3-9c12-d26db7f7026a",
        "deepnote_cell_type": "text-cell-p",
        "id": "19EVJNz9P3j7"
      },
      "source": [
        " The conclusion from the above result: \n",
        "- True Positive (TP): **1082** 'Yes' predicted data is correct **from 1558** 'Yes' original data \n",
        "- True Negative (TN): **10603** 'No' predicted data is correct **from 12006** 'No' original data\n",
        "- False Negative (FN): **476** 'Yes' predicted data falsely predicted as 'No' data\n",
        "- False Positive (FP): **1403** 'No' predicted data falsely predicted as 'Yes' data"
      ]
    },
    {
      "cell_type": "markdown",
      "metadata": {
        "tags": [],
        "cell_id": "00067-f9e1c565-6db7-4bf4-9cd6-8cae54ad7d90",
        "deepnote_cell_type": "text-cell-h2",
        "id": "stTMW-fHP3j8"
      },
      "source": [
        "## Evaluation Metrics using Classification Report"
      ]
    },
    {
      "cell_type": "code",
      "metadata": {
        "tags": [],
        "deepnote_to_be_reexecuted": false,
        "source_hash": "74950708",
        "execution_millis": 1063,
        "cell_id": "00068-83d7039a-abf7-4f3f-96b5-69f413659b5e",
        "execution_start": 1618509124860,
        "deepnote_cell_type": "code",
        "colab": {
          "base_uri": "https://localhost:8080/"
        },
        "id": "isUV4t6oP3j8",
        "outputId": "d281f105-3538-4437-af77-01b8bbcc4134"
      },
      "source": [
        "print(classification_report(y_test,y_pred))"
      ],
      "execution_count": null,
      "outputs": [
        {
          "output_type": "stream",
          "text": [
            "              precision    recall  f1-score   support\n",
            "\n",
            "          no       0.96      0.88      0.92     12006\n",
            "         yes       0.44      0.69      0.54      1558\n",
            "\n",
            "    accuracy                           0.86     13564\n",
            "   macro avg       0.70      0.79      0.73     13564\n",
            "weighted avg       0.90      0.86      0.87     13564\n",
            "\n"
          ],
          "name": "stdout"
        }
      ]
    },
    {
      "cell_type": "markdown",
      "metadata": {
        "tags": [],
        "cell_id": "00069-2fbe9fb7-e18f-424d-9949-72f42f23febb",
        "deepnote_cell_type": "text-cell-p",
        "id": "lbsl2eQFP3j9"
      },
      "source": [
        " The conclusion from the above result:\n",
        "- Precision: **96%** 'No' predicted data are correctly predict &amp; **44%** 'Yes' predicted data are correctly predict\n",
        "- Recall: **88%** 'No' original data have been predicted by the model &amp; **69%** 'Yes' original data have been predicted by the model\n",
        "- F1-Score: The mean from precision and recall for 'No' predicted data is **92%** and for 'Yes' predicted data is **54%**"
      ]
    },
    {
      "cell_type": "markdown",
      "metadata": {
        "tags": [],
        "cell_id": "00070-4c10779d-0d24-4b86-bb5e-bf5510fe9ffb",
        "deepnote_cell_type": "text-cell-h1",
        "id": "tNYqSaiJP3j-"
      },
      "source": [
        "## Evaluation Metrics using Cross Validation"
      ]
    },
    {
      "cell_type": "code",
      "metadata": {
        "tags": [],
        "deepnote_to_be_reexecuted": false,
        "source_hash": "8620789e",
        "execution_millis": 3189,
        "cell_id": "00072-f7510a4f-8c16-4b5c-b95f-685f4e7794c5",
        "execution_start": 1618509125973,
        "deepnote_cell_type": "code",
        "id": "TME_7FsJP3j_"
      },
      "source": [
        "\n",
        "cv = KFold(n_splits=5, shuffle=True)\n",
        "scores = cross_val_score(model, split_input_data, split_output_data, cv=cv)"
      ],
      "execution_count": null,
      "outputs": []
    },
    {
      "cell_type": "code",
      "metadata": {
        "colab": {
          "base_uri": "https://localhost:8080/"
        },
        "id": "cb35mw64Z9JJ",
        "outputId": "4a99efb9-5fd4-4d00-a5c5-9c61cbbd4d52"
      },
      "source": [
        "split_output_data.head()"
      ],
      "execution_count": null,
      "outputs": [
        {
          "output_type": "execute_result",
          "data": {
            "text/plain": [
              "0    no\n",
              "1    no\n",
              "2    no\n",
              "3    no\n",
              "4    no\n",
              "Name: y, dtype: object"
            ]
          },
          "metadata": {
            "tags": []
          },
          "execution_count": 31
        }
      ]
    },
    {
      "cell_type": "code",
      "metadata": {
        "tags": [],
        "deepnote_to_be_reexecuted": false,
        "source_hash": "119a8f77",
        "execution_millis": 10,
        "cell_id": "00073-8dd91331-6096-4f83-9c79-a86dab828238",
        "execution_start": 1618509129167,
        "deepnote_cell_type": "code",
        "colab": {
          "base_uri": "https://localhost:8080/"
        },
        "id": "nK6B3rwiP3kB",
        "outputId": "6957aef0-dac2-4a48-ac11-2da3271466f2"
      },
      "source": [
        "print('F1_Score: %.3f (%.3f)' % (mean(scores), std(scores)))"
      ],
      "execution_count": null,
      "outputs": [
        {
          "output_type": "stream",
          "text": [
            "F1_Score: 0.883 (0.004)\n"
          ],
          "name": "stdout"
        }
      ]
    },
    {
      "cell_type": "code",
      "metadata": {
        "tags": [],
        "deepnote_to_be_reexecuted": false,
        "source_hash": "6ae4d27b",
        "cell_id": "00074-ab6a027c-edfe-4df3-812b-41bb2a1471a7",
        "execution_start": 1618509129174,
        "execution_millis": 535,
        "deepnote_cell_type": "code",
        "colab": {
          "base_uri": "https://localhost:8080/"
        },
        "id": "uTu5cNVyP3kC",
        "outputId": "0609f824-475b-4ed3-f771-689f6bbdd2e6"
      },
      "source": [
        "kf= KFold(n_splits=5)\n",
        "X = split_input_data.to_numpy()\n",
        "y = split_output_data\n",
        "le = LabelEncoder()\n",
        "y = le.fit_transform(y)\n",
        "F1=[]\n",
        "Accuracy=[]\n",
        "Recall=[]\n",
        "Precision=[]\n",
        "for fold, (train_index, test_index) in enumerate(kf.split(X), 1):\n",
        "    X_train = X[train_index]\n",
        "    y_train = y[train_index]  # Based on your code, you might need a ravel call here, but I would look into how you're generating your y\n",
        "    X_test = X[test_index]\n",
        "    y_test = y[test_index]  # See comment on ravel and  y_train\n",
        "    \n",
        "    #Create the Dataframe\n",
        "    X_train = pd.DataFrame(X_train,columns=data.drop('y',axis=1).columns)\n",
        "    X_test = pd.DataFrame(X_test,columns=data.drop('y',axis=1).columns)\n",
        "    \n",
        "\n",
        "    #Standard Scalling\n",
        "    ss = StandardScaler()\n",
        "    X_train= ss.fit_transform(X_train)\n",
        "    X_test = ss.transform(X_test)\n",
        "    \n",
        "    X_train = pd.DataFrame(X_train, columns = split_input_data.columns)\n",
        "    X_test = pd.DataFrame(X_test , columns = split_input_data.columns)\n",
        "    \n",
        "\n",
        "    # Sampling\n",
        "    over = SMOTE(sampling_strategy = 0.18)\n",
        "    under = RandomUnderSampler(sampling_strategy=0.85)\n",
        "    steps = [('o',over),('u',under)]\n",
        "    pipeline = Pipeline(steps=steps)\n",
        "    \n",
        "    X_train,y_train_s =pipeline.fit_resample(X_train,y_train)\n",
        "    \n",
        "    #Modelling\n",
        "    model1 = SVC(kernel = 'rbf', C=20, gamma='scale')\n",
        "    model1.fit(X_train,y_train_s)\n",
        "    y_pred1 = model1.predict(X_test)\n",
        "    \n",
        "    F1.append(f1_score(y_test, y_pred1))\n",
        "    Accuracy.append(accuracy_score(y_test, y_pred1))\n",
        "    Recall.append(recall_score(y_test, y_pred1))\n",
        "    Precision.append(precision_score(y_test, y_pred1))"
      ],
      "execution_count": null,
      "outputs": [
        {
          "output_type": "stream",
          "text": [
            "/usr/local/lib/python3.7/dist-packages/sklearn/utils/deprecation.py:87: FutureWarning: Function safe_indexing is deprecated; safe_indexing is deprecated in version 0.22 and will be removed in version 0.24.\n",
            "  warnings.warn(msg, category=FutureWarning)\n",
            "/usr/local/lib/python3.7/dist-packages/sklearn/utils/deprecation.py:87: FutureWarning: Function safe_indexing is deprecated; safe_indexing is deprecated in version 0.22 and will be removed in version 0.24.\n",
            "  warnings.warn(msg, category=FutureWarning)\n",
            "/usr/local/lib/python3.7/dist-packages/sklearn/utils/deprecation.py:87: FutureWarning: Function safe_indexing is deprecated; safe_indexing is deprecated in version 0.22 and will be removed in version 0.24.\n",
            "  warnings.warn(msg, category=FutureWarning)\n",
            "/usr/local/lib/python3.7/dist-packages/sklearn/utils/deprecation.py:87: FutureWarning: Function safe_indexing is deprecated; safe_indexing is deprecated in version 0.22 and will be removed in version 0.24.\n",
            "  warnings.warn(msg, category=FutureWarning)\n",
            "/usr/local/lib/python3.7/dist-packages/sklearn/utils/deprecation.py:87: FutureWarning: Function safe_indexing is deprecated; safe_indexing is deprecated in version 0.22 and will be removed in version 0.24.\n",
            "  warnings.warn(msg, category=FutureWarning)\n",
            "/usr/local/lib/python3.7/dist-packages/sklearn/utils/deprecation.py:87: FutureWarning: Function safe_indexing is deprecated; safe_indexing is deprecated in version 0.22 and will be removed in version 0.24.\n",
            "  warnings.warn(msg, category=FutureWarning)\n",
            "/usr/local/lib/python3.7/dist-packages/sklearn/utils/deprecation.py:87: FutureWarning: Function safe_indexing is deprecated; safe_indexing is deprecated in version 0.22 and will be removed in version 0.24.\n",
            "  warnings.warn(msg, category=FutureWarning)\n",
            "/usr/local/lib/python3.7/dist-packages/sklearn/utils/deprecation.py:87: FutureWarning: Function safe_indexing is deprecated; safe_indexing is deprecated in version 0.22 and will be removed in version 0.24.\n",
            "  warnings.warn(msg, category=FutureWarning)\n",
            "/usr/local/lib/python3.7/dist-packages/sklearn/utils/deprecation.py:87: FutureWarning: Function safe_indexing is deprecated; safe_indexing is deprecated in version 0.22 and will be removed in version 0.24.\n",
            "  warnings.warn(msg, category=FutureWarning)\n",
            "/usr/local/lib/python3.7/dist-packages/sklearn/utils/deprecation.py:87: FutureWarning: Function safe_indexing is deprecated; safe_indexing is deprecated in version 0.22 and will be removed in version 0.24.\n",
            "  warnings.warn(msg, category=FutureWarning)\n"
          ],
          "name": "stderr"
        }
      ]
    },
    {
      "cell_type": "code",
      "metadata": {
        "tags": [],
        "deepnote_to_be_reexecuted": true,
        "source_hash": "9b0534a3",
        "cell_id": "00075-25ca92f0-6422-4c24-8013-c8e5b0b4cfc2",
        "deepnote_cell_type": "code",
        "colab": {
          "base_uri": "https://localhost:8080/"
        },
        "id": "Ydi9XlS1P3kD",
        "outputId": "46cfcfcd-20ad-41a0-f8f7-52cd68c7302f"
      },
      "source": [
        "print('F1 : '+str(np.mean(F1)))\n",
        "print('Accuracy : '+str(np.mean(Accuracy)))\n",
        "print('Recall : '+str(np.mean(Recall)))\n",
        "print('Precision : '+str(np.mean(Precision)))"
      ],
      "execution_count": null,
      "outputs": [
        {
          "output_type": "stream",
          "text": [
            "F1 : 0.31499270144190905\n",
            "Accuracy : 0.7023510151539978\n",
            "Recall : 0.7462874958772182\n",
            "Precision : 0.23307375937065303\n"
          ],
          "name": "stdout"
        }
      ]
    },
    {
      "cell_type": "code",
      "metadata": {
        "id": "-bzqvE3fus7q"
      },
      "source": [
        ""
      ],
      "execution_count": null,
      "outputs": []
    }
  ]
}